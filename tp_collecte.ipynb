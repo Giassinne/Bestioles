{
<<<<<<< HEAD
 "cells": [
  {
   "cell_type": "markdown",
   "metadata": {
    "id": "pchoYou5XisK"
   },
   "source": [
    "## Import des librairies ##"
   ]
  },
  {
   "cell_type": "code",
   "metadata": {
    "id": "PwqIbbtSXisL",
    "ExecuteTime": {
     "end_time": "2025-04-01T04:28:44.698462Z",
     "start_time": "2025-04-01T04:28:44.694336Z"
    }
   },
   "source": [
    "#Imports librairies de base\n",
    "import numpy as np\n",
    "import pandas as pd\n",
    "\n",
    "#Affichage de Graphes\n",
    "from IPython.display import Markdown, display, HTML\n",
    "import matplotlib.pyplot as plt\n",
    "\n",
    "#Information Mutuelle\n",
    "from sklearn.feature_selection import mutual_info_regression\n"
   ],
   "outputs": [],
   "execution_count": 12
  },
  {
   "cell_type": "markdown",
   "metadata": {
    "_cell_guid": "25b1e1db-8bc5-7029-f719-91da523bd121",
    "_uuid": "5c867fcbb300bcf3c9b8986bba9949da2a2df931",
    "id": "VlKpxRqvXisM"
   },
   "source": [
    "## 1. Lecture des données ##"
   ]
  },
  {
   "cell_type": "markdown",
   "metadata": {
    "id": "UJbdLKYsXisN"
   },
   "source": [
    "1.1 Charger les données d'apprentissage (Data/passagers.csv) dans un DataFrame nommé train. Afficher 10 exemples."
   ]
  },
  {
   "cell_type": "code",
   "metadata": {
    "_cell_guid": "2ce68358-02ec-556d-ba88-e773a50bc18b",
    "_uuid": "5ec0878acc5c7ab3903410e671c2a2c6cfeafeea",
    "id": "5IzGAuN7XisN",
    "outputId": "b20facb7-171d-4548-973d-828324c41164",
    "colab": {
     "base_uri": "https://localhost:8080/",
     "height": 363
    },
    "ExecuteTime": {
     "end_time": "2025-04-01T04:28:45.036298Z",
     "start_time": "2025-04-01T04:28:45.021038Z"
    }
   },
   "source": [
    "# prompt: Charger les données d'apprentissage (Data/passagers.csv) dans un DataFrame nommé train. Afficher 10 exemples.\n",
    "\n",
    "import pandas as pd\n",
    "train = pd.read_csv('passagers.csv') # Remplacez par le chemin correct si nécessaire\n",
    "train.head(10)\n"
   ],
   "outputs": [
    {
     "data": {
      "text/plain": [
       "   PassengerId  Survived  Pclass  \\\n",
       "0            1         0       3   \n",
       "1            2         1       1   \n",
       "2            3         1       3   \n",
       "3            4         1       1   \n",
       "4            5         0       3   \n",
       "5            6         0       3   \n",
       "6            7         0       1   \n",
       "7            8         0       3   \n",
       "8            9         1       3   \n",
       "9           10         1       2   \n",
       "\n",
       "                                                Name     Sex   Age  SibSp  \\\n",
       "0                            Braund, Mr. Owen Harris    male  22.0      1   \n",
       "1  Cumings, Mrs. John Bradley (Florence Briggs Th...  female  38.0      1   \n",
       "2                             Heikkinen, Miss. Laina  female  26.0      0   \n",
       "3       Futrelle, Mrs. Jacques Heath (Lily May Peel)  female  35.0      1   \n",
       "4                           Allen, Mr. William Henry    male  35.0      0   \n",
       "5                                   Moran, Mr. James    male   NaN      0   \n",
       "6                            McCarthy, Mr. Timothy J    male  54.0      0   \n",
       "7                     Palsson, Master. Gosta Leonard    male   2.0      3   \n",
       "8  Johnson, Mrs. Oscar W (Elisabeth Vilhelmina Berg)  female  27.0      0   \n",
       "9                Nasser, Mrs. Nicholas (Adele Achem)  female  14.0      1   \n",
       "\n",
       "   Parch            Ticket     Fare Cabin Embarked  \n",
       "0      0         A/5 21171   7.2500   NaN        S  \n",
       "1      0          PC 17599  71.2833   C85        C  \n",
       "2      0  STON/O2. 3101282   7.9250   NaN        S  \n",
       "3      0            113803  53.1000  C123        S  \n",
       "4      0            373450   8.0500   NaN        S  \n",
       "5      0            330877   8.4583   NaN        Q  \n",
       "6      0             17463  51.8625   E46        S  \n",
       "7      1            349909  21.0750   NaN        S  \n",
       "8      2            347742  11.1333   NaN        S  \n",
       "9      0            237736  30.0708   NaN        C  "
      ],
      "text/html": [
       "<div>\n",
       "<style scoped>\n",
       "    .dataframe tbody tr th:only-of-type {\n",
       "        vertical-align: middle;\n",
       "    }\n",
       "\n",
       "    .dataframe tbody tr th {\n",
       "        vertical-align: top;\n",
       "    }\n",
       "\n",
       "    .dataframe thead th {\n",
       "        text-align: right;\n",
       "    }\n",
       "</style>\n",
       "<table border=\"1\" class=\"dataframe\">\n",
       "  <thead>\n",
       "    <tr style=\"text-align: right;\">\n",
       "      <th></th>\n",
       "      <th>PassengerId</th>\n",
       "      <th>Survived</th>\n",
       "      <th>Pclass</th>\n",
       "      <th>Name</th>\n",
       "      <th>Sex</th>\n",
       "      <th>Age</th>\n",
       "      <th>SibSp</th>\n",
       "      <th>Parch</th>\n",
       "      <th>Ticket</th>\n",
       "      <th>Fare</th>\n",
       "      <th>Cabin</th>\n",
       "      <th>Embarked</th>\n",
       "    </tr>\n",
       "  </thead>\n",
       "  <tbody>\n",
       "    <tr>\n",
       "      <th>0</th>\n",
       "      <td>1</td>\n",
       "      <td>0</td>\n",
       "      <td>3</td>\n",
       "      <td>Braund, Mr. Owen Harris</td>\n",
       "      <td>male</td>\n",
       "      <td>22.0</td>\n",
       "      <td>1</td>\n",
       "      <td>0</td>\n",
       "      <td>A/5 21171</td>\n",
       "      <td>7.2500</td>\n",
       "      <td>NaN</td>\n",
       "      <td>S</td>\n",
       "    </tr>\n",
       "    <tr>\n",
       "      <th>1</th>\n",
       "      <td>2</td>\n",
       "      <td>1</td>\n",
       "      <td>1</td>\n",
       "      <td>Cumings, Mrs. John Bradley (Florence Briggs Th...</td>\n",
       "      <td>female</td>\n",
       "      <td>38.0</td>\n",
       "      <td>1</td>\n",
       "      <td>0</td>\n",
       "      <td>PC 17599</td>\n",
       "      <td>71.2833</td>\n",
       "      <td>C85</td>\n",
       "      <td>C</td>\n",
       "    </tr>\n",
       "    <tr>\n",
       "      <th>2</th>\n",
       "      <td>3</td>\n",
       "      <td>1</td>\n",
       "      <td>3</td>\n",
       "      <td>Heikkinen, Miss. Laina</td>\n",
       "      <td>female</td>\n",
       "      <td>26.0</td>\n",
       "      <td>0</td>\n",
       "      <td>0</td>\n",
       "      <td>STON/O2. 3101282</td>\n",
       "      <td>7.9250</td>\n",
       "      <td>NaN</td>\n",
       "      <td>S</td>\n",
       "    </tr>\n",
       "    <tr>\n",
       "      <th>3</th>\n",
       "      <td>4</td>\n",
       "      <td>1</td>\n",
       "      <td>1</td>\n",
       "      <td>Futrelle, Mrs. Jacques Heath (Lily May Peel)</td>\n",
       "      <td>female</td>\n",
       "      <td>35.0</td>\n",
       "      <td>1</td>\n",
       "      <td>0</td>\n",
       "      <td>113803</td>\n",
       "      <td>53.1000</td>\n",
       "      <td>C123</td>\n",
       "      <td>S</td>\n",
       "    </tr>\n",
       "    <tr>\n",
       "      <th>4</th>\n",
       "      <td>5</td>\n",
       "      <td>0</td>\n",
       "      <td>3</td>\n",
       "      <td>Allen, Mr. William Henry</td>\n",
       "      <td>male</td>\n",
       "      <td>35.0</td>\n",
       "      <td>0</td>\n",
       "      <td>0</td>\n",
       "      <td>373450</td>\n",
       "      <td>8.0500</td>\n",
       "      <td>NaN</td>\n",
       "      <td>S</td>\n",
       "    </tr>\n",
       "    <tr>\n",
       "      <th>5</th>\n",
       "      <td>6</td>\n",
       "      <td>0</td>\n",
       "      <td>3</td>\n",
       "      <td>Moran, Mr. James</td>\n",
       "      <td>male</td>\n",
       "      <td>NaN</td>\n",
       "      <td>0</td>\n",
       "      <td>0</td>\n",
       "      <td>330877</td>\n",
       "      <td>8.4583</td>\n",
       "      <td>NaN</td>\n",
       "      <td>Q</td>\n",
       "    </tr>\n",
       "    <tr>\n",
       "      <th>6</th>\n",
       "      <td>7</td>\n",
       "      <td>0</td>\n",
       "      <td>1</td>\n",
       "      <td>McCarthy, Mr. Timothy J</td>\n",
       "      <td>male</td>\n",
       "      <td>54.0</td>\n",
       "      <td>0</td>\n",
       "      <td>0</td>\n",
       "      <td>17463</td>\n",
       "      <td>51.8625</td>\n",
       "      <td>E46</td>\n",
       "      <td>S</td>\n",
       "    </tr>\n",
       "    <tr>\n",
       "      <th>7</th>\n",
       "      <td>8</td>\n",
       "      <td>0</td>\n",
       "      <td>3</td>\n",
       "      <td>Palsson, Master. Gosta Leonard</td>\n",
       "      <td>male</td>\n",
       "      <td>2.0</td>\n",
       "      <td>3</td>\n",
       "      <td>1</td>\n",
       "      <td>349909</td>\n",
       "      <td>21.0750</td>\n",
       "      <td>NaN</td>\n",
       "      <td>S</td>\n",
       "    </tr>\n",
       "    <tr>\n",
       "      <th>8</th>\n",
       "      <td>9</td>\n",
       "      <td>1</td>\n",
       "      <td>3</td>\n",
       "      <td>Johnson, Mrs. Oscar W (Elisabeth Vilhelmina Berg)</td>\n",
       "      <td>female</td>\n",
       "      <td>27.0</td>\n",
       "      <td>0</td>\n",
       "      <td>2</td>\n",
       "      <td>347742</td>\n",
       "      <td>11.1333</td>\n",
       "      <td>NaN</td>\n",
       "      <td>S</td>\n",
       "    </tr>\n",
       "    <tr>\n",
       "      <th>9</th>\n",
       "      <td>10</td>\n",
       "      <td>1</td>\n",
       "      <td>2</td>\n",
       "      <td>Nasser, Mrs. Nicholas (Adele Achem)</td>\n",
       "      <td>female</td>\n",
       "      <td>14.0</td>\n",
       "      <td>1</td>\n",
       "      <td>0</td>\n",
       "      <td>237736</td>\n",
       "      <td>30.0708</td>\n",
       "      <td>NaN</td>\n",
       "      <td>C</td>\n",
       "    </tr>\n",
       "  </tbody>\n",
       "</table>\n",
       "</div>"
      ]
     },
     "execution_count": 13,
     "metadata": {},
     "output_type": "execute_result"
    }
   ],
   "execution_count": 13
  },
  {
   "cell_type": "markdown",
   "metadata": {
    "id": "6hkp37mHXisN"
   },
   "source": [
    "1.2 Charger les données d'apprentissage (Data/test.csv) dans un Dataframe nommé test. Afficher 10 exemples."
   ]
  },
  {
   "cell_type": "code",
   "metadata": {
    "_cell_guid": "2ce68358-02ec-556d-ba88-e773a50bc18b",
    "_uuid": "5ec0878acc5c7ab3903410e671c2a2c6cfeafeea",
    "id": "n9T7yumjXisO",
    "outputId": "1e380897-223e-442b-b4f5-413163165d6a",
    "colab": {
     "base_uri": "https://localhost:8080/",
     "height": 363
    },
    "ExecuteTime": {
     "end_time": "2025-04-01T04:28:45.074167Z",
     "start_time": "2025-04-01T04:28:45.058305Z"
    }
   },
   "source": [
    "\n",
    "test = pd.read_csv('test.csv') # Remplacez par le chemin correct si nécessaire\n",
    "test.head(10)\n"
   ],
   "outputs": [
    {
     "data": {
      "text/plain": [
       "   PassengerId  Pclass                                          Name     Sex  \\\n",
       "0          892       3                              Kelly, Mr. James    male   \n",
       "1          893       3              Wilkes, Mrs. James (Ellen Needs)  female   \n",
       "2          894       2                     Myles, Mr. Thomas Francis    male   \n",
       "3          895       3                              Wirz, Mr. Albert    male   \n",
       "4          896       3  Hirvonen, Mrs. Alexander (Helga E Lindqvist)  female   \n",
       "5          897       3                    Svensson, Mr. Johan Cervin    male   \n",
       "6          898       3                          Connolly, Miss. Kate  female   \n",
       "7          899       2                  Caldwell, Mr. Albert Francis    male   \n",
       "8          900       3     Abrahim, Mrs. Joseph (Sophie Halaut Easu)  female   \n",
       "9          901       3                       Davies, Mr. John Samuel    male   \n",
       "\n",
       "    Age  SibSp  Parch     Ticket     Fare Cabin Embarked  \n",
       "0  34.5      0      0     330911   7.8292   NaN        Q  \n",
       "1  47.0      1      0     363272   7.0000   NaN        S  \n",
       "2  62.0      0      0     240276   9.6875   NaN        Q  \n",
       "3  27.0      0      0     315154   8.6625   NaN        S  \n",
       "4  22.0      1      1    3101298  12.2875   NaN        S  \n",
       "5  14.0      0      0       7538   9.2250   NaN        S  \n",
       "6  30.0      0      0     330972   7.6292   NaN        Q  \n",
       "7  26.0      1      1     248738  29.0000   NaN        S  \n",
       "8  18.0      0      0       2657   7.2292   NaN        C  \n",
       "9  21.0      2      0  A/4 48871  24.1500   NaN        S  "
      ],
      "text/html": [
       "<div>\n",
       "<style scoped>\n",
       "    .dataframe tbody tr th:only-of-type {\n",
       "        vertical-align: middle;\n",
       "    }\n",
       "\n",
       "    .dataframe tbody tr th {\n",
       "        vertical-align: top;\n",
       "    }\n",
       "\n",
       "    .dataframe thead th {\n",
       "        text-align: right;\n",
       "    }\n",
       "</style>\n",
       "<table border=\"1\" class=\"dataframe\">\n",
       "  <thead>\n",
       "    <tr style=\"text-align: right;\">\n",
       "      <th></th>\n",
       "      <th>PassengerId</th>\n",
       "      <th>Pclass</th>\n",
       "      <th>Name</th>\n",
       "      <th>Sex</th>\n",
       "      <th>Age</th>\n",
       "      <th>SibSp</th>\n",
       "      <th>Parch</th>\n",
       "      <th>Ticket</th>\n",
       "      <th>Fare</th>\n",
       "      <th>Cabin</th>\n",
       "      <th>Embarked</th>\n",
       "    </tr>\n",
       "  </thead>\n",
       "  <tbody>\n",
       "    <tr>\n",
       "      <th>0</th>\n",
       "      <td>892</td>\n",
       "      <td>3</td>\n",
       "      <td>Kelly, Mr. James</td>\n",
       "      <td>male</td>\n",
       "      <td>34.5</td>\n",
       "      <td>0</td>\n",
       "      <td>0</td>\n",
       "      <td>330911</td>\n",
       "      <td>7.8292</td>\n",
       "      <td>NaN</td>\n",
       "      <td>Q</td>\n",
       "    </tr>\n",
       "    <tr>\n",
       "      <th>1</th>\n",
       "      <td>893</td>\n",
       "      <td>3</td>\n",
       "      <td>Wilkes, Mrs. James (Ellen Needs)</td>\n",
       "      <td>female</td>\n",
       "      <td>47.0</td>\n",
       "      <td>1</td>\n",
       "      <td>0</td>\n",
       "      <td>363272</td>\n",
       "      <td>7.0000</td>\n",
       "      <td>NaN</td>\n",
       "      <td>S</td>\n",
       "    </tr>\n",
       "    <tr>\n",
       "      <th>2</th>\n",
       "      <td>894</td>\n",
       "      <td>2</td>\n",
       "      <td>Myles, Mr. Thomas Francis</td>\n",
       "      <td>male</td>\n",
       "      <td>62.0</td>\n",
       "      <td>0</td>\n",
       "      <td>0</td>\n",
       "      <td>240276</td>\n",
       "      <td>9.6875</td>\n",
       "      <td>NaN</td>\n",
       "      <td>Q</td>\n",
       "    </tr>\n",
       "    <tr>\n",
       "      <th>3</th>\n",
       "      <td>895</td>\n",
       "      <td>3</td>\n",
       "      <td>Wirz, Mr. Albert</td>\n",
       "      <td>male</td>\n",
       "      <td>27.0</td>\n",
       "      <td>0</td>\n",
       "      <td>0</td>\n",
       "      <td>315154</td>\n",
       "      <td>8.6625</td>\n",
       "      <td>NaN</td>\n",
       "      <td>S</td>\n",
       "    </tr>\n",
       "    <tr>\n",
       "      <th>4</th>\n",
       "      <td>896</td>\n",
       "      <td>3</td>\n",
       "      <td>Hirvonen, Mrs. Alexander (Helga E Lindqvist)</td>\n",
       "      <td>female</td>\n",
       "      <td>22.0</td>\n",
       "      <td>1</td>\n",
       "      <td>1</td>\n",
       "      <td>3101298</td>\n",
       "      <td>12.2875</td>\n",
       "      <td>NaN</td>\n",
       "      <td>S</td>\n",
       "    </tr>\n",
       "    <tr>\n",
       "      <th>5</th>\n",
       "      <td>897</td>\n",
       "      <td>3</td>\n",
       "      <td>Svensson, Mr. Johan Cervin</td>\n",
       "      <td>male</td>\n",
       "      <td>14.0</td>\n",
       "      <td>0</td>\n",
       "      <td>0</td>\n",
       "      <td>7538</td>\n",
       "      <td>9.2250</td>\n",
       "      <td>NaN</td>\n",
       "      <td>S</td>\n",
       "    </tr>\n",
       "    <tr>\n",
       "      <th>6</th>\n",
       "      <td>898</td>\n",
       "      <td>3</td>\n",
       "      <td>Connolly, Miss. Kate</td>\n",
       "      <td>female</td>\n",
       "      <td>30.0</td>\n",
       "      <td>0</td>\n",
       "      <td>0</td>\n",
       "      <td>330972</td>\n",
       "      <td>7.6292</td>\n",
       "      <td>NaN</td>\n",
       "      <td>Q</td>\n",
       "    </tr>\n",
       "    <tr>\n",
       "      <th>7</th>\n",
       "      <td>899</td>\n",
       "      <td>2</td>\n",
       "      <td>Caldwell, Mr. Albert Francis</td>\n",
       "      <td>male</td>\n",
       "      <td>26.0</td>\n",
       "      <td>1</td>\n",
       "      <td>1</td>\n",
       "      <td>248738</td>\n",
       "      <td>29.0000</td>\n",
       "      <td>NaN</td>\n",
       "      <td>S</td>\n",
       "    </tr>\n",
       "    <tr>\n",
       "      <th>8</th>\n",
       "      <td>900</td>\n",
       "      <td>3</td>\n",
       "      <td>Abrahim, Mrs. Joseph (Sophie Halaut Easu)</td>\n",
       "      <td>female</td>\n",
       "      <td>18.0</td>\n",
       "      <td>0</td>\n",
       "      <td>0</td>\n",
       "      <td>2657</td>\n",
       "      <td>7.2292</td>\n",
       "      <td>NaN</td>\n",
       "      <td>C</td>\n",
       "    </tr>\n",
       "    <tr>\n",
       "      <th>9</th>\n",
       "      <td>901</td>\n",
       "      <td>3</td>\n",
       "      <td>Davies, Mr. John Samuel</td>\n",
       "      <td>male</td>\n",
       "      <td>21.0</td>\n",
       "      <td>2</td>\n",
       "      <td>0</td>\n",
       "      <td>A/4 48871</td>\n",
       "      <td>24.1500</td>\n",
       "      <td>NaN</td>\n",
       "      <td>S</td>\n",
       "    </tr>\n",
       "  </tbody>\n",
       "</table>\n",
       "</div>"
      ]
     },
     "execution_count": 14,
     "metadata": {},
     "output_type": "execute_result"
    }
   ],
   "execution_count": 14
  },
  {
   "cell_type": "code",
   "metadata": {
    "id": "eSDbvIiMXisO",
    "ExecuteTime": {
     "end_time": "2025-04-01T04:28:45.130729Z",
     "start_time": "2025-04-01T04:28:45.128774Z"
    }
   },
   "source": [],
   "outputs": [],
   "execution_count": 14
  },
  {
   "cell_type": "markdown",
   "metadata": {
    "id": "KJhxvroWXisO"
   },
   "source": [
    "1.3 Afficher les informations des deux DataFrames train et Test."
   ]
  },
  {
   "cell_type": "code",
   "metadata": {
    "_cell_guid": "2ce68358-02ec-556d-ba88-e773a50bc18b",
    "_uuid": "5ec0878acc5c7ab3903410e671c2a2c6cfeafeea",
    "id": "ZMnJg9kLXisO",
    "outputId": "73dc0931-b105-48dd-e1f0-756f673d694e",
    "colab": {
     "base_uri": "https://localhost:8080/"
    },
    "ExecuteTime": {
     "end_time": "2025-04-01T04:28:45.217229Z",
     "start_time": "2025-04-01T04:28:45.204752Z"
    }
   },
   "source": [
    "# prompt: Afficher les informations des deux DataFrames train et Test.\n",
    "\n",
    "print(\"Train DataFrame Information:\")\n",
    "train.info()\n",
    "print(\"\\nTest DataFrame Information:\")\n",
    "test.info()\n"
   ],
   "outputs": [
    {
     "name": "stdout",
     "output_type": "stream",
     "text": [
      "Train DataFrame Information:\n",
      "<class 'pandas.core.frame.DataFrame'>\n",
      "RangeIndex: 891 entries, 0 to 890\n",
      "Data columns (total 12 columns):\n",
      " #   Column       Non-Null Count  Dtype  \n",
      "---  ------       --------------  -----  \n",
      " 0   PassengerId  891 non-null    int64  \n",
      " 1   Survived     891 non-null    int64  \n",
      " 2   Pclass       891 non-null    int64  \n",
      " 3   Name         891 non-null    object \n",
      " 4   Sex          891 non-null    object \n",
      " 5   Age          714 non-null    float64\n",
      " 6   SibSp        891 non-null    int64  \n",
      " 7   Parch        891 non-null    int64  \n",
      " 8   Ticket       891 non-null    object \n",
      " 9   Fare         891 non-null    float64\n",
      " 10  Cabin        204 non-null    object \n",
      " 11  Embarked     889 non-null    object \n",
      "dtypes: float64(2), int64(5), object(5)\n",
      "memory usage: 83.7+ KB\n",
      "\n",
      "Test DataFrame Information:\n",
      "<class 'pandas.core.frame.DataFrame'>\n",
      "RangeIndex: 418 entries, 0 to 417\n",
      "Data columns (total 11 columns):\n",
      " #   Column       Non-Null Count  Dtype  \n",
      "---  ------       --------------  -----  \n",
      " 0   PassengerId  418 non-null    int64  \n",
      " 1   Pclass       418 non-null    int64  \n",
      " 2   Name         418 non-null    object \n",
      " 3   Sex          418 non-null    object \n",
      " 4   Age          332 non-null    float64\n",
      " 5   SibSp        418 non-null    int64  \n",
      " 6   Parch        418 non-null    int64  \n",
      " 7   Ticket       418 non-null    object \n",
      " 8   Fare         417 non-null    float64\n",
      " 9   Cabin        91 non-null     object \n",
      " 10  Embarked     418 non-null    object \n",
      "dtypes: float64(2), int64(4), object(5)\n",
      "memory usage: 36.1+ KB\n"
     ]
    }
   ],
   "execution_count": 15
  },
  {
   "cell_type": "markdown",
   "metadata": {
    "id": "avxzYdskXisO"
   },
   "source": [
    "1.4 Calculer le taux global de survie"
   ]
  },
  {
   "cell_type": "code",
   "metadata": {
    "id": "-D-4ps0kXisO",
    "outputId": "38e36eaa-f846-4cd3-9f0a-de47bf66b3ce",
    "colab": {
     "base_uri": "https://localhost:8080/"
    },
    "ExecuteTime": {
     "end_time": "2025-04-01T04:28:45.364438Z",
     "start_time": "2025-04-01T04:28:45.359436Z"
    }
   },
   "source": [
    "\n",
    "survival_rate = train['Survived'].mean() * 100\n",
    "print(f\"Le taux global de survie est de {survival_rate:.2f}%\")\n"
   ],
   "outputs": [
    {
     "name": "stdout",
     "output_type": "stream",
     "text": [
      "Le taux global de survie est de 38.38%\n"
     ]
    }
   ],
   "execution_count": 16
  },
  {
   "cell_type": "markdown",
   "metadata": {
    "id": "IziKNBdZXisO"
   },
   "source": [
    "\n"
   ]
  },
  {
   "cell_type": "markdown",
   "metadata": {
    "id": "8LZtac5XXisO"
   },
   "source": [
    "#### Question 1 : Quel Travail voyez-vous pour que les données soient prêtes à faire tourner dans un modèle ?\n",
    "\n",
    "\n",
    "\n",
    "\n",
    "#### Question 2 : Quelle différence y-a-t'il entre les données train et les données test ?\n",
    "\n",
    "\n",
    "\n",
    "\n",
    "#### Question 3 : Quel est le rôle de ces deux sets de données ?\n",
    "\n",
    "\n"
   ]
  },
  {
   "cell_type": "markdown",
   "metadata": {
    "_cell_guid": "f9595646-65c9-6fc4-395f-0befc4d122ce",
    "_uuid": "66273d64a2548d7a88464ab2a73dbdedfbdc488b",
    "id": "XxGNzWNxXisP"
   },
   "source": [
    "## 2. Analyse des features"
   ]
  },
  {
   "cell_type": "markdown",
   "metadata": {
    "_cell_guid": "9b4c278b-aaca-e92c-ba77-b9b48379d1f1",
    "_uuid": "c2b62e14d493c270ec8df9f3af1938c479361ef3",
    "id": "Ef9yVuuPXisP"
   },
   "source": [
    "2.1 Analyser l'effet de la variable Classe sur le taux de survie, en affichant le % de survie par classe"
   ]
  },
  {
   "cell_type": "code",
   "metadata": {
    "id": "4SIW3gnLXisP",
    "outputId": "7f07fe42-d4fd-40ee-ec5b-a5e93602212b",
    "colab": {
     "base_uri": "https://localhost:8080/",
     "height": 564
    },
    "ExecuteTime": {
     "end_time": "2025-04-01T04:28:45.762220Z",
     "start_time": "2025-04-01T04:28:45.410960Z"
    }
   },
   "source": [
    "\n",
    "class_survival_rates = train.groupby('Pclass')['Survived'].mean() * 100\n",
    "plt.figure(figsize=(8, 6))\n",
    "class_survival_rates.plot(kind='bar', color=['skyblue', 'lightcoral', 'lightgreen'])\n",
    "plt.title('Survival Rate by Passenger Class')\n",
    "plt.xlabel('Passenger Class')\n",
    "plt.ylabel('Survival Rate (%)')\n",
    "plt.xticks(rotation=0)\n",
    "plt.ylim(0, 100)\n",
    "\n",
    "\n",
    "for i, rate in enumerate(class_survival_rates):\n",
    "    plt.text(i, rate + 2, f'{rate:.1f}%', ha='center', va='bottom')\n",
    "\n",
    "plt.show()\n"
   ],
   "outputs": [
    {
     "data": {
      "text/plain": [
       "<Figure size 800x600 with 1 Axes>"
      ],
      "image/png": "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"
     },
     "metadata": {},
     "output_type": "display_data"
    }
   ],
   "execution_count": 17
  },
  {
   "cell_type": "markdown",
   "metadata": {
    "_cell_guid": "4680d950-cf7d-a6ae-e813-535e2247d88e",
    "_uuid": "f02533e7b85bba0cca7fcf2cc598c8da92d7646d",
    "id": "_uqHa-PtXisP"
   },
   "source": [
    "2.2 Analyser l'effet de la variable Genre (Sex) sur le taux de survie, en affichant le % de survie par classe"
   ]
  },
  {
   "cell_type": "code",
   "metadata": {
    "_cell_guid": "4680d950-cf7d-a6ae-e813-535e2247d88e",
    "_uuid": "f02533e7b85bba0cca7fcf2cc598c8da92d7646d",
    "id": "H3kswMA1XisP",
    "outputId": "486ec917-53c5-4ce4-e505-29da5bdad6b2",
    "colab": {
     "base_uri": "https://localhost:8080/",
     "height": 564
    },
    "ExecuteTime": {
     "end_time": "2025-04-01T04:28:45.856756Z",
     "start_time": "2025-04-01T04:28:45.763229Z"
    }
   },
   "source": [
    "sex_survival_rates = train.groupby('Sex')['Survived'].mean() * 100\n",
    "plt.figure(figsize=(8, 6))\n",
    "sex_survival_rates.plot(kind='bar', color=['skyblue', 'lightcoral'])\n",
    "plt.title('Survival Rate by Sex')\n",
    "plt.xlabel('Sex')\n",
    "plt.ylabel('Survival Rate (%)')\n",
    "plt.xticks(rotation=0)\n",
    "plt.ylim(0, 100)\n",
    "\n",
    "for i, rate in enumerate(sex_survival_rates):\n",
    "    plt.text(i, rate + 2, f'{rate:.1f}%', ha='center', va='bottom')\n",
    "\n",
    "plt.show()\n"
   ],
   "outputs": [
    {
     "data": {
      "text/plain": [
       "<Figure size 800x600 with 1 Axes>"
      ],
      "image/png": "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"
     },
     "metadata": {},
     "output_type": "display_data"
    }
   ],
   "execution_count": 18
  },
  {
   "cell_type": "markdown",
   "metadata": {
    "_cell_guid": "7c58b7ee-d6a1-0cc9-2346-81c47846a54a",
    "_uuid": "88185e9222c26d5d23caaeb209c18710a231b5f9",
    "id": "U_loTHRtXisP"
   },
   "source": [
    "2.3 Calculer une nouvelle colonne FamilySize contenant la taille de la famille, pour les DataFrame train et Test. Afficher pour 10 exemples l'Id du passager, le nom, l'age, le sexe et la taille de la famille."
   ]
  },
  {
   "cell_type": "code",
   "metadata": {
    "_cell_guid": "1a537f10-7cec-d0b7-8a34-fa9975655190",
    "_uuid": "ccc4a4cf7624dd4be450fd62ca3ad478d4e75696",
    "id": "LZDRGy_UXisP",
    "outputId": "d11f2142-7dd7-435f-f069-08b52d60f99c",
    "colab": {
     "base_uri": "https://localhost:8080/",
     "height": 363
    },
    "ExecuteTime": {
     "end_time": "2025-04-01T04:28:45.872270Z",
     "start_time": "2025-04-01T04:28:45.858270Z"
    }
   },
   "source": [
    "train['FamilySize'] = train['SibSp'] + train['Parch'] + 1\n",
    "test['FamilySize'] = test['SibSp'] + test['Parch'] + 1\n",
    "display(train[['PassengerId', 'Name', 'Age', 'Sex', 'FamilySize']].sample(10))\n"
   ],
   "outputs": [
    {
     "data": {
      "text/plain": [
       "     PassengerId                                               Name   Age  \\\n",
       "323          324  Caldwell, Mrs. Albert Francis (Sylvia Mae Harb...  22.0   \n",
       "240          241                              Zabour, Miss. Thamine   NaN   \n",
       "753          754                                 Jonkoff, Mr. Lalio  23.0   \n",
       "445          446                          Dodge, Master. Washington   4.0   \n",
       "342          343                         Collander, Mr. Erik Gustaf  28.0   \n",
       "849          850       Goldenberg, Mrs. Samuel L (Edwiga Grabowska)   NaN   \n",
       "493          494                            Artagaveytia, Mr. Ramon  71.0   \n",
       "239          240                             Hunt, Mr. George Henry  33.0   \n",
       "380          381                              Bidois, Miss. Rosalie  42.0   \n",
       "370          371                        Harder, Mr. George Achilles  25.0   \n",
       "\n",
       "        Sex  FamilySize  \n",
       "323  female           3  \n",
       "240  female           2  \n",
       "753    male           1  \n",
       "445    male           3  \n",
       "342    male           1  \n",
       "849  female           2  \n",
       "493    male           1  \n",
       "239    male           1  \n",
       "380  female           1  \n",
       "370    male           2  "
      ],
      "text/html": [
       "<div>\n",
       "<style scoped>\n",
       "    .dataframe tbody tr th:only-of-type {\n",
       "        vertical-align: middle;\n",
       "    }\n",
       "\n",
       "    .dataframe tbody tr th {\n",
       "        vertical-align: top;\n",
       "    }\n",
       "\n",
       "    .dataframe thead th {\n",
       "        text-align: right;\n",
       "    }\n",
       "</style>\n",
       "<table border=\"1\" class=\"dataframe\">\n",
       "  <thead>\n",
       "    <tr style=\"text-align: right;\">\n",
       "      <th></th>\n",
       "      <th>PassengerId</th>\n",
       "      <th>Name</th>\n",
       "      <th>Age</th>\n",
       "      <th>Sex</th>\n",
       "      <th>FamilySize</th>\n",
       "    </tr>\n",
       "  </thead>\n",
       "  <tbody>\n",
       "    <tr>\n",
       "      <th>323</th>\n",
       "      <td>324</td>\n",
       "      <td>Caldwell, Mrs. Albert Francis (Sylvia Mae Harb...</td>\n",
       "      <td>22.0</td>\n",
       "      <td>female</td>\n",
       "      <td>3</td>\n",
       "    </tr>\n",
       "    <tr>\n",
       "      <th>240</th>\n",
       "      <td>241</td>\n",
       "      <td>Zabour, Miss. Thamine</td>\n",
       "      <td>NaN</td>\n",
       "      <td>female</td>\n",
       "      <td>2</td>\n",
       "    </tr>\n",
       "    <tr>\n",
       "      <th>753</th>\n",
       "      <td>754</td>\n",
       "      <td>Jonkoff, Mr. Lalio</td>\n",
       "      <td>23.0</td>\n",
       "      <td>male</td>\n",
       "      <td>1</td>\n",
       "    </tr>\n",
       "    <tr>\n",
       "      <th>445</th>\n",
       "      <td>446</td>\n",
       "      <td>Dodge, Master. Washington</td>\n",
       "      <td>4.0</td>\n",
       "      <td>male</td>\n",
       "      <td>3</td>\n",
       "    </tr>\n",
       "    <tr>\n",
       "      <th>342</th>\n",
       "      <td>343</td>\n",
       "      <td>Collander, Mr. Erik Gustaf</td>\n",
       "      <td>28.0</td>\n",
       "      <td>male</td>\n",
       "      <td>1</td>\n",
       "    </tr>\n",
       "    <tr>\n",
       "      <th>849</th>\n",
       "      <td>850</td>\n",
       "      <td>Goldenberg, Mrs. Samuel L (Edwiga Grabowska)</td>\n",
       "      <td>NaN</td>\n",
       "      <td>female</td>\n",
       "      <td>2</td>\n",
       "    </tr>\n",
       "    <tr>\n",
       "      <th>493</th>\n",
       "      <td>494</td>\n",
       "      <td>Artagaveytia, Mr. Ramon</td>\n",
       "      <td>71.0</td>\n",
       "      <td>male</td>\n",
       "      <td>1</td>\n",
       "    </tr>\n",
       "    <tr>\n",
       "      <th>239</th>\n",
       "      <td>240</td>\n",
       "      <td>Hunt, Mr. George Henry</td>\n",
       "      <td>33.0</td>\n",
       "      <td>male</td>\n",
       "      <td>1</td>\n",
       "    </tr>\n",
       "    <tr>\n",
       "      <th>380</th>\n",
       "      <td>381</td>\n",
       "      <td>Bidois, Miss. Rosalie</td>\n",
       "      <td>42.0</td>\n",
       "      <td>female</td>\n",
       "      <td>1</td>\n",
       "    </tr>\n",
       "    <tr>\n",
       "      <th>370</th>\n",
       "      <td>371</td>\n",
       "      <td>Harder, Mr. George Achilles</td>\n",
       "      <td>25.0</td>\n",
       "      <td>male</td>\n",
       "      <td>2</td>\n",
       "    </tr>\n",
       "  </tbody>\n",
       "</table>\n",
       "</div>"
      ]
     },
     "metadata": {},
     "output_type": "display_data"
    }
   ],
   "execution_count": 19
  },
  {
   "cell_type": "markdown",
   "metadata": {
    "id": "YJCBCAhbXisP"
   },
   "source": [
    "2.4 Visualisez le nombre de personnes et le taux de survie par taille de famille."
   ]
  },
  {
   "cell_type": "code",
   "metadata": {
    "_cell_guid": "1a537f10-7cec-d0b7-8a34-fa9975655190",
    "_uuid": "ccc4a4cf7624dd4be450fd62ca3ad478d4e75696",
    "id": "Rx_NPOvbXisP",
    "outputId": "e1c1a8c5-583d-4fc8-b600-88d420201f46",
    "colab": {
     "base_uri": "https://localhost:8080/",
     "height": 564
    },
    "ExecuteTime": {
     "end_time": "2025-04-01T04:28:46.009478Z",
     "start_time": "2025-04-01T04:28:45.874758Z"
    }
   },
   "source": [
    "# prompt:  nombre de personnes et le taux de survie par taille de famille un seul grapgh\n",
    "\n",
    "import matplotlib.pyplot as plt\n",
    "family_size_stats = train.groupby('FamilySize')['Survived'].agg(['count', 'mean'])\n",
    "family_size_stats['mean'] *= 100\n",
    "\n",
    "plt.figure(figsize=(10, 6))\n",
    "plt.bar(family_size_stats.index, family_size_stats['count'], label='Number of People', color='skyblue')\n",
    "plt.plot(family_size_stats.index, family_size_stats['mean'], marker='o', color='red', label='Survival Rate (%)')\n",
    "plt.xlabel('Family Size')\n",
    "plt.ylabel('Count / Survival Rate (%)')\n",
    "plt.title('Number of People and Survival Rate by Family Size')\n",
    "plt.xticks(family_size_stats.index)\n",
    "plt.legend()\n",
    "plt.grid(axis='y', linestyle='--', alpha=0.7)\n",
    "\n",
    "\n",
    "# Add data labels for count\n",
    "for i, count in enumerate(family_size_stats['count']):\n",
    "    plt.text(i, count + 2, str(count), ha='center', va='bottom')\n",
    "\n",
    "# Add data labels for survival rate\n",
    "for i, rate in enumerate(family_size_stats['mean']):\n",
    "    plt.text(i, rate, f'{rate:.1f}%', ha='center', va='bottom', color='red')\n",
    "\n",
    "plt.show()\n"
   ],
   "outputs": [
    {
     "data": {
      "text/plain": [
       "<Figure size 1000x600 with 1 Axes>"
      ],
      "image/png": "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"
     },
     "metadata": {},
     "output_type": "display_data"
    }
   ],
   "execution_count": 20
  },
  {
   "cell_type": "markdown",
   "metadata": {
    "_cell_guid": "7c58b7ee-d6a1-0cc9-2346-81c47846a54a",
    "_uuid": "88185e9222c26d5d23caaeb209c18710a231b5f9",
    "id": "2hqfO-mqXisP"
   },
   "source": [
    "2.5 Calculer une nouvelle colonne IsAlone indiquant si le passager est seul ou pas, pour les DataFrame train et Test. Afficher pour 10 exemples l'Id du passager, le nom, l'age, le sexe et le status IsAlone."
   ]
  },
  {
   "cell_type": "code",
   "metadata": {
    "_cell_guid": "8c35e945-c928-e3bc-bd9c-d6ddb287e4c9",
    "_uuid": "87f79dc0711c29f39c0db1a4f7a2e8a84c0c7edb",
    "id": "X5_k4NZUXisP",
    "outputId": "3a38db91-5808-4464-a6fd-84c7893224c3",
    "colab": {
     "base_uri": "https://localhost:8080/",
     "height": 363
    },
    "ExecuteTime": {
     "end_time": "2025-04-01T04:28:46.023310Z",
     "start_time": "2025-04-01T04:28:46.010488Z"
    }
   },
   "source": [
    "# prompt: Calculer une nouvelle colonne IsAlone indiquant si le passager est seul ou pas, pour les DataFrame train et Test. Afficher pour 10 exemples l'Id du passager, le nom, l'age, le sexe et le status IsAlone.\n",
    "\n",
    "train['IsAlone'] = 0\n",
    "train.loc[train['FamilySize'] == 1, 'IsAlone'] = 1\n",
    "\n",
    "test['IsAlone'] = 0\n",
    "test.loc[test['FamilySize'] == 1, 'IsAlone'] = 1\n",
    "\n",
    "display(train[['PassengerId', 'Name', 'Age', 'Sex', 'IsAlone']].sample(10))\n"
   ],
   "outputs": [
    {
     "data": {
      "text/plain": [
       "     PassengerId                               Name   Age     Sex  IsAlone\n",
       "378          379                Betros, Mr. Tannous  20.0    male        1\n",
       "290          291       Barber, Miss. Ellen \"Nellie\"  26.0  female        1\n",
       "93            94            Dean, Mr. Bertram Frank  26.0    male        0\n",
       "664          665        Lindqvist, Mr. Eino William  20.0    male        0\n",
       "878          879                 Laleff, Mr. Kristo   NaN    male        1\n",
       "589          590                Murdlin, Mr. Joseph   NaN    male        1\n",
       "515          516       Walker, Mr. William Anderson  47.0    male        1\n",
       "28            29      O'Dwyer, Miss. Ellen \"Nellie\"   NaN  female        1\n",
       "542          543  Andersson, Miss. Sigrid Elisabeth  11.0  female        0\n",
       "346          347          Smith, Miss. Marion Elsie  40.0  female        1"
      ],
      "text/html": [
       "<div>\n",
       "<style scoped>\n",
       "    .dataframe tbody tr th:only-of-type {\n",
       "        vertical-align: middle;\n",
       "    }\n",
       "\n",
       "    .dataframe tbody tr th {\n",
       "        vertical-align: top;\n",
       "    }\n",
       "\n",
       "    .dataframe thead th {\n",
       "        text-align: right;\n",
       "    }\n",
       "</style>\n",
       "<table border=\"1\" class=\"dataframe\">\n",
       "  <thead>\n",
       "    <tr style=\"text-align: right;\">\n",
       "      <th></th>\n",
       "      <th>PassengerId</th>\n",
       "      <th>Name</th>\n",
       "      <th>Age</th>\n",
       "      <th>Sex</th>\n",
       "      <th>IsAlone</th>\n",
       "    </tr>\n",
       "  </thead>\n",
       "  <tbody>\n",
       "    <tr>\n",
       "      <th>378</th>\n",
       "      <td>379</td>\n",
       "      <td>Betros, Mr. Tannous</td>\n",
       "      <td>20.0</td>\n",
       "      <td>male</td>\n",
       "      <td>1</td>\n",
       "    </tr>\n",
       "    <tr>\n",
       "      <th>290</th>\n",
       "      <td>291</td>\n",
       "      <td>Barber, Miss. Ellen \"Nellie\"</td>\n",
       "      <td>26.0</td>\n",
       "      <td>female</td>\n",
       "      <td>1</td>\n",
       "    </tr>\n",
       "    <tr>\n",
       "      <th>93</th>\n",
       "      <td>94</td>\n",
       "      <td>Dean, Mr. Bertram Frank</td>\n",
       "      <td>26.0</td>\n",
       "      <td>male</td>\n",
       "      <td>0</td>\n",
       "    </tr>\n",
       "    <tr>\n",
       "      <th>664</th>\n",
       "      <td>665</td>\n",
       "      <td>Lindqvist, Mr. Eino William</td>\n",
       "      <td>20.0</td>\n",
       "      <td>male</td>\n",
       "      <td>0</td>\n",
       "    </tr>\n",
       "    <tr>\n",
       "      <th>878</th>\n",
       "      <td>879</td>\n",
       "      <td>Laleff, Mr. Kristo</td>\n",
       "      <td>NaN</td>\n",
       "      <td>male</td>\n",
       "      <td>1</td>\n",
       "    </tr>\n",
       "    <tr>\n",
       "      <th>589</th>\n",
       "      <td>590</td>\n",
       "      <td>Murdlin, Mr. Joseph</td>\n",
       "      <td>NaN</td>\n",
       "      <td>male</td>\n",
       "      <td>1</td>\n",
       "    </tr>\n",
       "    <tr>\n",
       "      <th>515</th>\n",
       "      <td>516</td>\n",
       "      <td>Walker, Mr. William Anderson</td>\n",
       "      <td>47.0</td>\n",
       "      <td>male</td>\n",
       "      <td>1</td>\n",
       "    </tr>\n",
       "    <tr>\n",
       "      <th>28</th>\n",
       "      <td>29</td>\n",
       "      <td>O'Dwyer, Miss. Ellen \"Nellie\"</td>\n",
       "      <td>NaN</td>\n",
       "      <td>female</td>\n",
       "      <td>1</td>\n",
       "    </tr>\n",
       "    <tr>\n",
       "      <th>542</th>\n",
       "      <td>543</td>\n",
       "      <td>Andersson, Miss. Sigrid Elisabeth</td>\n",
       "      <td>11.0</td>\n",
       "      <td>female</td>\n",
       "      <td>0</td>\n",
       "    </tr>\n",
       "    <tr>\n",
       "      <th>346</th>\n",
       "      <td>347</td>\n",
       "      <td>Smith, Miss. Marion Elsie</td>\n",
       "      <td>40.0</td>\n",
       "      <td>female</td>\n",
       "      <td>1</td>\n",
       "    </tr>\n",
       "  </tbody>\n",
       "</table>\n",
       "</div>"
      ]
     },
     "metadata": {},
     "output_type": "display_data"
    }
   ],
   "execution_count": 21
  },
  {
   "cell_type": "markdown",
   "metadata": {
    "id": "hOHOYMXTXisP"
   },
   "source": [
    "2.6 Visualisez le nombre de personnes et le taux de survie par statut seul ou pas."
   ]
  },
  {
   "cell_type": "code",
   "metadata": {
    "_cell_guid": "8c35e945-c928-e3bc-bd9c-d6ddb287e4c9",
    "_uuid": "87f79dc0711c29f39c0db1a4f7a2e8a84c0c7edb",
    "id": "7mMDSBV6XisP",
    "outputId": "ff153b61-2f3d-41c3-96a2-626aaa26fb66",
    "colab": {
     "base_uri": "https://localhost:8080/",
     "height": 570
    },
    "ExecuteTime": {
     "end_time": "2025-04-01T04:28:46.228395Z",
     "start_time": "2025-04-01T04:28:46.023310Z"
    }
   },
   "source": [
    "# prompt:  Visualisez le nombre de personnes et le taux de survie par statut seul ou pas circle graph and normal graph beside in french\n",
    "\n",
    "import matplotlib.pyplot as plt\n",
    "\n",
    "# 2.6 Visualisez le nombre de personnes et le taux de survie par statut seul ou pas.\n",
    "is_alone_stats = train.groupby('IsAlone')['Survived'].agg(['count', 'mean'])\n",
    "is_alone_stats['mean'] *= 100\n",
    "\n",
    "# Create subplots\n",
    "fig, axes = plt.subplots(1, 2, figsize=(15, 6))\n",
    "\n",
    "# Circle graph (pie chart)\n",
    "axes[0].pie(is_alone_stats['count'], labels=['En famille', 'Seul'], autopct='%1.1f%%', startangle=90, colors=['skyblue', 'lightcoral'])\n",
    "axes[0].set_title('Répartition des passagers (seul ou en famille)')\n",
    "\n",
    "# Bar graph\n",
    "axes[1].bar(is_alone_stats.index.map({0: 'En famille', 1: 'Seul'}), is_alone_stats['count'], label='Nombre de personnes', color=['skyblue', 'lightcoral'])\n",
    "axes[1].plot(is_alone_stats.index.map({0: 'En famille', 1: 'Seul'}), is_alone_stats['mean'], marker='o', color='red', label='Taux de survie (%)')\n",
    "axes[1].set_xlabel('Statut (seul ou en famille)')\n",
    "axes[1].set_ylabel('Nombre de personnes / Taux de survie (%)')\n",
    "axes[1].set_title('Nombre de personnes et taux de survie par statut')\n",
    "axes[1].legend()\n",
    "axes[1].grid(axis='y', linestyle='--', alpha=0.7)\n",
    "\n",
    "\n",
    "# Add data labels for count\n",
    "for i, count in enumerate(is_alone_stats['count']):\n",
    "    axes[1].text(i, count + 2, str(count), ha='center', va='bottom')\n",
    "\n",
    "# Add data labels for survival rate\n",
    "for i, rate in enumerate(is_alone_stats['mean']):\n",
    "    axes[1].text(i, rate, f'{rate:.1f}%', ha='center', va='bottom', color='red')\n",
    "\n",
    "plt.tight_layout()\n",
    "plt.show()\n"
   ],
   "outputs": [
    {
     "data": {
      "text/plain": [
       "<Figure size 1500x600 with 2 Axes>"
      ],
      "image/png": "iVBORw0KGgoAAAANSUhEUgAABYMAAAJOCAYAAADlIxhnAAAAOnRFWHRTb2Z0d2FyZQBNYXRwbG90bGliIHZlcnNpb24zLjEwLjEsIGh0dHBzOi8vbWF0cGxvdGxpYi5vcmcvc2/+5QAAAAlwSFlzAAAPYQAAD2EBqD+naQAA1/FJREFUeJzs3Qd8U2X3wPGT7gGl7D1kyAYRUJyoLAUVBffC7Yt7+/o6EPfef9frQF/FvRcIyJK9p+xZdqF7t8n/cx5NTENb2tL0SZrf10+kvUlvzs187rnnnsfhcrlcAgAAAAAAAACo0cJsBwAAAAAAAAAA8D+SwQAAAAAAAAAQAkgGAwAAAAAAAEAIIBkMAAAAAAAAACGAZDAAAAAAAAAAhACSwQAAAAAAAAAQAkgGAwAAAAAAAEAIIBkMAAAAAAAAACGAZHANUVBQIE8//bT8+OOPtkMBAAAAAAAAEIBIBtcQ//73v+Xdd9+Vfv36SSCaNm2aOBwO8++hbNmyxdx23LhxEihOOeUUc0HNtH37domJiZFZs2ZZjSMQX/vVZcGCBXL88cdLfHy8eQyWLl1q9XF/5JFHzDJvbdq0kSuvvLLC69+/f7/Zrl9++aVK4gUAhA793qlVq5YEmlAes6DmCoXXtW6fjnMBhDaSwQFEv3T0w9l9iYiIkObNm5tB4I4dO0r9u++//14+/vhjmTBhgjRs2FBseuONN8r95Tl+/Hh5+eWX/R4TcCiPPvqoHHvssXLCCSfYDiVkz2w4//zz5cCBA/LSSy/J//73P2ndurXUFPXr15drr71WHnroIduhAADKGIPrgeGSxtxaENCtWzcrsQE2ZWdnm8RheQp61OrVq83tNakKBIrZs2eb12Vqamq15Dn8uQ6gqkRU2ZpQpYmpI444QnJzc2Xu3LnmA+OPP/6QlStXmkGqL/2y/fXXX6V9+/Zim37ANWjQ4KDquZNPPllycnIkKiqqWDJYt+n2228vdltNAultIyMjqy1uhK59+/bJhx9+aC6wY+PGjbJ161b573//a5Km1a06PnP+9a9/yauvviq///67nHbaaX67HwBA5eXl5Zm2a6+99prtUICASQaPHTvW/FyesyQ1Gay319vqGVUIPDrm1aKzUEsG6+tScxSJiYlVmueo7nUAVYXK4AB0xhlnyGWXXWaSItr64e677zbJkh9++KHE2992221y9NFHi+2BQlnCwsJMIlv/PRR3ZUZ4eHgVRoiayOl0moMmh0Or6nVAdNZZZ1VZXKiYvXv3mn8rOzg7XNXxmdO5c2dTVUY1AAAErqOOOsocmNy5c6fUBIWFhZKfn287jICSlZVlOwSgyrhcLpPcrQgd8wZbMpj3LVD1SAYHgZNOOsn8qwlhb2vWrJHzzjtP6tWrZz7U+/Tpc1DC2H3a24wZM+SGG24wpysnJCTIFVdcISkpKQe1mxg2bJg0a9ZMoqOjpV27dvLYY49JUVFRiafKLVq0yFT8xsXFyX/+8x9z9HfVqlUyffp0T6sL9xFk357Buvznn3821YDu27qPHpfWq0kr6vSx0N6bmjQaPny4/Pnnn8Vu4+7zuWHDBs+Rvzp16shVV111yIS12zvvvGO2PTY2Vo455hiZOXNmqdUjY8aMMRXZ+ni1bNlS7r33XrPc26RJk+TEE080sWjPt44dO5rH61B0O26++Wb55JNPzN/oc9y7d2/zXHrTx/DGG280t9GY9TnWU+59T8/SU/H1iGiHDh3MuvR2GpfG57Z7927zWLVo0cJsU9OmTc3j7L2u8r5O1P/93/9J27Ztiz2WJfVfLu9j6f2YdO3a1dxW26Oozz77zDw+tWvXNq/x7t27yyuvvHLIx/m7774zLSJ8+/GtX79eRo4cKU2aNDGPlz4mF110kaSlpR2UTNb71W3U96LeRnsQl6fX7OH0ot60aZN5nvU+9T2o/cL1PVXS+9/3tVCRHt56uuzVV18tjRs3No+3Pu7vv/9+iev74osv5IknnjCPlT5mAwYMMO/Fsujj0r9/f/Ozbo/358by5cvN9foa0vXpc6GxaA/ekt7369atMwfS9D2vLXO0LYMOkvX50Nexvi50HS+88EKV9YfT08307AZ9zerjo6/hZ555xhyo8DVo0CAzyafGBAAIPDo+0/GMVgeXJ9Gq4x8dB+nnv37X69/7jl10+Zlnnmm+K3WsruMFHaO4v4O/+eYb87t7nLdkyZJSv/eHDBlixsE6BtMzCb2/T9zfZc8//7xpw+aOSys1y7vfUNZ3nX4f6/erjmdHjRpV6unWlb0f7/i1ZZSetaOPlY4R9EzCytyPexyk+yY6Vm7UqJEZo6iMjAzz/a3Pjz5Oep1+Ty9evLjYOr788kvPOE8r+nSc4dtKxN3XWZefc8455mcdh2hBj/f42Hsb3fsbet99+/Y1cydUZhvLM76v7BhG43W3INT7cO+zldZvVh9vHcupU0891XN792u9vPsQ5R036+tQt9l3f1DfJ3Xr1j3kQZ3qeF2XZx+lpHkqShvHuz9PJk6c6Pk8efvtt82+uT7mvvS51LaTGrtbSc9hecb71bXPWtb7tjR6NofGrPtE+tzrY6NnISvd1nvuucf8rGdfu1+X7vv94IMPzFl7ej+67V26dJE333yz2PrLynOU9/krax2ADcF1SChEuT9A9IPNTT9ItL+pfrjr5HE6MNREjA5Avv76azn33HOLrUM/oPVLTj+s1q5daz7g9APZncRxf2Dp4OXOO+80/2ry9eGHH5b09HR57rnniq1PkzFawayJLx0U6ReHfpjdcsst5m8feOABcztdXhK9XpNqSUlJZsCnypocY/Lkyeb+NCmk26BHQPVDXx8DHbT5noZ0wQUXmA/7p556ylyvFdb6Aa8DnLK89957JmmuE1np4EgH3meffbb54teBkvcXqy7X9h3XX3+9qfpbsWKF2RZNSGmC0f086Rd2jx49zKBdv2A0OVbeicr0y+Lzzz+XW2+91fytnlpy+umny/z58z2963TwqKe+6HOhX5T6etHnV58P3QHQL0Wlj5s+HlpxrolZfV4XLlxoHh8d/CpNfmrM+jzqY6oVmzqY3LZtm+cxLu/rRGPQ150m8O+44w4Tl74+9XXs/YVe3sfSTe9PX+u6bh2Ua1wa48UXX2ySj+7nWAeG+jhr5XxpdACtj9/o0aOLLdcqGh1I6g6dPhaaQNRB0k8//WQGiTpoVJr41ISjvt70cdWWE/q61IMkujPnr0rXPXv2mNeoHuDQ14YOprTNhT6OX3311UHv/8O5H00yuwd5ukOgLWmuueYa83z7tnjRnWet/tedH31/P/vss3LppZfKvHnzSr0Pfb/p59iTTz5ptkV3iNyfG/q86ntQD1Doc6CvTd150n+1hY7vwOvCCy80rx+NQxPjjz/+uHnv6iBZB3n62tCBqsan96PP0+HQx193UvW1odvRqlUr8168//77ZdeuXQf1RNeBsb6uNX56TwJA4NGxoxZMaHWwjq81aVUa/d7X715Nstx1113mu07HWTr++Pbbb4vdVsd+l1xyifmu0HGzJgP1jKS33nrLJJA14aH073VMoWN177PpNFmm4z/9TtbvVj0QrgfRNSGt40tvmtjQs6Z0TKVjR/0erOh+gzdNOOsBVR2nacsj/Z7V7dPEma/DuR+3jz76yCRqb7rpJrMdmjTT73AdG7rHBxW9H318dQyj41V3haFui46ZdHyjyR/dt9Ft1OfPfcaljnl1DKJjBn1udFyk8ej40necp8+Rjh21wECfX9130YPPmvD0HWdqkkq3UV8POpbR53TEiBFmzONuWVXebSzP+L6yYxh9zHQ8r/Hr/WmMSvdrSqLjKh3LaVssfV3ra0W5/63IvmZ56HOh69DX4pw5c8wZXjrm++2338z8E2W9f6vrdV3ZfZSy6OeDrlOft+uuu84kV3UMrK8FLezRMbObbp8mxXU/sarG+/7eZy3rfVsS/bzW+9XPYn1M9XNDC0r0M1k/d/V1q/uUn376qRmH6/6jch/o0Bg0kaz7UVoxrYUbet+6j6qfQ0rfD+XNc5SmKtYBVCkXAsYHH3ygh/ddkydPdu3bt8+1fft211dffeVq2LChKzo62vzuNmDAAFf37t1dubm5nmVOp9N1/PHHuzp06HDQOnv37u3Kz8/3LH/22WfN8u+//96zLDs7+6CYbrjhBldcXFyx++nfv7/527feeuug23ft2tVc72vq1Knmb/Rft2HDhrlat2590G03b95sbquxux111FGuRo0aufbv3+9ZtmzZMldYWJjriiuu8CwbM2aM+durr7662DrPPfdcV/369V1l0cdH70PvKy8vz7P8nXfeMev03q7//e9/5r5nzpxZbB36mOhtZ82aZX5/6aWXzO/6fFaU/p1eFi5c6Fm2detWV0xMjNmesp63OXPmmL/96KOPPMt69uxpHvPSpKSkmL957rnnyoyrPK8Tffz08e7bt6+roKDAc7tx48ZV+rF0PyZ621WrVhW77W233eZKSEhwFRYWuipiw4YNZp2vvfZaseVLliwxy7/88stS/3bLli2u8PBw1xNPPFFs+YoVK1wRERHFluvrfNSoUQetQx8H78eipNd+SW6//XZzO+/HLCMjw3XEEUe42rRp4yoqKir2/tf1Hur9WJJrrrnG1bRpU1dycnKx5RdddJGrTp06nteCe32dO3cu9t555ZVXzHJ9TMri/nvfx7uk19qnn35qbjtjxoyD3vfXX3+9Z5m+Flq0aOFyOByup59+utjrPDY2ttjzUdLj7l6nN9/n8bHHHnPFx8e71q1bV+x2//73v81rY9u2bcWWz54926zz888/L/PxAABUL/f35YIFC1wbN2403+O33nqr53r9rtYxrtvSpUvN7a+99tpi67n77rvN8t9//73Yd4cu0+8At4kTJ5pl+n2kYzu3t99++6DvZ/3e0WW33HJLsTG/jumioqI8Y0z3d5mOh/bu3VssrvLuN5Tku+++M+vVfQfv79iTTjrpoO/Ow7kfd/z6mCQlJXmWz5s3zyy/4447Knw/7uf1xBNPPGiMqOOYm2666ZD7Bd26dXPl5OR4lv/0009mnQ8//PBBz9Gjjz5abB29evUy+2C+26hj5AMHDniW6/6YLv/xxx8rvI2HGt+XprxjGH19aWw6LioPHcuVNsYs775mecfN3u+lxx9/3LVp0yZXrVq1XOecc84h46yu13V59lFKGnOWNo53f55MmDCh2G3Xrl1b4j7NjTfeaB4T78fe9/ks73i/uvZZy3rflmT48OHFPp9Lovu3Je0TlRbXkCFDXG3bti1XnqMiz19p6wBsoE1EABo4cKA5UqWVqHqES48+6mko7mrKAwcOmKOgWjmgR5WTk5PNRY9o6xFpPb3d9/QlrQ7wnhxJj/Dqka9ffvnFs0xP13Bzr1erOvXIsZ4a402P+OmR8uqgR6eXLl1qTuPR6gY3PSqtR7y9t8FNj/B60+3Qx0ePbpZGj6JrJaz+rfdEd+7Th3xPGdMjyJ06dfI8/npxTww1depU86+7YkBPiyrptPFDOe6440w1oZsetdej2HpqkPuUKu/nTStddTv1NC+9b+9T3fR3PbKtr4+S6Hp0u7Va3LeFiO/tDvU60cdS49Cj1d49qbRK1LvCvSKPpZtWMWgFhzfdNj1iXJ5T4ry52w34xuR+vvVxLq29iJ7Wqc+pvg+949aj8Xqqnm/cVUlf81r9oacBuulRZn2f61F29ymhh0PHdlrtoJVL+rP3NurnjFb++p5KqZ8J3u8dd4sbrXSpDO/Xmh7l1/vWygXle9/Ke/I5rQ7RU8Q0dq1s8H6taAVFZWPyfe3qNurrx/vx0c9wfX/6nh7nfp3pbQAAgUnPQrv88svNmSg6Bi2Je+ypFY7etEJY+bZt0nGLjunctHpU6VhHx3a+y0v6jtKKPTd3BZ+eyaQVqN70LC93xVtl9xt8t1XHct7VrfodqxVu3g73fty02lIrMN10vKOPi/sxr8z96HjUd14AHQ9o5WBprQTc+wVaIeg9gbe2OdAxq+9zXNr+R0nPpVZxeo89fcdLFdnGQ43vq2oMUxUqsq9ZXoMHDzYVslohrxWg+lxpdfChVNfrurL7KIc6g0Hv29uRRx5pep5rda6bPo9a/a5jee/H/nDH+/7eZy3rfVsS/Xs927ikVivl4R2Xbq9uu+5v6vvRtz0gUJOQDA5A2mdVvzD0w3vo0KHmA0mTr96nmumHtZ6eroM974ueMuY9IZObJqe8aeJI+8F69+jRgYSe5qKJMO1npOvTU9mU7wehDtK8kz7+pO0slCZwfGkSUR8f31NHvAfWyj3gKivJ6b4f38dKk+i6Y+BNv/j18fJ9/PWL2Pvx18GenlakSSo9DURPi9HTisqbGPaNRel96KBJWxIobZmhp8+4+33pqS8ai7Yz8H7edJCky/TvtVeV9k7SU2jc9G/19CU9LUhj1VO99LQ1Pd3IW3leJ+7HUr/gvemgy7elR3kfS+8BkC8dqOvttZWIHjTRnlfuXsLl4dvDVe9Dd/C0vYg+njoY0vel9+Opcevf6XPkG7ue/uUbd1XSx7e094P7+sOlry99vejOsO/2uQ8E+W5jZd53ZdEBuJ7upa9HHajpfbuf/5IGZ773r69R3Slwnw7mvbyyMXnT14C+znwfH92RKunxcb/OSuorBgAIHA8++KBpwVBa72D9ntU2Dr7jHD0grIkJ3+/hkr6flHcLMu/lvt9Rel++Y1H3OMm336bvOKky+w2+26r7DL7t3HzHIYd7P4ca+7q3szL3U9LYUce42otYnwNNOOsp9t6J27L2PzQZ7Psc63jDOwnvHgeVNN441HipItt4qPF9VY1hqkJF9jUrQttyaMGQFg9piwptDXgo1fW6Ptx9lJKU9Hp273dq+wl3cloLfDQ2XV6V431/77Meajt93XfffeZ51PexxqGtHcrbklHpbfV1756XSGNyz+9DMhg1GT2DA5B+kGlFm/vouFb/ab8b7Q+kH3TuRKL2vfQ9KujmOzg9FP0Q1iNg+sWsgwrtb6WDGj1Kpx+wvsnL0o4uBorSjiJW1cRN+njogOvFF18s8Xr34F4fJz2yrlWiWkGgX/56xFYrQbSfVXmOdh6KHsHW/nDaz0mPyuoAS5NNmnj2ft40uauTEGqVst63Jjq1b5L2q3NXVOo69Miw9unVI7k68NE+ZHpEvFevXhV+nVTlY1nWa08HfToA1Jg1ma0XfUy075/28yuN9tpVJQ3Utc+bVoW7Hy/tRaWPhfaq1cGcxq2Ps95XSc+j9+CytOSfHimvitdAacq630NxP5c6SC+pf1pJPeOq+n2nVRjaW0x3bLTawf35pz3ISnqtlXT//vws0Bj07ASd7LAk7h11N/frzDc5DQAILJp41e8/TZBoj9DSlPfgXmnfRf74jvIdJ/ljv6EkgXw/JY0ddYyhVanaJ1bHedqzVosi9MwvTdxVVEXGc4d63iuyjeUZ31fFGOZwVWQfoqLjZu3f7E5Yam9p7adbVQ73dV2efZSKjtdL2w/XpK/2fNaqb92n0wIk3S/UcXNVjvf9vc9a0XyDFsNonkTndtF9ba101p7FmnjWiQ/Lou8d7eesB3h0X1T3O7XgTSvH9X1Unn3bw9nfAmwiGRzg9AtPE1A6O+jrr79uBqTuygCtWHUfvS3P0V/vGUYzMzPNqW9aeew+cqinaugAyHtSpc2bN1co3opUvJX3tjqbsNIPeV96SpEmVvRI3uFy348+Vu4WBe7TWPRx6Nmzp2eZDmCWLVtmvjwOtR1azaG304t+yehEWdo0XhPEh3r+SjrlSxvga4N9d/WBVpDrl7cmL71PqS9pNlw9aq5HefWirwF9rrUSwnuwqNumpznqRe9fk3C67o8//rjcrxP3Y6lH071fd1plo5Ud3oOKijyWZdEvbk1k60W/uPVIvJ4mpgnt0gZpWpmhA43SXueapNaLVghpUlKrvHVwrROTadw6aNej1ocaMGvFR0nPh1Yl+Fb6lIc+vqW9H9zXu+9X+d53eSqH9fWlsx7rQKa8nzNVSROnU6ZMMYM4Hcy5VfQ0SH/S14C+j8r7+LhfZ+4KbgBA4NLvfh37lDT5sH7P6lhDv5O8P9N1Iib9znV/D1cVvS+tWvUeb+h4UPmeceWrMvsN3nRb9PtYv++8D3T7jkMO934ONfZ1b2dV3Y/SylAdL+pFk4k6cZxODqzJYO/9D+/9Aveyqn6OvVV0G8szvq/sGKaiY/PSbl+Rfc2KjJv17FDdbm3FopMra8W3Vh/rpH+B8ro+1D6K93jde1LCip7pp/skWlSmhUfaRkYfay0s8z7D2F/j/areZ60ozQVoMlwv2j5HW4boe1mT43rQobTXpU4WpxOGa0tO74r9ktr9lbaOijx/nB2IQEKbiCCgM2zqB7vOQKkfmHqEUZfpl0hJvczcp2J408oGTWq66ayZmphzH/l2H2X1rkTQD1I9qlbRD+LyfqDrbctz6oUO1DQhqUdPvdetp3bpEXB3QvtwaTW2fllpsk+33U1nvvXdJq0m0FNwdPZSX3oKjLtthZ7m7ku3RekXz6HozLjePZS2b99ujvxrfyz3c6b/+laQvPbaawcdjXT3x3XTgY8OQNxx6Gk8+vryHSjqAMF9m/K+TvSx1KpbfXz0deb2ySefHFSFW97Hsiy+26YJeHfCuazHWQd2Gqv2hfOmvaW941aaFNb1utengwx9PDRZ6fv46+/eMenjqBXF3q8rPXqtz2dl6GteZ+fV14ebPk76PtedJXdPZb1f5d33TV8XertD0W3TvoN6dF3fa+X5nKlKJb3WlH4OBgp97epzoNUevvQzw/c1tGjRIlMFoTMWAwACm36HarWcjrd9W2a5x56+30nus5y0r2xV06IQN/1u1N91HKMH08tSmf0G323V7zPdd/AeS+hYsyrvx03PTvPuwarjHe3t695nqYr70fh990F0vc2aNfOM83R8qMt0v8B7LKmVndoOzB/PsXcs5d3GQ43vD3cMo8k897LycBfo+N6+IvuaFRk3a1Xxtm3bzH6ivv90HKwJx0Ntf3W9rsuzj1LSeF3H9WWd3VgaTYbqY/f++++bVopltYioyvF+Ve6zVpTvY6zJd90X0vty5z8q8rrUzwatYC5vnqMiz19FciWAv1EZHCT0NOnzzz/fJCZ1cgLtX6rtIzRBpc3V9ailViPoB7E2UNdKS2/6ZaqDRf3i1yOe+sWrf3/22Web6/VIqh7V0i9PPR1ej1r973//q/Bpato4Xr9UtXJSByL6Bep7NN37tnrkUnuz6tFbHbzoEdOS6KlbOgjUU0p0MihNEuqXhyZW9Mh3VdABtcatkxBozPrlqUer9cvA9yi0Tiyip97oc6FHDrViVL/ItDJTl+vASgeRehqUfjHogFGPQGvVgT722mbAe/Kv0nTr1s2ckqTPiR7VdQ+YvE95OfPMM81zpY+FfvHpa0AnE3G3QHDT63Qwo4+7VhBoAlSP0LonJNGjt+7XiN5W+/vqqXP6utLTdyryOtEvYX1e9HQgfSx1nVoRrK9f/cL0Pipa3seyLFr5oIl3vS99bPVIrL4+NPF+qCpMndxAK7U1Aaynrilti6GPi77ntApHB4u6ne4Bk9Lt0NeLHnHWbdMj75o419eMPm46mZueUuaOTx9rPU1LHws9JUmrjdyDh4rSMwQ+/fRT857Q50GfTx1w6H3rYE4HmkqTjjrhmsaoj4/e7rPPPjsoSVka7ZWoz4lO3KKfM/q60PXoYE9fYyUd7Kgq+ly4+1brQE77lOvBn4qereDvz2WtJND3oLYU0feWDv70FEV9vvV14d0SQnvB62ccVQEAEBx0fKDf/zp29j6Qp2eL6VhID666T3/XpKV+F+t4wPusqKqglW16+rPep34na0JS249pX0vfPrUlqeh+gzf93tKxmY499HtNxwJacVhSQcfh3I+b7j/oOnRiL02WacJdx7Te7QwO9350IjAdL+pE3fpc6j6Ijmt0Aip31aLuF2hVuFad6vOrrQf0Pl555RWTcLzjjjvEn8q7jYca3x/uGEbPoNP70H02HRPrfej+iV5KomNvHS/rY6evEd1/0fF5RfY1yztu1vG67htp716t6la636aPh1bd6hjS9uu6PPsomjDVqlTdx9XnRR8/Tebqe1sT3RWhj5fuf+hFn6vyVPtWxXi/KvdZK0ofP+3Xrs+nzjOiB2v0YJnuf+u+mXJPbqef6bpfq+9vfQ3o37ortzUHoJXiWqCkOQzf5H9peY6KPH8VyZUAfudCwPjggw/029C1YMGCg64rKipytWvXzlwKCwvNso0bN7quuOIKV5MmTVyRkZGu5s2bu84880zXV199ddA6p0+f7rr++utddevWddWqVct16aWXuvbv31/sPmbNmuXq16+fKzY21tWsWTPXvffe65o4caL5+6lTp3pu179/f1fXrl1L3Ibdu3e7hg0b5qpdu7b5O72t0r/3XU9mZqbrkksucSUmJprrWrdubZZv3rzZ/K6xe5s8ebLrhBNOMPElJCS4zjrrLNfq1auL3WbMmDHmb/ft21fiY6vrPpQ33njDdcQRR7iio6Ndffr0cc2YMcNsh3tb3PLz813PPPOMeSz0tvrY9u7d2zV27FhXWlqauc2UKVNcw4cPN49nVFSU+ffiiy92rVu37pBxaLw33XST6+OPP3Z16NDB3EevXr2KPYYqJSXFddVVV7kaNGhgntshQ4a41qxZYx7PUaNGeW73+OOPu4455hjzeOtj2KlTJ9cTTzxhtkMlJyeb+9Pl8fHxrjp16riOPfZY1xdffFGp14l69dVXTRwau963/q0+RqeffnqFH0vvx8SXvuYHDx7satSokXmcW7Vq5brhhhtcu3btOuTjvGfPHldERITrf//7n2fZpk2bXFdffbV5v8XExLjq1avnOvXUU81r0NfXX3/tOvHEE81jphd9/DTGtWvXFrvdCy+8YN6jun36Ol64cOFBr6vSXvsl0ff/eeedZ55PjVEf359++qnE2w0cONDcb+PGjV3/+c9/XJMmTSrx+Srt8dHtadmypfmc0c+bAQMGuN555x3Pbdzv7y+//LLY35Z3e0r7+6SkJNe5555rtlFfj+eff75r586d5rb6Xj/U+15f//qc+PL9DCspTvc6vfm+p1RGRobr/vvvd7Vv39689vR9ePzxx7uef/55z3tL/fnnn2Z9Jb2GAACBOwbXz329znfsW1BQYMYpOmbU70f9ntTvg9zc3IO+O3Rs7KukMY37++i555476LtMv891rBMXF2e+z/V7SvcPyvpbb+XZbyiN7jNcfvnlZvyt38f685IlS0r8jq/s/XjHr2MmfTx17HLSSSe5li1bVqntKe15zcvLc91zzz2unj17mn0WfXz1Z90H8PX555+b8bfGouNB3YfS8Ul5xhu+Y4myniPfsU15t/FQ4/uylHcMM3v2bDMu19uUFKev//73v662bdu6wsPDi403K7IPcahxc3p6unlvHX300ea96O2OO+5whYWFuebMmWP9dV3efZRFixaZ/S73bV588cUS919L+zzxpo+X/t21115b4vUlPYflGe9X1z5rWZ/HJXn77bddJ598sqt+/frmvnX/Td/f3vuQ6rHHHjPPm742vB/XH374wdWjRw+zP9WmTRuzT/r+++8f9NiXlueoyPNX1jqA6ubQ//k/5QxbtBJTj2jrke5DVVcisOgRc50N1fu0wGCnfbL0KKm2WCipLYQteiRXK6NnzpxpOxTUUDpZhp4loK0iqAwGAKA4rc7Unqd6NqD7zCoAga8m7rMCoYCewQD8QvsP+x5r+uijj8ypRnr6ViDR08v0gMmsWbNsh4IaSHuZ6ezeekoYiWAAAAAAgE30DAbgFzp5gfZT07672gtK+0699957pqeULgsk2ufJd/I8oKro6197kAEAAAAAYBvJYAB+oZNrtGzZUl599VXP5GVXXHGFmaRAG/UDAAAAAACgetEzGAAAAAAAAABCAD2DAQAAAAAAACAEkAwGAAAAAAAAgBBAMhgAAAAAAAAAQgATyAEAACCgOZ1O2blzp9SuXVscDoftcAAAAICAolPCZWRkSLNmzSQsrOzaX5LBAAAACGiaCG7ZsqXtMAAAAICAtn37dmnRokWZtyEZDAAAgICmFcHuwW1CQoLtcAAAAICAkp6eboon3OPmspAMBgAAQEBzt4bQRDDJYAAAAKBk5WmpxgRyAAAAAAAAABACSAYDAAAAAAAAQAggGQwAAAAAAAAAIYCewQAAAKgRioqKpKCgwHYYQMCJjIyU8PBw22EAAIAAQDIYAAAAQc3lcsnu3bslNTXVdihAwEpMTJQmTZqUa2IZAABQc5EMBgAAQFBzJ4IbNWokcXFxJLsAn4Ml2dnZsnfvXvN706ZNbYcEAAAsIhkMAACAoG4N4U4E169f33Y4QECKjY01/2pCWN8rtIwAEAoeeeQRGTt2bLFlHTt2lDVr1pifb7jhBpk8ebLs3LlTatWqJccff7w888wz0qlTJ3P9uHHj5Kqrripx3Xv27DGfp0AwIhkMAACAoOXuEawVwQBK536P6HuGZDCAUNG1a1eT8HWLiPgnDda7d2+59NJLpVWrVnLgwAGTPB48eLBs3rzZfE5eeOGFcvrppxdb35VXXim5ubkkghHUSAYDAAAg6NEaAigb7xEAoUiTv9ovvSTXX3+95+c2bdrI448/Lj179pQtW7ZIu3btzFkV7jMr1L59++T333+X9957r1piB/wlzG9rBgAAAAAAACxZv369NGvWTNq2bWuqgLdt21bi7bKysuSDDz6QI444Qlq2bFnibT766CNzlsV5553n56gB/yIZDAAAABQViUybJvLpp3/9q7+HOD1d9qijjpJgpBVeL7/88mGvR6u/9JThw/HWW2/JWWedddixAAAq5thjjzV9fydMmCBvvvmmaf9w0kknSUZGhuc2b7zxhukXrJdff/1VJk2aJFFRUaV+J1xyySXFqoWBYEQyGAAAAKHtm280eyhy6qkil1zy17/6uy730+n6ZV00CYvDs2DBgmKn/1aG9oR86KGHZMyYMZ5lmiQ48sgjJSEhQS6//HLJz8/3XJeWlmau27p1a7H1XH311bJ48WKZOXPmYcUDAKiYM844Q84//3zp0aOHDBkyRH755Rcz6ewXX3zhuY1WCy9ZskSmT59uPsMvuOAC8/nva86cOfLnn3/KNddcU81bAVQ9ksEAAAAIXZrw1dM9k5KKL9+x46/lfkgI79q1y3PR6lVNLHovu/vuu6v8PmsK7+RrWRo2bHjYkwp+9dVX5rk54YQTzO9Op9NUhP3rX/8ySYGFCxfKO++847n9v//9b3Nd69ati61HK8z071599dXDigcAcHgSExNNwnfDhg2eZXXq1JEOHTrIySefbD7316xZI99+++1Bf/vuu++as2V00jkg2JEMBgAAQM3hcmnjv/Jd0tNFbr31r78paT3qttv+ul151lfSekqgE9m4L7oTqtXA7t+1Z6FWKTVu3Nicstq3b99is6Arvf1333130A6ungrr7mmof6t9Et1uvPFG6dSpk2RnZ5ca19NPP23ut3bt2qbyqaTKKN0Z7ty5s8TExJj16em1ZdEd6+7du5tTauvXry8DBw4026hOOeUUuf3224vd/pxzzjEztXu3e3jsscfkiiuuMIlZrfY9/vjj5b777iv2dzqpT2RkpMyYMaPENhFaCXbttdeaJLGu57TTTpNly5aVGftnn31WrL1DcnKyuehjqbPTn3322aZKTM2ePdtUI9+mr5cS6Hp++OEHycnJKfM+AQD+k5mZKRs3bpSmTZuWeL3L5TKXvLy8g/5Oq4mpCkZNQTIYAAAANYcmO2vVKt+lTp2/KoBLo8ldrRjW25VnfWUkWstLdziHDh0qU6ZMMaetnn766SaRWNqENyXRxKmuQ5PKhYWF8vPPP5sk7ieffFJqtazu5Gp7iieffNJUvOqOsm+iV//+4YcflieeeMIkQfW22kbhww8/LHGdWuV88cUXmzYJevtp06bJiBEjzI52RTz//PNmdnd9PPT+dLs0Ueu9ns8//9xMEKS9IEuipwnv3bvX9INctGiRHH300TJgwAA5cOBAqff7xx9/SJ8+fTy/ayJZH5fffvvNJNW17YOeelxQUCCjR4+Wt99+W8LDw0tcl65Hn4t58+ZVaNsBAJWnZ9po+4ctW7aYg3bnnnuu+ZzW76ZNmzbJU089Zb4T9DtWr9fvCj14qd+h3vQ7Rj/DL7vsMmvbAlQlksEAAABAgNCk5w033CDdunUzp61qVWy7du1MVWlFaGJSk7G33nqrqWTSRG9Zp7ZqFa3eTi8dO3aUxx9/XLp06VLsNto794UXXjAJXZ1tXf+94447zH2VRO9fd571dlqpqxXCWlWrVcsVoVW8d911l3kc9KL9HHfu3GmStW7jx483O/daNe1Lbzd//nz58ssvTVJWH1dNMGs1tVYul0QribUHsCaY3XTdmjTX50Qrg3v16mUS3VpRfeqpp5pqaW0poY/f66+/Xmx9moTXKnDffsIAAP9JSkoy3w36uazfHXqGyty5c83BPf3M1oN6mvht3769XHjhhebMGE0KN2rU6KCJ4/S7TL83gJogwnYAAAAAQJXRytfMzPLdVlsK+FT/lOiXX0ROPrl8910FlcGauNVqXncyVVsLVKQyWNWtW9fsvOqEOdpWQfvZlkUrd7XfrbfjjjtOpk6dan7W1g56aq0mi6+77jrPbTQ+TXKWltjW6ltNAmscgwcPlvPOO8/EVhHe1blKd+J1XVqprJXAOju89vAtLSmt7SD0cdUkgDd9XHWbSuJu56DJAm8nnniiaQfhtm7dOtOWQ6uWtd+ktonQCYs0ma+/a+Wwm1abldWmAwBQtfQsktLowT6dUK48NEEM1CQkgwEAAFBzaGVofHz5bjt4sEiLFn+1iiipdYGuS6/X25Vy+r8/TmmdNGmSqVzVSiVNIGoC1XviNK1Q9W21oK0KfGn/XD0dVpPKmszViqfK0mSq+u9//yvHHntssetKa42gy3VbdCdaWyu89tpr8sADD5hWCVpZHBYWVq7tiC/h+dRWEVr1rOvUqmBNOOultNi1vYO2qfBVWpWXJo71cU5JSZGyaBW3Vkvr5HKaENZTjLUKuH///ubUZO9ksLak0EQ2AACATbSJAAAAQGjSJOYrr/z1s297AffvOglZNSWC1axZs8wEatrXUJObOqmc9jr0pglFTfC66URxvhWnmoB95pln5McffzRtGW6++eYy71cnhfPtZ6un0rrpxHJaRaU9FjVJ7X3RxG5pNKGqrRPGjh1rkqVRUVGeWdp9t6OoqEhWrlwp5TF8+HAzwd2ECRNMMliTw6XR/sC7d++WiIiIg2Jv0KBBiX+jcWqbjNWrV5e6Xq28rlevnplITmP3Tmbrv+5lSiuQNV5tLQEAAGATyWAAAACErhEjRLRvbPPmxZdrRbAu1+urkfaz/eabb2Tp0qWmvcEll1xiqk59e+hqT1pNrupkb9reITIy0nN9RkaGXH755aZyVlsWaDsFnfymtP64StsbvP/++/LBBx+Y1gfaH3jVqlXFbqMJXZ1s59VXXzW3WbFihbn9iy++WOI6NbnsnpBO21zodu3bt88knt3boe0w9LJmzRozCZv26i0PrRY+55xzzIRy2uJCe0KWZuDAgablhd5eK5TdEwlplbLGVhptbeHdl9ibTkanfZW1Mllp6wvdLu29rC0rdAJATYK7aV/Ktm3bmp7HAAAANtEmAgAAAKFNE77Dh2vGTmc9E2naVOSkk6q1IthNE6s6KZn2+dWq1fvuu0/S09OL3UbbElx11VWmX65W677yyitmNnTvxK4mSzURq7TCWH/WlgaaFG3um/gWMRPnaPXqvffeaypYR44caZKzEydO9Nzm2muvNS0QnnvuObnnnnvMfei6b7/99hK3JSEhwbSq0ASpbkPr1q1N7JqgVrqdmvC+4oorTNWuTkanE7GVl1YD68Q/2pu3VatWZVYna19ITf7q46YJaa241r/TiufSaH9k7VesE8n59kXWx1gntfOeYG7cuHEyatQokyzXx6dv376e6z799NNivZYBAABscbh8G3UBAAAAAUQTiZqM06ScJhi9aeJSJxDTVgW+k30Bh0t7AGubifvvv7/S69AKa62C1mrq0ibbqw68V1DTpY0dazsEACGuzpgxATle9kWbCAAAAAAogVZBa8/lw6F9kT/66COriWAAAAA32kQAAAAAQAnatGkjt9xyy2GtQ3sWAwAABAoqgwEAAAAAAAAgBJAMBgAAAAAAAIAQQDIYAAAAAAAAAEIAyWAAAAAAAAAACAEkgwEAAAAAAAAgBJAMBgAAAAAAAIAQQDIYAAAACDHjxo2TxMREa/e/ZcsWcTgcsnTpUmsxAAAAhCKSwQAAAEA1u/LKK00y9Omnny62/LvvvjPLAQAAAH+I8MtaAQAAAIueXpJcrff3714NKvw3MTEx8swzz8gNN9wgdevWlUCXn58vUVFRUtMVFBRIZGSk7TAAAAD8gspgAAAAwIKBAwdKkyZN5Kmnnirzdl9//bV07dpVoqOjpU2bNvLCCy8Uu16XPf7443LFFVdIrVq1pHXr1vLDDz/Ivn37ZPjw4WZZjx49ZOHChQetWyuRO3ToYBLTQ4YMke3bt3uue+SRR+Soo46Sd999V4444ghzG5WamirXXnutNGzYUBISEuS0006TZcuWlbkN8+fPl169epl19OnTR5YsWXLQbVauXClnnHGGibdx48Zy+eWXS3Jy8iFbXZS1Der777+Xo48+2lzftm1bGTt2rBQWFnqu10rsN998U84++2yJj4+XJ554QlJSUuTSSy812xgbG2vW/8EHH3j+ZsWKFWa79br69evL9ddfL5mZmcUqv8855xx5/vnnpWnTpuY2N910k0k0ez9vTz75pFx99dVSu3ZtadWqlbzzzjvFYtdtueCCC8x21qtXzzyf2mLDbdq0aXLMMceYuPU2J5xwgmzdurXM5wIAAIQ2ksEAAACABeHh4SYZ+Nprr0lSUlKJt1m0aJFJBl500UUmAakJ2oceesgkQr299NJLJhGoSdZhw4aZRKomhy+77DJZvHixtGvXzvzucrk8f5OdnW0Snx999JHMmjXLJHn1frxt2LDBJKO/+eYbT3/f888/X/bu3Su//vqriU8TrQMGDJADBw6UuA2aJD3zzDOlS5cu5va6DXfffXex2+h9a3JVE8aatJ4wYYLs2bPHbHtZDrUNM2fONNt92223yerVq+Xtt982j53+jTeN6dxzzzWPsSZn9THW2+s2/vnnnyZZ3KDBX9XfWVlZJums1dwLFiyQL7/8UiZPniw333xzsXVOnTpVNm7caP798MMPzf36Pm+a2Hcnx2+88UYZPXq0rF271lyniWO9H00U63bo9mmi/PTTTzdV2prQ1oRz//79Zfny5TJnzhyTlKbNCAAAKAttIgAAAABLNAGp1bdjxoyR995776DrX3zxRZNo1eSkOvLII02S8rnnnjPVp25Dhw417SbUww8/bJKXffv2NYlbdd9998lxxx1nEqxajexONr7++uty7LHHmt81Ydm5c2dTxavVpkqTjppo1QpZ9ccff5jrNRmslcpKq1+1Overr74yyUhf48ePF6fTabZPq3O1ylmT35r4dNM4NBGsyXG3999/X1q2bCnr1q0z212SQ22DVgH/+9//llGjRpnrtTL4sccek3vvvdc85m6XXHKJXHXVVZ7ft23bZuLRRK27itd7e3Jzc83johW57vjPOuss0/ZDq5qVJot1uSb9O3XqZJL0U6ZMkeuuu67Y86ZJYPdzpEl9TR537NhRPv/8c/O4aWW2O8Gr1claAawVwRpbWlqaSbRrsl/ptgMAAJSFymAAAADAIk0gahJTK1B96TKt+PWmv69fv16Kioo8y7QNhJs7Gdm9e/eDlmkS1y0iIsIkjN00YamJRu84tOWEOxGstB2EVvpq2wOtUnVfNm/ebKpgS6Lr0/jcbSaUJqa96Xo1Ceq9To1Hlbbe8myDrvfRRx8ttl5Nxu7atctUFbu5k75umqj+7LPPTKJeE8ezZ88utj09e/b0JILdz4kmbt1VvUqT3poIdtN2Ed6Pv+/zpglfTdS7b6Oxa2W2Vga7Y9dWEZqI1sdEf9YDAlo9rInoV155xWwXAABAWagMBgAAACw6+eSTTULv/vvvL1btWxHeE565q0hLWqYJy4rwTngqTQRrUlMrU31pEraydL3uylpfen+Hs16tDh4xYsRB13knp323U3sXa+/dX375RSZNmmSqs7Xnr1ZBl5fvJHT6HPg+/mXdRmPv3bu3fPLJJwet252g10rhW2+91bTV0EriBx980MTbr1+/cscJAABCC8lgAAAAwLKnn37aVKFqewBvetq/9or1pr9r2wTvqtPK0J6z2p/X3RJCq1q1525ZrQa0P/Du3btNRa5364Sy6Pr+97//mYpWdwJ27ty5B61XexPrOnXdVbUNul5d1r59e6koTbhqewm9nHTSSXLPPfeYZLCuW3v/au9gdxJZn5OwsLCDnr/DobFrgrdRo0Zmor7SaDsLvejBBK241jYWJIMBAEBpaBMBAAAAWKYtHS699FJ59dVXiy2/6667TJ9Z7XOrvXO1nYT2ofWdgK0ytCr1lltukXnz5pmJ3bQqWZOI7sRqSQYOHGgSjjpx2W+//SZbtmwxLRQeeOABk5Qtifbj1YpXbc+g/Y612ta3wlarbnUCuosvvthMyqZtECZOnGj6+Hq3w6joNmj/ZO3tq9XBq1atMi0etP2DVtCWRf/u+++/N20a9O9++uknT4JZnydNamuSeOXKlaa9hcagk/a523FUBb0fnbRu+PDhZgI5bcWhFdlaCaw9l/V3TQDrxHFaxazPh7YPoW8wAAAoC8lgAAAAIABob1vfNgJaHfrFF1+YBGa3bt1MklJvV9l2Et7i4uLMpGWarNWet9qTVitRy6JJXU3mamsLTdRqhfJFF11kkpGlJUJ1vT/++KOsWLHCVLBq4ti3HUSzZs1Mda0mfgcPHmyS47fffrtpPaEVt5XdBm2/oYlcTZRqb2FNFOskbdoLuSxRUVEm0ao9fXVbtQpbnwP3fWqiWpPXus7zzjvPtJHQJH1V0vuZMWOGtGrVyrS50CTvNddcYyqstVJYr1+zZo2MHDnSPA86eZ8m1d0TCQIAAJTE4XK5XCVeAwAAAASA9PR0qVOnjqSlpR10urwmxrRC8ogjjijWAxY1n7Zq0ISxtoXAofFeQU2XNnas7RAAhLg6Y8YE5HjZF5XBAAAAAAAAABACSAYDAAAAAAAAQAggGQwAAAAg6GjfZFpEAAAAVAzJYAAAAAAAAAAIASSDAQAAAAAAACAERNgOAEBwyy9ySXahU3IKnZJd6JKcor//Nb87JbfIJU6XiNPlEpf+K/qziEv/c4mcsm2ZJG7bKOJwiISFmX8d+nN4uDiio81F9N+YmL8u7p99/jW30b8DAIQkl36pACgV7xEAAKBIBgMoUXaBU/bnFcn+3CLJLHAelPDN+TvhW3iY+xWulBQp2r798AMOCxNHQoKE1alT7OJITPzn58jIw78fAEBAifz7sz07O1tiY2NthwMELH2PeL9nAABAaCIZDIR4hUhavlOSczXpW2iSvwfMz0WSUxRk1SNOp7hSU6VIL6XcxBEX91dSWJPD9epJeOPG5hLWoIE4wsOrOWAACHyPPPKIjB07ttiyjh07ypo1a8zPubm5ctddd8lnn30meXl5MmTIEHnjjTekcePGnttv27ZNRo8eLVOnTpVatWrJqFGj5KmnnpKIiKoZhoaHh0tiYqLs3bvX/B4XF8eZIoDPeE8Twfoe0feKvmcAAEDoIhkMhIACp+uvJK+p9C00yV69pOQVHXZlbzBxZWdLkVbF7NpV/IqwMJMQ9iSH3f/Wrm0rVAAIGF27dpXJkyd7fvdO4t5xxx3y888/y5dffil16tSRm2++WUaMGCGzZs0y1xcVFcmwYcOkSZMmMnv2bNm1a5dcccUVpjLxySefrLIYdf3KnRAGcDBNBLvfKwAAIHSRDAZqIG3rkJRZINuzCmR7ZoHsyymSEMr5VpzTKc69e82lYMWK4pXEjRr9lSRu0UIiWrcmQQwg5Gjyt6QEUlpamrz33nsyfvx4Oe2008yyDz74QDp37ixz586Vfv36yW+//SarV682yWStFj7qqKPksccek/vuu89UHUdFRVVJjFoJ3LRpU2nUqJEUFBRUyTqBmkQPwFARDAAAFMlgoAbQCl9N+uolKatAUvJ0mjZUSSXxli3mIvPmmWVhdetKeOvWEtGqlfk3vF4922ECgF+tX79emjVrJjExMXLccceZFg+tWrWSRYsWmcTrwIEDPbft1KmTuW7OnDkmGaz/du/evVjbCG0loW0jVq1aJb169arSWDXZRcILAAAAKB3JYCAI+77tzSkyVb9a/ZuUWSiZhSR/q4szJcVcCpYuNb87atf2JIZN5XDDhvSqBFBjHHvssTJu3DjTJ1hbPGj/4JNOOklWrlwpu3fvNpW9euq5N0386nVK//VOBLuvd19XGu0/rBe39PR0829hYaG5qDBt8RMWJk49u8P5z/ege7m2qNDvzEMt1+Sxfm671+u9XOnty7NcK6h1vd7Ldb16e98YS1vONrFNbBPbxDZVfptMjD7j8LC/b+Ms5/Jwl8ucUVnSco3OVY7ljr/Xr+vwPjvT4XJJWAkxlrZc16FL2Ca2iW0Knm0q9Ppcre7Pct/P9LKQDAaCwO7sQtmcnm8SwDuyCiUv2CZ3q8FcGRlSsGqVuShHbKxJDEceeaREHHmkhMXH2w4RACrtjDPO8Pzco0cPkxxu3bq1fPHFFxIbG+u3+9XqY9+J69SSJUsk/u/P1YYNG0q7du1k8+bNsm/fPs9tWrRoYS7r1q0zrSzc2rZta9pIaCI7JyenWDWzJrR13d4JDd1eTXYvXLiwWAx9+vSR/Px8Wb58ebHBeN++fc39uSfXU/oY9ezZU5KTk2XTpk2e5dpfWdtp7Ny5U5KSkjzL2Sa2iW1im9imym+TpmbWtGolzjBNBf2lQ1KSRBYWyuo2bYptU5ctW6QgIkLWt2jhWRbmdErXrVslMzZWtni1R4ouKJAjk5IktXZt2dGggWd5rZwcOWL3btmnk5jWretZXjcjQ1okJ8vO+vUlxavFXKOUFGmcmirbGjc29+HWPDlZ6mVkyMbmzSUvMtKzvM3u3VI7J4dtYpvYpiDaprVen5/V/VmelZUl5eVweaeVAQQEfVvuzC6Utan5si41T1Lza27l76Ub/pCE1cukRtIjgc2bS0THjhLZsaOEN2xoOyIAOGy686+tIQYNGiQDBgyQlJSUYtXBmiy+/fbbzeRyDz/8sPzwww+y9O+zKZQOfHVQu3jx4lLbRJRUGdyyZUvZv3+/JCQkmGVUyLFNbBPbxDaxTd4xpj/6KJWMbBPbxDZZ3abaDzxg7bNcx8v169c3iWT3eLk0VAYDAcLpcpmev5oAXp+WLxkFNTcBHDJ0cJyUZC55U6ZIWL16plrYJIZbtRKH1xFJAAgGmZmZsnHjRrn88suld+/eZlKqKVOmyMiRI831a9eulW3btpnewkr/feKJJ2Tv3r2mokFNmjTJDFC7dOlS6v1ER0ebiy9NPOjFm3uA7Ku03sGlLfddb2WW64C8pOWlxVjR5WwT21TacraJbSor9lDaJk3IHO5yRynLTXQVWV4FsVTVcraJbaqqGCu6PNS2KaIKPg8r+1le2md3iX9T7lsCqHJFTpdsySiQtWl5JgGcU0ihfk3mPHBA8ufONRdtJxHRvr1JDGuC2OF1CgsABIq7775bzjrrLFPtq6e4jRkzxgxEL774YnPq2zXXXCN33nmn1KtXzyR4b7nlFpMA1snj1ODBg03SV5PHzz77rOkT/OCDD8pNN91UYrIXAAAAgH+RDAaqWYHTJZvStf1DvmxIz6f/b4hy5eRIwYoV5iJRURLZpYtEHXXUXxXDTEAHIEBofzNN/Gp7Bu1vduKJJ8rcuXPNz+qll14yFQ1aGaxtHYYMGSJvvPGG5+81cfzTTz/J6NGjTZJY+/2OGjVKHn30UYtbBQAAAIQuegYD1UDfZhvTC2TFgVyTCKYDRIj0DK4ER2KiRPXsaS5hXo3zASCUaQ80rUQuTw80AEBoSith4lEAqE51xowJivEylcGAH2UVOGXZ/lxZuj9X0mvwJHCoOq7UVMmbPt1ctEpYk8KRXbuKg9OpAQAAAADAYSIZDPjBtowCWZKcI2vT8sVJ7T0qqWjbNsnRy6+/SmSnThLZs6dEtGtHGwkAAAAAAFApJIOBKpJX5JSVB/JkSXKuJOcW2Q4HNUlhoRSsXGku2joi6phjJKpXL6qFAQAAAABAhZAMBg7T7uxCUwW8OiWPXsDwO2dKiuROnCi506aZhHD0scdKWGKi7bAAAAAAAEAQIBkMVEKh0yV/pvxVBbwzu9B2OAhFeXmSP3eu5M+bJxGdOpmkcETr1rajAgAAAAAAAYxkMFAB2YVOmb83R5Yl50pOEc2AEQBcLin8809zCW/aVKL69ftrwrnwcNuRAQAAAACAAEMyGCiHnEKnzNubI4v35Uo+M8IhQBXt2iU5334ruZMnS1TfvhLdt684YmJshwUAAAAAAAIEyWCgDLl/VwIvJAmMIOLKyJC833+XvFmzTPuI6OOOIykMAAAAAABIBgOlJoH35ciivbmSRxIYwSovT/JmzJC8efNICgMAAAAAAJLBgLfcIqcs3JsrC/blSB49gVETk8L9+v2VFI6Oth0VAAAAAACoZiSDAc2VaRJ4X64s2JsjuSSBUZOTwtOnS/78+RJ94okSdcwx4ojgawAAAAAAgFBBFgAS6kngRftyTV9gksAIFa6cHMmdNEny5s6V6JNPlqijjxZHWJjtsAAAAAAAgJ+RDEZIKnK5ZOHeHJm7J0dySAIjhCeay/35Z8mfO1dihgyRyA4dbIcEAAAAAAD8iGQwQs7WjHyZlJQlyblFtkMBAoJz/37JHj9eIo480iSFw+vVsx0SAAAAAADwA5LBCBmZBU6ZuiNLVqXk2Q4FCEiF69ZJ5saNZoK56JNOEkdUlO2QAAAAAABAFSIZjBrP6XLJ4uRcmbkrW/JoCQGUrahI8v74Q/KXL5eYQYMkqls32xEBAAAAAIAqQjIYNdrOrAKZuD1T9uTQEgKoCFd6uuR8/bXkL1wosWecIeGNG9sOCQAAAAAAHCaSwaiRcgqdMm1nlizbT0sI4HAUbd0qmW+/LVF9+kjMqaeKIzbWdkgAAAAAAKCSSAajRnG5XLJ8f55JBOfQEgKoGi6X5C9YIAWrVknMGWfQOgIAAAAAgCBFMhg1xp7sQvktKVN2ZBXaDgWokVzZ2aZ1RMGff0rs0KESFh9vOyQAAAAAAFABJIMR9PKLXDJ9V5Ys3pcr1AID/le4erVkbtkiscOGSWSXLrbDAQAAAAAA5UQyGEFtR1aB/LQ1Q1LynLZDAUKuSjj7yy8lsmtXidEq4bg42yEBAAAAAIBDIBmMoOR0uWTW7myZvTuHamDAIu0jXKhVwmeeKZGdOtkOBwAAAAAAlIFkMILOgdwi+XFrhuzKpjcwEAhcWVmS/fnnEtm9u8SecYY4YmNthwQAAAAAAEpAMhhBZUlyjvy+I0sK6AoBBJyCFSukcPNmiT3rLIk88kjb4QAAAAAAAB9hvguAQJRT6JSvNqXLxO0kgoFA5srMlOxPP5WciRPFVVRkOxwAAAAAAOCFymAEvO2ZBfLjlgxJJwsMBI38uXOlKClJ4s4/X8ISEmyHAwAAAAAAqAxGIHO5XDJ7d7aMX59GIhgIQpoMznz7bSnYsMF2KAAAAAAAgGQwAlVWgVM+35guM3Zli8t2MAAqzZWdLdnjx0vu1KnmAA8AAAAAALCHNhEIOFvS8+XHrRmSVUjiCKgRXC7JmzFDCrdvl7iRIyUsPt52RAAAAAAAhCQqgxFQFuzNMRXBJIKBmqdo82bTNqJw61bboQAAAAAAEJJIBiMgOF0umbg9U6bsyKItBFCDuTIyJOujjyRv1izaRgAAAAAAUM1IBsO63CKnfLExXZYk59oOBUB1cDold/JkyfnqK3EVFtqOBgAAAACAkEHPYFiVmlckX25Kl/25RbZDAVDNClavFmd6usRddBF9hAEAAAAAqAZUBsOapMwC+XBdKolgIIQVJSVJ5rvvStG+fbZDAQAAAACgxiMZDCtWHsiVTzekSQ4TxQEhz5WaKpnvvy+FmzfbDgUAAAAAgBqNZDCqlU4YNWNnlvy0NVOKyAMDcMvNlayPP5b8JUtsRwIAAAAAQI1FMhjVptDpkh+2ZMjsPTm2QwEQiJxOyfnhB8mdMsUcOAIAAAAAAFWLCeRQLbIKnPL1pnTZmV1oOxQAAS7vjz/EmZoqscOHiyOCrykAAAAAAKoKe9nwu705hfLVpnRJz3faDgVAkChYuVKcaWkSd9FFEhYXZzscAAAAAABqBNpEwK92ZBXIJ+vSSAQDqLCi7dsla9w4cWZm2g4FAAAAAIAagWQw/CYps0A+35AueU56fwKoHOe+fX8lhNPTbYcCAAAAAEDQIxkMv9ieWSBfbEyXfBLBAA6Tc//+vxLCqam2QwGCTl5enu0QAAAAAAQQksGocttMIjiNRDCAKuNMSZHMceOk6MAB26EAAe3XX3+VUaNGSdu2bSUyMlLi4uIkISFB+vfvL0888YTs3LnTdogAAAAALCIZjCq1NSNfvtyYJgW0CAZQxVxpaaZCuCg52XYoQMD59ttv5cgjj5Srr75aIiIi5L777pNvvvlGJk6cKO+++65JBk+ePNkkif/1r3/Jvn37bIcMAAAAwIIIG3eKmmlLRr58vSmdRDAAv3FlZJiEcPzll0t448a2wwECxrPPPisvvfSSnHHGGRIWdvCx/gsuuMD8u2PHDnnttdfk448/ljvuuMNCpAAAAABsIhmMKksEf7UxXQrpDAHAz1xZWZL14Yd/JYSbNrUdDhAQ5syZU67bNW/eXJ5++mm/xwMAAAAgMNEmAodtczqJYADVy5WTI5kffSSFSUm2QwECXlZWlqSnp9sOAwAAAEAAIBmMw7Ip/a/WECSCAVS73FzJ+t//pGjXLtuRAAFp9erV0qdPH6ldu7bUrVtXunfvLgsXLrQdFgAAAACLSAaj0jamkQgGYFl+vmR9/LEU7d9vOxIg4Nxwww1y8803S2Zmpuzfv19GjBgho0aNsh0WAAAAAItIBqNSNqTlyzeb06WIRDAAy1zZ2aZC2Mlp8Ahxw4cPNxPEue3bt0/OPvtsiYuLk8TERBk6dKjs2bPHaowAAAAA7CIZjArbmpEv35IIBhBAXGlppkLYmZNjOxTAmssuu0xOO+00efXVV8Xlcpmq4K5du8pFF10kI0eOlNNPP11uv/1222ECAAAAsIhkMCpkf26hfLM5g0QwgIDj3LdPssePF1dBge1QACvOP/98mT9/vukV3K9fPznhhBPkt99+M/+edNJJ5ucHH3zQdpgAAAAALIqweecILlkFTvliY7rkkQkGEKCKkpIk+4svJO6ii8QRHm47HKDa1alTR9566y35448/TH/gQYMGyWOPPWZaRQAAAAAAlcEolwKny0wWl5bvtB0KAJSpcMMGyfn+e3OaPBBqDhw4IIsWLZLu3bubfxMSEqRXr17yyy+/2A4NAAAAQAAgGYxD0oTKT1szZGd2oe1QAKBcClaskNwJE2yHAVSr8ePHS4sWLWTYsGHSunVr+fXXX2XMmDHy/fffy7PPPisXXHABE8gBAAAAIY5kMA5p6s5sWZuabzsMAKiQ/PnzJXf6dNthANXm/vvvl/fff192794tU6ZMkYceesgs79Spk0ybNs20jDjuuONshwkAAADAIpLBKNPifTkyf2+O7TAAoFLypk2T/BUrbIcBVIvMzEzp2LGj+bldu3aSnZ1d7PrrrrtO5s6dayk6AAAAAIGACeRQqo1p+TIpKct2GABwWHJ++EHC69eX8GbNbIcC+JVOGKctIk455RRZuHChXH755QfdplGjRlZiAwAAABAYSAajRHuyC+X7LRnC9EsAgl5hoWR9/rnUuu46CatVy3Y0gN+8+OKLcuqpp8qaNWvkyiuvlMGDB9sOCQAAAECAIRmMg2TkF8lXm9Il30kqGEDN4EpPl+wvvpD4UaPEER5uOxzAb8466yxzAQAAAICS0DMYxeQVOeXLTemSUeC0HQoAVKmi7dsl5+efbYcB+MVnn31W7ttu375dZs2a5dd4AAAAAAQmksHwcLpcpjXE3pwi26EAgF8ULFkiefPn2w4DqHJvvvmmdO7cWZ599ln5888/D7o+LS1NfvnlF7nkkkvk6KOPlv3791uJEwAAAIBdtImAx4yd2bIpvcB2GADgV7kTJ0p4w4YSccQRtkMBqsz06dPlhx9+kNdee03uv/9+iY+Pl8aNG0tMTIykpKTI7t27pUGDBqaX8MqVK811AAAAAEIPyWAYm9PzZe7eHNthAID/OZ2S/eWXUuv66yUsMdF2NECVOfvss80lOTlZ/vjjD9m6davk5OSYJHCvXr3MJSyMk8IAAACAUEYyGJJZ4JQft2bYDgMAqo0rJ0eyPvtMal19tTiiomyHA1QpTf6ec845tsMAAAAAEIAoDwlxLpdLftySIdmFLtuhAEC1cu7ZIzk//mg7DAAAAAAAqg3J4BA3Z0+ObM2kTzCA0FSwcqXkL15sOwwAAAAAAKoFyeAQlpRZIH/syrYdBgBYlTNhghTt22c7DAAAAAAA/I5kcIjKLXTKD1syxGk7EACwraBAsr/6SlyFhbYjAQAAAADAr0gGh6ift2VKegGpYABQzr17JXfCBNthAFUqPz9f1q5dK4Uc6AAAAADwN5LBIWjRvhxZn5ZvOwwACCj5ixZJwZo1tsMADlt2drZcc801EhcXJ127dpVt27aZ5bfccos8/fTTtsMDAAAAYBHJ4BCzJ7tQft+RZTsMAAhIOT/8IM6MDNthAIfl/vvvl2XLlsm0adMkJibGs3zgwIHy+eefW40NAAAAgF0kg0NIfpFLvt+SIUUu25EAQGBy5eRIzvffi8vFByWC13fffSevv/66nHjiieJwODzLtUp448aNVmMDAAAAYBfJ4BDyW1KmHMgrsh0GAAS0wo0bJX/+fNthAJW2b98+adSo0UHLs7KyiiWHAQAAAIQeksEhYtWBXFl5IM92GAAQFHInT5aifftshwFUSp8+feTnn3/2/O5OAL/77rty3HHHWYwMAAAAgG0RtgOA/2UXOmVyEn2CAaDcCgtNu4j4a66hkhJB58knn5QzzjhDVq9eLYWFhfLKK6+Yn2fPni3Tp0+3HR4AAAAAi6gMDgE6YVwOjYIBoEKKduygXQSCkvYKXrp0qUkEd+/eXX777TfTNmLOnDnSu3dv2+EBAAAAsIjK4Bpua0Y+7SEAoJJyf/9dIjt1krA6dWyHAlRIu3bt5L///a/tMAAAAAAEGCqDa7Aip0smbqc9BABUWn6+5Pzyi+0ogENKT08v9nNZl8Px9NNPm9Ypt99+u2dZbm6u3HTTTVK/fn2pVauWjBw5Uvbs2VPs77Zt2ybDhg2TuLg4U6V8zz33mMplAAAAANWLyuAabM6eHDmQV2Q7DAAIaoXr1knB6tUS2aWL7VCAUtWtW1d27dplEq2JiYkl9rp2uVxmeVFR5cYGCxYskLffflt69OhRbPkdd9xhJqz78ssvpU6dOnLzzTfLiBEjZNasWeZ6vT9NBDdp0sT0LdY4r7jiComMjDT9jQEAAABUH5LBNdSB3CKZsyfbdhgAUCPk/PqrRLRtK46YGNuhACX6/fffpV69ep6fq3riw8zMTLn00ktN64nHH3/cszwtLU3ee+89GT9+vJx22mlm2QcffCCdO3eWuXPnSr9+/UzPYp3AbvLkydK4cWM56qij5LHHHpP77rtPHnnkEYmKiqrSWAEAAACUjmRwDTVxe6YwZxwAVA1XZqbkTp4ssWeeaTsUoET9+/f3/HzKKadU+fq1DYRW9w4cOLBYMnjRokVSUFBglrt16tRJWrVqZSas02Sw/qsT2Wki2G3IkCEyevRoWbVqlfTq1eug+8vLyzMXN3d7C20t4W4vERYWZi5Op9Nc3NzLtSJZq6EPtTw8PNwkz33bVuhy5VtJXdryiIgIs17v5bpevb1vjKUtZ5vYJraJbWKbKr9NJkafg6Fhf9/GWc7l4S6XuEpZrtG5yrHc8ff6dR3eu+QOl8v06fSNsbTlug5dwjaxTWxT8GxTodfnanV/llekBRvJ4Bpo5YFc2ZpZYDsMAKhR8hctksgePSSiVSvboQBl6tChg6ni1Yv+fLg+++wzWbx4sWkT4Wv37t2msldbU3jTxK9e576NdyLYfb37upI89dRTMnbs2IOWL1myROLj483PDRs2NBPlbd68Wfbt2+e5TYsWLcxl3bp1pnLZrW3btqaNxsqVKyUnJ6dY8lrj13V7JzS0HYZu28KFC4vF0KdPH8nPz5fly5cXG4z37dvX3N+aNWs8y2NjY6Vnz56SnJwsmzZt8izXdhpaPb1z505JSkryLGeb2Ca2iW1imyq/TZqaWdOqlTjD/pkaqUNSkkQWFsrqNm2KbVOXLVukICJC1rdo4VkW5nRK161bJTM2VrY0aeJZHl1QIEcmJUlq7dqyo0EDz/JaOTlyxO7dsi8xUfbWretZXjcjQ1okJ8vO+vUlpXZtz/JGKSnSODVVtjVubO7DrXlystTLyJCNzZtLXmSkZ3mb3buldk4O28Q2sU1BtE1rvT4/q/uzPCur/HOGOVzeaWUEvZxCp/z3zxTJLuRpRXC4dMMfkrB6me0wgHIJa9BAav3rX+L4u/oECEQvvfSSadugCdyjjz5aLrvsMrnwwgtNz96K2r59u0kCTJo0ydMrWCuPtdXDyy+/bO7nqquuKlbFq4455hg59dRT5ZlnnpHrr79etm7dKhMnTvRcn52dbZK6v/zyi5xxxhnlqgxu2bKl7N+/XxISEswyKuTYJraJbWKb2CbvGNMffZRKRraJbWKbrG5T7QcesPZZruNlndBZE8nu8XJpqAyuYabuzCIRDAB+4kxOlryZMyXGD6fhA1VFJ3TTi1YVfPLJJ/J///d/cvfdd5vkrCaGdfK28tI2EHv37jVJZTcdiM6YMUNef/11k+DVarHU1NRi1cF79uzxJJ/13/nz5xdbr17vvq4k0dHR5uJLEw968eYeIPtyJy/Ku9x3vZVZrgPykpaXFmNFl7NNbFNpy9kmtqms2ENpmzQhc7jLHaUsN9FVZHkVxFJVy9kmtqmqYqzo8lDbpogq+Dys7Gd5aZ/dJTn4XhG0tmcWyPL9xStzAABVK2/WLHF6nbYDBKojjzzStFrQpPDMmTPNaWhaxVsRAwYMkBUrVsjSpUs9F60U1hYU7p8jIyNlypQpnr9Zu3atbNu2TY477jjzu/6r69CksptWGmvFQpcuXapwiwEAAAAcCpXBNUSRy2UmjQMA+FlhoeROmSJxI0bYjgQ4JK3I1VYOn3/+uTl17Pzzz6/Q39euXVu6detWbJm2d9BT0NzLr7nmGrnzzjulXr16JsF7yy23mASwTh6nBg8ebJK+l19+uTz77LOmT/CDDz5oJqUrqfoXAAAAgP+QDK4h5u3JkeTc4j2cAAD+UbBihRT16yfhzZrZDgU4iLs9xKeffmompjjttNNM794RI0ZIrVq1/NKjWE9xGzlypOnzO2TIEHnjjTeKndL2008/yejRo02SWJPJo0aNkkcffbTKYwEAAABQNiaQqwGyCpzy1uoDUvBP32kgaDCBHIJVeJs2UmvUKNthAAfRxKzO8H7JJZfIRRddJI0bN5Zgp1XNOiNzeSbEAACEprSxY22HACDE1RkzJijGy1QG1wBz9mSTCAaAala0ZYsUrF0rkR072g4FKDa529tvvy3nnXee1K1b13Y4AAAAAAIME8gFufT8IlmSnGs7DAAISbmTJ4vLydE4BA5tyaA9e1NTU22HAgAAACAAkQwOcrN2Z0sRjT4AwApncrLkL15sOwygGJ3YbdOmTbbDAAAAABCASAYHsZS8IlmxP892GAAQ0vKmTRNXHp/FCByPP/643H333WbStl27dpn+Yd4XAAAAAKGLnsFB7I9d2cLJyQBglysrS/JmzZKY006zHQpgDB061Px79tlni8Ph8CzXOYP1d+0rDAAAACA0kQwOUvtyCmV1CpVoABAI8ubMkag+fSTsELO2AtVh6tSptkMAAAAAEKBIBgepmbuyhVbBABAgCgsld9o0iTv7bNuRANK/f3/bIQAAAAAIUCSDg9Cu7AJZl5ZvOwwAgJeCZcvE2b+/hNWpYzsUhLgZM2aUef3JJ59cbbEAAAAACCwkg4PQjJ3ZtkMAAPhyOiVv9myJPeMM25EgxJ1yyikHLfPuHUzPYAAAACB0hdkOABWzPbNANmcU2A4DAFCC/MWLxZmVZTsMhLiUlJRil71798qECROkb9++8ttvv9kODwAAAIBFVAYHmek7STIAQMAqLJT8OXMkZuBA25EghNUpoVXJoEGDJCoqSu68805ZtGiRlbgAAAAA2EdlcBDZlJ4vSVmFtsMAAJQhb+FCceXm2g4DOEjjxo1l7dq1tsMAAAAAYBGVwUFkxi56BQNAwMvLk7x58ySmf3/bkSBELV++vNjvLpdLdu3aJU8//bQcddRR1uICAAAAYB/J4CCxJSNfdmdTFQwAwSB/3jyJPu44cURF2Q4FIUgTvjphnCaBvfXr10/ef/99a3EBAAAAsI9kcJBYtI9TjgEgWLhyciR/0SKTEAaq2+bNm4v9HhYWJg0bNpSYmBhrMQEAAAAIDCSDg0BafpFsSMu3HQYAoALy5syRqL59xRHBVy2qV+vWrQ9alpqaSjIYAAAAABPIBYMl+3Kl+ImeAIBA58rIkPylS22HgRD0zDPPyOeff+75/YILLpB69epJ8+bNZdmyZVZjAwAAAGAXyeAAV+h0ybL9tIgAgGCUP2fOQX1bAX976623pGXLlubnSZMmmcuECRPkjDPOkHvuucd2eAAAAAAs4tzVALc6JU9yikgkAEAwch44IEWbN0tE27a2Q0EI2b17tycZ/NNPP5nK4MGDB0ubNm3k2GOPtR0eAAAAAIuoDA5wi/bl2A4BAHAY8hYutB0CQkzdunVl+/bt5metCB44cKD5WavUi4qKLEcHAAAAwCaSwQEsKbNA9uSw0wYAwaxw7VpxZmTYDgMhZMSIEXLJJZfIoEGDZP/+/aY9hFqyZIm0b9/ednhAjfHmm29Kjx49JCEhwVyOO+44+fXXXz3Xn3LKKeJwOIpd/vWvf5W4Ln2vtmjRwtxGJ3wEAACo0cng7OxsGTlypBlE+XsApIOy22+/3fO7njL58ssve37X+//uu+8kEFAVDAA1gNMp+YsX244CIeSll16Sm2++Wbp06WL6BdeqVcss37Vrl9x44422wwNqDE3ePv3007Jo0SJZuHChnHbaaTJ8+HBZtWqV5zbXXXedee+5L88++2yJ67rmmmtMYhkAACCgegZfeeWV8uGHHx60fMiQIeY0xMrSdc6cOVNmz54tDRo0kDp16oi/fPPNNxIZGSmBLrPAKWvT8m2HAQCoApoMjj7pJHGEBcQxWNRwOs65++67D1p+xx13WIkHqKnOOuusYr8/8cQTplp47ty50rVrV7MsLi5OmjRpUuZ69G+0GObhhx8uVlkMAADgDxXeKz399NOLHd3Wy6effnpYQWzcuFE6d+4s3bp1M4Mlrc71l3r16knt2rUl0C1JzhEn88YBQI3gSk+XwvXrbYcBAPAT7cf92WefSVZWlmkX4fbJJ5+YYhfdz7n//vvNGZHeVq9eLY8++qh89NFHEsYBQwAAUA0qPOKIjo42CVvvi05U4qaJ3HfffVfOPfdccyS8Q4cO8sMPP5TZtuGFF16QGTNmmL/V39X//vc/6dOnj0nc6n1o77u9e/d6/m7atGnm9hMnTpRevXpJbGysOTVLb6NH1DW5rG0n9O+8B12+bSIORSdg0Vm4ExMTTSJZT/3asmWL+FORyyVLk3P9eh8AgOqVz0RyAFDjrFixwrRi0X0k7Qf87bffmhYtSvdDPv74Y5k6dapJBOv+zWWXXeb527y8PLn44ovlueeek1atWlncCgAAEEr8cvh57NixJoG6fPlyGTp0qFx66aVy4MCBUts2aC8tPYKuVcb6uyooKJDHHntMli1bZnr4agJW21T4euSRR+T11183LSbciVvtATx+/Hj5+eef5bfffpPXXnutUtuhMWgLDE1IaxuLWbNmmcGeVkfn5/uvhcPalHzJKqQsGABqksKNG8WZkmI7DABAFerYsaMsXbpU5s2bJ6NHj5ZRo0aZal91/fXXm32J7t27m/0hrf7VZLGeFak0QawFLN4JYgAAgIBLBv/0008mIep9efLJJ4vdRpO2epRbZ6zW6zIzM2X+/Pklrk+rbbWCOCoqylQA6+/q6quvNrNft23bVvr16yevvvqqqfjVdXl7/PHH5YQTTjDVwTrxwvTp003fLf39pJNOkvPOO88cja+Mzz//XJxOp6l01kGcDtY++OAD2bZtm6lM9pdFyUwcBwA1jssl+YsW2Y4CAFCFdB9G93l69+4tTz31lPTs2VNeeeWVEm977LHHmn83bNhg/v3999/lyy+/lIiICHMZMGCAWa5tJcaMGVONWwEAAEJJhSaQU6eeeqpJtnpzJ3DdvGfCjY+PN+0avFs8lIfOyqtVv1oZnJKSYpKyShOx7lOvfO+rcePGJrGsCWTvZaUlog9F71sHa749hnNzcz1H9Kva3pxC2ZFV6Jd1AwDsyl+6VKJPPVUc4eG2Q0ENp5NRffXVV2a8cs8995ix2uLFi824qHnz5rbDA2os3WfR9g8l0Qpi1bRpU/Pv119/LTk5/xSBLFiwwBTE6BmJ7dq1q6aIAQBAqKlwMliTu3r0+1CzWHvT3r7uZG556MQLekqVXnTShYYNG5oksP7u257B+770fg73vr1pFbIe5dcYfGlM/rDqQMmDRwBA8HNlZUnhunUS2bmz7VBQg2mbroEDB0qdOnVMmy1tx6XJYG3FpeMpPVUdwOHTNg96JqP2+83IyDBt6vTsQZ3TRA/E6O/aMq9+/frmfXnHHXfIySef7Clm8U34Jicnm3/1bESdrwQAACAgksHVYc2aNbJ//355+umnpWXLlmbZQgsT7xx99NGmVUSjRo1MdbO/uVwu+TOFZDAA1GQFK1eSDIZf3XnnnaZl17PPPlvs7CZNSumEVgCqhp75eMUVV5h5T/TgiyZ5NRE8aNAgM5fJ5MmTzVwmWuii+zQjR46UBx980HbYAAAgxFU4GaynPe3evbv4SiIiTG+rqqJH17X/lk78prPyrly50kwmV910oged3Xf48OHy6KOPSosWLWTr1q2msubee+81v1elpKxCSS+oXBUzACA4FKxfL678fHFERdkOBTWUnmr+9ttvH7Rc20P4juEAVN57771X6nWa/NW5TCrilFNOMcUhAAAAATWB3IQJE0yfK+/LiSeeWKVBaQuGcePGmQkVtD+wVgg///zzUt20//CMGTNMcnrEiBHmlC2dpE57BvujUpiqYAAIAQUFUrBune0oUINFR0dLenr6QcvXrVvntzZXAAAAAIKDw8Xh54DgdLnk9ZUHJLuQpwOh5dINf0jC6mW2wwCqVUSnThJ/4YW2w0ANde2115p2W1988YXpFay9SsPDw+Wcc84x/Ur1tPVgo8ltPQ0/LS2tWlp3AQCCT9rYsbZDABDi6owZExTj5QpXBsM/tmQUkAgGgBBRqK0iSpltHjhcL7zwgpkEV+c8yMnJkf79+5vJf7V/8BNPPGE7PAAAAAAWBeQEcqFoNS0iACB0FBVJwZo1EtWzp+1IUANpRcCkSZPkjz/+MFXBmhjWSXEHDhxoO7Sg9/SSZNshAAhh/+5VdfP0AABCF8ngAFDkcsn6tHzbYQAAqlHBqlUkg+FXOqdDVc/rAAAAACC4kQwOAFszCiSviBYRABBKCjduFGdOjoTFxtoOBTXAq6++Wu7b3nrrrX6NBQAAAEDgIhkcANam0iICAEKO0ymFf/4pUUcfbTsS1AAvvfRSsd/37dsn2dnZkpiYaH5PTU2VuLg400eYZDAAAAAQuphAzjIXLSIAIKRbRQBVYfPmzZ6LThJ31FFHyZ9//ikHDhwwF/1Z+wY/9thjtkMFAAAAYBHJYMu2ZxVKdiEtIgAgFBVu3izO7GzbYaCGeeihh+S1116Tjh07epbpz1o9/OCDD1qNDQAAAIBdJIMtW0eLCAAIXS6XFG7aZDsK1DC7du2SwsLCg5YXFRXJnj17rMQEAAAAIDCQDLZsXSotIgAg1CeSA6rSgAED5IYbbpDFixd7li1atEhGjx4tAwcOtBobAAAAALtIBlu0J7tQ0guctsMAAFhEMhhV7f3335cmTZpInz59JDo62lyOOeYYady4sbz77ru2wwMAAABgUYTNOw91WzMLbIcAALDMlZEhRXv3SnijRrZDQQ3RsGFD+eWXX2T9+vVm4jjVqVMnOfLII22HBgAAAMAyksEWbSMZDAD4uzqYZDCqWocOHcwFAAAAANxoE2GJy+WSJJLBAABaRQAAAAAAqgnJYEv25BRJbpHLdhgAgABQuHWruAoLbYcBAAAAAKjhSAZbQosIAIBHYaFJCAMAAAAA4E8kgy3ZTjIYAOCFVhEAAAAAAH8jGWypXzDJYACAN5LBqCqPPPKIOJ3Og5anpaXJxRdfbCUmAAAAAIGBZLAFe+kXDADw4dy7V5wZGbbDQA3w3nvvyYknniibNm3yLJs2bZp0795dNnLQAQAAAAhpJIMtoF8wAKAk9A1GVVi+fLm0aNFCjjrqKPnvf/8r99xzjwwePFguv/xymT17tu3wAAAAAFgUYTuAUEQyGABQkqIdO0S6dbMdBoJc3bp15YsvvpD//Oc/csMNN0hERIT8+uuvMmDAANuhAQAAALCMyuBqRr9gAECZyWCgCrz22mvyyiuvmB7Bbdu2lVtvvVWWLVtmOywAAAAAllEZXM1CtV/w3C8/kHlfjpOUXdvM743adpIB198lHU8YaH7fv32z/PLyI7J1yTwpLMiTI48/Tc669ympXb9Rqet8ZtjRkrpr+0HL+51/lQy//1nz808vPCSLf/xMomLjZMgtD0mvoed5brdi0vey+KcvZNQrn/hhiwGg4op27RKX0ymOMI7VovJOP/10WbhwoXz44Ydy3nnnSU5Ojtx5553Sr18/GTt2rNx77722QwQAAABgCcngahaqVcF1GjWTIbc+KA1atRWXS0yC9n93XCG3fPq71G3WUt6/6QJp2qGrXPv2N+b2k958Wj66/TIZ/eEECSslKXLTx7+Jq6jI8/uejWvkvdHnSfdBw83vf06fKMsmfC1Xv/GlJG/bJF+PvU2OPO5Uia9bX3Iz0mXi/z0p1775dTU9AgBQDoWF4tyzR8KbNrUdCYJYUVGR6RvcrFkz83tsbKy8+eabcuaZZ8q1115LMhgAAAAIYSSDq1mo9gvu3H9Isd+H3PyAzPtqnGxbsVDS9u6SlJ3b5Jbxv0tMrdrm+vPHvi6PntJeNi2YKe2P7V/iOmvVbVDs92kfvCr1WrSRI3ofb37fu3mdtO19grTocpS5/Pz8g3Jg5zaTDP71lbHS77yrJLFpC79tMwBURuGOHSSDcVgmTZpU4vJhw4bJihUrqj0eAAAAAIGD81CrWahWBntzFhXJsonfSn5OtrTq0VeK8vPF4XBIRFSU5zYR0dHmNOktS+aVa52FBfmy9NevpM/wS8y6VNMju0rS6qWSk54qO1Yvk4K8HGnQ8gjZsmSu7FizXI6/+Dq/bSMAVBZ9g+FPDRoUP5AKAAAAILRQGVyN0vOLJCcE+wW77V6/Wt688gwpzM+TqNh4ueyFcdK4bUdTqRsZGye/vvKoqRgWccmEVx8zSeOM5D3lWvfqqb9Ibkaa9D77Ys8y7Tvca+j58vplgyQyJtZUG+v9fPfUvXL+I6+ZPsZzPn9X4hPrybkPviiN23Xy49YDQPmQDMbh0vZK7gOjpbWRAAAAABCaSAZXo+Tc0N75atCmvdzy6VTJy8yQFVN+kK8evkWue/d7kxC+5Jn35Pun7pU5n/3XVAT3GDJCmnXqUe5JlBZ+94kcefwASWjYpNjygf+611zcJr/9nLQ/5mQJi4iQqe+9KLd9MUPWzPhNvnjoJrll/JQq32YAqChncrK48vLEER1tOxQEqW+//bbY7wUFBbJkyRIzoZxOIAcAAAAgdJEMrkb7cgollEVERpkJ5FTzLj0ladVSmT3+HTn3wRfMxG73/LBAslL2m0RtbO068sSgLlKveetDrjdl53bZMH+GXPb8uDJvt3fzeln6y5dm0rqF34+XI44+zvQd7jF4uJlcLi8rU6Lja1XZ9gJApbhcUrRzp0QccYTtSBCkhg//ayJVb+edd5507dpVPv/8c7nmmmusxAUAAADAPnoGV6NQrwz25XI6pbAgr9gybRmhieCN82dK1oFk6dz/9EOuZ9EPn0qteg2k44mDSr8vl0u+e+IuGXbnYxIdV0tcRU4pKvwrOe/+1+nk+QEQGAqTkmyHgBqoX79+MmUKZ8EAAAAAoYxkcDUK5WTwhNcek82LZkvKzm2md/Bfv8+So844z1yvlbrbli+U/ds3y5Kfv5RP7rtGTrj0X9KwTXvPOt69YYTM/uzdYut1Op0mGXz0mRdKeETphe4Lvv3YJJo79x9ifm991DGyccFMc59/fPyWNGrb0SShASAQaGUwUJVycnLk1VdflebNm9sOBQAAAIBFtImoRvtDOBmsVb5fPHyzmRAuplaCNOnQRa76vy+kQ79TzPXJWzfIxNcfl5y0VEls1lJOveYOOfHSfxVbx/6kLZKdeqDYsg3zpkvq7iTpPfzSUu87Y/9emfreSzJ63C+eZS27HS0nXXajjLvtEtMq4vxHX6/ybQaAynLu3Ws7BASxunXrFptATs+OycjIkLi4OPn444+txgYAAADALodL9xDgd2n5RfLmqhTbYQAB59INf0jC6mW2wwACi8MhCf/5jzjKOOMBKI1OFOctLCxMGjZsKMcee6xJFAej9PR0qVOnjqSlpUlCQoK1OJ5ekmztvgHg370a2A4hoKUxSSoAy+qMGRMU42X2MqtJck7oVgUDACrI5RLn/v0S3rix7UgQhEaNGmU7BAAAAAABimRwNUnO/WuSMgAAyqNo3z6SwTgs2dnZsm3bNsnPzy+2vEePHtZiAgAAAGAXyeBqEsqTxwEAKs6ZzOnoqJx9+/bJlVdeKRMmTCjx+qIixiQAAABAqAqzHUCoIBkMAKgIksGorNtvv930Cps3b57ExsaapLD2Ee7QoYP88MMPtsMDAAAAYBGVwdVA5+ijTQQAoCKK9u+3HQKC1O+//y7ff/+99OnTx0we17p1axk0aJCZSOKpp56SYcOG2Q4RAAAAgCVUBleDtHynFDhtRwEACCbOAwdsh4AglZWVJY0aNTI/161b17SNUN27d5fFixdbjg4AAACATSSDqwEtIgAAFZafL87MTNtRIIjoZHFOp1M6duwoa9euNct69uwpb7/9tuzYsUPeeustadq0qe0wAQAAAFhEm4hqQIsIAEBlq4PDatWyHQaCxBFHHCG7du2S2267zfyrxowZI6effrp88sknEhUVJePGjbMdJgAAAACLSAZXg5Q8KoMBAJVsFdGqle0wEERzFKjLLrvMs6x3796ydetWWbNmjbRq1UoaNGhgMUIAAAAAtpEMrgZZBX/tnAEAUBHOlBTbISDIOByOg5bFxcXJ0UcfbSUeAAAAAIGFZHA1yC5k9jgAQMXRMxgV9dBDD5nkb1lefPHFaosHAAAAQGAhGVwNskgGAwAqwUUyGBW0YsUK0xu4IpXDAAAAAEIHyeBqQGUwAKAyXFlZtkNAkPn222+lUaNGtsMAAAAAEKDCbAdQ0+UXuaSAXDAAoBJoE4GK8EfV75tvvik9evSQhIQEcznuuOPk119/9Vyfm5srN910k9SvX19q1aolI0eOlD179hRbx7Zt22TYsGGmfYUmqu+55x4pLCys8lgBAAAAHBrJYD+jRQQAoLKoDEZFuFxVP2FtixYt5Omnn5ZFixbJwoUL5bTTTpPhw4fLqlWrzPV33HGH/Pjjj/Lll1/K9OnTZefOnTJixAjP3xcVFZlEcH5+vsyePVs+/PBDGTdunDz88MNVHisAAACAQ6NNhJ9lURYMAKiswkJx5eaKIybGdiQIAh988IHUqVOnStd51llnFfv9iSeeMNXCc+fONYni9957T8aPH2+SxO4YOnfubK7v16+f/Pbbb7J69WqZPHmyNG7cWI466ih57LHH5L777pNHHnmkzP7GAAAAAKoelcF+Rr9gAMDhoFUEymvUqFESHR3tt/Vrle9nn30mWVlZpl2EVgsXFBTIwIEDPbfp1KmTtGrVSubMmWN+13+7d+9uEsFuQ4YMkfT0dE91MQAAAIDqQ2Wwn9EmAgBw2K0iGjSwHQZC2IoVK0zyV/sDa19gnaSuS5cusnTpUlPZm5iYWOz2mvjdvXu3+Vn/9U4Eu693X1eavLw8c3HT5LHSXsPufsNhYWHm4nQ6zcXNvVyT196tM0pbHh4ebvot+/Yx1uVKb+/mcBaJy/FXLYXDVXyM5woL114dxZc7HH/dvtTlTnF4xeLSvs9lLDfrKLY8zKyr1OXOf2L3LC8pdraJbWKbgmKb9LOuuj/3yloeERFh1lvsc9LhMLf3jbG05VX5WW5i9OmfH/b3bZzlXB7ucomrlOVO9+vnEMsdf69f1+HdwEmfy7ASYixtua5Dl7BNbBPbFDzbVOj1uVodn3ven+UVmZODZLCfZRVUff8+AEDooDIYtnXs2NEkftPS0uSrr74yFcjaH9ifnnrqKRk7duxBy5csWSLx8fHm54YNG0q7du1k8+bNsm/fPs9ttH2FXtatW2didmvbtq2ZwG7lypWSk5NTrJpZE9q6bu+Ehk6cp8lu7ZXs1jwtX3Y06CjhzkJpcmCjZ7krLEx2NOgkMQVZ0iB1m2d5YUS07K7XTuJzU6Vuxi7P8tyoeElObC0J2fslIeuf2LNiEyWldjOpm7lb4nNSPcvT4xuaS/207RKT/08v8ZTaTSUrtq40TtksEYX/JM+TE1tJblQtaXZgvTi8djI0lqKwCGmevLbY48o2sU1sU3Bs0+bNmdX+uaf69Oljer8vX768WBKib9++5v7WrFnjWR4bGys9e/aU5ORk2bRpk2e5tjHSNkLaWz4pKcmzvCo/yzU1s6ZVK3GG/XMCdIekJIksLJTVbdoU26YuW7ZIQUSErG/RwrMszOmUrlu3SmZsrGxp0sSzPLqgQI5MSpLU2rVlh9cB+lo5OXLE7t2yLzFR9tat61leNyNDWiQny8769SWldm3P8kYpKdI4NVW2NW5s7sOteXKy1MvIkI3Nm0teZKRneZvdu6V2Tg7bxDaxTUG0TWu9Pj+r43PP+7Ncz94rL4fLH7ONwOO37ZmyODnXdhhAwLp0wx+SsHqZ7TCAgBVz+ukSfeyxtsNAENCdbh0s+pu2hdAB7IUXXigDBgyQlJSUYtXBrVu3lttvv91MLqcTxf3www8mmeymA1+Nc/HixdKrV69yVwa3bNlS9u/fLwkJCdYqg19Ytp9KRraJbWKbrG3TPb0aUhlcxjalP/oolYxsE9vENlndptoPPGCtMljHy/Xr1zeJZPd4uTRUBvsZbSIAAIfDRWUwykkrutq0aSNnn322DB8+XI7100EEHbRqorZ3794SGRkpU6ZMkZEjR5rr1q5dK9u2bTNtJZT+q5PO7d2711Q0qEmTJpkBqraaKI32Pi6p/7EmHvTizT1A9uVOXpR3ue96S1pukjnunx0lrMckcCqyPExcxfclylz+V1KqAsu94i1++wosZ5vYJrYpYLbJ/VlXnZ97h1quiYiSlpcWY0WXV3SbNCFzuMsdpSw30VVkeRXEUlXL2Sa2qapirOjyUNumiCr4PKzsZ3lpn90l/k25b4lKySogGQwAqDxXdrbtEBAk9JRcTbR+//33JhmsO+hnnnmmSQ4PGjRIYmJiKrzO+++/X8444wwzKVxGRoaMHz9epk2bJhMnTjSnvl1zzTVy5513Sr169UyC95ZbbjEJ4H79+pm/Hzx4sEn6Xn755fLss8+aPsEPPvig3HTTTX6d7A4AAABAyUgG+1l2IV04AACV56rARAAIbZrsPeuss8xFTyGbM2eOadFw3333ycUXX2zaO2hiWK/XXmXloRW9V1xxhezatcskf7X6WBPBmlxWL730kqlo0MpgrRYeMmSIvPHGG8UqGH766ScZPXq0SRJrv1/tOfzoo4/67XEAAAAAUDp6BvvZy8v3S24RDzFQGnoGA2WL7NJF4s4/33YYCHLr1683iWGtGp43b568+OKLpjo3WGgPNE1Gl6cHmj89vSTZ2n0DwL97/TPZEg6WVsLEowBQneqMGRMU42Uqg/2swEkiGABQeVQGoyp06NBB7rrrLnPRSdgOHDhgOyQAAAAAFpAM9jPqrgEAh4VkMKqYzjKsFwAAAACh5+Bp61ClyAUDAA4HlcEAAAAAgKpCMtjPSAYDAA4LyWAAAAAAQBUhGexHTnpEAAAOE5XBAAAAAICqQjLYj0gFAwAOW0GB7QgQZLZv3y5JSUme3+fPny+33367vPPOO1bjAgAAAGAfyWA/ojAYAHC4qAxGRV1yySUydepU8/Pu3btl0KBBJiH8wAMPyKOPPmo7PAAAAAAWkQz2IyfJYADA4SIZjApauXKlHHPMMebnL774Qrp16yazZ8+WTz75RMaNG2c7PAAAAAAWkQz2IxeNIgAAh4nKYFRUQUGBREdHm58nT54sZ599tvm5U6dOsmvXLsvRAQAAALCJZLAf0SYCOLQwl9N2CEBgc/IeQcV07dpV3nrrLZk5c6ZMmjRJTj/9dLN8586dUr9+fdvhAQAAALCIZLAfkQsGytY+N0Vqrf/TdhhAYIuIsB0Bgswzzzwjb7/9tpxyyily8cUXS8+ePc3yH374wdM+AgAAAEBoYg/Tj6gMBkoXX1QgAxdOoB8qcAiO8HDbISDIaBI4OTlZ0tPTpW7dup7l119/vcTFxVmNDQAAAIBdVAb7ESf2AqU7b/1McRw4YDsMIPCRDEYluFwuWbRokakQzsjIMMuioqJIBgMAAAAhjspgP++IATjY4H1rJW4d7SGA8nDQJgIVtHXrVtMneNu2bZKXlyeDBg2S2rVrm/YR+rv2EwYAAAAQmqgM9iMqg4GDdcg9IO0WTLMdBhA8qAxGBd12223Sp08fSUlJkdjYWM/yc889V6ZMmWI1NgAAAAB2UW7kRw7bAQABplZRgQxYQJ9goEKoDEYFzZw5U2bPnm3aQnhr06aN7Nixw1pcAAAAAOyjMtiPosNJBwPezls3QxwpKbbDAIIKE8ihopxOpxQVFR20PCkpybSLAAAAABC6SAb7UVSYg+pg4G+n71sjsevX2A4DCD5UBqOCBg8eLC+//LLnd4fDIZmZmTJmzBgZOnSo1dgAAAAA2MUeph/pzldMuENyiphIDqGtY85+OWI+fYKByqAyGBX1wgsvyJAhQ6RLly6Sm5srl1xyiaxfv14aNGggn376qe3wAAAAAFhEMtjPYiJIBiO01XLmy6naJ7iEU5YBlAOVwaigFi1ayLJly+Szzz6T5cuXm6rga665Ri699NJiE8oBAAAACD3sYfpZTLh24nDaDgOw5rw1M8SRmmo7DCB4URmMSoiIiJDLLrvMdhgAAAAAAgzJYD/TNhFAqBq6d7XEblhrOwwgqDmiomyHgCCkbSGmTp0qe/fuNRPKeXv44YetxQUAAADALpLBfkYyGKGqU+5+ab1ghu0wgKDniIuzHQKCzH//+18ZPXq06RHcpEkTM4eBm/5MMhgAAAAIXSSD/SwmQttEAKGldlG+nDKPPsFAVQiLj7cdAoLM448/Lk888YTcd999tkMBAAAAEGDIVPoZlcEIReetmSaONPoEA1XBQTIYFZSSkiLnn3++7TAAAAAABCCSwX5GMhihZtieVRKzcb3tMIAag2QwKkoTwb/99pvtMAAAAAAEINpE+BltIhBKOuckSyv6BANVijYRqKj27dvLQw89JHPnzpXu3btLZGRksetvvfVWa7EBAAAAsItksJ9RGYxQkVCUJ6fMnyDiM2s9gMNDZTAq6p133pFatWrJ9OnTzcWbTiBHMhgAAAAIXSSD/YxkMELFeX9OE0lLsx0GUOOQDEZFbd682XYIAAAAAAIUPQz8LCachxg135m7V0r0pg22wwBqnuhocURw3BYAAAAAUDXYw/SzmAgqg1Gzdc3eJy0XzrQdBlAj0S8YlVFUVCTjxo2TKVOmyN69e8Xp077n999/txYbAAAAALtIBvtZfESYaDrYZTsQwE99gk+mTzDgN7SIQGXcdtttJhk8bNgw6datm+kTDAAAAACKZLCfRYQ5pHZUmKTnkyxDDeNyyXmrp4mkp9uOBKixSAajMj777DP54osvZOjQobZDAQAAABBgaGhbDepFh9sOAahyZ+1ZKdGb6RMM+FNYQoLtEBCEoqKipH379rbDAAAAABCASAZXA5LBqGm6Z++VFgv/sB0GUOOF1a9vOwQEobvuukteeeUVcbloUgUAAACgONpEVIO6JINRgyQW5cqJ8+gTDFQHksGojD/++EOmTp0qv/76q3Tt2lUiIyOLXf/NN99Yiw0AAACAXSSDqwGVwagxXC4ZuWqqSEaG7UiAkBBOMhiVkJiYKOeee67tMAAAAAAEIJLB1YDKYNQUw3evkKgtm2yHAYSG8HBx1KljOwoEoQ8++MB2CAAAAAACFMngapAYHWaaM3NSPYJZj6w90ow+wUC1CatbVxwOh+0wEMT27dsna9euNT937NhRGjZsaDskAAAAAJYxgVw1CHM4pE40DzWCV92iXDlh/kTTJgJA9aBfMCorKytLrr76amnatKmcfPLJ5tKsWTO55pprJDs723Z4AAAAACwiQ1lN6BuMoOVyyYiVv9MnGKhmYfXq2Q4BQerOO++U6dOny48//iipqanm8v3335tld911l+3wAAAAAFhEm4hq7RtcYDsMoMLO2bVcorZuth0GEHKYPA6V9fXXX8tXX30lp5xyimfZ0KFDJTY2Vi644AJ58803rcYHAAAAwB6SwdWEymAEo55Zu6Xpolm2w4Cf7ExPl0cmTZJJGzZITkGBtK1XT/5v+HDp1by5ud7lcsmTU6fKR4sXS1purhzbsqW8eOaZ0q6MJOV7CxaYy/bUVPN7p0aN5N7+/WVQhw6e2/xnwgQZv3SpxEdFyZiBA+WCHj081323apV8umyZfH7JJRLqaBOBytJWEI0bNz5oeaNGjWgTAQAAAIQ42kRUa2UwEDzqFebI8fPoE1xTpebkyJD33pOI8HD56tJLZe5NN8njgwdLYmys5zavzJolb8+bZxLAk6+9VuKiomTE//4nuQWln+XQLCFBHhk4UKbdcINMvf56OfmII+SSTz+VP/fuNdf/unatfLVihXx7+eUydtAgufWHH2R/Vpa5ThPOj02ZIs8PHVoNj0Dgo00EKuu4446TMWPGSG5urmdZTk6OjB071lwHAAAAIHRRGVxNSAYjmDjcfYIzM22HAj95+Y8/pEWdOvLGOed4lrWpW9fzs1YFvzl3rtxz8skyrFMns+ytc8+VI597Tn5es0ZGdu9e4nrP6Nix2O8PDRhgKoUXJCVJ50aNZN2+fXJimzam+lgv90+YIFtTU6V+fLyMmTRJru7bV1omJvptu4NGZKQ4ate2HQWC1CuvvCJDhgyRFi1aSM+ePc2yZcuWSUxMjEycONF2eAAAAAAsIhlcTepEhUm4Q6SIIksEgXN2LpXIbVtshwE/0grd09q3l1FffCGztmyRpgkJcm3fvjKqd29z/daUFNmTmSn927b1/E2dmBjp3aKFzE9KKjUZ7K3I6TRtH7ILCuSYFi3Msm5Nmsi4RYtMZfKWlBRTZaztKeZs3SrLdu2SF4YN8+NWB4/wJk3E4XDYDgNBqlu3brJ+/Xr55JNPZM2aNWbZxRdfLJdeeqnpGwwAAAAgdJEMria6U699g/flFtkOBShTr6zd0mTxHNthwM80Efv+ggVy03HHyZ0nnSRLduyQ+379VSLDw+WSo44yiWDVqFatYn/XKD5e9h6iYnzVnj0y+N13Jbew0PQF/vjCC03vYDWgfXvTI/jUd96R2MhIeePccyUuMlLu+vlnU6WsVcTvzJ8v9ePi5OWzzjLVxKEovFkz2yEgyMXFxcl1111nOwwAAAAAAYaewdWoSRy5dwS2+oXZ0m8ufYJDgdPlkp5Nm8rDAweaf6/s00euOPpo+WDhwsNed4f69WXmv/4lU667Tq7p21dGf/edrPm7Z7C6/9RTZcltt8nsG2+Uszp3lhf/+MNUIEeEhcnzM2bIhKuvlsuPPlr+9e23EqpIBuNwfPjhh/Lzzz97fr/33nslMTFRjj/+eNm6davV2AAAAADYRTK4GrWIj7QdAlBmn+BzV/wukkWf4FDQuHZt6diwYbFl+ntSWtpf1/9dEexbBbw3K+ugamFfURER0rZ+fTmqWTMZM3CgdGvcWN6aN6/E22oP4S+WL5cHTj1V/tiyRY5v3VoaxMfLuV27mrYRGXl5EorCmze3HQKC2JNPPulpBzFnzhx5/fXX5dlnn5UGDRrIHXfcYTs8AAAAABaRDK5GzeOpDEbgOnfHEoncTsVYqOjXsqVs2L+/2DL9vWWdOubn1nXrmoTw9M2bPden5+bKoqQkT//filQh5xUWHrRcJ6m7/aef5IkhQ6RWdLQUuVxS4HSa6wqKijx9h0NOdLSE1atnOwoEse3bt0v79u3Nz999952cd955cv3118tTTz0lM2fOtB0eAAAAAItIBlej+jHhEqOzyAEBpnfmLmm8ZK7tMFCNbjzuOFmQlCQvzJghm/bvly+XL5cPFy2Sa485xtPnfHS/fqZtwy9r1pg+wNq2oUnt2jKsUyfPes7+8EN5x6vqd+zkyWZCOp2ATv9Gf9eKX+0T7OujxYulQVycnNGxoydBPXPzZlmwfbu8MXeudGrYUBJDcLIrbRHB5HE4HLVq1ZL9fx/s+e2332TQoEHm55iYGMnJybEcHQAAAACbKFWtRrpz3yw+QjalF9gOBfBoWJAjx9AnOOQc3by5mdjt0SlT5Nnp000l8FOnn14saXvbCSdIVn6+3P7jj5KWmyv9WrWSry+7TGIi/2l5s/nAAdmfne35fV9Wlkka6wR0CdHR0rVxY/nm8svl1Hbtit2/tp/QRPNv11zjWda7RQszod0F48dLw/h4efOccyQURdAvGIdJk7/XXnut9OrVS9atWydDhw41y1etWiVt2rSxHR4AAAAAixwuPU8X1WbW7myZueufxAlgU5jLKVcv+Vkik7bZDgXA3+IuuEAiO3e2HQaCWGpqqjz00EOybds2GT16tJx++ulm+ZgxYyQqKkoeeOABCTbp6elSp04dSUtLk4SEBGtxPL0k2dp9A8C/ezWwHUJASxs71nYIAEJcnTFjgmK8TGVwNaNvMALJuTuWkggGArBNBFBZhYWF8uqrr8p9990nLXz6e49lJxkAAAAIefQMrmbN4iKFTpAIBH0yd0oj+gQDAcURHy9hf0/iB1RGRESEPPvssyYpDAAAAAC+SAZXs6hwhzSKDbcdBkJcw8Js6UufYCDghDdvbjsE1AADBgyQ6dOn2w4DAAAAQACiZ4EFzeMjZU9Oke0wEMJ9gs9ZPlnEa9IvAIGBZDCqwhlnnCH//ve/ZcWKFdK7d2+Jj48vdv3ZZ59tLTYAAAAAdpEMttQ3eDHzj8CSkdsXS0TSdtthAChBRNu2tkNADXDjjTeaf1988cWDrnM4HFJUxAFpAAAAIFSRDLZUGQzYcExGkjRYOs92GABKEhPD5HGoEk6n03YIAAAAAAIUPYMtSIwOl1qRPPSoXo0LsqX3vEm2wwBQiog2bcQRxncDqlZubq7tEAAAAAAEEPY6LbaKAKpLuNMpZy+bRJ9gIIDRIgJVRdtAPPbYY9K8eXOpVauWbNq0ySx/6KGH5L333rMdHgAAAACLSAZbQqsIVKcRSYskYmeS7TAAlCGiXTvbIaCGeOKJJ2TcuHHy7LPPSlRUlGd5t27d5N1337UaGwAAAAC7SAZb0qY2yWBUj2PTtU/wfNthACiDIzFRwuvVsx0GaoiPPvpI3nnnHbn00kslPDzcs7xnz56yZs0aq7EBAAAAsItksCWNYiMkgb7B8LMmBVly9LzfbIcB4BBoEYGqtGPHDmnfvn2JE8sVFBRYiQkAAABAYCAbaVG7Ov+cuglUtQhX0V99gnNybIcC4BAiSQajCnXp0kVmzpx50PKvvvpKevXqZSUmAAAAAIGBWcwsapcQJUuSmeUb/jFi20IJ37nDdhgADsXhkHCSwahCDz/8sIwaNcpUCGs18DfffCNr16417SN++ukn2+EBAAAAsIjKYIta146UCIftKFAT9UvfLvWXLbQdBoByCG/aVMJiY22HgRpk+PDh8uOPP8rkyZMlPj7eJIf//PNPs2zQoEG2wwMAAABgEZXBFkWGOUxCeGM6/ftQdZoWZEqvufQJBoIF/YLhDyeddJJMmjTJdhgAAAAAAgzJYMva14kiGYwq7RN81tJJIrm0HwGCRcSRR9oOATXUwoULTUWwu49w7969bYcEAAAAwDKSwQHQN1gky3YYqCFGbl0g4bt22g4DQDk5ateW8BYtbIeBGiYpKUkuvvhimTVrliQmJpplqampcvzxx8tnn30mLXjNAQAAACGLnsGWJUSFS9M4cvI4fMenbZN6yxfZDgNABUR26iQOB83jUbWuvfZaKSgoMFXBBw4cMBf9WSeT0+sAAAAAhC6ykAGgY2KU7MoutB0GglizggzpOY/ekECwiezc2XYIqIGmT58us2fPlo4dO3qW6c+vvfaa6SUMAAAAIHRRGRwAOiVG2w4BQSzSVSRnLqFPMBBsHHFxEt66te0wUAO1bNnSVAb7KioqkmbNmlmJCQAAAEBgIBkcABKjw6VRbLjtMBCkRm5ZIOG7d9kOA0AFRXTsKI6w4PwaPuWUU+T222+3HQZK8dxzz8ktt9xiJpBz059vu+02ef75563GBgAAAMCu4NwLrYGoDkZlnJi2VequoE8wEIwiu3b1y3r37dsno0ePllatWkl0dLQ0adJEhgwZYiYTQ2i48sorZenSpXLsscea14Be9OfFixfL1VdfLfXq1fNcAAAAAIQWegYHUN/gGbuybYeBINI8P0O6z6VPMBCMHPHxEnHEEX5Z98iRIyU/P18+/PBDadu2rezZs0emTJki+/fv98v9IfC8/PLLtkMAAAAAEKBIBgeI+jER0iAmXJJzi2yHgiAQ6dQ+wb+J5OXZDgVAJUR26eKXFhGpqakyc+ZMmTZtmvTv398sa926tRxzzDHFbnP33XfL999/L3l5edKnTx956aWXpGfPnp6qUr3Nd9995/kbbQmhlaa6XgS+UaNG2Q4BAAAAQICiTUQA6VKXVhEon/O2zJOwPbtthwGgkiK7dfPLemvVqmUumsjVRG9Jzj//fNm7d6/8+uuvsmjRIjn66KNlwIABcuDAAb/EBAAAAAAIHCSDA0iP+jE8ITikk1I3S+LKJbbDAFBJjoQECW/Z0i/rjoiIkHHjxpkWEYmJiXLCCSfIf/7zH1m+fLm5/o8//pD58+fLl19+aSqCO3ToYCYU09t+9dVXfokJwe2pp56Svn37Su3ataVRo0ZyzjnnyNq1a4vdJjc3V2666SapX7++ORihrUq0PYm3bdu2ybBhwyQuLs6s55577pHCwsJq3hoAAAAA5B4DSK3IMGlXJ8p2GAhgLQvSpdu8KbbDAHAYorp3F4fD4bf1ayJu586d8sMPP8jpp59uWjto9a8miZctWyaZmZmepJ37snnzZtm4caPfYkLwmj59ukn0zp07VyZNmiQFBQUyePBgycrK8tzmjjvukB9//NEcZNDb6+tvxIgRnuuLiopMIlh7Wc+ePdscrNDX48MPP2xpqwAAAIDQRc/gANOrQYysT8u3HQYCtE/w0EX0CQaCXeTRR/v9PmJiYmTQoEHm8tBDD8m1114rY8aMkRtvvFGaNm1aYu9frQ5WYWFh4nK5il2nCUCEpgkTJhT7XZO4WtmrLUZOPvlkSUtLk/fee0/Gjx8vp512mrnNBx98IJ07dzYJ5H79+slvv/0mq1evlsmTJ0vjxo3lqKOOkscee0zuu+8+eeSRRyQqigPhAAAAQHWhMjjAHFE7UupE8bTgYBdsnithe4ufdgsguES0bSvh9epV+/126dLFVHJqhfDu3btNO4n27dsXuzRo0MDctmHDhrJr165if6+TxyH4bNiwQSZOnCg5OTnmd98kf2Vo8lfV+/t1rElhPVgwcOBAz206deokrVq1kjlz5pjf9d/u3bubRLDbkCFDJD09XVatWnXYMQEAAAAoPyqDA4yeOqy9g2fuyrYdCgJI/5TNkrCKZAwQ7KJ69/br+vfv328miLv66qulR48eps/rwoUL5dlnn5Xhw4ebhN1xxx1n+r7qsiOPPNKc0v/zzz/Lueeea/oIa3Xnc889Jx999JG57ccffywrV66UXr16+TV2VO3r4MILL5Tff//djCvWr18vbdu2lWuuuUbq1q0rL7zwQqXW63Q65fbbbze9qLv9PQmiHlzQyl53ZbmbJn71OvdtvBPB7uvd15VEJ0D0ngRRE8dK+wy7ew1rFbteNC69uLmXa3sK7wR4acvDw8PN4+Tbw1iXK729m8NZJC7HXwftHa5/7lO5wsI14158ucPx1+1LXe4Uh1csLm0hU8Zys45iy8PMukpd7vwnds/ykmJnm9gmtikotkk/66r7c6+s5XpwWddb7HPS4TC3942xtOVV+VluYvRpxRX2922c5Vwe7nKJq5TlTvfr5xDLHX+vX9fhfRhWn8uwEmIsbbmuQ5ewTWwT2xQ821To9blaHZ973p/lFZmPg2RwAOpRP1pm7co2LySgVX66dJk32XYYAA6TIz5eIjp29Ot9aP/fY489Vl566SXTA1grNlu2bCnXXXedmUhOBwu//PKLPPDAA3LVVVfJvn37pEmTJuZ0f3dyTis2tbXEvffeayYG08TyFVdcIStWrPBr7Kg62sNXd9B10jZt1+CmCeI777yz0slg7R2sBwZ0IsLqmLhu7NixBy1fsmSJxMfHe6rY27VrZ3pe62vZrUWLFuaybt06TyWz0oS4trjQbXBXS7srmTWZrev2TmjoARVNdOsBFbfmafmyo0FHCXcWSpMD//TZdoWFyY4GnSSmIEsapG7zLC+MiJbd9dpJfG6q1M34p+I+NypekhNbS0L2fknI+if2rNhESandTOpm7pb4nFTP8vT4huZSP227xOT/0685pXZTyYqtK41TNktE4T/J8+TEVpIbVUuaHVgvDq+dDI2lKCxCmicXnwSQbWKb2Kbg2KbNmzOr/XNP6cFi7fvunpDWnYTQCUb1/tasWeNZHhsbKz179pTk5GTZtGmTZ3mdOnXMd5IehE5KSvIsr8rPck3NrGnVSpxh/5xp2yEpSSILC2V1mzbFtqnLli1SEBEh61u08CwLczql69atkhkbK1uaNPEsjy4okCOTkiS1dm3Z8feZVKpWTo4csXu37EtMlL1163qW183IkBbJybKzfn1JqV3bs7xRSoo0Tk2VbY0bm/twa56cLPUyMmRj8+aSFxnpWd5m926pnZPDNrFNbFMQbdNar8/P6vjc8/4s957T41Acrqo4ZxBV7utN6fQOhkQ7C+XKed9K2L69tkMBcJiiTzxRYgYMsB0GQoAm+LU9hO6Ma3W4Thyog0jdKdcdfZ1EsKJuvvlm+f7772XGjBlyxBFHeJZr9fGAAQMkJSWlWHVw69atTRWxJqZ1ojid0NC73YgOfjWmxYsXl1h1XlJlsB7Y0KrnhIQEa5XBLyzbTyUj28Q2sU3WtumeXg2pDC5jm9IffZRKRraJbWKbrG5T7QcesFYZrONlnShcE8nu8XJpqAwOUEfVZyI5iJy3aS6JYKCGiKqGieMApVUBcXFxBy0/cOCAREdHV2hdOuC85ZZb5NtvvzUTD3onglXv3r0lMjJSpkyZIiNHjjTL1q5da6qStc2I0n+feOIJ2bt3r6lqUJMmTTKDVO1nXRKNs6RYNfGgF2/uAbIvd/KivMt911vScpPMcf/sKGE9JoFTkeVh4iq+L1Hm8r+SUhVY7hVv8dtXYDnbxDaxTQGzTe7Puur83DvUck1ElLS8tBgruryi26QJmcNd7ihluYmuIsurIJaqWs42sU1VFWNFl4faNkVUwedhZT/LS/vsLgkzlQWotgmRksBEciHtlJRNkrB6me0wAFSBiHbtJMzrdCfAn0466STT89l7R12rDrRP9Kmnnlrh1hDaN3r8+PGmylh7/OrFfYqanv6mvYi1/cTUqVPNhHLagkQTwP369TO3GTx4sEn6Xn755aZKWauWH3zwQbPuiianAQAAABweKoMDlO649WQiuZDVOj9dOs+bYjsMAEEycRzgTZO+2rpBez5qj0ft/7xq1SpTGTxr1qwKrevNN980/55yyinFln/wwQdy5ZVXmp+1R7VWNWhlsLZ20L7Tb7zxRrEqhp9++klGjx5tksTa83fUqFHy6KOPVsn2AgAAACg/ksEBPpHcH7uyi/VFQWj0CT590USRfNqEADWBo1Ytv08cB3jr1q2bmXji9ddfN9W82iN4xIgRphK3adOmFVpXeaaWiImJkf/7v/8zl9JoD2GdvBAAAACAXSSDA1jtyHBpVydKNtA7OKScv2kOfYKBGiSqVy9xlNALCvAnbd/wgNcEFgAAAACgSAYHwURyJINDx6kHNkrt1ctthwGgqoSFMXEcqsXy5eX/7ujRo4dfYwEAAAAQuEgGB7h2f08kl57vtB0K/KxNfpp0ok8wUKNEdusmYYmJtsNACDjqqKPMfAPa1kH/9W3z4L2sqKjISowAAAAA7OO81QCnO2/HNIq1HQb8LMZZIEMWThQpKLAdCoAqFH3CCbZDQIjYvHmzbNq0yfz79ddfyxFHHGEmcVu6dKm56M/t2rUz1wEAAAAIXVQGB0mriLm7cySzkOrgmur8DbMlLHmf7TAAVCGdNC68USPbYSBE6ARtbueff768+uqrMnTo0GKtIVq2bCkPPfSQnHPOOZaiBAAAAGAblcFBICLMIcc0pjq4phqwf4PUWrPSdhgAqlj0iSfaDgEhasWKFaYy2JcuW716tZWYAAAAAAQGksFBoleDGImP+KffH2qGtnmpcuT8322HAaCKhbduLREtWtgOAyGqc+fO8tRTT0l+/j8T0OrPukyvAwAAABC6aBMRJCK1OrhRrEzdmW07FFSRWGeBDKZPMFAjURUMm9566y0566yzpEWLFqY9hFq+fLmZh+DHH3+0HR4AAAAAi0gGB5FeDWJl3t4cyS78a2ZwBLfz188Sx/5k22EAqGJhTZtKZPv2tsNACDvmmGPMZHKffPKJrFmzxiy78MIL5ZJLLpH4+Hjb4QEAAACwiGRwEIkKd0jfhrEyfRfVwcFuYPI6iV+7ynYYAPwg5oQTbIcAmKTv9ddfbzsMAAAAAAGGnsFBpnfDWIkNp3dwMGuXmyId5k+1HQYAPwirX18iunSxHQYAAAAAACUiGRyE1cF9GsXaDgOVFOcskEHaJ7iw0HYoAPwg+vjjTV9WAAAAAAACEcngINSnYYzEUB0clM5f94c4Duy3HQYAP3AkJkpkz562wwAAAAAAoFQkg4NQdHiY9GlIdXCwGZy8VuLWrbYdBgA/iTntNHGEh9sOAwAAAACAUpEMDuLq4Giqg4NGh9wD0m7+NNthAPCT8GbNJLJbN9thAB6pqany7rvvyv333y8HDhwwyxYvXiw7duywHRoAAAAAiyJs3jkqLyYiTHo3iJHZe3Jsh4JDiC8qkAEL6BMM1GQxgwbRKxgBY/ny5TJw4ECpU6eObNmyRa677jqpV6+efPPNN7Jt2zb56KOPbIcIAAAAwBIqg4NY30axEhVG8iHQnbd+pjhS/qrKAlDzRHToIBFt2tgOA/C488475corr5T169dLTEyMZ/nQoUNlxowZVmMDAAAAYBfJ4CAWGxEmxzehd3AgG2L6BP9pOwwA/uJwSMzAgbajAIpZsGCB3HDDDQctb968uezevdtKTAAAAAACA8ngINe3YazUi2bCokB0ZO5+aTtvqu0wAPhRZM+eEt6oke0wgGKio6MlPT39oOXr1q2Thg0bWokJAAAAQGAgGRzkwsMcMqhFvO0w4KNWUYGcpn2Ci4pshwLAXyIjJebUU21HARzk7LPPlkcffVQKCgrM79rPWnsF33fffTJy5Ejb4QEAAACwiGRwDXBEQpR0qBNlOwx4OW/tDHGkpNgOA4AfRR97rIQlJNgOAzjICy+8IJmZmdKoUSPJycmR/v37S/v27aV27dryxBNP2A4PAAAAgEURNu8cVWdgi3jZnJ4vhS7bkeCMvX9K7IY1tsMA4EeOuDiJPvFE22EAJapTp45MmjRJZs2aJcuWLTOJ4aOPPloG0t8aAAAACHkkg2uIOlHh0q9xnPyxO9t2KCGtU85+abNguu0wAPhZdP/+4oiOth0GcBBtDREbGytLly6VE044wVwAAAAAwI02ETVIv8axkhjFU2pLLWe+nLJgAn2CgRouvGlTierTx3YYQIkiIyOlVatWUsR3EQAAAIASkDmsQSLCHDKAyeSsOf/P6eJITbUdBgB/cjgk9swzxRHG1ycC1wMPPCD/+c9/5MCBA7ZDAQAAABBgaBNRw3SoEy3tEnJlY/pfM4ijegzdu1piNq6zHQYAP4s65hgJb9bMdhhAmV5//XXZsGGDNGvWTFq3bi3x8cUPFC9evNhabAAAAADsIhlcAw1sUUu2/JkiRUwmVy065yRL6wUzbIcBwM8cCQkSc9pptsMADumcc86xHQIAAACAAEUyuAaqGx0uxzSKlTl7cmyHUuPVLsqX/vPpEwyEgtihQ8URFWU7DOCQxowZYzsEAAAAAAGKZHANdXyTOFl1IE/SC5y2Q6nRzlszTRxpabbDAOBnEZ06SWTHjrbDACpk4cKF8ueff5qfu3TpIr1797YdEgAAAADLSAbXUJFhDjm1ebx8vyXDdig11rA9qyRm43rbYQDwt6goiT3jDNtRAOWWlJQkF198scyaNUsSExPNstTUVDn++OPls88+kxYtWtgOEQAAAIAlTIdeg3WuGy1ta0faDqNG6pqTLK3oEwyEBO0THJaQYDsMoNyuvfZaKSgoMFXBBw4cMBf92el0musAAAAAhC6SwTXc0Na1JTbcYTuMGiWhKE9O1j7BTlpwADVdeLNmEnXMMbbDACpk+vTp8uabb0pHr9Ym+vNrr70mM2ZwIBMAAAAIZSSDa7hakWFyeqtatsOoUc77c5oIfYKBmi8sTGLPPFMcDg6oIbi0bNnSVAb7KioqkmbNmlmJCQAAAEBgIBkcAjomRkuPetG2w6gRzty9UqI3bbAdBoBqEH3yyRLetKntMIAKe+655+SWW24xE8i56c+33XabPP/881ZjAwAAAGAXE8iFiIEtasm2zAJJzae1QWV1y9knLRfOtB0GgGoQ3qqVRJ90ku0wgHKrW7dusSr2rKwsOfbYYyUi4q+hXmFhofn56quvlnPOOcdipAAAAABsIhkcIqLCHXJWm9ry8bo0cdkOJgglFubKSfPoEwyEhOhoiTv3XHGEcfIMgsfLL79sOwQAAAAAQYBkcAhpHh8pxzeJlVm7c2yHElxcLhmhfYLT021HAqAaxA4bJmGJibbDACpk1KhRtkMAAAAAEARIBoeYE5rEyeb0AtmZXWg7lKBxtvYJ3rzRdhgAqkFk9+4S1b277TCAKrF3715zcfqc1dKjRw9rMQEAAACwi2RwiAlz/NUu4oM1qZLvpGHEoXTP3ivNF/1hOwwA1cCRmGiqgoFgt2jRIlMp/Oeff4rLVfy7XvsKFxUVWYsNAAAAgF0kg0NQ3ehwGdA8Xn7dnmk7lICWWJQrJ9InGAgNDsdffYKjo21HAhw2nSTuyCOPlPfee08aN25cbGI5AAAAAKGNZHCI6tkgRjak58v6tHzboQQml0tGrpoqkpFhOxIA1eD/27sP+Kjr+4/jn9vJJSQhjDDDCnsv2Q5AQVCGDPdAxWprrdrWSq0i1jpwFrXa/m3dtbig1oGDVnEwFBniZA+ZYSRkj7v/4/OFOy4hCQHu8kvuXs/H4/dI7nu/+/2+v0s8w/s+9/l6hg0TZ3q61dMAwmLDhg3y+uuvS0ZGhtVTAQAAAFDLsFR6DDs7PVESnfwKVGT8zq/FvWmD1dMAUAMcLVqI57TTrJ4GEDYjRoyQVatWWT0NAAAAALUQlcExzOu0y5hWifLK+myrp1Kr9MjdJc2+pE8wEBPi4sR73nlis/PGGKLH008/bXoGr1mzRrp16yYul6vM/ePGjbNsbgAAAACsRRgc49omuWVgWrws2ZVv9VRqhfqlBTJk6XumTQSAGOgTPGmS2OvXt3omQFgtXrxYPvvsM3n33XePuo8F5AAAAIDYRikU5LSmXslIckuss2mf4DX/FcmhTzAQCzzDh4uLnqqIQr/85S/lkksukR07dojP5yuzEQQDAAAAsY0wGKZK6NzWidIoziGxbPz2VeLavNHqaQCoAa6uXSVu6FCrpwFExN69e+Wmm26StLQ0q6cCAAAAoJYhDIbhcdhlUtskiXfaJBb1yt0pTb/63OppAKgB9rQ0iR8/3uppABFz3nnnyf/+9z+rpwEAAACgFqJnMIJSPA6Z2CZJ/rUuS3wx1DI3tSRfBtEnGIgJtvh4STj/fLGVW1ALiCYdOnSQGTNmyKeffirdu3c/agG5G264wbK5AQAAALAWYTDKSE90yVktEmXB1hyJlT7B55k+wbFxvYDE+oJxkyezYByi3tNPPy2JiYny8ccfm618ayjCYAAAACB2EQbjKL0axsmeghJZvqdAot2E7SvFtWWT1dMAUAPizjxTnG3bWj0NIOI2bqT/PQAAAICK0TMYFRrRPEFa14vuj1H3ydkpTb5abPU0ANQAV48e4hk0yOppADXO7/ebDQAAAAAUYTAqZLfZZELrepLqcUg0alCSJwOWLqBPMBADHE2bSvw551g9DaBGPf/886ZfcHx8vNl69OghL7zwgtXTAgAAAGAx2kSgUnFOu0xumyTP/XhACkv9UdUneOLX/xXJzbV6KgAiTPsDey+6iAXjEFMefvhhuf322+X666+XIUOGmDFdTO7aa6+VzMxMuemmm6yeIgAAAACLEAajSqlxDlMh/Mr6bImWOHjiTyvEtXWz1dMAEGG2hATxXnKJ2BMTrZ4KUKMee+wxefLJJ+Wyyy4Ljo0bN066du0qd955J2EwAAAAEMNoE4FjapPkluHNEyQa9M3ZLmkrllg9DQCR5nZLwsUXiyM11eqZADVux44dMnjw4KPGdUzvAwAAABC7CINRLf0bx0u/RnFSlzUqzpdTlrxPn2Ag2jkcknDBBaZXMBCLMjIy5JVXXjlqfO7cudK+fXtL5gQAAACgdqBNBKptZItEKfGJrNxbIHWN3e+TCV9/KJJHn2Agqtls4p04UZxt2lg9E8Ays2bNkvPPP18WLVoU7Bn82WefycKFCysMiQEAAADEDiqDcVxGtUyQ7qkeqWvO27ZCnNu2WD0NABEWN3q0uLp2tXoagKUmTZokS5culYYNG8r8+fPNpt8vW7ZMJk6caPX0AAAAAFiIymAcF5vNJmPSE6XUL/Lt/kKpC/of/Eka0ScYiHqeYcPEc8opVk8DqBX69u0rL774otXTAAAAAFDLUBmMEwqEz2mVKB2S3VLbNS7Jk35L37d6GgAizNWnj8QNH271NAAAAAAAqNUIg3FC7DabjG9dT9oluaQ29wkev0r7BOdZPRUAEeTs3Fnix461ehqA5ex2uzgcjio3p5MPhQEAAACxjH8R4IQ57DaZ2CZJXtuQLZsOFkttM2nrV+L8aavV0wAQQc5OncQ7aZLY7Ly3CcybN6/S+xYvXixz5swRn89Xo3MCAAAAULsQBuOkOO02mdQ2SV5ZnyVbc0qktjjl4DZpuHKp1dMAEOGKYBMEOxxWTwWoFcaPH3/U2A8//CC33nqr/Oc//5GLL75Y7rrrLkvmBgAAAKB2oJQKJ81lt8mUtsnSPKF2vLeQVpwnfZfQJxiIZgTBQNW2b98u06dPl+7du0tJSYmsXLlSnnvuOWnVqpXVUwMAAABgIcJghIXbYZMp7ZKkSby1gbDDp32CPxDJz7d0HgAihyAYqFxWVpb87ne/k4yMDPnmm29k4cKFpiq4W7duVk8NAAAAQC1AGIywiXPY5fyMJGkUZ11AM2nrl+LYvs2y8wOILFe3buKdPJkgGKjA7NmzpW3btvLWW2/Jyy+/LJ9//rkMGzbM6mkBAAAAqEVqx+f6ETXinXa5MCNZXl6XJXsKSmv03AOyt0mDVV/U6DkB1BxXr14SP26c2Gw2q6cC1EraGzg+Pt5UBWtLCN0q8sYbb9T43AAAAADUDoTBCDuvyy6XdEiWNzYclM05xTVyzibFudJnKX2CgWjl7t9f4s4+myAYqMJll13GfyMAAAAAqkQYjIjwOOwyNSNJ3tmcI9/sL4zouZz+Uhm3kj7BQLRyDx4s8WeeafU0gFrv2WeftXoKAAAAAGo5wmBEjMNmk3NaJUo9t12W7IpcUDtp85fi2PFTxI4PwDpxZ50lnkGDrJ4GAAAAAABRgTAYEaUfVz29WYIkuezywbZc8Yf5+IOyt0rq6i/DfFQAlnM6xTtxori6dLF6JgAAAAAARA3CYNSIPo3iTYXwm5sOSrEvPMdsVpwjvZbQJxiINjavV7wXXijOFi2sngoAAAAAAFHFbvUEEDvaJ3vkwoxk8TptYekTfM6KD0QKCsIyNwC1g71BA0m46iqCYAAAAAAAIoAwGDWqWYJLLu2QIinuk/vVm7z5C3Hs3B62eQGwniM9XRKuvFIcqalWTwUAAAAAgKhEGIwaV9/jkMs6pEhT74l1KRmStUXqr14e9nkBsI6ra1dJuPRSsXu9Vk8FAAAAAICoRRgMS3hddrmofbJkJLmP63HNig9Kj6UfRGxeAGqeZ8gQiZ80SWxO2tgDAAAAABBJhMGwjMtuk/Pa1pNeDeKqtz99goHoYrdL3NixEjdypNhsJ99LHAAAAAAAVI0yLFjKbrPJ6PREaRzvkIU/5Uqpv/J9J29aJo6dO2pyegAixFavnngnTxZnerrVUwEAAAAAIGYQBqNW6NMoXpp4nTJ/40HJLvYddf/QrE2S8vVXlswNQHg52rQR76RJYk9IsHoqAAAAAADEFNpEoNZoluCSKzqlSJt6rjLjLYoOSvclH1o2LwDh4xk6VBIuuYQgGKgjFi1aJOeee640a9bMtHOZP39+mfv9fr/ccccd0rRpU4mPj5eRI0fK2rVry+yzb98+ufjiiyUpKUlSUlLkqquukpycnBq+EgAAAACKMBi1itdpl6ntkmRwk3hz2+UrlbEr3hcpLLR6agBORlyceC+8UOJGjBCbnf/1AHVFbm6u9OzZU5544okK7589e7bMmTNHnnrqKVm6dKkkJCTIqFGjpCCkv78Gwd9884188MEH8tZbb5mA+ZprrqnBqwAAAAAQQJsI1DpaeXRq0wRp7nWJ6+OFYt+10+opATgJ9qZNJWHKFLHXr2/1VAAcp7PPPttsFdGq4EcffVT+8Ic/yPjx483Y888/L2lpaaaC+IILLpDvvvtOFixYIF988YX069fP7PPYY4/JmDFj5MEHHzQVxwAAAABqDmEwaq12yW7xnTZY8jJ3SOnWrVZPB8AJcPXpI/Fnny02J/+7AaLNxo0bZefOnaY1REBycrIMGDBAFi9ebMJg/aqtIQJBsNL97Xa7qSSeOHFihccuLCw0W0B2drb5WlJSYjalx9DN5/OZLSAwXlpaagLrY407HA7zRnTguKHjSvcPsPlKxW879OkGm7/sGgd+u0MT8rLjNtuh/Ssd94ktZC5+m02kinFzjDLjdnOsSsd9R+YeHK9o7lwT18Q11Ylr0te6mn7dq2rc6XSa45Z5nbTZzP7l51jZeDhfy80c9ecbwn54H181xx1+v/grGfcFfn+OMW47fHw9Ruj66PqztFcwx8rG9Rg6wjVxTVxT3bmmkpDX1Zp43Qt9LS//ml4V/nWOWs2enCwJV1whhR99JIWfflrmDzMAtZjTKfFjx4q7Vy+rZwIgQjQIVloJHEpvB+7Tr40bNz4qPEhNTQ3uU5F7771XZs2addT4ihUrTCsK1ahRI2nXrp0Jpffs2RPcp0WLFmb78ccfJSsrKzjetm1bM5c1a9ZIfn5+cLxTp04msNZjhwYaPXr0ELfbLV9++WVwrHlWkfzUsKM4fCXSZN/64LjfbpefGnaSuOJcaXhgS3C8xOmRnantJKHggNQ/uCM4XuBOkMyUVpKUt1eSco/MPTc+RfbXayb1c3ZKQv6B4Hh2QiOzNcjaKnFFucHx/fWaSm58fUnbv1GcJUfC88yUdClwJ0qzfWvFFvKPDJ1Lqd0pzTN/KPO8ck1cE9dUN65p48acGn/dU/qGXlFRkaxevbpMCNG/f39zvu+//z44rv3jtb1QZmambNiwocybhZ07d5bt27fLtm3bguPhfC3XaOb79HTxhbQka79tm7hKSuTb1q3LXFOXTZuk2OmUtS1aBMfsPp903bxZcuLjZVOTJsFxT3GxdNi2TQ7Uqyc/NWwYHE/Mz5c2O3fKnpQU2R3yCbj6Bw9Ki8xM2d6ggeyvVy843nj/fkk7cEC2pKWZcwQ0z8yU1IMHZX3z5lLoOrJ+TuudO6Vefj7XxDVxTXXomn4Ief2side90Ndybe9WXTZ/aKwM1GIlGzZI3rx54mfRGaBWczRrJvETJoijUSOrpwIgjLTyYN68eTJhwgRz+/PPP5chQ4aYP3B1AbmAqVOnmn3nzp0r99xzjzz33HPyww9lwxL9g1bD3uuuu67alcEtW7aUvXv3moXorKoMfmjVXioZuSauiWuy7Jp+27sRlcFVXFP2XXdRycg1cU1ck6XXVO+22yyrDNa/lxs0aGCC5MDfy5WhMhh1hrNtW0m89lrJ/89/pKTcPyoB1AJ2u3hOPVU8w4axSBwQA5ocrojYtWtXmTBYb/c6/KkA3Wf37t1lHqd/sO7bty/4+Ip4PB6zlafBg26hAn8glxcIL6o7Xv64FY2bMCfwva2C45gA53jG7eIv+2+JKscPhVLHMR4y37L7H8c418Q1cU215poCr3U1+bp3rHENIioar2yOxzt+vNekgczJjtsqGTezO57xMMwlXONcE9cUrjke73isXZMzDK+HJ/paXtlrd0X41zrqFHtCgiRccIHET5wotpCPAgCwlr1xY0m8+mqJO+00gmAgRrRp08YEugsXLgyOaUWC9gIeNGiQua1fDxw4IMuXLw/u89///tdUQWhvYQAAAAA1i8pg1EnuHj1MpXD+229LSUiPKgA1zGYTz+DB4jnjDLFV8k4lgLorJydH1q1bF7ytvc1Wrlxpev6mp6fLjTfeKHfffbe0b9/ehMO33367NGvWLNhKQvukjR49WqZPny5PPfWUFBcXy/XXX28Wl9P9AAAAANQswmDUWfbEREk4/3wp+vprKXj3XfGHNNIGEHn21FTTG9jZsqXVUwEQIbqI0BlnnBG8ffPNN5uvl19+uTz77LNyyy23mMUqrrnmGlMBPHToUFmwYIHExcUFH/PSSy+ZAHjEiBHmo3CTJk2SOXPmWHI9AAAAQKxjATlEBV9u7qEq4e++s3oqQExw9+8vcWeeKbaQFVoBIFK0/YSuyFydBTEi6b4VmZadGwBu7d3Q6inUalmzZlk9BQAxLnnmzDrx9zKVwYieXsJTp0rRmjWHqoTz8qyeEhCVbCkp4h03Tpxt2lg9FQAAAAAAcJwIgxFV3N26mZCq4J13pPjbb62eDhA9HA7xDBkinqFDqQYGAAAAAKCOIgxGVFYJe6dMkeK1a6XgvffEt3ev1VMC6jRnhw4SN2qUOFJTrZ4KAAAAAAA4CYTBiFqu9u3F2batFC1dKgWLFokUFlo9JaBOsdevL3GjR4urQwerpwIAAAAAAMKAMBhRzaYfbR88WFw9e0rBwoVSvHKlCGsmAlVzOk07CG0LYXPyvwkAAAAAAKIF/8pH7LSOGDdOSvv1k/wFC6R061arpwTUSs5OnSR+1Cixp6RYPRUAAAAAABBmhMGIKY5mzSTxyiulaPVqKfjwQ/EfPGj1lIBawZ6aKnFnny2ujAyrpwIAAAAAACKEMBgxyd2jh7g6dZLCTz6RwsWLRUpLrZ4SYAlbUpLEnXqquHr3FpvdbvV0AAAAAABABBEGI2bZ3G6JGzFC3P37m1C4aMUKQmHEDFtCgukL7O7Xj77AAAAAAADECBIAxDx7UpLEjx1rgrFgKOzzWT0tICJscXHiHjxYPAMGmDdEAAAAAABA7CAMBg6zJydL/DnnmFC4YNEiKV61ilAY0cPtFs/AgeIZNMgEwgAAAAAAIPYQBgPl2FNSxDtunPiGDTsUCq9eTSiMusvpNK1Q9E0Ou9dr9WwAAAAAAICFCIOBStjr1xfv+PFSOmyYFAZCYb/f6mkB1ePxiLt3b1MJrK1QAAAAAAAACIOBY3Ckpop3wgQTChctXixFGgoXF1s9LaBCtuRk0w/Y3aeP2Dweq6cDAAAAAABqEcJgoJocDRqYnsJxI0aYReYKly0Tf1aW1dMCDEfz5uIeNEhcnTuLzW63ejoAAAAAAKAWIgwGjpMtPl48gweLe+BAKfnhBylculRKN2+2elqIRTabODt2NK0gnOnpVs8GAAAAAADUcoTBwAnS6kutwtStdOdOEwoXf/21SGmp1VNDtHO7xd2rl3gGDjS9rQEAAAAAAKqDMBgIA0eTJmaxOd/IkVL05Zdm8+fkWD0tRBlH06bi6tVL3D16iC0uzurpAAAAAACAOoYwGAgje0KCxJ12mniGDpWSdevMYnPaSoJqYZwoW0KCuLp3N5XAjrQ0q6cDAAAAAADqMMJgIAJsDoe4OnY0m7+gQIq/+cYEw6Vbtlg9NdQFdrs427c3AbB+1d8nAAAAAACAk0UYDESYfpzf3bev2Xz795tQuHj1avHt22f11FDL2NPSxN2zp7h69DBV5gAAAAAAAOFEGAzUIF3sS9tI6FaybZsUr1plqob9+flWTw0WsaWkiKtTJ9MHWHsCAwAAAAAARAphMGARZ4sWZosbPVpKNm6Ukh9/lOIffxR/VpbVU0OE2Rs2FFfnzmYjAAYAAAAAADWFMBioDf2FMzLMFj9mjJTu2mVCYQ2HS3/6ScTvt3qKOFk2mzhathRXhw7i7NhRHA0bWj0jAAAAAAAQgwiDgVrGkZZmNhk2THy5uVKydu2hcHj9epGiIqunh+ryeMTVrp04NQBu317sXq/VMwIAAAAAADGOMBioxXQRMXevXmbzl5ZKyaZNUrJunZRu3iylO3dSNVybeDziTE8XZ6tW4mjd2rR/sNntVs8KAACcgKFPzZahf3ugzNje1hnyf28sNt87Cgtk+MN3SJf354ujqFA2DjpD3psxW/IaNK7yuA02/Cinz7lLWn71udhLSmVv2w4y74FnJLtpC3P/8Idul+7/+ZcUx3vlo1/eLt+OmRx8bMcP/i3d33pFXvvzSxG5ZgAAEBsIg4G61E6iXTuzKX9RkZRs3SqlW7ZIyZYth1pKFBdbPc2YYYuLE0erVib81c2u4a/NZvW0AABAmOxp10n+9eRrwds+x5F/Oo146HZp9+kHMv/+v0tBYpKcdf+tct5vrpAXn3mn0uOlbN0ol1x1jqwaf7F8eu0tUphQTxpu+EFKPB5zf8bH70mXBa/L3L+8KvW3bJAxs35lQub8+g3EczBbTnviHvnXk69H+KoBAEC0IwwG6iib2102HPb5pHTHjiPh8JYt4s/Ls3qaUcOWmCgOXfRPw9/WrcWelkb4CwBAFPM5HJLbMO2ocQ1me85/Sd685ynZfMowM/b2nXPkmkmDpdnqL2V7j34VHu/UJ+6R9UNGykc3zgyOHWjZJvh9g40/ypa+Q2Rnl15mG/ngHyR5+xYTBp/+51myYvK0YAUxAADAiSIMBqKEtiRwNm9uNs+gQWasNDPTVAzronS+XbtMawkC4mOw28XesGGwd7O9SRNxNGliWnYAAIDYUX/LRvnFWd2k1BMnP/XoJx9f/wcTxjb5bpU4Sopl04DTgvvua9Nespq0kOaVhcE+n6kkXnr5L2Xqz6dI2g9rJKt5uiye9itZe8YYs8vuDl2l1xvPiyf7gKRs2yzOwnzZ37KNtFixRJp8v1renzG7Ji8fAABEKcJgIIo5NNRs2LDMmO/gwSPhcGam+PbsMV+lsFBijrZ6OBz6OgKhb6NGYnPy0ggAQCzb3r2PvD1rjuxrlSGJmbtkyN8elIuvOlf+/uonkrB3t5S43FJYL7nMY3IbNDL3VSRh3x7x5OXKwGfmyCc/nyEf/eoOafv5f01riX/+bZ5s7TtENg4eLt+MmSJXXHKmFMfFy9uzHje9g8+69xZ5+87HpPerz0jfuU9LfkqqLPjDw5LZrlMNPRsAACCakHgAMcZer57ZJCOjzLgvO1tK9+wR/4ED4svKMrd18x/+XkpKpM5xu8WekiL25ORDXw9vtsD3Xq/VMwQAALXQhiEjg9/v6dBVtnfvK9eN7S2dPpgvJZ744z6e7fCiv2tPHy1fXHKt+X53x+7SfNUX0vu150wYrLSXsG4BQ/76gGw+5VTxOZ0y+O8Py99fWSQZi96Xc27/hTz7z4VhuFIAABBrCIMBGPakJLNVxpeXFwyGNSz2B8Li/HzxFxaaBe30q1YYm68+XwQmaRdbfLxZvM1sod/r5vUGg18T+BL2AgCAMNAq4P3p7aT+1o2yacDp4iwuEs/BrDLVwQl790hug8YVPj4vJVVKnU7Z27ZDmfG9bTpIi5VLKnxM6sa10vWdV+WZl/8rPf79T9naZ5Dk128o3581XsbO+pW4c3OkKCExzFcKAACiHWEwgGoxwarXK46mTau1v7+k5FBIHAiIA2FxgC6+FtjMzSPfB8c1/PV4jgS/LldErg0AAKAqrrwcSdm2SXLGTpGdnXtKqdMlrZctkh9GnGvuT920TpJ3bjO9hSvic7llR5fekrppfZnx1C3rJatpy6Mf4PfL6D/9Wv578x+l2Jso9lKfOA5/Sst++KvNVxr+CwUAAFGPMBhARGjfXdN7l4XXAABAHXPGIzNl3alnSXbTlpK4Z6cMfWq2+O0O+Xb0eVJYL0lWTbhYhj90h+Qn1ZfChHpy5uwZsq1H/zKLx00/b5BZdG7taaOl5YolptVE3389Ldt6DZBNpwwzPYMzFr0n//zb/KPO33Pei5JXv4GsO22Uub2t1yky5G+zpdnqL6XtZwtlT9uOR/UsBgAAqA7CYAAAAAAIUW/Xdhk342cSn7XfhLIa4D7/3LumTYNa+Os/it9mk4m/nSaOoiLZOOgMeX/G/WWO0WDTOklf9omMnP17Sdq9PTh+5v2/E7HZJbNtB5n3wDOyrffAMo/z7t0tg//+iLzw7DvBsR3d+sgXl/xcpvzqIsmt31DevuvxiD8HAAAgOtn8/sOrGQAAAAC1UHZ2tiQnJ0tWVpYkVdHfPtLuW5Fp2blR93RY+JZMvOVK0/LhcCMsQ0NkNW/2P+THEedYNj/UPbf2PvRmBCqWNWuW1VMAEOOSZ86sE38vUxkMAAAAAGFkKy2VkQ/cdlQQbO7z+0WrcbQnsLacKEhMNgvBFXsTpMibKEXxXrNuAgAAQCQQBgMAAABAGGmP4NDWEOVpQOw9sE8uvHZShfcXehOOhMO6JRz+GhgL3Nav8Qllb5ffh3AZAACEIAwGAAAAgDBKyNxVrf2yGzYRsdvEnZcj7rxcsft8ZtyTl2s2kd1hmY8GwkcC5eqGyof3K7+PN4FwGQCAOowwGAAAAADCKLdhWrX2e+uep2RLvyGHbvj94izIPxQM5+aIJy9HXHm5wduBwNhsgdv6Nb/y24Fw2Z2fZ7bIhMvlK5grqWiuKGg+/JVwGQCAmkMYDAAAAABhtLX3QMlu3Ezq7dlhegSXp4vIHWzczOwXZLNJSbzXbHkNGp/8JELD5QpD5cDt3GOGyjUSLpevVi4fIlfWBqOC24TLAABUjjAYAAAAAMLI73DIh7/9k0y85UoT/IYGwnpbffibu81+EVMmXJbwhMuFBVWEyqEhclXh85Hb9tLSsuHy3j1hmKhIUZxWLh8JiYvjE6SwXGWy9mQuLNcqo/x+elvD5Yj+nAAAqGGEwQAAAAAQZj+OOEfmzf6HjHzgtjKLyWlFsAbBen+douFyXLzZ8lIbhT9cPqoS+XCAbG7nVhgqB9poeAKVy4FwuSDPbJEIlwML+wVC4+BCfwmJwXDZhMiH7z9qP8JlAIDFCIMBAAAAIAI08F17+tnScsUSs6ic9hLW1hCEgZELl12HQ2VPudA4EBgHQ2Szz5FwOdifuYbC5UPhcNnQODRErmhRP9nfXCQxUaRevSOb3ub3CTHI/cUXZrMfOGBulzZuLIWnnSYl7dsf2qG4WOLef19ca9aIraRESjIyJH/sWPHrfzPVEPef/4hn+XLJHzVKigYNOjRYUiLxb74pru+/F19iojleabt2R+b02Wdiz8qSgjFjInDFQPgQBgMAAABAhGjwG1wkDjUSLufXb3jyx/P7xVFUePSCfrlHAuNA8Hxkn9xKFv079L2jpKRMuJywLzzhssTHHx0Qh96u7ljgNuEy6gBfUpIUjBwpvgYNzH+vrlWrxPvyy5Jz7bXia9xY4t57T1w//ih5U6aIPy5O4t95R7xz50ruVVcd89jO774T57Zt4tP/HkK4ly8Xx/btknP11eJcu1a8r78uB3/7W/P6Y9u/39yfc801EbxqIDwIgwEAAAAACGWzSaknTvJ1C3e4HBIqH6uvcmj/5eb+ApGDB49sh8Nlyc8/tO3eHf5wubLAuLpj+tVJ7IDwK+nYscztwhEjTKWwQ0PcpCRxf/WV5E2aJKVt25r788ePl3pPPCGOrVultGXLSo9ry842wXHupZdKwksvlbnPvmePFHfsaMLmovr1Jf6DD8SWlyf+hASJf+stKTjzTJG4uAhdMRA+vCoDAAAAAFDLw+Vbe4c8ThclLCoqGw7rlpNT9e2q9ikujly4fDyVycfah3AZ5fl84vrmG7EVF0tpixametfm80nJ4SDY7NKokfiSk01YXGkY7POJ9403pHDIEBP4HnV3kyamArmwuFic69aZVhF+r1dcq1eb38uSzp0jeZVA2PAqCgAAAABAXWKziXg8h7aGYahcVoWFJxcqlx8rHy7vCVNbDK28rCAwjt+yxTwffrf70KbPzeGvgbHg/Ye/6v20xai77Lt2SeLTTx+qkne7Je/8802I69q581Bvdn0jIoQvIUHs+jtaCc9nn4nfbpeiAQMqvL+od29zTq0w9nm9pgWFLT9fPP/7n+RecYV4Fi40PYp9qammEtmflBT2awbCgTAYAAAAAIBYF4lw+Xgqk481FgiXCwoObeXCZfcJTtPvdJYNj8uFxcEwuaL7KwifCZdrjvYL1h7B+rvm+vZbiZ8/34SyJ8K+fbu4lyyRnJ/97NCbLRVxOKRg7FgpCBnSc2p47Nixwywsl3PddSZUjn/3XRNOA7URYTAAAAAAAIhMuKwLfIVD+bYY5QLj/FdeEZvuU1hovtoOf5WQ7/Wrua1baak5rK2kxGySlxeWaQbC5WMGyeXur+wxhMtVcDoPLSCn7z00aybOn34S99KlUty166Gfr1akh1QH23NzpVgrySs61ObNYsvNlXqPPBIcs/n9Evf+++JZskQO3nTTUY9xbNwo9t27JX/cOLNfSfv25mem53cvWxaRSwbCgTAYAAAAAADUbhqMavBXSbhctHnz8R1PQ+CqwuJAmBy4L/T+kLHg/ZEKlx2Oare8qE74HNXhst9vnvvSZs1Muwfnxo1S0qWLucuemSn2rCzTU7gixT17lukxrBJefFGKevSQ4t69K3hAscS//bZZpE7s9kN9vH2+Q/eVlpqexUBtRRgMAAAAAABii1bw6mJ0Xq/4w3G8isLl46lULh8+B8JlDRY1WI5EuHyMlhfVCZ+tCpc9H34oJRkZZlE4fb5cX38tjk2bpPDSS01f6aI+fST+vfckLz7ezDP+nXekpEWLMovHJT72mBSMHCklHTuaXsDaT1gXhStt1epQwGu3iz8xUXwVtE7xLFpkKoF9TZua23rcuA8+kKJevcSzbJmUpKfX6PMBHA/CYAAAAAAAgNoULmsIfDKVyuXD50iGyydSqVxJ+FzdcFlbPnjnzRNbTo55nC8tTfIuvVRK2rUz9xeMGmV6/3rnzjXXrOP5Y8eWOYZj715xbthg+vvas7OD476kJMkfPbryc+/aJa5vvjnUr/iw4i5dTBid+MwzUtqggeRrxTBQS9n8fq1lBwAAAGqn7OxsSU5OlqysLEmycGXu+1ZkWnZuALi1d5gWdotSWbNmWT2F2k3D4HJVySfVJuNwuBxuR4XLx1mpXD581pC+Ms5vvxXvK6+Y70OXjAuEZHlTpwbbTADVkTxzptSFv5epDAYAAAAAAIhmWnGrLRN0i0S4fAItMcqMaZ/lQOWyLvymWyTDZZdLnOvXHzpnucfobX2O4hcskIOdOh1qGQFEEcJgAAAAAAAAWB8uh6MlRhjCZQ2EbdnZ4ti8WUrbtAnHFQK1BmEwAAAAAAAAojtcDvneuXGjuFeuPOZhdFG5yDTEAKxDGAwAAAAAAICYCZd1kbjqhMG+xMSITA+wEo1PAAAAAAAAEDNKW7UygXBlVcg6rvfrfkC0IQwGAAAAAABA7LDbJX/0aPNt+UA4cNvcz+JxiEL8VgMAAAAAACCmlHTpInlTp4o/KanMuN7Wcb0fiEb0DAYAAAAAAEDM0cD3YKdO4ti82SwWpz2CTWsIKoIRxQiDAQAAAAAAEJvsdilt00ZKrZ4HUEN4qwMAAAAAAAAAYgBhMAAAAAAAAADEAMJgAAAAAAAAAIgBhMEAAAAAAAAAEAMIgwEAAAAAAAAgBhAGAwAAAAAAAEAMIAwGAAAAAAAAgBhAGAwAAAAAAAAAMYAwGAAAAAAAAABiAGEwAAAAAAAAAMQAwmAAAAAAAAAAiAGEwQAAAAAAAAAQAwiDAQAAAAAAACAGEAYDAAAAAAAAQAwgDAYAAAAAAACAGEAYDAAAgIh74oknpHXr1hIXFycDBgyQZcuWWT0lAAAAIOYQBgMAACCi5s6dKzfffLPMnDlTvvrqK+nZs6eMGjVKdu/ebfXUAAAAgJhCGAwAAICIevjhh2X69Okybdo06dKlizz11FPi9XrlH//4h9VTAwAAAGIKYTAAAAAipqioSJYvXy4jR44MjtntdnN78eLFls4NAAAAiDVOqycAAACA6JWZmSmlpaWSlpZWZlxvf//99xU+prCw0GwBWVlZ5uu+ffukpKQkGCjr5vP5zBYQGNdz+v3+Y447HA6x2WzB44aOK90/OK/sA+K3HaqlsPmPnFP57Q4Rv7/suM12aP9Kx31iC5mL32YTqWLcHKPMuN0cq9Jx35G5B8crmjvXxDVxTXXimg4ccNb4615V406n0xw3dFyPq/uXn2Nl4+F8Lc8uKJBS/fmGsB/ex1fNcYffL/5Kxn2B359jjNsOH1+PcWSG+jvhN9V45edY2bgeQ0e4Jq6Ja6o711S6b1+Nvu6FvpZnZ2ebr6H7VIYwGAAAALXKvffeK7NmzTpqvE2bNpbMBwBqgzutngAAoGr33SdWO3jwoCQnJ1e5D2EwAAAAIqZhw4amcmHXrl1lxvV2kyZNKnzMjBkzzIJzAVo1oVXBDRo0MBUQQF2j1TotW7aUrVu3SlJSktXTAQCUw+s06jqtCNYguFmzZsfclzAYAAAAEeN2u6Vv376ycOFCmTBhQjDc1dvXX399hY/xeDxmC5WSklIj8wUiSQMGQgYAqL14nUZddqyK4ADCYAAAAESUVvlefvnl0q9fPznllFPk0UcfldzcXJk2bZrVUwMAAABiCmEwAAAAIur888+XPXv2yB133CE7d+6UXr16yYIFC45aVA4AAABAZBEGAwAAIOK0JURlbSGAaKdtT2bOnHlU+xMAQO3A6zRiic2vHYYBAAAAAAAAAFHNbvUEAAAAAAAAAACRRxgMAAAAAAAAADGAMBgAAAAATkBeXp5MmjRJkpKSxGazyYEDByJ2rtNPP11uvPHG4O3WrVvLo48+Gryt558/f37Ezg8AqPp1GagrCIMBAAAARLUrrrjChKXlt9GjR5/UcZ977jn55JNP5PPPP5cdO3ZIcnKyRMobb7whf/zjHyN2fACIJnv27JHrrrtO0tPTzaJwTZo0kVGjRslnn31m9dQAyzmtngAAAAAARJoGv88880yZsZNdNX79+vXSuXNn6datm0RaampqxM8BANFCP7VRVFRk3rRr27at7Nq1SxYuXCh79+61emqA5agMBgAAABD1ApVhoVv9+vWD92ul8NNPPy0TJ04Ur9cr7du3lzfffLPKjwc/9NBDsmjRIvNYva1eeOEF6devn9SrV8+c46KLLpLdu3cHH/fRRx+Z/d977z3p3bu3xMfHy/Dhw80+7777rgmXte2EPk7bUJzox5G3bt0qU6dOlZSUFBMkjx8/XjZt2nQCzxwA1C3askc/tXH//ffLGWecIa1atZJTTjlFZsyYIePGjQvuc/XVV0ujRo3Ma66+Dq9atarMJ0omTJhQ5rj6Ghx4rQfqMsJgAAAAABCRWbNmmQB19erVMmbMGLn44otl3759lbZtmD59ugwaNMi0iNDbqri42LRz0FBBe/hqAKuhQnl33nmnPP7446bFRCC41R7A//znP+Xtt9+W999/Xx577LETug6dg34cWgNpDUT0Y9GJiYmmOlor5QAgmunrnW76GlxYWFjhPlOmTAm+Cbd8+XLp06ePjBgxotLXfCCaEAYDAAAAiHpvvfVWMCAIbPfcc0+ZfTS0vfDCCyUjI8Pcl5OTI8uWLavweFptqxXEbrfbVAAH2jhceeWVcvbZZ5uPJQ8cOFDmzJljwgY9Vqi7775bhgwZYqqDr7rqKvn444/lySefNLeHDRsmkydPlv/9738ndK1z584Vn89nKp27d+9uqo21RcaWLVtMZTIARDOn0ynPPvusaRGhn47Q19rf//735o0+9emnn5rX9ldffdV8kkM/CfLggw+afV977TWrpw9EHD2DAQAAAEQ9/aiwhq1V9eHt0aNH8PuEhATz0eHQFg/VoRVmWvWrlcH79+83oazSILZLly4VnistLc0Eyxogh45VFkQfi5573bp1pjI4VEFBgelzDACx0DN47Nix5tMRS5YsMW/KzZ4927xJlpuba96ga9CgQZnH5Ofn8xqJmEAYDAAAACDqabirFb9VcblcZW5rb99AmFsdGjBoewbdXnrpJdOLUkNgvV2+PUPoufQ8J3vuUBpy9O3b18yhPJ0TAMSCuLg4OfPMM812++23mx7BM2fOlJ///OfStGnTCj8podXBym63i9/vP6oFDxANCIMBAAAAIAy+//57s1L9fffdJy1btjRjX375ZY3PQ3tfaquIxo0bm+pmAICYT2doH2F9jdy5c6dpJ9G6desK99U3ztasWVNmbOXKlUe9cQfURfQMBgAAABD1dBEh/cd/6JaZmRnWc6Snp5sewrrw24YNG+TNN980i8nVNF34rmHDhjJ+/HjzEemNGzeaCrgbbrhBtm3bVuPzAYCapG/KDR8+XF588UXTJ1hfA7U/sLaJ0NfFkSNHmsU/J0yYYBbr1IU+dTHP2267LfgGnj5ev3/++edl7dq1pqK4fDgM1FWEwQAAAACi3oIFC8zHgkO3oUOHhvUcWkmmixZp6KAVaFohrIsS1TTtP7xo0SITTp933nlmATldpE57BlMpDCDa6QKhAwYMkEceeUROPfVU6datm2kTMX36dHn88cdNG5533nnH3Ddt2jTp0KGDXHDBBbJ582bTr11pex99zC233CL9+/eXgwcPymWXXWb1pQFhYfOXb4ICAAAAAAAAAIg6VAYDAAAAAAAAQAwgDAYAAAAAAACAGEAYDAAAAAAAAAAxgDAYAAAAAAAAAGIAYTAAAAAAAAAAxADCYAAAAAAAAACIAYTBAAAAAAAAABADCIMBAAAAAAAAIAYQBgMAAAAAUIvs3btXGjduLJs2baqxc7Zu3VoeffRRiRbz58+XjIwMcTgccuONN0bsPB999JHYbDY5cOCAuf3ss89KSkpK8P4777xTevXqVe3jZWZmmp/9tm3bIjJfACAMBgAAAABElT179sh1110n6enp4vF4pEmTJjJq1Cj57LPPgvtogKeBYU2FpldccYVMmDChWvv+6U9/kvHjx5tz4cT87Gc/k8mTJ8vWrVvlj3/8Y8TOM3jwYNmxY4ckJyeH5XgNGzaUyy67TGbOnBmW4wFAec6jRgAAAAAAqMMmTZokRUVF8txzz0nbtm1l165dsnDhQlNxW9vl5eXJ3//+d3nvvfesnkqdlZOTI7t37zZvADRr1iyi53K73ebNhnCaNm2a9O3bVx544AFJTU0N67EBgMpgAAAAAEDU0I/rf/LJJ3L//ffLGWecIa1atZJTTjlFZsyYIePGjTP7BCpuJ06caCqEA7fXr19vKnLT0tIkMTFR+vfvLx9++GHw2Keffrps3rxZbrrpJvM43SprBaDVw4Hj6v0aTP/73/8OPk7bC1TknXfeMdXMAwcODI7t379fLr74YmnUqJHEx8dL+/bt5Zlnngner9WvU6dONe0JNDzUawhtMaHzLt8qQauUtVq5unw+n9x1113SokULMz+93gULFlTaLkGtXLnSjFXV7kL3v/rqq821JSUlyfDhw2XVqlXB+wPP7QsvvGCeT63AveCCC+TgwYMVHk/nUa9ePfO9HivwXOsbARdeeKE0b95cvF6vdO/eXV5++eUyj9Xn6Ze//KV5rurXr29+D/7v//5PcnNzTUCrx9XWE++++26V130sTz/9tHTu3Fni4uKkU6dO8pe//KXM/V27djUh9rx586p9TACoLsJgAAAAAEDU0BBXN20BUVhYWOE+X3zxhfmqgap+xD9wWytKx4wZY6qIV6xYIaNHj5Zzzz1XtmzZYu5/4403TBiqoag+Trfq+M1vfmPCWj1e4HHaXqAiGmRrVWio22+/Xb799lsTQn733Xfy5JNPmnYCqri42FTAalCpj9VWGHr9ei6tjg6XP//5z/LQQw/Jgw8+KKtXrzbn1HB97dq1J3XcKVOmmCpevbbly5dLnz59ZMSIEbJv377gPhrS68/zrbfeMtvHH38s9913X4XH0+f1hx9+MN+//vrrwee6oKDAPK9vv/22rFmzRq655hq59NJLZdmyZWUer6G9Prc6rsGwthvROeoxvvrqKznrrLPM47SC+0S89NJLcscdd5hWIPqzvOeee8zPV88bSt/A0J8nAIQbYTAAAAAAIGo4nU6ziJeGa1opO2TIEPn9739vAswArUJVer9+xD9wu2fPnqbXbLdu3Uz1rfaabdeunbz55pvmfq261QXJNHjVx1W3PYCGs1rRG+hfrJu2F6iIVh6Xb22gYXTv3r2lX79+pjp25MiRJqRWc+fONVW7Wm2q1a5acaohtz6msurjE6Eh8O9+9ztTlduxY0dTea0Vuyez6Nynn35qQtdXX33VXJs+53oe/bm89tprwf30+vRnqj+XYcOGmTBWA/uK6POqC7AFfl6B51orgjWU1zlr6xANejUwf+WVV8o8Xn8H/vCHP5i5aDW5Vu9qODx9+nQzpkGuVhmH/j4dD+0FrKH6eeedJ23atDFftdL8r3/9a5n99HdAfxcAINwIgwEAAAAAUdczePv27SbE1cBPQ1GtONVAsSpaGayBoQaqGkhqiKvVm4HK4JqQn59vAshQWp36r3/9ywSZt9xyi3z++efB+7Slwrp160xAHaiK1hBUK2G1ojYcsrOzzfOpwXoova3Pz4nSuetz3qBBg+Dcddu4cWOZuWsAHmj9oJo2bWqqiY9HaWmpCfc1MNfnR8+jfZnL/2x79OgR/F6Df52bPiZAW0eo4z2/0nYTel1XXXVVmeu9++67j/pZ6ZsHJ1p9DABVYQE5AAAAAEDU0UD1zDPPNJt+DF/70mpVZlV9cjUI/uCDD0x1qvaG1UBu8uTJx2y3YLfbxe/3lxnT9g0nQqtQtUdwqLPPPttUiWo/YZ2ftlH4xS9+YeapYaq2P9D2A+UFKp7DOb/K6DlU6HmOdQ6duwa7FVUwaxgf4HK5ytynPXq1Wvh46GJs2upCK5k13E1ISDC9gcv/bCs6V+hYoE/08Z4/cL1K+xAPGDCgzH0aPIfSNhmBnx8AhBNhMAAAAAAg6nXp0sX0nQ3QgE+rRUNpv10Ni3VhuUB4V37xM205UP5xGtrt3LnTBKGBsFAXTzvW4yqi7SBefPHFo8b1HJdffrnZtFXCb3/7WxMGa8WztorQ1gi6AFtF9LGh/Y11Hto3VxfYqw49rrYt0OfntNNOC47rbe1tGziH0vPo4msVPQfl6dz1edPWHoHF9iJF56oL611yySXBMPfHH380vxc1RauK9XncsGGDWRCwKvrz0QXtACDcaBMBAAAAAIga2s91+PDhJlDVvq7ackB70s6ePduEgQEaPmrfWQ0jA5W42hNWF4nTEFNbGFx00UVHVYDq4xYtWiQ//fSTZGZmmjEN7fbs2WPOoR/3f+KJJ8yCaOUfp/PRxc30cZVVzerCbN98802Z6mDtU/vvf//btIPQ+3QRNW1loTRU1GpivTZdcEyvVyttb7jhBtm2bZvZR58PXThNt++//960nThw4MBxPa8aPmufYA2e9RpuvfVW8zz96le/MvdrJXXLli3lzjvvNIvK6bm0N25VtPfxoEGDZMKECfL++++b4F1bYNx2223y5ZdfSjjpz1arqvX42tpCe0Pv2rVLatqsWbPk3nvvlTlz5pgw+uuvvzY9nh9++OHgPtoeQhfT08XqACDcCIMBAAAAAFFDe7DqR/AfeeQROfXUU82iY9omQhcAe/zxx4P7aVCp4aAGmFqNqzSQ06rWwYMHmwXaNJjV6tVQd911lwktdWG5QDWsBrN/+ctfTAisC5DpomjaciKUnl8XXtOF0vRxWqlaEW1hoOcMXdhMq4p1MTPtZ6vXpC0FtIew8nq9JpxOT083i5HpXLQnrfYMDlQKX3nllaai+LLLLjOVvbqAWnWrggM0XL755pvl17/+tZnjggULTE9mDVkDldYvv/yyCZt1nhocay/cqmgVtba+0GuaNm2adOjQwSxQpy0xAr15w0UXhdPnVX+mGt7rwnIaQtc0bVeii/1pAKzPo/48tJe1LiYXoMG//jy1AhwAws3mL984CAAAAAAAWEararUSV1sFBHrxInYMHDjQhO9amQ4A4UbPYAAAAAAAapGxY8eaVgvaikIrlxE7tIWIVnhfeOGFVk8FQJSiMhgAAAAAAAAAYgCfNwEAAAAAAACAGEAYDAAAAAAAAAAxgDAYAAAAAAAAAGIAYTAAAAAAAAAAxADCYAAAAAAAAACIAYTBAAAAAAAAABADCIMBAAAAAAAAIAYQBgMAAAAAAABADCAMBgAAAAAAAIAYQBgMAAAAAAAAABL9/h8JZTX3uJzanwAAAABJRU5ErkJggg=="
     },
     "metadata": {},
     "output_type": "display_data"
    }
   ],
   "execution_count": 22
  },
  {
   "cell_type": "markdown",
   "metadata": {
    "id": "8qZ0HD5dXisP"
   },
   "source": [
    "2.7 Calculer l'information mutuelle sur les données train.\n",
    "\n",
    "Attention : Il y a des données continues et des données discrètes\n",
    "\n",
    "Ignorer les colonnes Name, Ticket et Cabin"
   ]
  },
  {
   "cell_type": "code",
   "metadata": {
    "id": "RECHUfrOXisP",
    "outputId": "7da262af-9904-437c-c4d8-a4f2dfc5c203",
    "colab": {
     "base_uri": "https://localhost:8080/",
     "height": 483
    },
    "ExecuteTime": {
     "end_time": "2025-04-01T04:29:54.249766Z",
     "start_time": "2025-04-01T04:29:54.204864Z"
    }
   },
   "source": [
    "import pandas as pd\n",
    "from sklearn.feature_selection import mutual_info_regression\n",
    "\n",
    "# Select relevant numerical features for mutual information calculation\n",
    "numerical_features = ['Age', 'SibSp', 'Parch', 'Fare', 'FamilySize']\n",
    "discrete_features = ['Pclass', 'Sex', 'Embarked', 'IsAlone']\n",
    "\n",
    "# Convert categorical features to numerical using one-hot encoding\n",
    "train_encoded = pd.get_dummies(train, columns=['Sex', 'Embarked'], drop_first=True)\n",
    "\n",
    "# Fill NaN values in numerical features with the mean\n",
    "for feature in numerical_features:\n",
    "    mean_value = train_encoded[feature].mean()\n",
    "    train_encoded[feature] = train_encoded[feature].fillna(mean_value)\n",
    "\n",
    "# Calculate mutual information\n",
    "X = train_encoded[numerical_features + list(train_encoded.columns[train_encoded.columns.str.startswith(('Sex_', 'Embarked_'))])]\n",
    "y = train_encoded['Survived']\n",
    "mutual_info = mutual_info_regression(X, y)\n",
    "\n",
    "# Print results\n",
    "mi_scores = pd.Series(mutual_info, name=\"MI Scores\", index=X.columns)\n",
    "mi_scores = mi_scores.sort_values(ascending=False)\n",
    "print(mi_scores)"
   ],
   "outputs": [
    {
     "name": "stdout",
     "output_type": "stream",
     "text": [
      "Sex_male      0.144124\n",
      "Fare          0.125750\n",
      "Embarked_S    0.070391\n",
      "SibSp         0.068318\n",
      "Age           0.060997\n",
      "FamilySize    0.011268\n",
      "Parch         0.010380\n",
      "Embarked_Q    0.000000\n",
      "Name: MI Scores, dtype: float64\n"
     ]
    }
   ],
   "execution_count": 25
  },
  {
   "cell_type": "markdown",
   "metadata": {
    "id": "2698RGq7XisQ"
   },
   "source": [
    "2.8 Afficher dans un graphique les scores d'information mutuelle par feature"
   ]
  },
  {
   "cell_type": "code",
   "metadata": {
    "id": "5GdcIojlXisQ",
    "ExecuteTime": {
     "end_time": "2025-04-01T04:28:46.293216Z",
     "start_time": "2025-04-01T04:28:46.290736Z"
    }
   },
   "source": [],
   "outputs": [],
   "execution_count": 23
  },
  {
   "cell_type": "markdown",
   "metadata": {
    "id": "cPmfQAdrXisQ"
   },
   "source": [
    "### Question 1 : La variable Classe est-elle utile pour prévoir la survie ? Pourquoi ?\n",
    "\n",
    "\n",
    "\n",
    "### Question 2 : Même question pour la variable Sex\n",
    "\n",
    "\n",
    "### Question 3 : Comment traiter le variables liées à la famille du passager ?\n",
    "\n",
    "\n",
    "\n"
   ]
  },
  {
   "cell_type": "markdown",
   "metadata": {
    "id": "euPNbYWeXisQ"
   },
   "source": [
    "## 3. Traitement des données manquantes (à faire sur les données Train et Test)"
   ]
  },
  {
   "cell_type": "markdown",
   "metadata": {
    "_cell_guid": "8aa419c0-6614-7efc-7797-97f4a5158b19",
    "_uuid": "dd18a31086cfeca6330b05f83caf3cc02f687253",
    "id": "C8EPT862XisQ"
   },
   "source": [
    "3.1 La variable \"Embarked\" possède des valeurs nulles, compléter par la valeur majoritaire (S)."
   ]
  },
  {
   "cell_type": "code",
   "metadata": {
    "_cell_guid": "0e70e9af-d7cc-8c40-b7d4-2643889c376d",
    "_uuid": "b4f7ccb3df98da6915bda1c7c225b905fc37845b",
    "id": "hSJQL5nCXisQ",
    "ExecuteTime": {
     "end_time": "2025-04-01T04:34:51.748865Z",
     "start_time": "2025-04-01T04:34:51.744476Z"
    }
   },
   "source": [
    "# Fill missing values in the \"Embarked\" column with the most frequent value 'S'\n",
    "train['Embarked'] = train['Embarked'].fillna('S')\n",
    "test['Embarked'] = test['Embarked'].fillna('S')"
   ],
   "outputs": [],
   "execution_count": 29
  },
  {
   "cell_type": "markdown",
   "metadata": {
    "id": "hRQs4xiGXisQ"
   },
   "source": [
    "3.2 Afficher l'influence du port d'embarquement sur la Survie"
   ]
  },
  {
   "cell_type": "code",
   "metadata": {
    "_cell_guid": "0e70e9af-d7cc-8c40-b7d4-2643889c376d",
    "_uuid": "b4f7ccb3df98da6915bda1c7c225b905fc37845b",
    "id": "hcKaRwyIXisQ",
    "ExecuteTime": {
     "end_time": "2025-04-01T04:36:03.256188Z",
     "start_time": "2025-04-01T04:36:03.135814Z"
    }
   },
   "source": [
    "import matplotlib.pyplot as plt\n",
    "\n",
    "# Calculate survival rates by embarkation port\n",
    "embarked_survival_rates = train.groupby('Embarked')['Survived'].mean() * 100\n",
    "\n",
    "# Plot the survival rates\n",
    "plt.figure(figsize=(8, 6))\n",
    "embarked_survival_rates.plot(kind='bar', color=['skyblue', 'lightcoral', 'lightgreen'])\n",
    "plt.title('Survival Rate by Embarkation Port')\n",
    "plt.xlabel('Embarkation Port')\n",
    "plt.ylabel('Survival Rate (%)')\n",
    "plt.xticks(rotation=0)\n",
    "plt.ylim(0, 100)\n",
    "\n",
    "# Add data labels\n",
    "for i, rate in enumerate(embarked_survival_rates):\n",
    "    plt.text(i, rate + 2, f'{rate:.1f}%', ha='center', va='bottom')\n",
    "\n",
    "plt.show()"
   ],
   "outputs": [
    {
     "data": {
      "text/plain": [
       "<Figure size 800x600 with 1 Axes>"
      ],
      "image/png": "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"
     },
     "metadata": {},
     "output_type": "display_data"
    }
   ],
   "execution_count": 30
  },
  {
   "cell_type": "markdown",
   "metadata": {
    "_cell_guid": "e08c9ee8-d6d1-99b7-38bd-f0042c18a5d9",
    "_uuid": "bbeb369d4bb1b086fcc3257218fdeeb6bcdb53c0",
    "id": "euR7wRbfXisQ"
   },
   "source": [
    "3.3 La variable \"Fare\" (prix du ticket) possède des valeurs manquantes. Remplacer ces valeurs par la valeur médiane."
   ]
  },
  {
   "cell_type": "code",
   "metadata": {
    "_cell_guid": "a21335bd-4e8d-66e8-e6a5-5d2173b72d3b",
    "_uuid": "f04975f236aad78d3f93812512088404b5c9280e",
    "id": "a3VQm2R3XisQ",
    "ExecuteTime": {
     "end_time": "2025-04-01T04:28:46.304192Z",
     "start_time": "2025-04-01T04:28:46.301793Z"
    }
   },
   "source": [],
   "outputs": [],
   "execution_count": 23
  },
  {
   "cell_type": "markdown",
   "metadata": {
    "id": "pmGbGvBgXisQ"
   },
   "source": [
    "3.4 Créer une variable CategoricalFare Découpant la valeur de ticket en 4 catégories de tailles à peu près égales."
   ]
  },
  {
   "cell_type": "code",
   "metadata": {
    "_cell_guid": "a21335bd-4e8d-66e8-e6a5-5d2173b72d3b",
    "_uuid": "f04975f236aad78d3f93812512088404b5c9280e",
    "id": "Wlml_ZUbXisR",
    "ExecuteTime": {
     "end_time": "2025-04-01T04:28:46.461379Z",
     "start_time": "2025-04-01T04:28:46.458296Z"
    }
   },
   "source": [],
   "outputs": [],
   "execution_count": 23
  },
  {
   "cell_type": "markdown",
   "metadata": {
    "id": "u4o0J_qoXisR"
   },
   "source": [
    "3.5 Analyser l'effet de ces catégories de prix de ticket sur la survie."
   ]
  },
  {
   "cell_type": "code",
   "metadata": {
    "_cell_guid": "a21335bd-4e8d-66e8-e6a5-5d2173b72d3b",
    "_uuid": "f04975f236aad78d3f93812512088404b5c9280e",
    "id": "D0287RfXXisR",
    "ExecuteTime": {
     "end_time": "2025-04-01T04:28:46.550820Z",
     "start_time": "2025-04-01T04:28:46.548952Z"
    }
   },
   "source": [],
   "outputs": [],
   "execution_count": 23
  },
  {
   "cell_type": "markdown",
   "metadata": {
    "id": "xQnB7GcyXisR"
   },
   "source": [
    "3.6 Combien de valeurs d'Age manquent ? Complète par des valeurs entières aléatoires entre (moyenne - écart type) et (moyenne + écart type)."
   ]
  },
  {
   "cell_type": "code",
   "metadata": {
    "_cell_guid": "b90c2870-ce5d-ae0e-a33d-59e35445500e",
    "_uuid": "2af2b56d51752be08b84dbb2684466976758faa7",
    "id": "kskEt_5OXisR",
    "ExecuteTime": {
     "end_time": "2025-04-01T04:28:46.843856Z",
     "start_time": "2025-04-01T04:28:46.841386Z"
    }
   },
   "source": [],
   "outputs": [],
   "execution_count": 23
  },
  {
   "cell_type": "markdown",
   "metadata": {
    "id": "IwjpvVBQXisR"
   },
   "source": [
    "3.7 Créer une variable CategoricalAge Découpant la valeur d'age en 5 tranches d'age de même taille."
   ]
  },
  {
   "cell_type": "code",
   "metadata": {
    "_cell_guid": "b90c2870-ce5d-ae0e-a33d-59e35445500e",
    "_uuid": "2af2b56d51752be08b84dbb2684466976758faa7",
    "id": "ASVyHolgXisR",
    "ExecuteTime": {
     "end_time": "2025-04-01T04:28:46.887312Z",
     "start_time": "2025-04-01T04:28:46.884866Z"
    }
   },
   "source": [],
   "outputs": [],
   "execution_count": 23
  },
  {
   "cell_type": "markdown",
   "metadata": {
    "id": "tv75pViEXisR"
   },
   "source": [
    "3.8 Analyser l'effet de ces catégories d'age sur la survie."
   ]
  },
  {
   "cell_type": "code",
   "metadata": {
    "id": "Lc5_FmACXisR",
    "ExecuteTime": {
     "end_time": "2025-04-01T04:28:46.925328Z",
     "start_time": "2025-04-01T04:28:46.922322Z"
    }
   },
   "source": [],
   "outputs": [],
   "execution_count": 23
  },
  {
   "cell_type": "markdown",
   "metadata": {
    "id": "c03tG7XVXisR"
   },
   "source": [
    "### Question 1 : Classer les variables par ordre d'intérêt"
   ]
  },
  {
   "cell_type": "markdown",
   "metadata": {
    "id": "ZWZQpwviXisR"
   },
   "source": [
    "## 4 : Traitement de features complexes"
   ]
  },
  {
   "cell_type": "markdown",
   "metadata": {
    "_cell_guid": "bd25ec3f-b601-c1cc-d701-991fac1621f9",
    "_uuid": "17f6d181260d68d89f0a5dfa99b40a82b723567c",
    "id": "ECdW0d-jXisR"
   },
   "source": [
    "4.1 : Le nom permet de retrouver le titre du passager. Trouver les titres lorsqu'ils existent."
   ]
  },
  {
   "cell_type": "code",
   "metadata": {
    "_cell_guid": "ad042f43-bfe0-ded0-4171-379d8caaa749",
    "_uuid": "5a56f5b4bad78d7e323167c5f0cc07cb3675187a",
    "id": "8EI6skSCXisR",
    "ExecuteTime": {
     "end_time": "2025-04-01T04:28:46.954238Z",
     "start_time": "2025-04-01T04:28:46.951840Z"
    }
   },
   "source": [],
   "outputs": [],
   "execution_count": 23
  },
  {
   "cell_type": "markdown",
   "metadata": {
    "id": "0Jqb6-2zXisS"
   },
   "source": [
    "4.2 : En utilisant la fonction pandas crosstab, afficher pour train le nombre d'occurences par titres (en ligne) et par sexe (en colonne)"
   ]
  },
  {
   "cell_type": "code",
   "metadata": {
    "id": "arDiZ4HGXisS",
    "ExecuteTime": {
     "end_time": "2025-04-01T04:28:47.011087Z",
     "start_time": "2025-04-01T04:28:47.008244Z"
    }
   },
   "source": [],
   "outputs": [],
   "execution_count": 23
  },
  {
   "cell_type": "markdown",
   "metadata": {
    "_cell_guid": "ca5fff8c-7a0d-6c18-2173-b8df6293c50a",
    "_uuid": "84862f8cbbe2ea72b69a9cba78c6b7e10c80626e",
    "id": "raYIAPD7XisS"
   },
   "source": [
    "4.3 :\n",
    "Remplacer 'Melle et 'Ms' par 'Miss'\n",
    "\n",
    "Remplacer 'Mme' par 'Mrs'\n",
    "\n",
    "Creer une valeur \"Rare\" pour les autres titres avec moins de 10 occurences.\n",
    "\n",
    "Calculer ensuite le taux de survie par titre"
   ]
  },
  {
   "cell_type": "code",
   "metadata": {
    "_cell_guid": "8357238b-98fe-632a-acd5-33674a6132ce",
    "_uuid": "db0029466612ad0550fc0eebef4a06a5507d6c3d",
    "id": "IH6zgFFJXisS",
    "ExecuteTime": {
     "end_time": "2025-04-01T04:28:47.021093Z",
     "start_time": "2025-04-01T04:28:47.018098Z"
    }
   },
   "source": [],
   "outputs": [],
   "execution_count": 23
  },
  {
   "cell_type": "markdown",
   "metadata": {
    "_cell_guid": "68fa2057-e27a-e252-0d1b-869c00a303ba",
    "_uuid": "52bcf7b36b8edb12d40f2a1f9e80060b55d91ad3",
    "id": "beRUBgmjXisS"
   },
   "source": [
    "## 5. Mise en forme des données non numériques"
   ]
  },
  {
   "cell_type": "markdown",
   "metadata": {
    "id": "T6qjvgsPXisS"
   },
   "source": [
    "5.1 Attribuer une valeur numérique au Genre. Par exemple 0 pour 'female' et 1 pour 'male'"
   ]
  },
  {
   "cell_type": "code",
   "metadata": {
    "id": "1WawY5mEXisS",
    "ExecuteTime": {
     "end_time": "2025-04-01T04:28:47.047145Z",
     "start_time": "2025-04-01T04:28:47.044147Z"
    }
   },
   "source": [],
   "outputs": [],
   "execution_count": 23
  },
  {
   "cell_type": "markdown",
   "metadata": {
    "id": "2xe7Ta3sXisS"
   },
   "source": [
    "5.2 : Attribuer une valeur pour les possibilités de la variable \"Title\" ('Master','Miss','Mr','Mrs','Rare')"
   ]
  },
  {
   "cell_type": "code",
   "metadata": {
    "id": "CisKjXkHXisS",
    "ExecuteTime": {
     "end_time": "2025-04-01T04:28:47.114773Z",
     "start_time": "2025-04-01T04:28:47.111674Z"
    }
   },
   "source": [],
   "outputs": [],
   "execution_count": 23
  },
  {
   "cell_type": "markdown",
   "metadata": {
    "id": "rdyXl_ZEXisS"
   },
   "source": [
    "5.3 Remplacer les titres manquant par 0, et attribuer à la colonne le type entier"
   ]
  },
  {
   "cell_type": "code",
   "metadata": {
    "id": "SyyJv4_zXisS",
    "ExecuteTime": {
     "end_time": "2025-04-01T04:28:47.140641Z",
     "start_time": "2025-04-01T04:28:47.138302Z"
    }
   },
   "source": [],
   "outputs": [],
   "execution_count": 23
  },
  {
   "cell_type": "markdown",
   "metadata": {
    "id": "tkSusvKwXisS"
   },
   "source": [
    "5.4 Attribuer une valeur numérique aux 4 catégories de la variable Fare"
   ]
  },
  {
   "cell_type": "code",
   "metadata": {
    "id": "nuZ6BTDjXisS",
    "ExecuteTime": {
     "end_time": "2025-04-01T04:28:47.193652Z",
     "start_time": "2025-04-01T04:28:47.190651Z"
    }
   },
   "source": [],
   "outputs": [],
   "execution_count": 23
  },
  {
   "cell_type": "markdown",
   "metadata": {
    "id": "5wVlyVlrXisT"
   },
   "source": [
    "5.5 Attibuer une valeur numérique au Port d'embarquement (Embarked)"
   ]
  },
  {
   "cell_type": "code",
   "metadata": {
    "id": "ZmSlvBfxXisT",
    "ExecuteTime": {
     "end_time": "2025-04-01T04:28:47.213822Z",
     "start_time": "2025-04-01T04:28:47.210816Z"
    }
   },
   "source": [],
   "outputs": [],
   "execution_count": 23
  },
  {
   "cell_type": "markdown",
   "metadata": {
    "id": "pyHH8kgaXisT"
   },
   "source": [
    "5.6 Supprimer les features inutiles"
   ]
  },
  {
   "cell_type": "code",
   "metadata": {
    "id": "Zt5dsrkgXisT",
    "ExecuteTime": {
     "end_time": "2025-04-01T04:28:47.253781Z",
     "start_time": "2025-04-01T04:28:47.250885Z"
    }
   },
   "source": [],
   "outputs": [],
   "execution_count": 23
  },
  {
   "cell_type": "markdown",
   "metadata": {
    "id": "umehkc9WXisT"
   },
   "source": [
    "5.7 Afficher les infos pour les deux datasets"
   ]
  },
  {
   "cell_type": "code",
   "metadata": {
    "id": "6aLsbq8dXisT",
    "ExecuteTime": {
     "end_time": "2025-04-01T04:28:47.277937Z",
     "start_time": "2025-04-01T04:28:47.274789Z"
    }
   },
   "source": [],
   "outputs": [],
   "execution_count": 23
  },
  {
   "cell_type": "markdown",
   "metadata": {
    "id": "5fP_KytkXisT"
   },
   "source": [
    "5.8 Sauver les deux datasets dans des fichier csv. Eviter d'écrire un index (n° de ligne)"
   ]
  },
  {
   "cell_type": "code",
   "metadata": {
    "_cell_guid": "2502bb70-ce6f-2497-7331-7d1f80521470",
    "_uuid": "1aa110c1043f1f43c091a771abc64054a211f784",
    "id": "zn_za9XvXisT",
    "ExecuteTime": {
     "end_time": "2025-04-01T04:28:47.316556Z",
     "start_time": "2025-04-01T04:28:47.313954Z"
    }
   },
   "source": [],
   "outputs": [],
   "execution_count": 23
  }
 ],
 "metadata": {
  "_change_revision": 0,
  "_is_fork": false,
  "kernelspec": {
   "display_name": "Python 3",
   "language": "python",
   "name": "python3"
  },
  "language_info": {
   "codemirror_mode": {
    "name": "ipython",
    "version": 3
   },
   "file_extension": ".py",
   "mimetype": "text/x-python",
   "name": "python",
   "nbconvert_exporter": "python",
   "pygments_lexer": "ipython3",
   "version": "3.7.4"
  },
  "colab": {
   "provenance": []
  }
 },
 "nbformat": 4,
 "nbformat_minor": 0
}
=======
  "cells": [
    {
      "cell_type": "markdown",
      "metadata": {
        "id": "pchoYou5XisK"
      },
      "source": [
        "## Import des librairies ##"
      ]
    },
    {
      "cell_type": "code",
      "metadata": {
        "id": "PwqIbbtSXisL",
        "ExecuteTime": {
          "end_time": "2025-04-01T03:36:44.772625Z",
          "start_time": "2025-04-01T03:36:44.493454Z"
        }
      },
      "source": [
        "#Imports librairies de base\n",
        "import numpy as np\n",
        "import pandas as pd\n",
        "\n",
        "#Affichage de Graphes\n",
        "from IPython.display import Markdown, display, HTML\n",
        "import matplotlib.pyplot as plt\n",
        "\n",
        "#Information Mutuelle\n",
        "from sklearn.feature_selection import mutual_info_regression\n"
      ],
      "outputs": [],
      "execution_count": 5
    },
    {
      "cell_type": "markdown",
      "metadata": {
        "_cell_guid": "25b1e1db-8bc5-7029-f719-91da523bd121",
        "_uuid": "5c867fcbb300bcf3c9b8986bba9949da2a2df931",
        "id": "VlKpxRqvXisM"
      },
      "source": [
        "## 1. Lecture des données ##"
      ]
    },
    {
      "cell_type": "markdown",
      "metadata": {
        "id": "UJbdLKYsXisN"
      },
      "source": [
        "1.1 Charger les données d'apprentissage (Data/passagers.csv) dans un DataFrame nommé train. Afficher 10 exemples."
      ]
    },
    {
      "cell_type": "code",
      "execution_count": 7,
      "metadata": {
        "_cell_guid": "2ce68358-02ec-556d-ba88-e773a50bc18b",
        "_uuid": "5ec0878acc5c7ab3903410e671c2a2c6cfeafeea",
        "id": "5IzGAuN7XisN",
        "colab": {
          "base_uri": "https://localhost:8080/",
          "height": 363
        },
        "outputId": "b20facb7-171d-4548-973d-828324c41164"
      },
      "outputs": [
        {
          "output_type": "execute_result",
          "data": {
            "text/plain": [
              "   PassengerId  Survived  Pclass  \\\n",
              "0            1         0       3   \n",
              "1            2         1       1   \n",
              "2            3         1       3   \n",
              "3            4         1       1   \n",
              "4            5         0       3   \n",
              "5            6         0       3   \n",
              "6            7         0       1   \n",
              "7            8         0       3   \n",
              "8            9         1       3   \n",
              "9           10         1       2   \n",
              "\n",
              "                                                Name     Sex   Age  SibSp  \\\n",
              "0                            Braund, Mr. Owen Harris    male  22.0      1   \n",
              "1  Cumings, Mrs. John Bradley (Florence Briggs Th...  female  38.0      1   \n",
              "2                             Heikkinen, Miss. Laina  female  26.0      0   \n",
              "3       Futrelle, Mrs. Jacques Heath (Lily May Peel)  female  35.0      1   \n",
              "4                           Allen, Mr. William Henry    male  35.0      0   \n",
              "5                                   Moran, Mr. James    male   NaN      0   \n",
              "6                            McCarthy, Mr. Timothy J    male  54.0      0   \n",
              "7                     Palsson, Master. Gosta Leonard    male   2.0      3   \n",
              "8  Johnson, Mrs. Oscar W (Elisabeth Vilhelmina Berg)  female  27.0      0   \n",
              "9                Nasser, Mrs. Nicholas (Adele Achem)  female  14.0      1   \n",
              "\n",
              "   Parch            Ticket     Fare Cabin Embarked  \n",
              "0      0         A/5 21171   7.2500   NaN        S  \n",
              "1      0          PC 17599  71.2833   C85        C  \n",
              "2      0  STON/O2. 3101282   7.9250   NaN        S  \n",
              "3      0            113803  53.1000  C123        S  \n",
              "4      0            373450   8.0500   NaN        S  \n",
              "5      0            330877   8.4583   NaN        Q  \n",
              "6      0             17463  51.8625   E46        S  \n",
              "7      1            349909  21.0750   NaN        S  \n",
              "8      2            347742  11.1333   NaN        S  \n",
              "9      0            237736  30.0708   NaN        C  "
            ],
            "text/html": [
              "\n",
              "  <div id=\"df-6ff28e75-f395-420e-b7c6-5667048a220f\" class=\"colab-df-container\">\n",
              "    <div>\n",
              "<style scoped>\n",
              "    .dataframe tbody tr th:only-of-type {\n",
              "        vertical-align: middle;\n",
              "    }\n",
              "\n",
              "    .dataframe tbody tr th {\n",
              "        vertical-align: top;\n",
              "    }\n",
              "\n",
              "    .dataframe thead th {\n",
              "        text-align: right;\n",
              "    }\n",
              "</style>\n",
              "<table border=\"1\" class=\"dataframe\">\n",
              "  <thead>\n",
              "    <tr style=\"text-align: right;\">\n",
              "      <th></th>\n",
              "      <th>PassengerId</th>\n",
              "      <th>Survived</th>\n",
              "      <th>Pclass</th>\n",
              "      <th>Name</th>\n",
              "      <th>Sex</th>\n",
              "      <th>Age</th>\n",
              "      <th>SibSp</th>\n",
              "      <th>Parch</th>\n",
              "      <th>Ticket</th>\n",
              "      <th>Fare</th>\n",
              "      <th>Cabin</th>\n",
              "      <th>Embarked</th>\n",
              "    </tr>\n",
              "  </thead>\n",
              "  <tbody>\n",
              "    <tr>\n",
              "      <th>0</th>\n",
              "      <td>1</td>\n",
              "      <td>0</td>\n",
              "      <td>3</td>\n",
              "      <td>Braund, Mr. Owen Harris</td>\n",
              "      <td>male</td>\n",
              "      <td>22.0</td>\n",
              "      <td>1</td>\n",
              "      <td>0</td>\n",
              "      <td>A/5 21171</td>\n",
              "      <td>7.2500</td>\n",
              "      <td>NaN</td>\n",
              "      <td>S</td>\n",
              "    </tr>\n",
              "    <tr>\n",
              "      <th>1</th>\n",
              "      <td>2</td>\n",
              "      <td>1</td>\n",
              "      <td>1</td>\n",
              "      <td>Cumings, Mrs. John Bradley (Florence Briggs Th...</td>\n",
              "      <td>female</td>\n",
              "      <td>38.0</td>\n",
              "      <td>1</td>\n",
              "      <td>0</td>\n",
              "      <td>PC 17599</td>\n",
              "      <td>71.2833</td>\n",
              "      <td>C85</td>\n",
              "      <td>C</td>\n",
              "    </tr>\n",
              "    <tr>\n",
              "      <th>2</th>\n",
              "      <td>3</td>\n",
              "      <td>1</td>\n",
              "      <td>3</td>\n",
              "      <td>Heikkinen, Miss. Laina</td>\n",
              "      <td>female</td>\n",
              "      <td>26.0</td>\n",
              "      <td>0</td>\n",
              "      <td>0</td>\n",
              "      <td>STON/O2. 3101282</td>\n",
              "      <td>7.9250</td>\n",
              "      <td>NaN</td>\n",
              "      <td>S</td>\n",
              "    </tr>\n",
              "    <tr>\n",
              "      <th>3</th>\n",
              "      <td>4</td>\n",
              "      <td>1</td>\n",
              "      <td>1</td>\n",
              "      <td>Futrelle, Mrs. Jacques Heath (Lily May Peel)</td>\n",
              "      <td>female</td>\n",
              "      <td>35.0</td>\n",
              "      <td>1</td>\n",
              "      <td>0</td>\n",
              "      <td>113803</td>\n",
              "      <td>53.1000</td>\n",
              "      <td>C123</td>\n",
              "      <td>S</td>\n",
              "    </tr>\n",
              "    <tr>\n",
              "      <th>4</th>\n",
              "      <td>5</td>\n",
              "      <td>0</td>\n",
              "      <td>3</td>\n",
              "      <td>Allen, Mr. William Henry</td>\n",
              "      <td>male</td>\n",
              "      <td>35.0</td>\n",
              "      <td>0</td>\n",
              "      <td>0</td>\n",
              "      <td>373450</td>\n",
              "      <td>8.0500</td>\n",
              "      <td>NaN</td>\n",
              "      <td>S</td>\n",
              "    </tr>\n",
              "    <tr>\n",
              "      <th>5</th>\n",
              "      <td>6</td>\n",
              "      <td>0</td>\n",
              "      <td>3</td>\n",
              "      <td>Moran, Mr. James</td>\n",
              "      <td>male</td>\n",
              "      <td>NaN</td>\n",
              "      <td>0</td>\n",
              "      <td>0</td>\n",
              "      <td>330877</td>\n",
              "      <td>8.4583</td>\n",
              "      <td>NaN</td>\n",
              "      <td>Q</td>\n",
              "    </tr>\n",
              "    <tr>\n",
              "      <th>6</th>\n",
              "      <td>7</td>\n",
              "      <td>0</td>\n",
              "      <td>1</td>\n",
              "      <td>McCarthy, Mr. Timothy J</td>\n",
              "      <td>male</td>\n",
              "      <td>54.0</td>\n",
              "      <td>0</td>\n",
              "      <td>0</td>\n",
              "      <td>17463</td>\n",
              "      <td>51.8625</td>\n",
              "      <td>E46</td>\n",
              "      <td>S</td>\n",
              "    </tr>\n",
              "    <tr>\n",
              "      <th>7</th>\n",
              "      <td>8</td>\n",
              "      <td>0</td>\n",
              "      <td>3</td>\n",
              "      <td>Palsson, Master. Gosta Leonard</td>\n",
              "      <td>male</td>\n",
              "      <td>2.0</td>\n",
              "      <td>3</td>\n",
              "      <td>1</td>\n",
              "      <td>349909</td>\n",
              "      <td>21.0750</td>\n",
              "      <td>NaN</td>\n",
              "      <td>S</td>\n",
              "    </tr>\n",
              "    <tr>\n",
              "      <th>8</th>\n",
              "      <td>9</td>\n",
              "      <td>1</td>\n",
              "      <td>3</td>\n",
              "      <td>Johnson, Mrs. Oscar W (Elisabeth Vilhelmina Berg)</td>\n",
              "      <td>female</td>\n",
              "      <td>27.0</td>\n",
              "      <td>0</td>\n",
              "      <td>2</td>\n",
              "      <td>347742</td>\n",
              "      <td>11.1333</td>\n",
              "      <td>NaN</td>\n",
              "      <td>S</td>\n",
              "    </tr>\n",
              "    <tr>\n",
              "      <th>9</th>\n",
              "      <td>10</td>\n",
              "      <td>1</td>\n",
              "      <td>2</td>\n",
              "      <td>Nasser, Mrs. Nicholas (Adele Achem)</td>\n",
              "      <td>female</td>\n",
              "      <td>14.0</td>\n",
              "      <td>1</td>\n",
              "      <td>0</td>\n",
              "      <td>237736</td>\n",
              "      <td>30.0708</td>\n",
              "      <td>NaN</td>\n",
              "      <td>C</td>\n",
              "    </tr>\n",
              "  </tbody>\n",
              "</table>\n",
              "</div>\n",
              "    <div class=\"colab-df-buttons\">\n",
              "\n",
              "  <div class=\"colab-df-container\">\n",
              "    <button class=\"colab-df-convert\" onclick=\"convertToInteractive('df-6ff28e75-f395-420e-b7c6-5667048a220f')\"\n",
              "            title=\"Convert this dataframe to an interactive table.\"\n",
              "            style=\"display:none;\">\n",
              "\n",
              "  <svg xmlns=\"http://www.w3.org/2000/svg\" height=\"24px\" viewBox=\"0 -960 960 960\">\n",
              "    <path d=\"M120-120v-720h720v720H120Zm60-500h600v-160H180v160Zm220 220h160v-160H400v160Zm0 220h160v-160H400v160ZM180-400h160v-160H180v160Zm440 0h160v-160H620v160ZM180-180h160v-160H180v160Zm440 0h160v-160H620v160Z\"/>\n",
              "  </svg>\n",
              "    </button>\n",
              "\n",
              "  <style>\n",
              "    .colab-df-container {\n",
              "      display:flex;\n",
              "      gap: 12px;\n",
              "    }\n",
              "\n",
              "    .colab-df-convert {\n",
              "      background-color: #E8F0FE;\n",
              "      border: none;\n",
              "      border-radius: 50%;\n",
              "      cursor: pointer;\n",
              "      display: none;\n",
              "      fill: #1967D2;\n",
              "      height: 32px;\n",
              "      padding: 0 0 0 0;\n",
              "      width: 32px;\n",
              "    }\n",
              "\n",
              "    .colab-df-convert:hover {\n",
              "      background-color: #E2EBFA;\n",
              "      box-shadow: 0px 1px 2px rgba(60, 64, 67, 0.3), 0px 1px 3px 1px rgba(60, 64, 67, 0.15);\n",
              "      fill: #174EA6;\n",
              "    }\n",
              "\n",
              "    .colab-df-buttons div {\n",
              "      margin-bottom: 4px;\n",
              "    }\n",
              "\n",
              "    [theme=dark] .colab-df-convert {\n",
              "      background-color: #3B4455;\n",
              "      fill: #D2E3FC;\n",
              "    }\n",
              "\n",
              "    [theme=dark] .colab-df-convert:hover {\n",
              "      background-color: #434B5C;\n",
              "      box-shadow: 0px 1px 3px 1px rgba(0, 0, 0, 0.15);\n",
              "      filter: drop-shadow(0px 1px 2px rgba(0, 0, 0, 0.3));\n",
              "      fill: #FFFFFF;\n",
              "    }\n",
              "  </style>\n",
              "\n",
              "    <script>\n",
              "      const buttonEl =\n",
              "        document.querySelector('#df-6ff28e75-f395-420e-b7c6-5667048a220f button.colab-df-convert');\n",
              "      buttonEl.style.display =\n",
              "        google.colab.kernel.accessAllowed ? 'block' : 'none';\n",
              "\n",
              "      async function convertToInteractive(key) {\n",
              "        const element = document.querySelector('#df-6ff28e75-f395-420e-b7c6-5667048a220f');\n",
              "        const dataTable =\n",
              "          await google.colab.kernel.invokeFunction('convertToInteractive',\n",
              "                                                    [key], {});\n",
              "        if (!dataTable) return;\n",
              "\n",
              "        const docLinkHtml = 'Like what you see? Visit the ' +\n",
              "          '<a target=\"_blank\" href=https://colab.research.google.com/notebooks/data_table.ipynb>data table notebook</a>'\n",
              "          + ' to learn more about interactive tables.';\n",
              "        element.innerHTML = '';\n",
              "        dataTable['output_type'] = 'display_data';\n",
              "        await google.colab.output.renderOutput(dataTable, element);\n",
              "        const docLink = document.createElement('div');\n",
              "        docLink.innerHTML = docLinkHtml;\n",
              "        element.appendChild(docLink);\n",
              "      }\n",
              "    </script>\n",
              "  </div>\n",
              "\n",
              "\n",
              "<div id=\"df-331adf85-a1ca-4e9c-ac74-14703984ca6b\">\n",
              "  <button class=\"colab-df-quickchart\" onclick=\"quickchart('df-331adf85-a1ca-4e9c-ac74-14703984ca6b')\"\n",
              "            title=\"Suggest charts\"\n",
              "            style=\"display:none;\">\n",
              "\n",
              "<svg xmlns=\"http://www.w3.org/2000/svg\" height=\"24px\"viewBox=\"0 0 24 24\"\n",
              "     width=\"24px\">\n",
              "    <g>\n",
              "        <path d=\"M19 3H5c-1.1 0-2 .9-2 2v14c0 1.1.9 2 2 2h14c1.1 0 2-.9 2-2V5c0-1.1-.9-2-2-2zM9 17H7v-7h2v7zm4 0h-2V7h2v10zm4 0h-2v-4h2v4z\"/>\n",
              "    </g>\n",
              "</svg>\n",
              "  </button>\n",
              "\n",
              "<style>\n",
              "  .colab-df-quickchart {\n",
              "      --bg-color: #E8F0FE;\n",
              "      --fill-color: #1967D2;\n",
              "      --hover-bg-color: #E2EBFA;\n",
              "      --hover-fill-color: #174EA6;\n",
              "      --disabled-fill-color: #AAA;\n",
              "      --disabled-bg-color: #DDD;\n",
              "  }\n",
              "\n",
              "  [theme=dark] .colab-df-quickchart {\n",
              "      --bg-color: #3B4455;\n",
              "      --fill-color: #D2E3FC;\n",
              "      --hover-bg-color: #434B5C;\n",
              "      --hover-fill-color: #FFFFFF;\n",
              "      --disabled-bg-color: #3B4455;\n",
              "      --disabled-fill-color: #666;\n",
              "  }\n",
              "\n",
              "  .colab-df-quickchart {\n",
              "    background-color: var(--bg-color);\n",
              "    border: none;\n",
              "    border-radius: 50%;\n",
              "    cursor: pointer;\n",
              "    display: none;\n",
              "    fill: var(--fill-color);\n",
              "    height: 32px;\n",
              "    padding: 0;\n",
              "    width: 32px;\n",
              "  }\n",
              "\n",
              "  .colab-df-quickchart:hover {\n",
              "    background-color: var(--hover-bg-color);\n",
              "    box-shadow: 0 1px 2px rgba(60, 64, 67, 0.3), 0 1px 3px 1px rgba(60, 64, 67, 0.15);\n",
              "    fill: var(--button-hover-fill-color);\n",
              "  }\n",
              "\n",
              "  .colab-df-quickchart-complete:disabled,\n",
              "  .colab-df-quickchart-complete:disabled:hover {\n",
              "    background-color: var(--disabled-bg-color);\n",
              "    fill: var(--disabled-fill-color);\n",
              "    box-shadow: none;\n",
              "  }\n",
              "\n",
              "  .colab-df-spinner {\n",
              "    border: 2px solid var(--fill-color);\n",
              "    border-color: transparent;\n",
              "    border-bottom-color: var(--fill-color);\n",
              "    animation:\n",
              "      spin 1s steps(1) infinite;\n",
              "  }\n",
              "\n",
              "  @keyframes spin {\n",
              "    0% {\n",
              "      border-color: transparent;\n",
              "      border-bottom-color: var(--fill-color);\n",
              "      border-left-color: var(--fill-color);\n",
              "    }\n",
              "    20% {\n",
              "      border-color: transparent;\n",
              "      border-left-color: var(--fill-color);\n",
              "      border-top-color: var(--fill-color);\n",
              "    }\n",
              "    30% {\n",
              "      border-color: transparent;\n",
              "      border-left-color: var(--fill-color);\n",
              "      border-top-color: var(--fill-color);\n",
              "      border-right-color: var(--fill-color);\n",
              "    }\n",
              "    40% {\n",
              "      border-color: transparent;\n",
              "      border-right-color: var(--fill-color);\n",
              "      border-top-color: var(--fill-color);\n",
              "    }\n",
              "    60% {\n",
              "      border-color: transparent;\n",
              "      border-right-color: var(--fill-color);\n",
              "    }\n",
              "    80% {\n",
              "      border-color: transparent;\n",
              "      border-right-color: var(--fill-color);\n",
              "      border-bottom-color: var(--fill-color);\n",
              "    }\n",
              "    90% {\n",
              "      border-color: transparent;\n",
              "      border-bottom-color: var(--fill-color);\n",
              "    }\n",
              "  }\n",
              "</style>\n",
              "\n",
              "  <script>\n",
              "    async function quickchart(key) {\n",
              "      const quickchartButtonEl =\n",
              "        document.querySelector('#' + key + ' button');\n",
              "      quickchartButtonEl.disabled = true;  // To prevent multiple clicks.\n",
              "      quickchartButtonEl.classList.add('colab-df-spinner');\n",
              "      try {\n",
              "        const charts = await google.colab.kernel.invokeFunction(\n",
              "            'suggestCharts', [key], {});\n",
              "      } catch (error) {\n",
              "        console.error('Error during call to suggestCharts:', error);\n",
              "      }\n",
              "      quickchartButtonEl.classList.remove('colab-df-spinner');\n",
              "      quickchartButtonEl.classList.add('colab-df-quickchart-complete');\n",
              "    }\n",
              "    (() => {\n",
              "      let quickchartButtonEl =\n",
              "        document.querySelector('#df-331adf85-a1ca-4e9c-ac74-14703984ca6b button');\n",
              "      quickchartButtonEl.style.display =\n",
              "        google.colab.kernel.accessAllowed ? 'block' : 'none';\n",
              "    })();\n",
              "  </script>\n",
              "</div>\n",
              "\n",
              "    </div>\n",
              "  </div>\n"
            ],
            "application/vnd.google.colaboratory.intrinsic+json": {
              "type": "dataframe",
              "variable_name": "train",
              "summary": "{\n  \"name\": \"train\",\n  \"rows\": 891,\n  \"fields\": [\n    {\n      \"column\": \"PassengerId\",\n      \"properties\": {\n        \"dtype\": \"number\",\n        \"std\": 257,\n        \"min\": 1,\n        \"max\": 891,\n        \"num_unique_values\": 891,\n        \"samples\": [\n          710,\n          440,\n          841\n        ],\n        \"semantic_type\": \"\",\n        \"description\": \"\"\n      }\n    },\n    {\n      \"column\": \"Survived\",\n      \"properties\": {\n        \"dtype\": \"number\",\n        \"std\": 0,\n        \"min\": 0,\n        \"max\": 1,\n        \"num_unique_values\": 2,\n        \"samples\": [\n          1,\n          0\n        ],\n        \"semantic_type\": \"\",\n        \"description\": \"\"\n      }\n    },\n    {\n      \"column\": \"Pclass\",\n      \"properties\": {\n        \"dtype\": \"number\",\n        \"std\": 0,\n        \"min\": 1,\n        \"max\": 3,\n        \"num_unique_values\": 3,\n        \"samples\": [\n          3,\n          1\n        ],\n        \"semantic_type\": \"\",\n        \"description\": \"\"\n      }\n    },\n    {\n      \"column\": \"Name\",\n      \"properties\": {\n        \"dtype\": \"string\",\n        \"num_unique_values\": 891,\n        \"samples\": [\n          \"Moubarek, Master. Halim Gonios (\\\"William George\\\")\",\n          \"Kvillner, Mr. Johan Henrik Johannesson\"\n        ],\n        \"semantic_type\": \"\",\n        \"description\": \"\"\n      }\n    },\n    {\n      \"column\": \"Sex\",\n      \"properties\": {\n        \"dtype\": \"category\",\n        \"num_unique_values\": 2,\n        \"samples\": [\n          \"female\",\n          \"male\"\n        ],\n        \"semantic_type\": \"\",\n        \"description\": \"\"\n      }\n    },\n    {\n      \"column\": \"Age\",\n      \"properties\": {\n        \"dtype\": \"number\",\n        \"std\": 14.526497332334044,\n        \"min\": 0.42,\n        \"max\": 80.0,\n        \"num_unique_values\": 88,\n        \"samples\": [\n          0.75,\n          22.0\n        ],\n        \"semantic_type\": \"\",\n        \"description\": \"\"\n      }\n    },\n    {\n      \"column\": \"SibSp\",\n      \"properties\": {\n        \"dtype\": \"number\",\n        \"std\": 1,\n        \"min\": 0,\n        \"max\": 8,\n        \"num_unique_values\": 7,\n        \"samples\": [\n          1,\n          0\n        ],\n        \"semantic_type\": \"\",\n        \"description\": \"\"\n      }\n    },\n    {\n      \"column\": \"Parch\",\n      \"properties\": {\n        \"dtype\": \"number\",\n        \"std\": 0,\n        \"min\": 0,\n        \"max\": 6,\n        \"num_unique_values\": 7,\n        \"samples\": [\n          0,\n          1\n        ],\n        \"semantic_type\": \"\",\n        \"description\": \"\"\n      }\n    },\n    {\n      \"column\": \"Ticket\",\n      \"properties\": {\n        \"dtype\": \"string\",\n        \"num_unique_values\": 681,\n        \"samples\": [\n          \"11774\",\n          \"248740\"\n        ],\n        \"semantic_type\": \"\",\n        \"description\": \"\"\n      }\n    },\n    {\n      \"column\": \"Fare\",\n      \"properties\": {\n        \"dtype\": \"number\",\n        \"std\": 49.693428597180905,\n        \"min\": 0.0,\n        \"max\": 512.3292,\n        \"num_unique_values\": 248,\n        \"samples\": [\n          11.2417,\n          51.8625\n        ],\n        \"semantic_type\": \"\",\n        \"description\": \"\"\n      }\n    },\n    {\n      \"column\": \"Cabin\",\n      \"properties\": {\n        \"dtype\": \"category\",\n        \"num_unique_values\": 147,\n        \"samples\": [\n          \"D45\",\n          \"B49\"\n        ],\n        \"semantic_type\": \"\",\n        \"description\": \"\"\n      }\n    },\n    {\n      \"column\": \"Embarked\",\n      \"properties\": {\n        \"dtype\": \"category\",\n        \"num_unique_values\": 3,\n        \"samples\": [\n          \"S\",\n          \"C\"\n        ],\n        \"semantic_type\": \"\",\n        \"description\": \"\"\n      }\n    }\n  ]\n}"
            }
          },
          "metadata": {},
          "execution_count": 7
        }
      ],
      "source": [
        "# prompt: Charger les données d'apprentissage (Data/passagers.csv) dans un DataFrame nommé train. Afficher 10 exemples.\n",
        "\n",
        "import pandas as pd\n",
        "train = pd.read_csv('/content/drive/MyDrive/B3_CollecteDonnees/TP_Collecte/passagers.csv') # Remplacez par le chemin correct si nécessaire\n",
        "train.head(10)\n"
      ]
    },
    {
      "cell_type": "markdown",
      "metadata": {
        "id": "6hkp37mHXisN"
      },
      "source": [
        "1.2 Charger les données d'apprentissage (Data/test.csv) dans un Dataframe nommé test. Afficher 10 exemples."
      ]
    },
    {
      "cell_type": "code",
      "execution_count": 8,
      "metadata": {
        "_cell_guid": "2ce68358-02ec-556d-ba88-e773a50bc18b",
        "_uuid": "5ec0878acc5c7ab3903410e671c2a2c6cfeafeea",
        "id": "n9T7yumjXisO",
        "colab": {
          "base_uri": "https://localhost:8080/",
          "height": 363
        },
        "outputId": "1e380897-223e-442b-b4f5-413163165d6a"
      },
      "outputs": [
        {
          "output_type": "execute_result",
          "data": {
            "text/plain": [
              "   PassengerId  Pclass                                          Name     Sex  \\\n",
              "0          892       3                              Kelly, Mr. James    male   \n",
              "1          893       3              Wilkes, Mrs. James (Ellen Needs)  female   \n",
              "2          894       2                     Myles, Mr. Thomas Francis    male   \n",
              "3          895       3                              Wirz, Mr. Albert    male   \n",
              "4          896       3  Hirvonen, Mrs. Alexander (Helga E Lindqvist)  female   \n",
              "5          897       3                    Svensson, Mr. Johan Cervin    male   \n",
              "6          898       3                          Connolly, Miss. Kate  female   \n",
              "7          899       2                  Caldwell, Mr. Albert Francis    male   \n",
              "8          900       3     Abrahim, Mrs. Joseph (Sophie Halaut Easu)  female   \n",
              "9          901       3                       Davies, Mr. John Samuel    male   \n",
              "\n",
              "    Age  SibSp  Parch     Ticket     Fare Cabin Embarked  \n",
              "0  34.5      0      0     330911   7.8292   NaN        Q  \n",
              "1  47.0      1      0     363272   7.0000   NaN        S  \n",
              "2  62.0      0      0     240276   9.6875   NaN        Q  \n",
              "3  27.0      0      0     315154   8.6625   NaN        S  \n",
              "4  22.0      1      1    3101298  12.2875   NaN        S  \n",
              "5  14.0      0      0       7538   9.2250   NaN        S  \n",
              "6  30.0      0      0     330972   7.6292   NaN        Q  \n",
              "7  26.0      1      1     248738  29.0000   NaN        S  \n",
              "8  18.0      0      0       2657   7.2292   NaN        C  \n",
              "9  21.0      2      0  A/4 48871  24.1500   NaN        S  "
            ],
            "text/html": [
              "\n",
              "  <div id=\"df-22973bef-006d-46d2-912c-517765d3c5f6\" class=\"colab-df-container\">\n",
              "    <div>\n",
              "<style scoped>\n",
              "    .dataframe tbody tr th:only-of-type {\n",
              "        vertical-align: middle;\n",
              "    }\n",
              "\n",
              "    .dataframe tbody tr th {\n",
              "        vertical-align: top;\n",
              "    }\n",
              "\n",
              "    .dataframe thead th {\n",
              "        text-align: right;\n",
              "    }\n",
              "</style>\n",
              "<table border=\"1\" class=\"dataframe\">\n",
              "  <thead>\n",
              "    <tr style=\"text-align: right;\">\n",
              "      <th></th>\n",
              "      <th>PassengerId</th>\n",
              "      <th>Pclass</th>\n",
              "      <th>Name</th>\n",
              "      <th>Sex</th>\n",
              "      <th>Age</th>\n",
              "      <th>SibSp</th>\n",
              "      <th>Parch</th>\n",
              "      <th>Ticket</th>\n",
              "      <th>Fare</th>\n",
              "      <th>Cabin</th>\n",
              "      <th>Embarked</th>\n",
              "    </tr>\n",
              "  </thead>\n",
              "  <tbody>\n",
              "    <tr>\n",
              "      <th>0</th>\n",
              "      <td>892</td>\n",
              "      <td>3</td>\n",
              "      <td>Kelly, Mr. James</td>\n",
              "      <td>male</td>\n",
              "      <td>34.5</td>\n",
              "      <td>0</td>\n",
              "      <td>0</td>\n",
              "      <td>330911</td>\n",
              "      <td>7.8292</td>\n",
              "      <td>NaN</td>\n",
              "      <td>Q</td>\n",
              "    </tr>\n",
              "    <tr>\n",
              "      <th>1</th>\n",
              "      <td>893</td>\n",
              "      <td>3</td>\n",
              "      <td>Wilkes, Mrs. James (Ellen Needs)</td>\n",
              "      <td>female</td>\n",
              "      <td>47.0</td>\n",
              "      <td>1</td>\n",
              "      <td>0</td>\n",
              "      <td>363272</td>\n",
              "      <td>7.0000</td>\n",
              "      <td>NaN</td>\n",
              "      <td>S</td>\n",
              "    </tr>\n",
              "    <tr>\n",
              "      <th>2</th>\n",
              "      <td>894</td>\n",
              "      <td>2</td>\n",
              "      <td>Myles, Mr. Thomas Francis</td>\n",
              "      <td>male</td>\n",
              "      <td>62.0</td>\n",
              "      <td>0</td>\n",
              "      <td>0</td>\n",
              "      <td>240276</td>\n",
              "      <td>9.6875</td>\n",
              "      <td>NaN</td>\n",
              "      <td>Q</td>\n",
              "    </tr>\n",
              "    <tr>\n",
              "      <th>3</th>\n",
              "      <td>895</td>\n",
              "      <td>3</td>\n",
              "      <td>Wirz, Mr. Albert</td>\n",
              "      <td>male</td>\n",
              "      <td>27.0</td>\n",
              "      <td>0</td>\n",
              "      <td>0</td>\n",
              "      <td>315154</td>\n",
              "      <td>8.6625</td>\n",
              "      <td>NaN</td>\n",
              "      <td>S</td>\n",
              "    </tr>\n",
              "    <tr>\n",
              "      <th>4</th>\n",
              "      <td>896</td>\n",
              "      <td>3</td>\n",
              "      <td>Hirvonen, Mrs. Alexander (Helga E Lindqvist)</td>\n",
              "      <td>female</td>\n",
              "      <td>22.0</td>\n",
              "      <td>1</td>\n",
              "      <td>1</td>\n",
              "      <td>3101298</td>\n",
              "      <td>12.2875</td>\n",
              "      <td>NaN</td>\n",
              "      <td>S</td>\n",
              "    </tr>\n",
              "    <tr>\n",
              "      <th>5</th>\n",
              "      <td>897</td>\n",
              "      <td>3</td>\n",
              "      <td>Svensson, Mr. Johan Cervin</td>\n",
              "      <td>male</td>\n",
              "      <td>14.0</td>\n",
              "      <td>0</td>\n",
              "      <td>0</td>\n",
              "      <td>7538</td>\n",
              "      <td>9.2250</td>\n",
              "      <td>NaN</td>\n",
              "      <td>S</td>\n",
              "    </tr>\n",
              "    <tr>\n",
              "      <th>6</th>\n",
              "      <td>898</td>\n",
              "      <td>3</td>\n",
              "      <td>Connolly, Miss. Kate</td>\n",
              "      <td>female</td>\n",
              "      <td>30.0</td>\n",
              "      <td>0</td>\n",
              "      <td>0</td>\n",
              "      <td>330972</td>\n",
              "      <td>7.6292</td>\n",
              "      <td>NaN</td>\n",
              "      <td>Q</td>\n",
              "    </tr>\n",
              "    <tr>\n",
              "      <th>7</th>\n",
              "      <td>899</td>\n",
              "      <td>2</td>\n",
              "      <td>Caldwell, Mr. Albert Francis</td>\n",
              "      <td>male</td>\n",
              "      <td>26.0</td>\n",
              "      <td>1</td>\n",
              "      <td>1</td>\n",
              "      <td>248738</td>\n",
              "      <td>29.0000</td>\n",
              "      <td>NaN</td>\n",
              "      <td>S</td>\n",
              "    </tr>\n",
              "    <tr>\n",
              "      <th>8</th>\n",
              "      <td>900</td>\n",
              "      <td>3</td>\n",
              "      <td>Abrahim, Mrs. Joseph (Sophie Halaut Easu)</td>\n",
              "      <td>female</td>\n",
              "      <td>18.0</td>\n",
              "      <td>0</td>\n",
              "      <td>0</td>\n",
              "      <td>2657</td>\n",
              "      <td>7.2292</td>\n",
              "      <td>NaN</td>\n",
              "      <td>C</td>\n",
              "    </tr>\n",
              "    <tr>\n",
              "      <th>9</th>\n",
              "      <td>901</td>\n",
              "      <td>3</td>\n",
              "      <td>Davies, Mr. John Samuel</td>\n",
              "      <td>male</td>\n",
              "      <td>21.0</td>\n",
              "      <td>2</td>\n",
              "      <td>0</td>\n",
              "      <td>A/4 48871</td>\n",
              "      <td>24.1500</td>\n",
              "      <td>NaN</td>\n",
              "      <td>S</td>\n",
              "    </tr>\n",
              "  </tbody>\n",
              "</table>\n",
              "</div>\n",
              "    <div class=\"colab-df-buttons\">\n",
              "\n",
              "  <div class=\"colab-df-container\">\n",
              "    <button class=\"colab-df-convert\" onclick=\"convertToInteractive('df-22973bef-006d-46d2-912c-517765d3c5f6')\"\n",
              "            title=\"Convert this dataframe to an interactive table.\"\n",
              "            style=\"display:none;\">\n",
              "\n",
              "  <svg xmlns=\"http://www.w3.org/2000/svg\" height=\"24px\" viewBox=\"0 -960 960 960\">\n",
              "    <path d=\"M120-120v-720h720v720H120Zm60-500h600v-160H180v160Zm220 220h160v-160H400v160Zm0 220h160v-160H400v160ZM180-400h160v-160H180v160Zm440 0h160v-160H620v160ZM180-180h160v-160H180v160Zm440 0h160v-160H620v160Z\"/>\n",
              "  </svg>\n",
              "    </button>\n",
              "\n",
              "  <style>\n",
              "    .colab-df-container {\n",
              "      display:flex;\n",
              "      gap: 12px;\n",
              "    }\n",
              "\n",
              "    .colab-df-convert {\n",
              "      background-color: #E8F0FE;\n",
              "      border: none;\n",
              "      border-radius: 50%;\n",
              "      cursor: pointer;\n",
              "      display: none;\n",
              "      fill: #1967D2;\n",
              "      height: 32px;\n",
              "      padding: 0 0 0 0;\n",
              "      width: 32px;\n",
              "    }\n",
              "\n",
              "    .colab-df-convert:hover {\n",
              "      background-color: #E2EBFA;\n",
              "      box-shadow: 0px 1px 2px rgba(60, 64, 67, 0.3), 0px 1px 3px 1px rgba(60, 64, 67, 0.15);\n",
              "      fill: #174EA6;\n",
              "    }\n",
              "\n",
              "    .colab-df-buttons div {\n",
              "      margin-bottom: 4px;\n",
              "    }\n",
              "\n",
              "    [theme=dark] .colab-df-convert {\n",
              "      background-color: #3B4455;\n",
              "      fill: #D2E3FC;\n",
              "    }\n",
              "\n",
              "    [theme=dark] .colab-df-convert:hover {\n",
              "      background-color: #434B5C;\n",
              "      box-shadow: 0px 1px 3px 1px rgba(0, 0, 0, 0.15);\n",
              "      filter: drop-shadow(0px 1px 2px rgba(0, 0, 0, 0.3));\n",
              "      fill: #FFFFFF;\n",
              "    }\n",
              "  </style>\n",
              "\n",
              "    <script>\n",
              "      const buttonEl =\n",
              "        document.querySelector('#df-22973bef-006d-46d2-912c-517765d3c5f6 button.colab-df-convert');\n",
              "      buttonEl.style.display =\n",
              "        google.colab.kernel.accessAllowed ? 'block' : 'none';\n",
              "\n",
              "      async function convertToInteractive(key) {\n",
              "        const element = document.querySelector('#df-22973bef-006d-46d2-912c-517765d3c5f6');\n",
              "        const dataTable =\n",
              "          await google.colab.kernel.invokeFunction('convertToInteractive',\n",
              "                                                    [key], {});\n",
              "        if (!dataTable) return;\n",
              "\n",
              "        const docLinkHtml = 'Like what you see? Visit the ' +\n",
              "          '<a target=\"_blank\" href=https://colab.research.google.com/notebooks/data_table.ipynb>data table notebook</a>'\n",
              "          + ' to learn more about interactive tables.';\n",
              "        element.innerHTML = '';\n",
              "        dataTable['output_type'] = 'display_data';\n",
              "        await google.colab.output.renderOutput(dataTable, element);\n",
              "        const docLink = document.createElement('div');\n",
              "        docLink.innerHTML = docLinkHtml;\n",
              "        element.appendChild(docLink);\n",
              "      }\n",
              "    </script>\n",
              "  </div>\n",
              "\n",
              "\n",
              "<div id=\"df-ce42cd8b-1b11-4843-b631-e95f7b8507de\">\n",
              "  <button class=\"colab-df-quickchart\" onclick=\"quickchart('df-ce42cd8b-1b11-4843-b631-e95f7b8507de')\"\n",
              "            title=\"Suggest charts\"\n",
              "            style=\"display:none;\">\n",
              "\n",
              "<svg xmlns=\"http://www.w3.org/2000/svg\" height=\"24px\"viewBox=\"0 0 24 24\"\n",
              "     width=\"24px\">\n",
              "    <g>\n",
              "        <path d=\"M19 3H5c-1.1 0-2 .9-2 2v14c0 1.1.9 2 2 2h14c1.1 0 2-.9 2-2V5c0-1.1-.9-2-2-2zM9 17H7v-7h2v7zm4 0h-2V7h2v10zm4 0h-2v-4h2v4z\"/>\n",
              "    </g>\n",
              "</svg>\n",
              "  </button>\n",
              "\n",
              "<style>\n",
              "  .colab-df-quickchart {\n",
              "      --bg-color: #E8F0FE;\n",
              "      --fill-color: #1967D2;\n",
              "      --hover-bg-color: #E2EBFA;\n",
              "      --hover-fill-color: #174EA6;\n",
              "      --disabled-fill-color: #AAA;\n",
              "      --disabled-bg-color: #DDD;\n",
              "  }\n",
              "\n",
              "  [theme=dark] .colab-df-quickchart {\n",
              "      --bg-color: #3B4455;\n",
              "      --fill-color: #D2E3FC;\n",
              "      --hover-bg-color: #434B5C;\n",
              "      --hover-fill-color: #FFFFFF;\n",
              "      --disabled-bg-color: #3B4455;\n",
              "      --disabled-fill-color: #666;\n",
              "  }\n",
              "\n",
              "  .colab-df-quickchart {\n",
              "    background-color: var(--bg-color);\n",
              "    border: none;\n",
              "    border-radius: 50%;\n",
              "    cursor: pointer;\n",
              "    display: none;\n",
              "    fill: var(--fill-color);\n",
              "    height: 32px;\n",
              "    padding: 0;\n",
              "    width: 32px;\n",
              "  }\n",
              "\n",
              "  .colab-df-quickchart:hover {\n",
              "    background-color: var(--hover-bg-color);\n",
              "    box-shadow: 0 1px 2px rgba(60, 64, 67, 0.3), 0 1px 3px 1px rgba(60, 64, 67, 0.15);\n",
              "    fill: var(--button-hover-fill-color);\n",
              "  }\n",
              "\n",
              "  .colab-df-quickchart-complete:disabled,\n",
              "  .colab-df-quickchart-complete:disabled:hover {\n",
              "    background-color: var(--disabled-bg-color);\n",
              "    fill: var(--disabled-fill-color);\n",
              "    box-shadow: none;\n",
              "  }\n",
              "\n",
              "  .colab-df-spinner {\n",
              "    border: 2px solid var(--fill-color);\n",
              "    border-color: transparent;\n",
              "    border-bottom-color: var(--fill-color);\n",
              "    animation:\n",
              "      spin 1s steps(1) infinite;\n",
              "  }\n",
              "\n",
              "  @keyframes spin {\n",
              "    0% {\n",
              "      border-color: transparent;\n",
              "      border-bottom-color: var(--fill-color);\n",
              "      border-left-color: var(--fill-color);\n",
              "    }\n",
              "    20% {\n",
              "      border-color: transparent;\n",
              "      border-left-color: var(--fill-color);\n",
              "      border-top-color: var(--fill-color);\n",
              "    }\n",
              "    30% {\n",
              "      border-color: transparent;\n",
              "      border-left-color: var(--fill-color);\n",
              "      border-top-color: var(--fill-color);\n",
              "      border-right-color: var(--fill-color);\n",
              "    }\n",
              "    40% {\n",
              "      border-color: transparent;\n",
              "      border-right-color: var(--fill-color);\n",
              "      border-top-color: var(--fill-color);\n",
              "    }\n",
              "    60% {\n",
              "      border-color: transparent;\n",
              "      border-right-color: var(--fill-color);\n",
              "    }\n",
              "    80% {\n",
              "      border-color: transparent;\n",
              "      border-right-color: var(--fill-color);\n",
              "      border-bottom-color: var(--fill-color);\n",
              "    }\n",
              "    90% {\n",
              "      border-color: transparent;\n",
              "      border-bottom-color: var(--fill-color);\n",
              "    }\n",
              "  }\n",
              "</style>\n",
              "\n",
              "  <script>\n",
              "    async function quickchart(key) {\n",
              "      const quickchartButtonEl =\n",
              "        document.querySelector('#' + key + ' button');\n",
              "      quickchartButtonEl.disabled = true;  // To prevent multiple clicks.\n",
              "      quickchartButtonEl.classList.add('colab-df-spinner');\n",
              "      try {\n",
              "        const charts = await google.colab.kernel.invokeFunction(\n",
              "            'suggestCharts', [key], {});\n",
              "      } catch (error) {\n",
              "        console.error('Error during call to suggestCharts:', error);\n",
              "      }\n",
              "      quickchartButtonEl.classList.remove('colab-df-spinner');\n",
              "      quickchartButtonEl.classList.add('colab-df-quickchart-complete');\n",
              "    }\n",
              "    (() => {\n",
              "      let quickchartButtonEl =\n",
              "        document.querySelector('#df-ce42cd8b-1b11-4843-b631-e95f7b8507de button');\n",
              "      quickchartButtonEl.style.display =\n",
              "        google.colab.kernel.accessAllowed ? 'block' : 'none';\n",
              "    })();\n",
              "  </script>\n",
              "</div>\n",
              "\n",
              "    </div>\n",
              "  </div>\n"
            ],
            "application/vnd.google.colaboratory.intrinsic+json": {
              "type": "dataframe",
              "variable_name": "test",
              "summary": "{\n  \"name\": \"test\",\n  \"rows\": 418,\n  \"fields\": [\n    {\n      \"column\": \"PassengerId\",\n      \"properties\": {\n        \"dtype\": \"number\",\n        \"std\": 120,\n        \"min\": 892,\n        \"max\": 1309,\n        \"num_unique_values\": 418,\n        \"samples\": [\n          1213,\n          1216,\n          1280\n        ],\n        \"semantic_type\": \"\",\n        \"description\": \"\"\n      }\n    },\n    {\n      \"column\": \"Pclass\",\n      \"properties\": {\n        \"dtype\": \"number\",\n        \"std\": 0,\n        \"min\": 1,\n        \"max\": 3,\n        \"num_unique_values\": 3,\n        \"samples\": [\n          3,\n          2,\n          1\n        ],\n        \"semantic_type\": \"\",\n        \"description\": \"\"\n      }\n    },\n    {\n      \"column\": \"Name\",\n      \"properties\": {\n        \"dtype\": \"string\",\n        \"num_unique_values\": 418,\n        \"samples\": [\n          \"Krekorian, Mr. Neshan\",\n          \"Kreuchen, Miss. Emilie\",\n          \"Canavan, Mr. Patrick\"\n        ],\n        \"semantic_type\": \"\",\n        \"description\": \"\"\n      }\n    },\n    {\n      \"column\": \"Sex\",\n      \"properties\": {\n        \"dtype\": \"category\",\n        \"num_unique_values\": 2,\n        \"samples\": [\n          \"female\",\n          \"male\"\n        ],\n        \"semantic_type\": \"\",\n        \"description\": \"\"\n      }\n    },\n    {\n      \"column\": \"Age\",\n      \"properties\": {\n        \"dtype\": \"number\",\n        \"std\": 14.18120923562442,\n        \"min\": 0.17,\n        \"max\": 76.0,\n        \"num_unique_values\": 79,\n        \"samples\": [\n          10.0,\n          34.5\n        ],\n        \"semantic_type\": \"\",\n        \"description\": \"\"\n      }\n    },\n    {\n      \"column\": \"SibSp\",\n      \"properties\": {\n        \"dtype\": \"number\",\n        \"std\": 0,\n        \"min\": 0,\n        \"max\": 8,\n        \"num_unique_values\": 7,\n        \"samples\": [\n          0,\n          1\n        ],\n        \"semantic_type\": \"\",\n        \"description\": \"\"\n      }\n    },\n    {\n      \"column\": \"Parch\",\n      \"properties\": {\n        \"dtype\": \"number\",\n        \"std\": 0,\n        \"min\": 0,\n        \"max\": 9,\n        \"num_unique_values\": 8,\n        \"samples\": [\n          1,\n          6\n        ],\n        \"semantic_type\": \"\",\n        \"description\": \"\"\n      }\n    },\n    {\n      \"column\": \"Ticket\",\n      \"properties\": {\n        \"dtype\": \"string\",\n        \"num_unique_values\": 363,\n        \"samples\": [\n          \"2673\",\n          \"W./C. 6607\"\n        ],\n        \"semantic_type\": \"\",\n        \"description\": \"\"\n      }\n    },\n    {\n      \"column\": \"Fare\",\n      \"properties\": {\n        \"dtype\": \"number\",\n        \"std\": 55.90757617997383,\n        \"min\": 0.0,\n        \"max\": 512.3292,\n        \"num_unique_values\": 169,\n        \"samples\": [\n          41.5792,\n          57.75\n        ],\n        \"semantic_type\": \"\",\n        \"description\": \"\"\n      }\n    },\n    {\n      \"column\": \"Cabin\",\n      \"properties\": {\n        \"dtype\": \"category\",\n        \"num_unique_values\": 76,\n        \"samples\": [\n          \"A21\",\n          \"E45\"\n        ],\n        \"semantic_type\": \"\",\n        \"description\": \"\"\n      }\n    },\n    {\n      \"column\": \"Embarked\",\n      \"properties\": {\n        \"dtype\": \"category\",\n        \"num_unique_values\": 3,\n        \"samples\": [\n          \"Q\",\n          \"S\"\n        ],\n        \"semantic_type\": \"\",\n        \"description\": \"\"\n      }\n    }\n  ]\n}"
            }
          },
          "metadata": {},
          "execution_count": 8
        }
      ],
      "source": [
        "\n",
        "test = pd.read_csv('/content/drive/MyDrive/B3_CollecteDonnees/TP_Collecte/test.csv') # Remplacez par le chemin correct si nécessaire\n",
        "test.head(10)\n"
      ]
    },
    {
      "cell_type": "code",
      "execution_count": null,
      "metadata": {
        "id": "eSDbvIiMXisO"
      },
      "outputs": [],
      "source": []
    },
    {
      "cell_type": "markdown",
      "metadata": {
        "id": "KJhxvroWXisO"
      },
      "source": [
        "1.3 Afficher les informations des deux DataFrames train et Test."
      ]
    },
    {
      "cell_type": "code",
      "execution_count": 9,
      "metadata": {
        "_cell_guid": "2ce68358-02ec-556d-ba88-e773a50bc18b",
        "_uuid": "5ec0878acc5c7ab3903410e671c2a2c6cfeafeea",
        "id": "ZMnJg9kLXisO",
        "colab": {
          "base_uri": "https://localhost:8080/"
        },
        "outputId": "73dc0931-b105-48dd-e1f0-756f673d694e"
      },
      "outputs": [
        {
          "output_type": "stream",
          "name": "stdout",
          "text": [
            "Train DataFrame Information:\n",
            "<class 'pandas.core.frame.DataFrame'>\n",
            "RangeIndex: 891 entries, 0 to 890\n",
            "Data columns (total 12 columns):\n",
            " #   Column       Non-Null Count  Dtype  \n",
            "---  ------       --------------  -----  \n",
            " 0   PassengerId  891 non-null    int64  \n",
            " 1   Survived     891 non-null    int64  \n",
            " 2   Pclass       891 non-null    int64  \n",
            " 3   Name         891 non-null    object \n",
            " 4   Sex          891 non-null    object \n",
            " 5   Age          714 non-null    float64\n",
            " 6   SibSp        891 non-null    int64  \n",
            " 7   Parch        891 non-null    int64  \n",
            " 8   Ticket       891 non-null    object \n",
            " 9   Fare         891 non-null    float64\n",
            " 10  Cabin        204 non-null    object \n",
            " 11  Embarked     889 non-null    object \n",
            "dtypes: float64(2), int64(5), object(5)\n",
            "memory usage: 83.7+ KB\n",
            "\n",
            "Test DataFrame Information:\n",
            "<class 'pandas.core.frame.DataFrame'>\n",
            "RangeIndex: 418 entries, 0 to 417\n",
            "Data columns (total 11 columns):\n",
            " #   Column       Non-Null Count  Dtype  \n",
            "---  ------       --------------  -----  \n",
            " 0   PassengerId  418 non-null    int64  \n",
            " 1   Pclass       418 non-null    int64  \n",
            " 2   Name         418 non-null    object \n",
            " 3   Sex          418 non-null    object \n",
            " 4   Age          332 non-null    float64\n",
            " 5   SibSp        418 non-null    int64  \n",
            " 6   Parch        418 non-null    int64  \n",
            " 7   Ticket       418 non-null    object \n",
            " 8   Fare         417 non-null    float64\n",
            " 9   Cabin        91 non-null     object \n",
            " 10  Embarked     418 non-null    object \n",
            "dtypes: float64(2), int64(4), object(5)\n",
            "memory usage: 36.1+ KB\n"
          ]
        }
      ],
      "source": [
        "# prompt: Afficher les informations des deux DataFrames train et Test.\n",
        "\n",
        "print(\"Train DataFrame Information:\")\n",
        "train.info()\n",
        "print(\"\\nTest DataFrame Information:\")\n",
        "test.info()\n"
      ]
    },
    {
      "cell_type": "markdown",
      "metadata": {
        "id": "avxzYdskXisO"
      },
      "source": [
        "1.4 Calculer le taux global de survie"
      ]
    },
    {
      "cell_type": "code",
      "execution_count": 11,
      "metadata": {
        "id": "-D-4ps0kXisO",
        "colab": {
          "base_uri": "https://localhost:8080/"
        },
        "outputId": "38e36eaa-f846-4cd3-9f0a-de47bf66b3ce"
      },
      "outputs": [
        {
          "output_type": "stream",
          "name": "stdout",
          "text": [
            "Le taux global de survie est de 38.38%\n"
          ]
        }
      ],
      "source": [
        "\n",
        "survival_rate = train['Survived'].mean() * 100\n",
        "print(f\"Le taux global de survie est de {survival_rate:.2f}%\")\n"
      ]
    },
    {
      "cell_type": "markdown",
      "metadata": {
        "id": "IziKNBdZXisO"
      },
      "source": [
        "\n"
      ]
    },
    {
      "cell_type": "markdown",
      "metadata": {
        "id": "8LZtac5XXisO"
      },
      "source": [
        "#### Question 1 : Quel Travail voyez-vous pour que les données soient prêtes à faire tourner dans un modèle ?\n",
        "\n",
        "\n",
        "\n",
        "\n",
        "#### Question 2 : Quelle différence y-a-t'il entre les données train et les données test ?\n",
        "\n",
        "\n",
        "\n",
        "\n",
        "#### Question 3 : Quel est le rôle de ces deux sets de données ?\n",
        "\n",
        "\n"
      ]
    },
    {
      "cell_type": "markdown",
      "metadata": {
        "_cell_guid": "f9595646-65c9-6fc4-395f-0befc4d122ce",
        "_uuid": "66273d64a2548d7a88464ab2a73dbdedfbdc488b",
        "id": "XxGNzWNxXisP"
      },
      "source": [
        "## 2. Analyse des features"
      ]
    },
    {
      "cell_type": "markdown",
      "metadata": {
        "_cell_guid": "9b4c278b-aaca-e92c-ba77-b9b48379d1f1",
        "_uuid": "c2b62e14d493c270ec8df9f3af1938c479361ef3",
        "id": "Ef9yVuuPXisP"
      },
      "source": [
        "2.1 Analyser l'effet de la variable Classe sur le taux de survie, en affichant le % de survie par classe"
      ]
    },
    {
      "cell_type": "code",
      "execution_count": 32,
      "metadata": {
        "id": "4SIW3gnLXisP",
        "colab": {
          "base_uri": "https://localhost:8080/",
          "height": 564
        },
        "outputId": "7f07fe42-d4fd-40ee-ec5b-a5e93602212b"
      },
      "outputs": [
        {
          "output_type": "display_data",
          "data": {
            "text/plain": [
              "<Figure size 800x600 with 1 Axes>"
            ],
            "image/png": "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\n"
          },
          "metadata": {}
        }
      ],
      "source": [
        "\n",
        "class_survival_rates = train.groupby('Pclass')['Survived'].mean() * 100\n",
        "plt.figure(figsize=(8, 6))\n",
        "class_survival_rates.plot(kind='bar', color=['skyblue', 'lightcoral', 'lightgreen'])\n",
        "plt.title('Survival Rate by Passenger Class')\n",
        "plt.xlabel('Passenger Class')\n",
        "plt.ylabel('Survival Rate (%)')\n",
        "plt.xticks(rotation=0)\n",
        "plt.ylim(0, 100)\n",
        "\n",
        "\n",
        "for i, rate in enumerate(class_survival_rates):\n",
        "    plt.text(i, rate + 2, f'{rate:.1f}%', ha='center', va='bottom')\n",
        "\n",
        "plt.show()\n"
      ]
    },
    {
      "cell_type": "markdown",
      "metadata": {
        "_cell_guid": "4680d950-cf7d-a6ae-e813-535e2247d88e",
        "_uuid": "f02533e7b85bba0cca7fcf2cc598c8da92d7646d",
        "id": "_uqHa-PtXisP"
      },
      "source": [
        "2.2 Analyser l'effet de la variable Genre (Sex) sur le taux de survie, en affichant le % de survie par classe"
      ]
    },
    {
      "cell_type": "code",
      "execution_count": 33,
      "metadata": {
        "_cell_guid": "4680d950-cf7d-a6ae-e813-535e2247d88e",
        "_uuid": "f02533e7b85bba0cca7fcf2cc598c8da92d7646d",
        "id": "H3kswMA1XisP",
        "colab": {
          "base_uri": "https://localhost:8080/",
          "height": 564
        },
        "outputId": "486ec917-53c5-4ce4-e505-29da5bdad6b2"
      },
      "outputs": [
        {
          "output_type": "display_data",
          "data": {
            "text/plain": [
              "<Figure size 800x600 with 1 Axes>"
            ],
            "image/png": "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\n"
          },
          "metadata": {}
        }
      ],
      "source": [
        "sex_survival_rates = train.groupby('Sex')['Survived'].mean() * 100\n",
        "plt.figure(figsize=(8, 6))\n",
        "sex_survival_rates.plot(kind='bar', color=['skyblue', 'lightcoral'])\n",
        "plt.title('Survival Rate by Sex')\n",
        "plt.xlabel('Sex')\n",
        "plt.ylabel('Survival Rate (%)')\n",
        "plt.xticks(rotation=0)\n",
        "plt.ylim(0, 100)\n",
        "\n",
        "for i, rate in enumerate(sex_survival_rates):\n",
        "    plt.text(i, rate + 2, f'{rate:.1f}%', ha='center', va='bottom')\n",
        "\n",
        "plt.show()\n"
      ]
    },
    {
      "cell_type": "markdown",
      "metadata": {
        "_cell_guid": "7c58b7ee-d6a1-0cc9-2346-81c47846a54a",
        "_uuid": "88185e9222c26d5d23caaeb209c18710a231b5f9",
        "id": "U_loTHRtXisP"
      },
      "source": [
        "2.3 Calculer une nouvelle colonne FamilySize contenant la taille de la famille, pour les DataFrame train et Test. Afficher pour 10 exemples l'Id du passager, le nom, l'age, le sexe et la taille de la famille."
      ]
    },
    {
      "cell_type": "code",
      "execution_count": 20,
      "metadata": {
        "_cell_guid": "1a537f10-7cec-d0b7-8a34-fa9975655190",
        "_uuid": "ccc4a4cf7624dd4be450fd62ca3ad478d4e75696",
        "id": "LZDRGy_UXisP",
        "colab": {
          "base_uri": "https://localhost:8080/",
          "height": 363
        },
        "outputId": "d11f2142-7dd7-435f-f069-08b52d60f99c"
      },
      "outputs": [
        {
          "output_type": "display_data",
          "data": {
            "text/plain": [
              "     PassengerId                                               Name   Age  \\\n",
              "159          160                         Sage, Master. Thomas Henry   NaN   \n",
              "485          486                             Lefebre, Miss. Jeannie   NaN   \n",
              "154          155                              Olsen, Mr. Ole Martin   NaN   \n",
              "790          791                           Keane, Mr. Andrew \"Andy\"   NaN   \n",
              "404          405                            Oreskovic, Miss. Marija  20.0   \n",
              "101          102                   Petroff, Mr. Pastcho (\"Pentcho\")   NaN   \n",
              "796          797                        Leader, Dr. Alice (Farnham)  49.0   \n",
              "342          343                         Collander, Mr. Erik Gustaf  28.0   \n",
              "41            42  Turpin, Mrs. William John Robert (Dorothy Ann ...  27.0   \n",
              "56            57                                  Rugg, Miss. Emily  21.0   \n",
              "\n",
              "        Sex  FamilySize  \n",
              "159    male          11  \n",
              "485  female           5  \n",
              "154    male           1  \n",
              "790    male           1  \n",
              "404  female           1  \n",
              "101    male           1  \n",
              "796  female           1  \n",
              "342    male           1  \n",
              "41   female           2  \n",
              "56   female           1  "
            ],
            "text/html": [
              "\n",
              "  <div id=\"df-28233a00-6528-4ad2-a481-c6ad9679af11\" class=\"colab-df-container\">\n",
              "    <div>\n",
              "<style scoped>\n",
              "    .dataframe tbody tr th:only-of-type {\n",
              "        vertical-align: middle;\n",
              "    }\n",
              "\n",
              "    .dataframe tbody tr th {\n",
              "        vertical-align: top;\n",
              "    }\n",
              "\n",
              "    .dataframe thead th {\n",
              "        text-align: right;\n",
              "    }\n",
              "</style>\n",
              "<table border=\"1\" class=\"dataframe\">\n",
              "  <thead>\n",
              "    <tr style=\"text-align: right;\">\n",
              "      <th></th>\n",
              "      <th>PassengerId</th>\n",
              "      <th>Name</th>\n",
              "      <th>Age</th>\n",
              "      <th>Sex</th>\n",
              "      <th>FamilySize</th>\n",
              "    </tr>\n",
              "  </thead>\n",
              "  <tbody>\n",
              "    <tr>\n",
              "      <th>159</th>\n",
              "      <td>160</td>\n",
              "      <td>Sage, Master. Thomas Henry</td>\n",
              "      <td>NaN</td>\n",
              "      <td>male</td>\n",
              "      <td>11</td>\n",
              "    </tr>\n",
              "    <tr>\n",
              "      <th>485</th>\n",
              "      <td>486</td>\n",
              "      <td>Lefebre, Miss. Jeannie</td>\n",
              "      <td>NaN</td>\n",
              "      <td>female</td>\n",
              "      <td>5</td>\n",
              "    </tr>\n",
              "    <tr>\n",
              "      <th>154</th>\n",
              "      <td>155</td>\n",
              "      <td>Olsen, Mr. Ole Martin</td>\n",
              "      <td>NaN</td>\n",
              "      <td>male</td>\n",
              "      <td>1</td>\n",
              "    </tr>\n",
              "    <tr>\n",
              "      <th>790</th>\n",
              "      <td>791</td>\n",
              "      <td>Keane, Mr. Andrew \"Andy\"</td>\n",
              "      <td>NaN</td>\n",
              "      <td>male</td>\n",
              "      <td>1</td>\n",
              "    </tr>\n",
              "    <tr>\n",
              "      <th>404</th>\n",
              "      <td>405</td>\n",
              "      <td>Oreskovic, Miss. Marija</td>\n",
              "      <td>20.0</td>\n",
              "      <td>female</td>\n",
              "      <td>1</td>\n",
              "    </tr>\n",
              "    <tr>\n",
              "      <th>101</th>\n",
              "      <td>102</td>\n",
              "      <td>Petroff, Mr. Pastcho (\"Pentcho\")</td>\n",
              "      <td>NaN</td>\n",
              "      <td>male</td>\n",
              "      <td>1</td>\n",
              "    </tr>\n",
              "    <tr>\n",
              "      <th>796</th>\n",
              "      <td>797</td>\n",
              "      <td>Leader, Dr. Alice (Farnham)</td>\n",
              "      <td>49.0</td>\n",
              "      <td>female</td>\n",
              "      <td>1</td>\n",
              "    </tr>\n",
              "    <tr>\n",
              "      <th>342</th>\n",
              "      <td>343</td>\n",
              "      <td>Collander, Mr. Erik Gustaf</td>\n",
              "      <td>28.0</td>\n",
              "      <td>male</td>\n",
              "      <td>1</td>\n",
              "    </tr>\n",
              "    <tr>\n",
              "      <th>41</th>\n",
              "      <td>42</td>\n",
              "      <td>Turpin, Mrs. William John Robert (Dorothy Ann ...</td>\n",
              "      <td>27.0</td>\n",
              "      <td>female</td>\n",
              "      <td>2</td>\n",
              "    </tr>\n",
              "    <tr>\n",
              "      <th>56</th>\n",
              "      <td>57</td>\n",
              "      <td>Rugg, Miss. Emily</td>\n",
              "      <td>21.0</td>\n",
              "      <td>female</td>\n",
              "      <td>1</td>\n",
              "    </tr>\n",
              "  </tbody>\n",
              "</table>\n",
              "</div>\n",
              "    <div class=\"colab-df-buttons\">\n",
              "\n",
              "  <div class=\"colab-df-container\">\n",
              "    <button class=\"colab-df-convert\" onclick=\"convertToInteractive('df-28233a00-6528-4ad2-a481-c6ad9679af11')\"\n",
              "            title=\"Convert this dataframe to an interactive table.\"\n",
              "            style=\"display:none;\">\n",
              "\n",
              "  <svg xmlns=\"http://www.w3.org/2000/svg\" height=\"24px\" viewBox=\"0 -960 960 960\">\n",
              "    <path d=\"M120-120v-720h720v720H120Zm60-500h600v-160H180v160Zm220 220h160v-160H400v160Zm0 220h160v-160H400v160ZM180-400h160v-160H180v160Zm440 0h160v-160H620v160ZM180-180h160v-160H180v160Zm440 0h160v-160H620v160Z\"/>\n",
              "  </svg>\n",
              "    </button>\n",
              "\n",
              "  <style>\n",
              "    .colab-df-container {\n",
              "      display:flex;\n",
              "      gap: 12px;\n",
              "    }\n",
              "\n",
              "    .colab-df-convert {\n",
              "      background-color: #E8F0FE;\n",
              "      border: none;\n",
              "      border-radius: 50%;\n",
              "      cursor: pointer;\n",
              "      display: none;\n",
              "      fill: #1967D2;\n",
              "      height: 32px;\n",
              "      padding: 0 0 0 0;\n",
              "      width: 32px;\n",
              "    }\n",
              "\n",
              "    .colab-df-convert:hover {\n",
              "      background-color: #E2EBFA;\n",
              "      box-shadow: 0px 1px 2px rgba(60, 64, 67, 0.3), 0px 1px 3px 1px rgba(60, 64, 67, 0.15);\n",
              "      fill: #174EA6;\n",
              "    }\n",
              "\n",
              "    .colab-df-buttons div {\n",
              "      margin-bottom: 4px;\n",
              "    }\n",
              "\n",
              "    [theme=dark] .colab-df-convert {\n",
              "      background-color: #3B4455;\n",
              "      fill: #D2E3FC;\n",
              "    }\n",
              "\n",
              "    [theme=dark] .colab-df-convert:hover {\n",
              "      background-color: #434B5C;\n",
              "      box-shadow: 0px 1px 3px 1px rgba(0, 0, 0, 0.15);\n",
              "      filter: drop-shadow(0px 1px 2px rgba(0, 0, 0, 0.3));\n",
              "      fill: #FFFFFF;\n",
              "    }\n",
              "  </style>\n",
              "\n",
              "    <script>\n",
              "      const buttonEl =\n",
              "        document.querySelector('#df-28233a00-6528-4ad2-a481-c6ad9679af11 button.colab-df-convert');\n",
              "      buttonEl.style.display =\n",
              "        google.colab.kernel.accessAllowed ? 'block' : 'none';\n",
              "\n",
              "      async function convertToInteractive(key) {\n",
              "        const element = document.querySelector('#df-28233a00-6528-4ad2-a481-c6ad9679af11');\n",
              "        const dataTable =\n",
              "          await google.colab.kernel.invokeFunction('convertToInteractive',\n",
              "                                                    [key], {});\n",
              "        if (!dataTable) return;\n",
              "\n",
              "        const docLinkHtml = 'Like what you see? Visit the ' +\n",
              "          '<a target=\"_blank\" href=https://colab.research.google.com/notebooks/data_table.ipynb>data table notebook</a>'\n",
              "          + ' to learn more about interactive tables.';\n",
              "        element.innerHTML = '';\n",
              "        dataTable['output_type'] = 'display_data';\n",
              "        await google.colab.output.renderOutput(dataTable, element);\n",
              "        const docLink = document.createElement('div');\n",
              "        docLink.innerHTML = docLinkHtml;\n",
              "        element.appendChild(docLink);\n",
              "      }\n",
              "    </script>\n",
              "  </div>\n",
              "\n",
              "\n",
              "<div id=\"df-f874e3c6-fca3-466f-a68b-41a0710addf3\">\n",
              "  <button class=\"colab-df-quickchart\" onclick=\"quickchart('df-f874e3c6-fca3-466f-a68b-41a0710addf3')\"\n",
              "            title=\"Suggest charts\"\n",
              "            style=\"display:none;\">\n",
              "\n",
              "<svg xmlns=\"http://www.w3.org/2000/svg\" height=\"24px\"viewBox=\"0 0 24 24\"\n",
              "     width=\"24px\">\n",
              "    <g>\n",
              "        <path d=\"M19 3H5c-1.1 0-2 .9-2 2v14c0 1.1.9 2 2 2h14c1.1 0 2-.9 2-2V5c0-1.1-.9-2-2-2zM9 17H7v-7h2v7zm4 0h-2V7h2v10zm4 0h-2v-4h2v4z\"/>\n",
              "    </g>\n",
              "</svg>\n",
              "  </button>\n",
              "\n",
              "<style>\n",
              "  .colab-df-quickchart {\n",
              "      --bg-color: #E8F0FE;\n",
              "      --fill-color: #1967D2;\n",
              "      --hover-bg-color: #E2EBFA;\n",
              "      --hover-fill-color: #174EA6;\n",
              "      --disabled-fill-color: #AAA;\n",
              "      --disabled-bg-color: #DDD;\n",
              "  }\n",
              "\n",
              "  [theme=dark] .colab-df-quickchart {\n",
              "      --bg-color: #3B4455;\n",
              "      --fill-color: #D2E3FC;\n",
              "      --hover-bg-color: #434B5C;\n",
              "      --hover-fill-color: #FFFFFF;\n",
              "      --disabled-bg-color: #3B4455;\n",
              "      --disabled-fill-color: #666;\n",
              "  }\n",
              "\n",
              "  .colab-df-quickchart {\n",
              "    background-color: var(--bg-color);\n",
              "    border: none;\n",
              "    border-radius: 50%;\n",
              "    cursor: pointer;\n",
              "    display: none;\n",
              "    fill: var(--fill-color);\n",
              "    height: 32px;\n",
              "    padding: 0;\n",
              "    width: 32px;\n",
              "  }\n",
              "\n",
              "  .colab-df-quickchart:hover {\n",
              "    background-color: var(--hover-bg-color);\n",
              "    box-shadow: 0 1px 2px rgba(60, 64, 67, 0.3), 0 1px 3px 1px rgba(60, 64, 67, 0.15);\n",
              "    fill: var(--button-hover-fill-color);\n",
              "  }\n",
              "\n",
              "  .colab-df-quickchart-complete:disabled,\n",
              "  .colab-df-quickchart-complete:disabled:hover {\n",
              "    background-color: var(--disabled-bg-color);\n",
              "    fill: var(--disabled-fill-color);\n",
              "    box-shadow: none;\n",
              "  }\n",
              "\n",
              "  .colab-df-spinner {\n",
              "    border: 2px solid var(--fill-color);\n",
              "    border-color: transparent;\n",
              "    border-bottom-color: var(--fill-color);\n",
              "    animation:\n",
              "      spin 1s steps(1) infinite;\n",
              "  }\n",
              "\n",
              "  @keyframes spin {\n",
              "    0% {\n",
              "      border-color: transparent;\n",
              "      border-bottom-color: var(--fill-color);\n",
              "      border-left-color: var(--fill-color);\n",
              "    }\n",
              "    20% {\n",
              "      border-color: transparent;\n",
              "      border-left-color: var(--fill-color);\n",
              "      border-top-color: var(--fill-color);\n",
              "    }\n",
              "    30% {\n",
              "      border-color: transparent;\n",
              "      border-left-color: var(--fill-color);\n",
              "      border-top-color: var(--fill-color);\n",
              "      border-right-color: var(--fill-color);\n",
              "    }\n",
              "    40% {\n",
              "      border-color: transparent;\n",
              "      border-right-color: var(--fill-color);\n",
              "      border-top-color: var(--fill-color);\n",
              "    }\n",
              "    60% {\n",
              "      border-color: transparent;\n",
              "      border-right-color: var(--fill-color);\n",
              "    }\n",
              "    80% {\n",
              "      border-color: transparent;\n",
              "      border-right-color: var(--fill-color);\n",
              "      border-bottom-color: var(--fill-color);\n",
              "    }\n",
              "    90% {\n",
              "      border-color: transparent;\n",
              "      border-bottom-color: var(--fill-color);\n",
              "    }\n",
              "  }\n",
              "</style>\n",
              "\n",
              "  <script>\n",
              "    async function quickchart(key) {\n",
              "      const quickchartButtonEl =\n",
              "        document.querySelector('#' + key + ' button');\n",
              "      quickchartButtonEl.disabled = true;  // To prevent multiple clicks.\n",
              "      quickchartButtonEl.classList.add('colab-df-spinner');\n",
              "      try {\n",
              "        const charts = await google.colab.kernel.invokeFunction(\n",
              "            'suggestCharts', [key], {});\n",
              "      } catch (error) {\n",
              "        console.error('Error during call to suggestCharts:', error);\n",
              "      }\n",
              "      quickchartButtonEl.classList.remove('colab-df-spinner');\n",
              "      quickchartButtonEl.classList.add('colab-df-quickchart-complete');\n",
              "    }\n",
              "    (() => {\n",
              "      let quickchartButtonEl =\n",
              "        document.querySelector('#df-f874e3c6-fca3-466f-a68b-41a0710addf3 button');\n",
              "      quickchartButtonEl.style.display =\n",
              "        google.colab.kernel.accessAllowed ? 'block' : 'none';\n",
              "    })();\n",
              "  </script>\n",
              "</div>\n",
              "\n",
              "    </div>\n",
              "  </div>\n"
            ],
            "application/vnd.google.colaboratory.intrinsic+json": {
              "type": "dataframe",
              "summary": "{\n  \"name\": \"display(train[['PassengerId', 'Name', 'Age', 'Sex', 'FamilySize']]\",\n  \"rows\": 10,\n  \"fields\": [\n    {\n      \"column\": \"PassengerId\",\n      \"properties\": {\n        \"dtype\": \"number\",\n        \"std\": 284,\n        \"min\": 42,\n        \"max\": 797,\n        \"num_unique_values\": 10,\n        \"samples\": [\n          42,\n          486,\n          102\n        ],\n        \"semantic_type\": \"\",\n        \"description\": \"\"\n      }\n    },\n    {\n      \"column\": \"Name\",\n      \"properties\": {\n        \"dtype\": \"string\",\n        \"num_unique_values\": 10,\n        \"samples\": [\n          \"Turpin, Mrs. William John Robert (Dorothy Ann Wonnacott)\",\n          \"Lefebre, Miss. Jeannie\",\n          \"Petroff, Mr. Pastcho (\\\"Pentcho\\\")\"\n        ],\n        \"semantic_type\": \"\",\n        \"description\": \"\"\n      }\n    },\n    {\n      \"column\": \"Age\",\n      \"properties\": {\n        \"dtype\": \"number\",\n        \"std\": 11.726039399558575,\n        \"min\": 20.0,\n        \"max\": 49.0,\n        \"num_unique_values\": 5,\n        \"samples\": [\n          49.0,\n          21.0,\n          28.0\n        ],\n        \"semantic_type\": \"\",\n        \"description\": \"\"\n      }\n    },\n    {\n      \"column\": \"Sex\",\n      \"properties\": {\n        \"dtype\": \"category\",\n        \"num_unique_values\": 2,\n        \"samples\": [\n          \"female\",\n          \"male\"\n        ],\n        \"semantic_type\": \"\",\n        \"description\": \"\"\n      }\n    },\n    {\n      \"column\": \"FamilySize\",\n      \"properties\": {\n        \"dtype\": \"number\",\n        \"std\": 3,\n        \"min\": 1,\n        \"max\": 11,\n        \"num_unique_values\": 4,\n        \"samples\": [\n          5,\n          2\n        ],\n        \"semantic_type\": \"\",\n        \"description\": \"\"\n      }\n    }\n  ]\n}"
            }
          },
          "metadata": {}
        }
      ],
      "source": [
        "train['FamilySize'] = train['SibSp'] + train['Parch'] + 1\n",
        "test['FamilySize'] = test['SibSp'] + test['Parch'] + 1\n",
        "display(train[['PassengerId', 'Name', 'Age', 'Sex', 'FamilySize']].sample(10))\n"
      ]
    },
    {
      "cell_type": "markdown",
      "metadata": {
        "id": "YJCBCAhbXisP"
      },
      "source": [
        "2.4 Visualisez le nombre de personnes et le taux de survie par taille de famille."
      ]
    },
    {
      "cell_type": "code",
      "execution_count": 22,
      "metadata": {
        "_cell_guid": "1a537f10-7cec-d0b7-8a34-fa9975655190",
        "_uuid": "ccc4a4cf7624dd4be450fd62ca3ad478d4e75696",
        "id": "Rx_NPOvbXisP",
        "colab": {
          "base_uri": "https://localhost:8080/",
          "height": 564
        },
        "outputId": "e1c1a8c5-583d-4fc8-b600-88d420201f46"
      },
      "outputs": [
        {
          "output_type": "display_data",
          "data": {
            "text/plain": [
              "<Figure size 1000x600 with 1 Axes>"
            ],
            "image/png": "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\n"
          },
          "metadata": {}
        }
      ],
      "source": [
        "# prompt:  nombre de personnes et le taux de survie par taille de famille un seul grapgh\n",
        "\n",
        "import matplotlib.pyplot as plt\n",
        "family_size_stats = train.groupby('FamilySize')['Survived'].agg(['count', 'mean'])\n",
        "family_size_stats['mean'] *= 100\n",
        "\n",
        "plt.figure(figsize=(10, 6))\n",
        "plt.bar(family_size_stats.index, family_size_stats['count'], label='Number of People', color='skyblue')\n",
        "plt.plot(family_size_stats.index, family_size_stats['mean'], marker='o', color='red', label='Survival Rate (%)')\n",
        "plt.xlabel('Family Size')\n",
        "plt.ylabel('Count / Survival Rate (%)')\n",
        "plt.title('Number of People and Survival Rate by Family Size')\n",
        "plt.xticks(family_size_stats.index)\n",
        "plt.legend()\n",
        "plt.grid(axis='y', linestyle='--', alpha=0.7)\n",
        "\n",
        "\n",
        "# Add data labels for count\n",
        "for i, count in enumerate(family_size_stats['count']):\n",
        "    plt.text(i, count + 2, str(count), ha='center', va='bottom')\n",
        "\n",
        "# Add data labels for survival rate\n",
        "for i, rate in enumerate(family_size_stats['mean']):\n",
        "    plt.text(i, rate, f'{rate:.1f}%', ha='center', va='bottom', color='red')\n",
        "\n",
        "plt.show()\n"
      ]
    },
    {
      "cell_type": "markdown",
      "metadata": {
        "_cell_guid": "7c58b7ee-d6a1-0cc9-2346-81c47846a54a",
        "_uuid": "88185e9222c26d5d23caaeb209c18710a231b5f9",
        "id": "2hqfO-mqXisP"
      },
      "source": [
        "2.5 Calculer une nouvelle colonne IsAlone indiquant si le passager est seul ou pas, pour les DataFrame train et Test. Afficher pour 10 exemples l'Id du passager, le nom, l'age, le sexe et le status IsAlone."
      ]
    },
    {
      "cell_type": "code",
      "execution_count": 25,
      "metadata": {
        "_cell_guid": "8c35e945-c928-e3bc-bd9c-d6ddb287e4c9",
        "_uuid": "87f79dc0711c29f39c0db1a4f7a2e8a84c0c7edb",
        "id": "X5_k4NZUXisP",
        "colab": {
          "base_uri": "https://localhost:8080/",
          "height": 363
        },
        "outputId": "3a38db91-5808-4464-a6fd-84c7893224c3"
      },
      "outputs": [
        {
          "output_type": "display_data",
          "data": {
            "text/plain": [
              "     PassengerId                                               Name   Age  \\\n",
              "103          104                         Johansson, Mr. Gustaf Joel  33.0   \n",
              "631          632                        Lundahl, Mr. Johan Svensson  51.0   \n",
              "2              3                             Heikkinen, Miss. Laina  26.0   \n",
              "580          581                        Christy, Miss. Julie Rachel  25.0   \n",
              "244          245                               Attalah, Mr. Sleiman  30.0   \n",
              "340          341                     Navratil, Master. Edmond Roger   2.0   \n",
              "478          479                          Karlsson, Mr. Nils August  22.0   \n",
              "795          796                                 Otter, Mr. Richard  39.0   \n",
              "518          519  Angle, Mrs. William A (Florence \"Mary\" Agnes H...  36.0   \n",
              "308          309                                Abelson, Mr. Samuel  30.0   \n",
              "\n",
              "        Sex  IsAlone  \n",
              "103    male        1  \n",
              "631    male        1  \n",
              "2    female        1  \n",
              "580  female        0  \n",
              "244    male        1  \n",
              "340    male        0  \n",
              "478    male        1  \n",
              "795    male        1  \n",
              "518  female        0  \n",
              "308    male        0  "
            ],
            "text/html": [
              "\n",
              "  <div id=\"df-1ced3123-ef28-441b-9ec1-0820551e5c52\" class=\"colab-df-container\">\n",
              "    <div>\n",
              "<style scoped>\n",
              "    .dataframe tbody tr th:only-of-type {\n",
              "        vertical-align: middle;\n",
              "    }\n",
              "\n",
              "    .dataframe tbody tr th {\n",
              "        vertical-align: top;\n",
              "    }\n",
              "\n",
              "    .dataframe thead th {\n",
              "        text-align: right;\n",
              "    }\n",
              "</style>\n",
              "<table border=\"1\" class=\"dataframe\">\n",
              "  <thead>\n",
              "    <tr style=\"text-align: right;\">\n",
              "      <th></th>\n",
              "      <th>PassengerId</th>\n",
              "      <th>Name</th>\n",
              "      <th>Age</th>\n",
              "      <th>Sex</th>\n",
              "      <th>IsAlone</th>\n",
              "    </tr>\n",
              "  </thead>\n",
              "  <tbody>\n",
              "    <tr>\n",
              "      <th>103</th>\n",
              "      <td>104</td>\n",
              "      <td>Johansson, Mr. Gustaf Joel</td>\n",
              "      <td>33.0</td>\n",
              "      <td>male</td>\n",
              "      <td>1</td>\n",
              "    </tr>\n",
              "    <tr>\n",
              "      <th>631</th>\n",
              "      <td>632</td>\n",
              "      <td>Lundahl, Mr. Johan Svensson</td>\n",
              "      <td>51.0</td>\n",
              "      <td>male</td>\n",
              "      <td>1</td>\n",
              "    </tr>\n",
              "    <tr>\n",
              "      <th>2</th>\n",
              "      <td>3</td>\n",
              "      <td>Heikkinen, Miss. Laina</td>\n",
              "      <td>26.0</td>\n",
              "      <td>female</td>\n",
              "      <td>1</td>\n",
              "    </tr>\n",
              "    <tr>\n",
              "      <th>580</th>\n",
              "      <td>581</td>\n",
              "      <td>Christy, Miss. Julie Rachel</td>\n",
              "      <td>25.0</td>\n",
              "      <td>female</td>\n",
              "      <td>0</td>\n",
              "    </tr>\n",
              "    <tr>\n",
              "      <th>244</th>\n",
              "      <td>245</td>\n",
              "      <td>Attalah, Mr. Sleiman</td>\n",
              "      <td>30.0</td>\n",
              "      <td>male</td>\n",
              "      <td>1</td>\n",
              "    </tr>\n",
              "    <tr>\n",
              "      <th>340</th>\n",
              "      <td>341</td>\n",
              "      <td>Navratil, Master. Edmond Roger</td>\n",
              "      <td>2.0</td>\n",
              "      <td>male</td>\n",
              "      <td>0</td>\n",
              "    </tr>\n",
              "    <tr>\n",
              "      <th>478</th>\n",
              "      <td>479</td>\n",
              "      <td>Karlsson, Mr. Nils August</td>\n",
              "      <td>22.0</td>\n",
              "      <td>male</td>\n",
              "      <td>1</td>\n",
              "    </tr>\n",
              "    <tr>\n",
              "      <th>795</th>\n",
              "      <td>796</td>\n",
              "      <td>Otter, Mr. Richard</td>\n",
              "      <td>39.0</td>\n",
              "      <td>male</td>\n",
              "      <td>1</td>\n",
              "    </tr>\n",
              "    <tr>\n",
              "      <th>518</th>\n",
              "      <td>519</td>\n",
              "      <td>Angle, Mrs. William A (Florence \"Mary\" Agnes H...</td>\n",
              "      <td>36.0</td>\n",
              "      <td>female</td>\n",
              "      <td>0</td>\n",
              "    </tr>\n",
              "    <tr>\n",
              "      <th>308</th>\n",
              "      <td>309</td>\n",
              "      <td>Abelson, Mr. Samuel</td>\n",
              "      <td>30.0</td>\n",
              "      <td>male</td>\n",
              "      <td>0</td>\n",
              "    </tr>\n",
              "  </tbody>\n",
              "</table>\n",
              "</div>\n",
              "    <div class=\"colab-df-buttons\">\n",
              "\n",
              "  <div class=\"colab-df-container\">\n",
              "    <button class=\"colab-df-convert\" onclick=\"convertToInteractive('df-1ced3123-ef28-441b-9ec1-0820551e5c52')\"\n",
              "            title=\"Convert this dataframe to an interactive table.\"\n",
              "            style=\"display:none;\">\n",
              "\n",
              "  <svg xmlns=\"http://www.w3.org/2000/svg\" height=\"24px\" viewBox=\"0 -960 960 960\">\n",
              "    <path d=\"M120-120v-720h720v720H120Zm60-500h600v-160H180v160Zm220 220h160v-160H400v160Zm0 220h160v-160H400v160ZM180-400h160v-160H180v160Zm440 0h160v-160H620v160ZM180-180h160v-160H180v160Zm440 0h160v-160H620v160Z\"/>\n",
              "  </svg>\n",
              "    </button>\n",
              "\n",
              "  <style>\n",
              "    .colab-df-container {\n",
              "      display:flex;\n",
              "      gap: 12px;\n",
              "    }\n",
              "\n",
              "    .colab-df-convert {\n",
              "      background-color: #E8F0FE;\n",
              "      border: none;\n",
              "      border-radius: 50%;\n",
              "      cursor: pointer;\n",
              "      display: none;\n",
              "      fill: #1967D2;\n",
              "      height: 32px;\n",
              "      padding: 0 0 0 0;\n",
              "      width: 32px;\n",
              "    }\n",
              "\n",
              "    .colab-df-convert:hover {\n",
              "      background-color: #E2EBFA;\n",
              "      box-shadow: 0px 1px 2px rgba(60, 64, 67, 0.3), 0px 1px 3px 1px rgba(60, 64, 67, 0.15);\n",
              "      fill: #174EA6;\n",
              "    }\n",
              "\n",
              "    .colab-df-buttons div {\n",
              "      margin-bottom: 4px;\n",
              "    }\n",
              "\n",
              "    [theme=dark] .colab-df-convert {\n",
              "      background-color: #3B4455;\n",
              "      fill: #D2E3FC;\n",
              "    }\n",
              "\n",
              "    [theme=dark] .colab-df-convert:hover {\n",
              "      background-color: #434B5C;\n",
              "      box-shadow: 0px 1px 3px 1px rgba(0, 0, 0, 0.15);\n",
              "      filter: drop-shadow(0px 1px 2px rgba(0, 0, 0, 0.3));\n",
              "      fill: #FFFFFF;\n",
              "    }\n",
              "  </style>\n",
              "\n",
              "    <script>\n",
              "      const buttonEl =\n",
              "        document.querySelector('#df-1ced3123-ef28-441b-9ec1-0820551e5c52 button.colab-df-convert');\n",
              "      buttonEl.style.display =\n",
              "        google.colab.kernel.accessAllowed ? 'block' : 'none';\n",
              "\n",
              "      async function convertToInteractive(key) {\n",
              "        const element = document.querySelector('#df-1ced3123-ef28-441b-9ec1-0820551e5c52');\n",
              "        const dataTable =\n",
              "          await google.colab.kernel.invokeFunction('convertToInteractive',\n",
              "                                                    [key], {});\n",
              "        if (!dataTable) return;\n",
              "\n",
              "        const docLinkHtml = 'Like what you see? Visit the ' +\n",
              "          '<a target=\"_blank\" href=https://colab.research.google.com/notebooks/data_table.ipynb>data table notebook</a>'\n",
              "          + ' to learn more about interactive tables.';\n",
              "        element.innerHTML = '';\n",
              "        dataTable['output_type'] = 'display_data';\n",
              "        await google.colab.output.renderOutput(dataTable, element);\n",
              "        const docLink = document.createElement('div');\n",
              "        docLink.innerHTML = docLinkHtml;\n",
              "        element.appendChild(docLink);\n",
              "      }\n",
              "    </script>\n",
              "  </div>\n",
              "\n",
              "\n",
              "<div id=\"df-0cb23d80-b018-489d-bec2-2e1351f849e8\">\n",
              "  <button class=\"colab-df-quickchart\" onclick=\"quickchart('df-0cb23d80-b018-489d-bec2-2e1351f849e8')\"\n",
              "            title=\"Suggest charts\"\n",
              "            style=\"display:none;\">\n",
              "\n",
              "<svg xmlns=\"http://www.w3.org/2000/svg\" height=\"24px\"viewBox=\"0 0 24 24\"\n",
              "     width=\"24px\">\n",
              "    <g>\n",
              "        <path d=\"M19 3H5c-1.1 0-2 .9-2 2v14c0 1.1.9 2 2 2h14c1.1 0 2-.9 2-2V5c0-1.1-.9-2-2-2zM9 17H7v-7h2v7zm4 0h-2V7h2v10zm4 0h-2v-4h2v4z\"/>\n",
              "    </g>\n",
              "</svg>\n",
              "  </button>\n",
              "\n",
              "<style>\n",
              "  .colab-df-quickchart {\n",
              "      --bg-color: #E8F0FE;\n",
              "      --fill-color: #1967D2;\n",
              "      --hover-bg-color: #E2EBFA;\n",
              "      --hover-fill-color: #174EA6;\n",
              "      --disabled-fill-color: #AAA;\n",
              "      --disabled-bg-color: #DDD;\n",
              "  }\n",
              "\n",
              "  [theme=dark] .colab-df-quickchart {\n",
              "      --bg-color: #3B4455;\n",
              "      --fill-color: #D2E3FC;\n",
              "      --hover-bg-color: #434B5C;\n",
              "      --hover-fill-color: #FFFFFF;\n",
              "      --disabled-bg-color: #3B4455;\n",
              "      --disabled-fill-color: #666;\n",
              "  }\n",
              "\n",
              "  .colab-df-quickchart {\n",
              "    background-color: var(--bg-color);\n",
              "    border: none;\n",
              "    border-radius: 50%;\n",
              "    cursor: pointer;\n",
              "    display: none;\n",
              "    fill: var(--fill-color);\n",
              "    height: 32px;\n",
              "    padding: 0;\n",
              "    width: 32px;\n",
              "  }\n",
              "\n",
              "  .colab-df-quickchart:hover {\n",
              "    background-color: var(--hover-bg-color);\n",
              "    box-shadow: 0 1px 2px rgba(60, 64, 67, 0.3), 0 1px 3px 1px rgba(60, 64, 67, 0.15);\n",
              "    fill: var(--button-hover-fill-color);\n",
              "  }\n",
              "\n",
              "  .colab-df-quickchart-complete:disabled,\n",
              "  .colab-df-quickchart-complete:disabled:hover {\n",
              "    background-color: var(--disabled-bg-color);\n",
              "    fill: var(--disabled-fill-color);\n",
              "    box-shadow: none;\n",
              "  }\n",
              "\n",
              "  .colab-df-spinner {\n",
              "    border: 2px solid var(--fill-color);\n",
              "    border-color: transparent;\n",
              "    border-bottom-color: var(--fill-color);\n",
              "    animation:\n",
              "      spin 1s steps(1) infinite;\n",
              "  }\n",
              "\n",
              "  @keyframes spin {\n",
              "    0% {\n",
              "      border-color: transparent;\n",
              "      border-bottom-color: var(--fill-color);\n",
              "      border-left-color: var(--fill-color);\n",
              "    }\n",
              "    20% {\n",
              "      border-color: transparent;\n",
              "      border-left-color: var(--fill-color);\n",
              "      border-top-color: var(--fill-color);\n",
              "    }\n",
              "    30% {\n",
              "      border-color: transparent;\n",
              "      border-left-color: var(--fill-color);\n",
              "      border-top-color: var(--fill-color);\n",
              "      border-right-color: var(--fill-color);\n",
              "    }\n",
              "    40% {\n",
              "      border-color: transparent;\n",
              "      border-right-color: var(--fill-color);\n",
              "      border-top-color: var(--fill-color);\n",
              "    }\n",
              "    60% {\n",
              "      border-color: transparent;\n",
              "      border-right-color: var(--fill-color);\n",
              "    }\n",
              "    80% {\n",
              "      border-color: transparent;\n",
              "      border-right-color: var(--fill-color);\n",
              "      border-bottom-color: var(--fill-color);\n",
              "    }\n",
              "    90% {\n",
              "      border-color: transparent;\n",
              "      border-bottom-color: var(--fill-color);\n",
              "    }\n",
              "  }\n",
              "</style>\n",
              "\n",
              "  <script>\n",
              "    async function quickchart(key) {\n",
              "      const quickchartButtonEl =\n",
              "        document.querySelector('#' + key + ' button');\n",
              "      quickchartButtonEl.disabled = true;  // To prevent multiple clicks.\n",
              "      quickchartButtonEl.classList.add('colab-df-spinner');\n",
              "      try {\n",
              "        const charts = await google.colab.kernel.invokeFunction(\n",
              "            'suggestCharts', [key], {});\n",
              "      } catch (error) {\n",
              "        console.error('Error during call to suggestCharts:', error);\n",
              "      }\n",
              "      quickchartButtonEl.classList.remove('colab-df-spinner');\n",
              "      quickchartButtonEl.classList.add('colab-df-quickchart-complete');\n",
              "    }\n",
              "    (() => {\n",
              "      let quickchartButtonEl =\n",
              "        document.querySelector('#df-0cb23d80-b018-489d-bec2-2e1351f849e8 button');\n",
              "      quickchartButtonEl.style.display =\n",
              "        google.colab.kernel.accessAllowed ? 'block' : 'none';\n",
              "    })();\n",
              "  </script>\n",
              "</div>\n",
              "\n",
              "    </div>\n",
              "  </div>\n"
            ],
            "application/vnd.google.colaboratory.intrinsic+json": {
              "type": "dataframe",
              "summary": "{\n  \"name\": \"display(train[['PassengerId', 'Name', 'Age', 'Sex', 'IsAlone']]\",\n  \"rows\": 10,\n  \"fields\": [\n    {\n      \"column\": \"PassengerId\",\n      \"properties\": {\n        \"dtype\": \"number\",\n        \"std\": 246,\n        \"min\": 3,\n        \"max\": 796,\n        \"num_unique_values\": 10,\n        \"samples\": [\n          519,\n          632,\n          341\n        ],\n        \"semantic_type\": \"\",\n        \"description\": \"\"\n      }\n    },\n    {\n      \"column\": \"Name\",\n      \"properties\": {\n        \"dtype\": \"string\",\n        \"num_unique_values\": 10,\n        \"samples\": [\n          \"Angle, Mrs. William A (Florence \\\"Mary\\\" Agnes Hughes)\",\n          \"Lundahl, Mr. Johan Svensson\",\n          \"Navratil, Master. Edmond Roger\"\n        ],\n        \"semantic_type\": \"\",\n        \"description\": \"\"\n      }\n    },\n    {\n      \"column\": \"Age\",\n      \"properties\": {\n        \"dtype\": \"number\",\n        \"std\": 12.703455347966464,\n        \"min\": 2.0,\n        \"max\": 51.0,\n        \"num_unique_values\": 9,\n        \"samples\": [\n          39.0,\n          51.0,\n          2.0\n        ],\n        \"semantic_type\": \"\",\n        \"description\": \"\"\n      }\n    },\n    {\n      \"column\": \"Sex\",\n      \"properties\": {\n        \"dtype\": \"category\",\n        \"num_unique_values\": 2,\n        \"samples\": [\n          \"female\",\n          \"male\"\n        ],\n        \"semantic_type\": \"\",\n        \"description\": \"\"\n      }\n    },\n    {\n      \"column\": \"IsAlone\",\n      \"properties\": {\n        \"dtype\": \"number\",\n        \"std\": 0,\n        \"min\": 0,\n        \"max\": 1,\n        \"num_unique_values\": 2,\n        \"samples\": [\n          0,\n          1\n        ],\n        \"semantic_type\": \"\",\n        \"description\": \"\"\n      }\n    }\n  ]\n}"
            }
          },
          "metadata": {}
        }
      ],
      "source": [
        "# prompt: Calculer une nouvelle colonne IsAlone indiquant si le passager est seul ou pas, pour les DataFrame train et Test. Afficher pour 10 exemples l'Id du passager, le nom, l'age, le sexe et le status IsAlone.\n",
        "\n",
        "train['IsAlone'] = 0\n",
        "train.loc[train['FamilySize'] == 1, 'IsAlone'] = 1\n",
        "\n",
        "test['IsAlone'] = 0\n",
        "test.loc[test['FamilySize'] == 1, 'IsAlone'] = 1\n",
        "\n",
        "display(train[['PassengerId', 'Name', 'Age', 'Sex', 'IsAlone']].sample(10))\n"
      ]
    },
    {
      "cell_type": "markdown",
      "metadata": {
        "id": "hOHOYMXTXisP"
      },
      "source": [
        "2.6 Visualisez le nombre de personnes et le taux de survie par statut seul ou pas."
      ]
    },
    {
      "cell_type": "code",
      "execution_count": 38,
      "metadata": {
        "_cell_guid": "8c35e945-c928-e3bc-bd9c-d6ddb287e4c9",
        "_uuid": "87f79dc0711c29f39c0db1a4f7a2e8a84c0c7edb",
        "id": "7mMDSBV6XisP",
        "colab": {
          "base_uri": "https://localhost:8080/",
          "height": 607
        },
        "outputId": "ff153b61-2f3d-41c3-96a2-626aaa26fb66"
      },
      "outputs": [
        {
          "output_type": "display_data",
          "data": {
            "text/plain": [
              "<Figure size 1500x600 with 2 Axes>"
            ],
            "image/png": "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\n"
          },
          "metadata": {}
        }
      ],
      "source": [
        "# prompt:  Visualisez le nombre de personnes et le taux de survie par statut seul ou pas circle graph and normal graph beside in french\n",
        "\n",
        "import matplotlib.pyplot as plt\n",
        "\n",
        "# 2.6 Visualisez le nombre de personnes et le taux de survie par statut seul ou pas.\n",
        "is_alone_stats = train.groupby('IsAlone')['Survived'].agg(['count', 'mean'])\n",
        "is_alone_stats['mean'] *= 100\n",
        "\n",
        "# Create subplots\n",
        "fig, axes = plt.subplots(1, 2, figsize=(15, 6))\n",
        "\n",
        "# Circle graph (pie chart)\n",
        "axes[0].pie(is_alone_stats['count'], labels=['En famille', 'Seul'], autopct='%1.1f%%', startangle=90, colors=['skyblue', 'lightcoral'])\n",
        "axes[0].set_title('Répartition des passagers (seul ou en famille)')\n",
        "\n",
        "# Bar graph\n",
        "axes[1].bar(is_alone_stats.index.map({0: 'En famille', 1: 'Seul'}), is_alone_stats['count'], label='Nombre de personnes', color=['skyblue', 'lightcoral'])\n",
        "axes[1].plot(is_alone_stats.index.map({0: 'En famille', 1: 'Seul'}), is_alone_stats['mean'], marker='o', color='red', label='Taux de survie (%)')\n",
        "axes[1].set_xlabel('Statut (seul ou en famille)')\n",
        "axes[1].set_ylabel('Nombre de personnes / Taux de survie (%)')\n",
        "axes[1].set_title('Nombre de personnes et taux de survie par statut')\n",
        "axes[1].legend()\n",
        "axes[1].grid(axis='y', linestyle='--', alpha=0.7)\n",
        "\n",
        "\n",
        "# Add data labels for count\n",
        "for i, count in enumerate(is_alone_stats['count']):\n",
        "    axes[1].text(i, count + 2, str(count), ha='center', va='bottom')\n",
        "\n",
        "# Add data labels for survival rate\n",
        "for i, rate in enumerate(is_alone_stats['mean']):\n",
        "    axes[1].text(i, rate, f'{rate:.1f}%', ha='center', va='bottom', color='red')\n",
        "\n",
        "plt.tight_layout()\n",
        "plt.show()\n"
      ]
    },
    {
      "cell_type": "markdown",
      "metadata": {
        "id": "8qZ0HD5dXisP"
      },
      "source": [
        "2.7 Calculer l'information mutuelle sur les données train.\n",
        "\n",
        "Attention : Il y a des données continues et des données discrètes\n",
        "\n",
        "Ignorer les colonnes Name, Ticket et Cabin"
      ]
    },
    {
      "cell_type": "code",
      "execution_count": 60,
      "metadata": {
        "id": "RECHUfrOXisP",
        "colab": {
          "base_uri": "https://localhost:8080/"
        },
        "outputId": "772c21b7-f041-4ee3-e6a0-1719a1936441"
      },
      "outputs": [
        {
          "output_type": "stream",
          "name": "stdout",
          "text": [
            "Fare          0.127201\n",
            "Sex_male      0.119789\n",
            "FamilySize    0.065680\n",
            "Age           0.022492\n",
            "Embarked_Q    0.003330\n",
            "Embarked_S    0.000928\n",
            "Parch         0.000000\n",
            "SibSp         0.000000\n",
            "Name: MI Scores, dtype: float64\n"
          ]
        }
      ],
      "source": [
        "import pandas as pd\n",
        "from sklearn.feature_selection import mutual_info_regression\n",
        "\n",
        "# Select relevant numerical features for mutual information calculation\n",
        "numerical_features = ['Age', 'SibSp', 'Parch', 'Fare', 'FamilySize']\n",
        "discrete_features = ['Pclass', 'Sex', 'Embarked', 'IsAlone']\n",
        "\n",
        "# Convert categorical features to numerical using one-hot encoding\n",
        "train_encoded = pd.get_dummies(train, columns=['Sex', 'Embarked'], drop_first=True)\n",
        "\n",
        "# Fill NaN values in numerical features with the mean\n",
        "for feature in numerical_features:\n",
        "    mean_value = train_encoded[feature].mean()\n",
        "    train_encoded[feature] = train_encoded[feature].fillna(mean_value)\n",
        "\n",
        "# Calculate mutual information\n",
        "X = train_encoded[numerical_features + list(train_encoded.columns[train_encoded.columns.str.startswith(('Sex_', 'Embarked_'))])]\n",
        "y = train_encoded['Survived']\n",
        "mutual_info = mutual_info_regression(X, y)\n",
        "\n",
        "# Print results\n",
        "mi_scores = pd.Series(mutual_info, name=\"MI Scores\", index=X.columns)\n",
        "mi_scores = mi_scores.sort_values(ascending=False)\n",
        "print(mi_scores)"
      ]
    },
    {
      "cell_type": "markdown",
      "metadata": {
        "id": "2698RGq7XisQ"
      },
      "source": [
        "2.8 Afficher dans un graphique les scores d'information mutuelle par feature"
      ]
    },
    {
      "cell_type": "code",
      "execution_count": 61,
      "metadata": {
        "id": "5GdcIojlXisQ",
        "colab": {
          "base_uri": "https://localhost:8080/",
          "height": 607
        },
        "outputId": "6e26a6ec-5dc6-4096-e9fb-2b28a7fda731"
      },
      "outputs": [
        {
          "output_type": "display_data",
          "data": {
            "text/plain": [
              "<Figure size 1000x600 with 1 Axes>"
            ],
            "image/png": "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\n"
          },
          "metadata": {}
        }
      ],
      "source": [
        "# prompt:  Afficher dans un graphique les scores d'information mutuelle par feature\n",
        "\n",
        "import matplotlib.pyplot as plt\n",
        "plt.figure(figsize=(10, 6))\n",
        "mi_scores.plot(kind='bar')\n",
        "plt.title('Mutual Information Scores')\n",
        "plt.xlabel('Features')\n",
        "plt.ylabel('Mutual Information')\n",
        "plt.xticks(rotation=45, ha='right')\n",
        "plt.tight_layout()\n",
        "plt.show()\n"
      ]
    },
    {
      "cell_type": "markdown",
      "metadata": {
        "id": "cPmfQAdrXisQ"
      },
      "source": [
        "### Question 1 : La variable Classe est-elle utile pour prévoir la survie ? Pourquoi ?\n",
        "\n",
        "\n",
        "\n",
        "### Question 2 : Même question pour la variable Sex\n",
        "\n",
        "\n",
        "### Question 3 : Comment traiter le variables liées à la famille du passager ?\n",
        "\n",
        "\n",
        "\n"
      ]
    },
    {
      "cell_type": "markdown",
      "metadata": {
        "id": "euPNbYWeXisQ"
      },
      "source": [
        "## 3. Traitement des données manquantes (à faire sur les données Train et Test)"
      ]
    },
    {
      "cell_type": "markdown",
      "metadata": {
        "_cell_guid": "8aa419c0-6614-7efc-7797-97f4a5158b19",
        "_uuid": "dd18a31086cfeca6330b05f83caf3cc02f687253",
        "id": "C8EPT862XisQ"
      },
      "source": [
        "3.1 La variable \"Embarked\" possède des valeurs nulles, compléter par la valeur majoritaire (S)."
      ]
    },
    {
      "cell_type": "code",
      "execution_count": 67,
      "metadata": {
        "_cell_guid": "0e70e9af-d7cc-8c40-b7d4-2643889c376d",
        "_uuid": "b4f7ccb3df98da6915bda1c7c225b905fc37845b",
        "id": "hSJQL5nCXisQ"
      },
      "outputs": [],
      "source": [
        "train['Embarked'] = train['Embarked'].fillna('S')\n",
        "test['Embarked'] = test['Embarked'].fillna('S')\n"
      ]
    },
    {
      "cell_type": "markdown",
      "metadata": {
        "id": "hRQs4xiGXisQ"
      },
      "source": [
        "3.2 Afficher l'influence du port d'embarquement sur la Survie"
      ]
    },
    {
      "cell_type": "code",
      "execution_count": 68,
      "metadata": {
        "_cell_guid": "0e70e9af-d7cc-8c40-b7d4-2643889c376d",
        "_uuid": "b4f7ccb3df98da6915bda1c7c225b905fc37845b",
        "id": "hcKaRwyIXisQ",
        "colab": {
          "base_uri": "https://localhost:8080/",
          "height": 564
        },
        "outputId": "bd85212e-3aad-40c7-f80b-bfc3b046fd3f"
      },
      "outputs": [
        {
          "output_type": "display_data",
          "data": {
            "text/plain": [
              "<Figure size 800x600 with 1 Axes>"
            ],
            "image/png": "iVBORw0KGgoAAAANSUhEUgAAArcAAAIjCAYAAAAZajMiAAAAOnRFWHRTb2Z0d2FyZQBNYXRwbG90bGliIHZlcnNpb24zLjEwLjAsIGh0dHBzOi8vbWF0cGxvdGxpYi5vcmcvlHJYcgAAAAlwSFlzAAAPYQAAD2EBqD+naQAAS6FJREFUeJzt3Xt8j/X/x/HnZ+fZbA47Wc2IMZPjiH3lEGOO5VAo5VSopIPoa4lRNFTSwSkVqikUhb6GSMjIMYocJyobsgPDpu36/dHN59enjbb5zGeuHvfb7XNrn/f7ut7X6/owPXftfb0vi2EYhgAAAAATcHJ0AQAAAIC9EG4BAABgGoRbAAAAmAbhFgAAAKZBuAUAAIBpEG4BAABgGoRbAAAAmAbhFgAAAKZBuAUAAIBpEG4B3HT69++vKlWqlOgxLBaLxo0bV6LHuNGqVKmizp07O7oMu+nfv7+8vb1vyLGOHTsmi8WiV199tUSP06pVK7Vq1apEjwGYHeEWwDXt3btX9957r0JDQ+Xh4aFbbrlFbdu21VtvveXo0hzuSuC58nJyclKFChXUoUMHJSUlFXvcGTNmaN68efYr9Ab6+2fy99ekSZMcXSIAk3NxdAEASq/NmzfrrrvuUuXKlTVo0CAFBQXpxIkT2rJli9544w0NGzbMIXXNmTNHeXl5Djl2Qe6//3517NhRubm5OnjwoGbMmKG77rpL27ZtU506dYo83owZM+Tn56f+/fvbv9gb5Mpn8ncNGjRwQDUA/k0ItwCuauLEifL19dW2bdtUrlw5m75Tp07Z7ThZWVny8vIq9Paurq52O7Y9NGzYUA8++KD1ffPmzdWhQwfNnDlTM2bMcGBljvP3z+RmlZeXp5ycHEeXAaAImJYA4KqOHDmi2rVr5wu2khQQEGD9+sqvogv6Vfrf566OGzdOFotF+/bt0wMPPKDy5cvrzjvv1KuvviqLxaKff/453xixsbFyc3NTWlqaJNs5t5cvX1aFChU0YMCAfPtlZmbKw8NDI0aMkCTl5ORo7NixioyMlK+vr7y8vNS8eXN9/fXXRfhU/lnz5s0l/fn5/dXcuXPVunVrBQQEyN3dXREREZo5c6bNNlWqVNGPP/6ob775xvqr/L/OwUxPT9fTTz+tkJAQubu7q3r16po8eXKRrmSvXr1a9evXl4eHhyIiIrRkyRJr39GjR2WxWPT666/n22/z5s2yWCz6+OOPC32sa7kyB3j9+vVq1KiRPD09VadOHa1fv16StGTJEtWpU0ceHh6KjIzUrl27Chzn6NGjiomJkZeXl4KDg/Xiiy/KMAybbV599VX95z//UcWKFeXp6anIyEh9+umn+cayWCx64oknlJCQoNq1a8vd3V2JiYkFHtcwDA0ePFhubm42n+FHH32kyMhIeXp6qkKFCurdu7dOnDiRb/933nlH1apVk6enp+644w5t3LixsB8dgGsg3AK4qtDQUO3YsUM//PCD3ce+7777dOHCBb388ssaNGiQevbsKYvFokWLFuXbdtGiRWrXrp3Kly+fr8/V1VXdunXT559/nu8K2+eff67s7Gz17t1b0p9h991331WrVq00efJkjRs3TqdPn1ZMTIx2795tt3M7duyYJOWrd+bMmQoNDdXzzz+v1157TSEhIXr88cc1ffp06zbTpk3TrbfeqvDwcH344Yf68MMPNXr0aEnShQsX1LJlS3300Ufq27ev3nzzTTVr1kyxsbEaPnx4oWo7dOiQevXqpQ4dOig+Pl4uLi667777tGbNGknSbbfdpmbNmikhISHfvgkJCSpbtqzuueeefzzOhQsXdObMmXyvP/74w2a7w4cP64EHHlCXLl0UHx+vtLQ0denSRQkJCXrmmWf04IMPavz48Tpy5Ih69uyZL8Tn5uaqffv2CgwM1JQpUxQZGam4uDjFxcXZbPfGG2+oQYMGevHFF/Xyyy9bz/vLL7/MV/u6dev0zDPPqFevXnrjjTcKvHkxNzdX/fv31wcffKClS5eqe/fukv78bUffvn0VFhamqVOn6umnn9batWvVokULpaenW/d/7733NGTIEAUFBWnKlClq1qyZ7r777gJDMIAiMgDgKlavXm04Ozsbzs7ORlRUlPHcc88Zq1atMnJycmy2S05ONiQZc+fOzTeGJCMuLs76Pi4uzpBk3H///fm2jYqKMiIjI23avvvuO0OS8cEHH1jb+vXrZ4SGhlrfr1q1ypBkLF++3Gbfjh07Grfddpv1/R9//GFkZ2fbbJOWlmYEBgYaAwcOvGbdBbly3uPHjzdOnz5tpKSkGBs3bjQaN25sSDIWL15ss/2FCxfyjRETE2NTo2EYRu3atY2WLVvm2/all14yvLy8jIMHD9q0jxo1ynB2djaOHz9+zXpDQ0MNScZnn31mbcvIyDAqVapkNGjQwNo2e/ZsQ5Kxf/9+a1tOTo7h5+dn9OvX75rHuPKZXO2VlJSUr57Nmzdb2678WXp6eho///xzvpq+/vpra1u/fv0MScawYcOsbXl5eUanTp0MNzc34/Tp09b2v3/2OTk5xu233260bt3apl2S4eTkZPz4448Fntcrr7xiXL582ejVq5fh6elprFq1yrrNsWPHDGdnZ2PixIk2++7du9dwcXGxtufk5BgBAQFG/fr1bf4+vvPOO4akAv/sARQeV24BXFXbtm2VlJSku+++W99//72mTJmimJgY3XLLLVq2bNl1jf3oo4/ma+vVq5d27Nhh8+v8hQsXyt3d/ZpXC1u3bi0/Pz8tXLjQ2paWlqY1a9aoV69e1jZnZ2e5ublJ+nMu5dmzZ/XHH3+oUaNG2rlzZ7HPJS4uTv7+/goKClLz5s21f/9+vfbaa7r33ntttvP09LR+nZGRoTNnzqhly5Y6evSoMjIy/vE4ixcvVvPmzVW+fHmbq6HR0dHKzc3Vhg0b/nGM4OBgdevWzfrex8dHffv21a5du5SSkiJJ6tmzpzw8PGyu3q5atUpnzpwp9DzawYMHa82aNfleERERNttFREQoKirK+r5JkyaS/vwzrVy5cr72o0eP5jvWE088Yf36yrSCnJwcffXVV9b2v372aWlpysjIUPPmzQv8c2/ZsmW+Oq/IycnRfffdpxUrVuh///uf2rVrZ+1bsmSJ8vLy1LNnT5s/n6CgIIWFhVmnv2zfvl2nTp3So48+av37KP053cbX17fA4wIoPG4oA3BNjRs31pIlS5STk6Pvv/9eS5cu1euvv657771Xu3fvvmoI+CdVq1bN13bfffdp+PDhWrhwoZ5//nkZhqHFixerQ4cO8vHxuepYLi4u6tGjhxYsWKDs7Gy5u7tryZIlunz5sk24laT58+frtdde008//aTLly9fs57CGjx4sO677z5dunRJ69at05tvvqnc3Nx823377beKi4tTUlKSLly4YNOXkZHxj8Hm0KFD2rNnj/z9/QvsL8xNftWrV5fFYrFpq1GjhqQ/p1MEBQWpXLly6tKlixYsWKCXXnpJ0p9TEm655Ra1bt36H48hSWFhYYqOjv7H7f4aYCVZP4OQkJAC26/Mu77CyclJt91221XP54oVK1ZowoQJ2r17t7Kzs63tf/8spGv/XYiPj9f58+e1cuXKfOvRHjp0SIZhKCwsrMB9r9wIeWVe+d+3c3V1zXcuAIqOcAugUNzc3NS4cWM1btxYNWrU0IABA7R48WLFxcUVGBAkFRjwrvjrlbQrgoOD1bx5cy1atEjPP/+8tmzZouPHj2vy5Mn/WF/v3r01e/ZsrVy5Ul27dtWiRYsUHh6uevXqWbf56KOP1L9/f3Xt2lUjR45UQECAnJ2dFR8fn+/mr6L4a5Dr3LmznJ2dNWrUKN11111q1KiRpD9vLmvTpo3Cw8M1depUhYSEyM3NTf/73//0+uuvF+qGsLy8PLVt21bPPfdcgf1XQp099O3bV4sXL9bmzZtVp04dLVu2TI8//ricnOz7Cz9nZ+citRt/u1GsMDZu3Ki7775bLVq00IwZM1SpUiW5urpq7ty5WrBgQb7tC/q7eUVMTIwSExM1ZcoUtWrVSh4eHta+vLw8WSwWrVy5ssD6b9QDJ4B/O8ItgCK7EthOnjwp6f9vnPrrDTOSClz54J/06tVLjz/+uA4cOKCFCxeqTJky6tKlyz/u16JFC1WqVEkLFy7UnXfeqXXr1llvxLri008/1W233aYlS5bYBPK/33x0vUaPHq05c+bohRdesN5pv3z5cmVnZ2vZsmU2VysLWqnhaj8sVKtWTefPny/UFdGrOXz4sAzDsDnGwYMHJcnmxqn27dvL399fCQkJatKkiS5cuKCHHnqo2MctKXl5eTp69KhNsP/7+Xz22Wfy8PDQqlWr5O7ubt1u7ty5RT5e06ZN9eijj6pz58667777tHTpUrm4/Pm/0mrVqskwDFWtWvWaP2iEhoZK+vNK71+vhF++fFnJyck2P5ABKDrm3AK4qq+//rrAK2X/+9//JEk1a9aU9Oe8TT8/v3xzPouzxmuPHj3k7Oysjz/+WIsXL1bnzp0LtQauk5OT7r33Xi1fvlwffvih/vjjj3xTEq5cTfvrOW3duvW6niZWkHLlymnIkCFatWqVdRWGgo6dkZFRYMDy8vLK94OC9Odc2KSkJK1atSpfX3p6er6VCAry22+/aenSpdb3mZmZ+uCDD1S/fn0FBQVZ211cXHT//fdr0aJFmjdvnurUqaO6dev+4/iO8Pbbb1u/NgxDb7/9tlxdXdWmTRtJf372FovF5jcJx44d0+eff16s40VHR+uTTz5RYmKiHnroIetV9+7du8vZ2Vnjx4/P931jGIZ+//13SX/+cOjv769Zs2bZrPAxb968Av/cARQNV24BXNWwYcN04cIFdevWTeHh4crJydHmzZu1cOFCValSxWZt2UceeUSTJk3SI488okaNGmnDhg3WK2hFERAQoLvuuktTp07VuXPn8gXUa+nVq5feeustxcXFqU6dOqpVq5ZNf+fOnbVkyRJ169ZNnTp1UnJysmbNmqWIiAidP3++yLVey1NPPaVp06Zp0qRJ+uSTT9SuXTu5ubmpS5cuGjJkiM6fP685c+YoICDAegX8isjISM2cOVMTJkxQ9erVFRAQoNatW2vkyJFatmyZOnfurP79+ysyMlJZWVnau3evPv30Ux07dkx+fn7XrKtGjRp6+OGHtW3bNgUGBur9999XampqgSH7ynJjX3/9daGmhvzVzp079dFHH+Vrr1atms0NZNfLw8NDiYmJ6tevn5o0aaKVK1fqyy+/1PPPP2+dm9ypUydNnTpV7du31wMPPKBTp05p+vTpql69uvbs2VOs43bt2lVz585V37595ePjo9mzZ6tatWqaMGGCYmNjdezYMXXt2lVly5ZVcnKyli5dqsGDB2vEiBFydXXVhAkTNGTIELVu3Vq9evVScnKy5s6dy5xbwB4ctEoDgJvAypUrjYEDBxrh4eGGt7e34ebmZlSvXt0YNmyYkZqaarPthQsXjIcfftjw9fU1ypYta/Ts2dM4derUVZcC++syTX83Z84cQ5JRtmxZ4+LFi/n6/74U2BV5eXlGSEiIIcmYMGFCgf0vv/yyERoaari7uxsNGjQwVqxYUeB4f6+7IH9dHqog/fv3N5ydnY3Dhw8bhmEYy5YtM+rWrWt4eHgYVapUMSZPnmy8//77hiQjOTnZul9KSorRqVMno2zZsvmWhjp37pwRGxtrVK9e3XBzczP8/PyM//znP8arr76ab4m2vwsNDTU6depkrFq1yqhbt67h7u5uhIeH51uy7K9q165tODk5Gb/88ss1x/77Z3K111+XErtSz99JMoYOHVrguH/9rPv162d4eXkZR44cMdq1a2eUKVPGCAwMNOLi4ozc3Fyb/d977z0jLCzMes5z5861/l38p2Nf7fiGYRgzZswwJBkjRoywtn322WfGnXfeaXh5eRleXl5GeHi4MXToUOPAgQP59q1atarh7u5uNGrUyNiwYYPRsmVLlgIDrpPFMIoxOx8A8K/QoEEDVahQQWvXrnV0KQBQKMy5BQAUaPv27dq9e7f69u3r6FIAoNC4cgsAsPHDDz9ox44deu2113TmzBkdPXrUZskrACjNuHILALDx6aefasCAAbp8+bI+/vhjgi2Am4pDw+2GDRvUpUsXBQcHy2Kx5FuWxTAMjR07VpUqVZKnp6eio6N16NAhm23Onj2rPn36yMfHR+XKldPDDz9s97ueAeDfZNy4ccrLy9P+/fvVsmVLR5cDAEXi0HCblZWlevXqafr06QX2T5kyRW+++aZmzZqlrVu3ysvLSzExMbp06ZJ1mz59+ujHH3/UmjVrtGLFCm3YsEGDBw++UacAAACAUqTUzLm1WCxaunSpunbtKunPq7bBwcF69tlnNWLECEl/LngeGBioefPmqXfv3tq/f78iIiK0bds26xOTEhMT1bFjR/3yyy8KDg521OkAAADAAUrtQxySk5OVkpJi85hJX19fNWnSRElJSerdu7eSkpJUrlw5a7CV/nxyjJOTk7Zu3apu3boVOHZ2drays7Ot7/Py8nT27FlVrFjxqo+9BAAAgOMYhqFz584pODhYTk5Xn3xQasNtSkqKJCkwMNCmPTAw0NqXkpKigIAAm34XFxdVqFDBuk1B4uPjNX78eDtXDAAAgJJ24sQJ3XrrrVftL7XhtiTFxsZq+PDh1vcZGRmqXLmyTpw4IR8fHwdWBgAAgIJkZmYqJCREZcuWveZ2pTbcBgUFSZJSU1NVqVIla3tqaqrq169v3ebUqVM2+/3xxx86e/asdf+CuLu7y93dPV+7j48P4RYAAKAU+6cppKV2nduqVasqKCjI5pGPmZmZ2rp1q6KioiRJUVFRSk9P144dO6zbrFu3Tnl5eWrSpMkNrxkAAACO5dArt+fPn9fhw4et75OTk7V7925VqFBBlStX1tNPP60JEyYoLCxMVatW1ZgxYxQcHGxdUaFWrVpq3769Bg0apFmzZuny5ct64okn1Lt3b1ZKAAAA+BdyaLjdvn277rrrLuv7K/Ng+/Xrp3nz5um5555TVlaWBg8erPT0dN15551KTEy0eVpOQkKCnnjiCbVp00ZOTk7q0aOH3nzzzRt+LgAAAHC8UrPOrSNlZmbK19dXGRkZzLkFAAAohQqb10rtnFsAAACgqAi3AAAAMA3CLQAAAEyDcAsAAADTINwCAADANAi3AAAAMA3CLQAAAEyDcAsAAADTINwCAADANAi3AAAAMA3CLQAAAEyDcAsAAADTINwCAADANAi3AAAAMA3CLQAAAEyDcAsAAADTINwCAADANAi3AAAAMA3CLQAAAEyDcAsAAADTINwCAADANAi3AAAAMA3CLQAAAEyDcAsAAADTINwCAADANAi3AAAAMA3CLQAAAEyDcAsAAADTINwCAADANAi3AAAAMA3CLQAAAEyDcAsAAADTINwCAADANAi3AAAAMA3CLQAAAEyDcAsAAADTINwCAADANAi3AAAAMA3CLQAAAEyDcAsAAADTINwCAADANAi3AAAAMA3CLQAAAEyDcAsAAADTINwCAADANAi3AAAAMA3CLQAAAEyDcAsAAADTINwCAADANAi3AAAAMA3CLQAAAEyDcAsAAADTINwCAADANAi3AAAAMA3CLQAAAEyDcAsAAADTINwCAADANAi3AAAAMA3CLQAAAEyDcAsAAADTINwCAADANAi3AAAAMA3CLQAAAEyDcAsAAADTINwCAADANAi3AAAAMA3CLQAAAEyDcAsAAADTINwCAADANAi3AAAAMA3CLQAAAEyDcAsAAADTINwCAADANAi3AAAAMA3CLQAAAEyDcAsAAADTINwCAADANAi3AAAAMA3CLQAAAEyDcAsAAADTINwCAADANEp1uM3NzdWYMWNUtWpVeXp6qlq1anrppZdkGIZ1G8MwNHbsWFWqVEmenp6Kjo7WoUOHHFg1AAAAHKVUh9vJkydr5syZevvtt7V//35NnjxZU6ZM0VtvvWXdZsqUKXrzzTc1a9Ysbd26VV5eXoqJidGlS5ccWDkAAAAcwWL89TJoKdO5c2cFBgbqvffes7b16NFDnp6e+uijj2QYhoKDg/Xss89qxIgRkqSMjAwFBgZq3rx56t27d6GOk5mZKV9fX2VkZMjHx6dEzgUAAADFV9i8Vqqv3P7nP//R2rVrdfDgQUnS999/r02bNqlDhw6SpOTkZKWkpCg6Otq6j6+vr5o0aaKkpKSrjpudna3MzEybFwAAAG5+Lo4u4FpGjRqlzMxMhYeHy9nZWbm5uZo4caL69OkjSUpJSZEkBQYG2uwXGBho7StIfHy8xo8fX3KFAwAAwCFK9ZXbRYsWKSEhQQsWLNDOnTs1f/58vfrqq5o/f/51jRsbG6uMjAzr68SJE3aqGAAAAI5Uqq/cjhw5UqNGjbLOna1Tp45+/vlnxcfHq1+/fgoKCpIkpaamqlKlStb9UlNTVb9+/auO6+7uLnd39xKtHQAAADdeqb5ye+HCBTk52Zbo7OysvLw8SVLVqlUVFBSktWvXWvszMzO1detWRUVF3dBaAQAA4Hil+sptly5dNHHiRFWuXFm1a9fWrl27NHXqVA0cOFCSZLFY9PTTT2vChAkKCwtT1apVNWbMGAUHB6tr166OLR4AAAA3XKkOt2+99ZbGjBmjxx9/XKdOnVJwcLCGDBmisWPHWrd57rnnlJWVpcGDBys9PV133nmnEhMT5eHh4cDKAQAA4Ailep3bG4V1bgEAAEo3U6xzCwAAABQF4RYAAACmQbgFAACAaRBuAQAAYBqEWwAAAJgG4RYAAACmQbgFAACAaRBuAQAAYBqEWwAAAJgG4RYAAACmQbgFAACAaRBuAQAAYBqEWwAAAJgG4RYAAACmQbgFAACAaRBuAQAAYBqEWwAAAJgG4RYAAACmQbgFAACAaRBuAQAAYBqEWwAAAJgG4RYAAACmQbgFAACAaRBuAQAAYBqEWwAAAJgG4RYAAACmQbgFAACAaRBuAQAAYBqEWwAAAJgG4RYAAACmQbgFAACAaRBuAQAAYBqEWwAAAJgG4RYAAACmQbgFAACAaRBuAQAAYBqEWwAAAJgG4RYAAACmQbgFAACAaRBuAQAAYBqEWwAAAJgG4RYAAACmQbgFAACAaRBuAQAAYBqEWwAAAJgG4RYAAACmQbgFAACAaRBuAQAAYBqEWwAAAJgG4RYAAACmQbgFAACAaRBuAQAAYBqEWwAAAJgG4RYAAACmQbgFAACAaRBuAQAAYBqEWwAAAJgG4RYAAACmQbgFAACAaRBuAQAAYBqEWwAAAJgG4RYAAACmQbgFAACAaRBuAQAAYBqEWwAAAJgG4RYAAACmQbgFAACAaRBuAQAAYBqEWwAAAJgG4RYAAACmQbgFAACAaRBuAQAAYBqEWwAAAJgG4RYAAACm4VLUHfLy8vTNN99o48aN+vnnn3XhwgX5+/urQYMGio6OVkhISEnUCQAAAPyjQl+5vXjxoiZMmKCQkBB17NhRK1euVHp6upydnXX48GHFxcWpatWq6tixo7Zs2VKSNQMAAAAFKvSV2xo1aigqKkpz5sxR27Zt5erqmm+bn3/+WQsWLFDv3r01evRoDRo0yK7FAgAAANdiMQzDKMyG+/fvV61atQo16OXLl3X8+HFVq1btuoq7UTIzM+Xr66uMjAz5+Pg4uhwAAAD8TWHzWqGnJRQ22EqSq6vrTRNsAQAAYB5FvqHsr/744w/Nnj1b69evV25urpo1a6ahQ4fKw8PDXvUBAAAAhXZd4fbJJ5/UwYMH1b17d12+fFkffPCBtm/fro8//the9QEAAACFVqRwu3TpUnXr1s36fvXq1Tpw4ICcnZ0lSTExMWratKl9KwQAAAAKqUgPcXj//ffVtWtX/fbbb5Kkhg0b6tFHH1ViYqKWL1+u5557To0bN7Zrgb/++qsefPBBVaxYUZ6enqpTp462b99u7TcMQ2PHjlWlSpXk6emp6OhoHTp0yK41AAAA4OZQpHC7fPly3X///WrVqpXeeustvfPOO/Lx8dHo0aM1ZswYhYSEaMGCBXYrLi0tTc2aNZOrq6tWrlypffv26bXXXlP58uWt20yZMkVvvvmmZs2apa1bt8rLy0sxMTG6dOmS3eoAAADAzaHQS4H9VXp6up577jl9//33mjVrlho0aFAStWnUqFH69ttvtXHjxgL7DcNQcHCwnn32WY0YMUKSlJGRocDAQM2bN0+9e/cu1HFYCgwAAKB0s/tSYH9Vrlw5vfPOO3rllVfUt29fjRw5skSulC5btkyNGjXSfffdp4CAADVo0EBz5syx9icnJyslJUXR0dHWNl9fXzVp0kRJSUlXHTc7O1uZmZk2L9jHuHHjZLFYbF7h4eHW/latWuXrf/TRRws9/qOPPiqLxaJp06ZZ27Kzs/XQQw/Jx8dHNWrU0FdffWWzzyuvvKJhw4Zd97kBAIDSr0jh9vjx4+rZs6fq1KmjPn36KCwsTDt27FCZMmVUr149rVy50q7FHT16VDNnzlRYWJhWrVqlxx57TE8++aTmz58vSUpJSZEkBQYG2uwXGBho7StIfHy8fH19ra+QkBC71v1vV7t2bZ08edL62rRpk03/oEGDbPqnTJlSqHGXLl2qLVu2KDg42Kb9nXfe0Y4dO5SUlKTBgwfrgQce0JVfSCQnJ2vOnDmaOHGifU4OAACUakUKt3379pWTk5NeeeUVBQQEaMiQIXJzc9P48eP1+eefKz4+Xj179rRbcXl5eWrYsKFefvllNWjQQIMHD9agQYM0a9as6xo3NjZWGRkZ1teJEyfsVDEkycXFRUFBQdaXn5+fTX+ZMmVs+gszFeTXX3/VsGHDlJCQkO/Rz/v379fdd9+t2rVra+jQoTp9+rTOnDkjSXrsscc0efJkppsAAPAvUaRwu337dk2cOFHt27fX1KlTtWfPHmtfrVq1tGHDBpspAterUqVKioiIsGmrVauWjh8/LkkKCgqSJKWmptpsk5qaau0riLu7u3x8fGxesJ9Dhw4pODhYt912m/r06WP987oiISFBfn5+uv322xUbG6sLFy5cc7y8vDw99NBDGjlypGrXrp2vv169etq0aZMuXryoVatWqVKlSvLz81NCQoI8PDxslq8DAADmVqR1biMjIzV27Fj169dPX331lerUqZNvm8GDB9utuGbNmunAgQM2bQcPHlRoaKgkqWrVqgoKCtLatWtVv359SX9ONt66dasee+wxu9WBwmvSpInmzZunmjVr6uTJkxo/fryaN2+uH374QWXLltUDDzyg0NBQBQcHa8+ePfrvf/+rAwcOaMmSJVcdc/LkyXJxcdGTTz5ZYP/AgQO1Z88eRUREyM/PT4sWLVJaWprGjh2r9evX64UXXtAnn3yiatWq6f3339ctt9xSUqcPAAAczSiCY8eOGT169DAiIiKMBx54wPj111+LsnuRfffdd4aLi4sxceJE49ChQ0ZCQoJRpkwZ46OPPrJuM2nSJKNcuXLGF198YezZs8e45557jKpVqxoXL14s9HEyMjIMSUZGRkZJnMa/WlpamuHj42O8++67BfavXbvWkGQcPny4wP7t27cbgYGBNn/XQkNDjddff/2ax+3fv78xbdo044svvjBq165tnD9/3hg7dqzRvXv3Yp8LAABwnMLmtSKFW0dYvny5cfvttxvu7u5GeHi48c4779j05+XlGWPGjDECAwMNd3d3o02bNsaBAweKdAzCbclq1KiRMWrUqAL7zp8/b0gyEhMTC+x//fXXDYvFYjg7O1tfkgwnJycjNDS0wH3WrVtnNG7c2Pjjjz+MZ555xhg5cqRhGIbxww8/GBUqVLDLOQEAgBursHmt0NMSsrKy5OXlVegrwkXd/mo6d+6szp07X7XfYrHoxRdf1Isvvnjdx4L9nT9/XkeOHNFDDz1UYP/u3bsl/Tm/uiAPPfRQvnncMTExeuihhzRgwIB821+6dElDhw5VQkKCnJ2dlZuba1054fLly8rNzb2OswEAAKVdoW8oq169uiZNmqSTJ09edRvDMLRmzRp16NBBb775pl0KxM1lxIgR+uabb3Ts2DFt3rxZ3bp1k7Ozs+6//34dOXJEL730knbs2KFjx45p2bJl6tu3r1q0aKG6detaxwgPD9fSpUslSRUrVtTtt99u83J1dVVQUJBq1qyZ7/gvvfSSOnbsaH2wSLNmzbRkyRLt2bNHb7/9tpo1a3ZjPggAAOAQhb5yu379ej3//PMaN26c6tWrp0aNGik4OFgeHh5KS0vTvn37lJSUJBcXF8XGxmrIkCElWTdKqV9++UX333+/fv/9d/n7++vOO+/Uli1b5O/vr0uXLumrr77StGnTlJWVpZCQEPXo0UMvvPCCzRgHDhxQRkZGkY/9ww8/aNGiRdarwZJ07733av369WrevLlq1qxp18dDAwCA0qfIj989fvy4Fi9erI0bN+rnn3/WxYsX5efnpwYNGigmJkYdOnSQs7NzSdVbInj8LgAAQOlW2LxW5HBrRoRbAACA0q2wea1ID3EAAAAASjPCLQAAAEyDcAsAAADTINwCAADANAi3AAAAMI1ih9uNGzfqwQcfVFRUlH799VdJ0ocffqhNmzbZrTgAAACgKIoVbj/77DPFxMTI09NTu3btUnZ2tiQpIyNDL7/8sl0LBAAAAAqrWOF2woQJmjVrlubMmSNXV1dre7NmzbRz5067FQcAAAAURbHC7YEDB9SiRYt87b6+vkpPT7/emgAAAIBiKVa4DQoK0uHDh/O1b9q0Sbfddtt1FwUAAAAUh0txdho0aJCeeuopvf/++7JYLPrtt9+UlJSkESNGaMyYMfauEUU0adcZR5eAaxjVwM/RJQAAYFrFCrejRo1SXl6e2rRpowsXLqhFixZyd3fXiBEjNGzYMHvXCAAAABRKscKtxWLR6NGjNXLkSB0+fFjnz59XRESEvL297V0fAAAAUGjFmnM7cOBAnTt3Tm5uboqIiNAdd9whb29vZWVlaeDAgfauEQAAACiUYoXb+fPn6+LFi/naL168qA8++OC6iwIAAACKo0jTEjIzM2UYhgzD0Llz5+Th4WHty83N1f/+9z8FBATYvUgAAACgMIoUbsuVKyeLxSKLxaIaNWrk67dYLBo/frzdigMAAACKokjh9uuvv5ZhGGrdurU+++wzVahQwdrn5uam0NBQBQcH271IAAAAoDCKFG5btmwpSUpOTlZISIicnIo1ZRcAAAAoEcVaCiw0NFSSdOHCBR0/flw5OTk2/XXr1r3+ygAAAIAiKla4PX36tAYMGKCVK1cW2J+bm3tdRQEAAADFUax5BU8//bTS09O1detWeXp6KjExUfPnz1dYWJiWLVtm7xoBAACAQinWldt169bpiy++UKNGjeTk5KTQ0FC1bdtWPj4+io+PV6dOnexdJwAAAPCPinXlNisry7qebfny5XX69GlJUp06dbRz5077VQcAAAAUQbHCbc2aNXXgwAFJUr169TR79mz9+uuvmjVrlipVqmTXAgEAAIDCKta0hKeeekonT56UJMXFxal9+/ZKSEiQm5ub5s2bZ8/6AAAAgEIrVrh98MEHrV9HRkbq559/1k8//aTKlSvLz8/PbsUBAAAARWGXpzCUKVNGDRs2lLe3t1599VV7DAkAAAAUWZHD7enTp7VixQqtXr3aup7t5cuX9cYbb6hKlSqaNGmS3YsEAAAACqNI0xI2bdqkzp07KzMzUxaLRY0aNdLcuXPVtWtXubi4aNy4cerXr19J1QoAAABcU5Gu3L7wwgvq2LGj9uzZo+HDh2vbtm3q1q2bXn75Ze3bt0+PPvqoPD09S6pWAAAA4JqKFG737t2rF154QbfffrtefPFFWSwWTZkyRffee29J1QcAAAAUWpHCbVpamnU1BE9PT5UpU0a33357iRQGAAAAFFWRlwLbt2+fUlJSJEmGYejAgQPKysqy2aZu3br2qQ4AAAAogiKH2zZt2sgwDOv7zp07S5IsFosMw5DFYrGuogAAAADcSEUKt8nJySVVBwAAAHDdihRuQ0NDS6oOAAAA4LrZ5QllAAAAQGlAuAUAAIBpEG4BAABgGoRbAAAAmAbhFgAAAKZR6NUSGjRoIIvFUqhtd+7cWeyCAAAAgOIqdLjt2rVrCZYBAAAAXL9Ch9u4uLiSrAMAAAC4bsy5BQAAgGkU6QllV+Tm5ur111/XokWLdPz4ceXk5Nj0nz171i7FAQAAAEVRrCu348eP19SpU9WrVy9lZGRo+PDh6t69u5ycnDRu3Dg7lwgAAAAUTrHCbUJCgubMmaNnn31WLi4uuv/++/Xuu+9q7Nix2rJli71rBAAAAAqlWOE2JSVFderUkSR5e3srIyNDktS5c2d9+eWX9qsOAAAAKIJihdtbb71VJ0+elCRVq1ZNq1evliRt27ZN7u7u9qsOAAAAKIJihdtu3bpp7dq1kqRhw4ZpzJgxCgsLU9++fTVw4EC7FggAAAAUVrFWS5g0aZL16169eik0NFSbN29WWFiYunTpYrfiAAAAgKIoVri9dOmSPDw8rO+bNm2qpk2b2q0oAAAAoDiKNS0hICBA/fr105o1a5SXl2fvmgAAAIBiKVa4nT9/vi5cuKB77rlHt9xyi55++mlt377d3rUBAAAARVLsG8oWL16s1NRUvfzyy9q3b5+aNm2qGjVq6MUXX7R3jQAAAEChFCvcXlG2bFkNGDBAq1ev1p49e+Tl5aXx48fbqzYAAACgSK4r3F66dEmLFi1S165d1bBhQ509e1YjR460V20AAABAkRRrtYRVq1ZpwYIF+vzzz+Xi4qJ7771Xq1evVosWLexdHwAAAFBoxQq33bp1U+fOnfXBBx+oY8eOcnV1tXddAAAAQJEVK9ympqaqbNmy9q4FAAAAuC6FDreZmZny8fGRJBmGoczMzKtue2U7AAAA4EYqdLgtX768Tp48qYCAAJUrV04WiyXfNoZhyGKxKDc3165FAgAAAIVR6NUS1q1bpwoVKli/Luj19ddfa926dSVWLACY1cyZM1W3bl35+PjIx8dHUVFRWrlypbX/yJEj6tatm/z9/eXj46OePXsqNTX1H8edPn26qlSpIg8PDzVp0kTfffedTf/w4cNVoUIFhYSEKCEhwaZv8eLF6tKli31OEABukEJfuW3ZsqX161atWpVELQDwr3Xrrbdq0qRJCgsLk2EYmj9/vu655x7t2rVLVapUUbt27VSvXj3rBYQxY8aoS5cu2rJli5ycCr5OsXDhQg0fPlyzZs1SkyZNNG3aNMXExOjAgQMKCAjQ8uXLtWDBAq1evVqHDh3SwIEDFRMTIz8/P2VkZGj06NH66quvbuTHAADXzWIYhlHUncLCwtSnTx/16dNHYWFhJVHXDZWZmSlfX19lZGSYYr7wpF1nHF0CrmFUAz9Hl4CbRIUKFfTKK68oJCREHTp0UFpamvXfqIyMDJUvX16rV69WdHR0gfs3adJEjRs31ttvvy1JysvLU0hIiIYNG6ZRo0ZpypQp2rlzpz755BNJUmBgoFasWKHGjRtryJAhCg8P1zPPPHNjThYA/kFh81qxHuLw+OOP68svv1R4eLgaN26sN954QykpKcUuFgDw/3Jzc/XJJ58oKytLUVFRys7OlsVikbu7u3UbDw8POTk5adOmTQWOkZOTox07dtgEXycnJ0VHRyspKUmSVK9ePW3fvl1paWnasWOHLl68qOrVq2vTpk3auXOnnnzyyZI9UQAoAcUKt88884y2bdum/fv3q2PHjpo+fbpCQkLUrl07ffDBB/auEQD+Ffbu3Stvb2+5u7vr0Ucf1dKlSxUREaGmTZvKy8tL//3vf3XhwgVlZWVpxIgRys3N1cmTJwsc68yZM8rNzVVgYKBNe2BgoPViRExMjB588EE1btxY/fv31/z58+Xl5aXHHntMs2bN0syZM1WzZk01a9ZMP/74Y4mfPwDYw3U9frdGjRoaP368Dh48qI0bN+r06dMaMGCAvWoDgH+VmjVravfu3dq6dasee+wx9evXT/v27ZO/v78WL16s5cuXy9vbW76+vkpPT1fDhg2vOt+2sMaNG6fDhw9r79696tatm+Lj4xUdHS1XV1dNmDBBmzZt0iOPPKK+ffva6SwBoGQV6yEOf/Xdd99pwYIFWrhwoTIzM3XffffZoy4A+Ndxc3NT9erVJUmRkZHatm2b3njjDc2ePVvt2rXTkSNHdObMGbm4uKhcuXIKCgrSbbfdVuBYfn5+cnZ2zreiQmpqqoKCggrc56efftJHH32kXbt26f3331eLFi3k7++vnj17auDAgTp37hwP8AFQ6hXrR/6DBw8qLi5ONWrUULNmzbR//35NnjxZqamp1hsTAADXJy8vT9nZ2TZtfn5+KleunNatW6dTp07p7rvvLnBfNzc3RUZGau3atTbjrV27VlFRUfm2NwxDQ4YM0dSpU+Xt7a3c3FxdvnxZkqz/ZQ1zADeDYl25vXIj2dChQ9W7d+98c7oAAEUTGxurDh06qHLlyjp37pwWLFig9evXa9WqVZKkuXPnqlatWvL391dSUpKeeuopPfPMM6pZs6Z1jDZt2qhbt2564oknJP25hm2/fv3UqFEj3XHHHZo2bZqysrIKnD727rvvyt/f37qubbNmzTRu3Dht2bJFK1euVEREhMqVK1fyHwQAXKcih9vc3FzNnj1b9957r8qXL18SNQHAv86pU6fUt29fnTx5Ur6+vqpbt65WrVqltm3bSpIOHDig2NhYnT17VlWqVNHo0aPzLdN1ZdrCFb169dLp06c1duxYpaSkqH79+kpMTMx3QSI1NVUTJ07U5s2brW133HGHnn32WXXq1EkBAQGaP39+CZ49ANhPsda59fDw0P79+1W1atWSqOmGY51b3EiscwsAQNGV6Dq3t99+u44ePVrs4gAAAICSUKxwO2HCBI0YMUIrVqzQyZMnlZmZafMCAAAAHKFY4bZjx476/vvvdffdd+vWW29V+fLlVb58eZUrV65E5+FOmjRJFotFTz/9tLXt0qVLGjp0qCpWrChvb2/16NEj39I3AAAA+Hco1moJX3/9tb3r+Efbtm3T7NmzVbduXZv2Z555Rl9++aUWL14sX19fPfHEE+revbu+/fbbG14jAAAAHKtY4bZly5b2ruOazp8/rz59+mjOnDmaMGGCtT0jI0PvvfeeFixYoNatW0v6/+VytmzZoqZNm97QOgEAAOBYxQq3GzZsuGZ/ixYtilXM1QwdOlSdOnVSdHS0TbjdsWOHLl++rOjoaGtbeHi4KleurKSkpKuG2+zsbJuF0ZknDAAAYA7FCretWrXK12axWKxf2/MpNp988ol27typbdu25etLSUmRm5tbvoXFAwMDlZKSctUx4+PjNX78eLvVCAAAgNKhWDeUpaWl2bxOnTqlxMRENW7cWKtXr7ZbcSdOnNBTTz2lhIQEeXh42G3c2NhYZWRkWF8nTpyw29gAAABwnGJdufX19c3X1rZtW7m5uWn48OHasWPHdRcm/Tnt4NSpU2rYsKG1LTc3Vxs2bNDbb7+tVatWKScnR+np6TZXb1NTUxUUFHTVcd3d3eXu7m6XGgEAAFB6FCvcXk1gYKAOHDhgt/HatGmjvXv32rQNGDBA4eHh+u9//6uQkBC5urpq7dq16tGjh6Q/H1F5/PhxRUVF2a0OAAAA3ByKFW737Nlj894wDJ08eVKTJk1S/fr17VGXJKls2bK6/fbbbdq8vLxUsWJFa/vDDz+s4cOHq0KFCvLx8dGwYcMUFRXFSgkAAAD/QsUKt/Xr15fFYpFhGDbtTZs21fvvv2+Xwgrr9ddfl5OTk3r06KHs7GzFxMRoxowZN7QGAOaQwY2mpZZvXJyjSwBwkyjWDWXJyck6evSokpOTlZycrJ9//lkXLlzQ5s2bFR4ebu8abaxfv17Tpk2zvvfw8ND06dN19uxZZWVlacmSJdecbwsAAMxh5syZqlu3rnx8fOTj46OoqCitXLnS2j9kyBBVq1ZNnp6e8vf31z333KOffvrpmmOmpqaqf//+Cg4OVpkyZdS+fXsdOnTIZpsrvzEOCQlRQkKCTd/ixYvVpUsX+50kiqxYV25DQ0PtXQcAAECR3HrrrZo0aZLCwsJkGIbmz5+ve+65R7t27VLt2rUVGRmpPn36qHLlyjp79qzGjRundu3aKTk5Wc7OzvnGMwxDXbt2laurq7744gv5+Pho6tSpio6O1r59++Tl5aXly5drwYIFWr16tQ4dOqSBAwcqJiZGfn5+ysjI0OjRo/XVV1854NPAFUW6cpuUlKQVK1bYtH3wwQeqWrWqAgICNHjwYJuHIwAAAJSULl26qGPHjgoLC1ONGjU0ceJEeXt7a8uWLZKkwYMHq0WLFqpSpYoaNmyoCRMm6MSJEzp27FiB4x06dEhbtmzRzJkz1bhxY9WsWVMzZ87UxYsX9fHHH0uS9u/fr1atWqlRo0a6//775ePjo+TkZEnSc889p8cee0yVK1e+IeePghUp3L744ov68ccfre/37t2rhx9+WNHR0Ro1apSWL1+u+Ph4uxcJAABwLbm5ufrkk0+UlZVV4IpJWVlZmjt3rqpWraqQkJACx7hyge6va+s7OTnJ3d1dmzZtkiTVq1dP27dvV1pamnbs2KGLFy+qevXq2rRpk3bu3Kknn3yyBM4ORVGkcLt79261adPG+v6TTz5RkyZNNGfOHA0fPlxvvvmmFi1aZPciAQAACrJ37155e3vL3d1djz76qJYuXaqIiAhr/4wZM+Tt7S1vb2+tXLlSa9askZubW4FjhYeHq3LlyoqNjVVaWppycnI0efJk/fLLLzp58qQkKSYmRg8++KAaN26s/v37a/78+fLy8tJjjz2mWbNmaebMmapZs6aaNWtmc0EQN06Rwm1aWpoCAwOt77/55ht16NDB+r5x48Y87QsAANwwNWvW1O7du7V161Y99thj6tevn/bt22ft79Onj3bt2qVvvvlGNWrUUM+ePXXp0qUCx3J1ddWSJUt08OBBVahQQWXKlNHXX3+tDh06yMnp/yPTuHHjdPjwYe3du1fdunVTfHy8oqOj5erqqgkTJmjTpk165JFH1Ldv3xI/f+RXpHAbGBhonVeSk5OjnTt32qwne+7cObm6utq3QgAAgKtwc3NT9erVFRkZqfj4eNWrV09vvPGGtd/X11dhYWFq0aKFPv30U/30009aunTpVceLjIzU7t27lZ6erpMnTyoxMVG///67brvttgK3/+mnn/TRRx/ppZde0vr169WiRQv5+/urZ8+e2rlzp86dO2f3c8a1FSncduzYUaNGjdLGjRsVGxurMmXKqHnz5tb+PXv2qFq1anYvEgAAoDDy8vKuenO7YRgyDKNQN7/7+vrK399fhw4d0vbt23XPPfcUON6QIUM0depUeXt7Kzc3V5cvX5Yk639zc3Ov42xQHEVaCuyll15S9+7d1bJlS3l7e2v+/Pk281bef/99tWvXzu5FAgAA/F1sbKw6dOigypUr69y5c1qwYIHWr1+vVatW6ejRo1q4cKHatWsnf39//fLLL5o0aZI8PT3VsWNH6xjh4eGKj49Xt27dJP25Tq2/v78qV66svXv36qmnnlLXrl0LzDfvvvuu/P39revaNmvWTOPGjdOWLVu0cuVKRUREqFy5cjfks8D/K1K49fPz04YNG5SRkSFvb+98a8QtXrxY3t7edi0QAACgIKdOnVLfvn118uRJ+fr6qm7dulq1apXatm2r3377TRs3btS0adOs9wy1aNFCmzdvVkBAgHWMAwcOKCMjw/r+5MmTGj58uFJTU1WpUiX17dtXY8aMyXfs1NRUTZw4UZs3b7a23XHHHXr22WfVqVMnBQQEaP78+SX7AaBAFuPvz9D9F8rMzJSvr68yMjLk4+Pj6HKu26RdZxxdAq5hVAM/R5eAq+Dxu6UXj98FUNi8VqzH7wIAAAClEeEWAAAApkG4BQAAgGkQbgEAAGAahFsAAACYBuEWAAAApkG4BQAAgGkQbgEAAGAahFsAAACYBuEWAAAApkG4BQAAgGm4OLoAAABwc3sj7Q1Hl4CreKr8U44u4Ybjyi0AAABMg3ALAAAA0yDcAgAAwDQItwAAADANwi0AAABMg3ALAAAA0yDcAgAAwDQItwAAADANwi0AAABMg3ALAAAA0yDcAgAAwDQItwAAADANwi0AAABMg3ALAAAA0yDcAgAAwDQItwAAADANwi0AAABMg3ALAAAA0yDcAgAAwDQItwAAADANwi0AAABMg3ALAAAA0yDcAgAAwDQItwAAADANwi0AAABMg3ALAAAA0yDcAgAAwDQItwAAADANwi0AAABMg3ALAAAA0yDcAgAAwDQItwAAADANwi0AAABMg3ALAAAA0yDcAgAAwDQItwAAADANwi0AAABMg3ALAAAA0yDcAgAAwDQItwAAADANwi0AAABMg3ALAAAA0yDcAgAAwDQItwAAADANwi0AAABMg3ALAAAA0yDcAgAAwDQItwAAADANwi0AAABMg3ALAAAA0yDcAgAAwDQItwAAADANwi0AAABMg3ALAAAA0yDcAgAAwDQItwAAADANwi0AAABMg3ALAAAA0yDcAgAAwDRKdbiNj49X48aNVbZsWQUEBKhr1646cOCAzTaXLl3S0KFDVbFiRXl7e6tHjx5KTU11UMUAAABwpFIdbr/55hsNHTpUW7Zs0Zo1a3T58mW1a9dOWVlZ1m2eeeYZLV++XIsXL9Y333yj3377Td27d3dg1QAAAHAUF0cXcC2JiYk27+fNm6eAgADt2LFDLVq0UEZGht577z0tWLBArVu3liTNnTtXtWrV0pYtW9S0aVNHlA0AAAAHKdVXbv8uIyNDklShQgVJ0o4dO3T58mVFR0dbtwkPD1flypWVlJR01XGys7OVmZlp8wIAAMDN76YJt3l5eXr66afVrFkz3X777ZKklJQUubm5qVy5cjbbBgYGKiUl5apjxcfHy9fX1/oKCQkpydIBAABwg9w04Xbo0KH64Ycf9Mknn1z3WLGxscrIyLC+Tpw4YYcKAQAA4Giles7tFU888YRWrFihDRs26NZbb7W2BwUFKScnR+np6TZXb1NTUxUUFHTV8dzd3eXu7l6SJQMAAMABSvWVW8Mw9MQTT2jp0qVat26dqlatatMfGRkpV1dXrV271tp24MABHT9+XFFRUTe6XAAAADhYqb5yO3ToUC1YsEBffPGFypYta51H6+vrK09PT/n6+urhhx/W8OHDVaFCBfn4+GjYsGGKiopipQQAAIB/oVIdbmfOnClJatWqlU373Llz1b9/f0nS66+/LicnJ/Xo0UPZ2dmKiYnRjBkzbnClAAAAKA1Kdbg1DOMft/Hw8ND06dM1ffr0G1ARAAAASrNSPecWAAAAKArCLQAAAEyDcAsAAADTINwCAADANAi3AAAAMA3CLQAAAEyDcAsAAADTINwCAADANAi3AAAAMA3CLQAAAEyDcAsAAADTINwCAADANAi3AAAAMA3CLQAAAEyDcAsAAADTINwCAADANAi3AAAAMA3CLQAAAEyDcAsAAADTINwCAADANAi3AAAAMA3CLQAAAEyDcAsAAADTINwCAADANAi3AAAAMA3CLQAAAEyDcAsAAADTINwCAADANAi3AAAAMA3CLQAAAEyDcAsAAADTINwCAADANAi3AAAAMA3CLQAAAEyDcAsAAADTINwCAADANAi3AAAAMA3CLQAAAEyDcAsAAADTINwCAADANAi3AAAAMA3CLQAAAEyDcAsAAADTINwCAADANAi3AAAAMA3CLQAAAEyDcAsAAADTINwCAADANAi3AAAAMA3CLQAAAEyDcAsAAADTINwCAADANAi3AAAAMA3CLQAAAEyDcAsAAADTINwCAADANAi3AAAAMA3CLQAAAEyDcAsAAADTINwCAADANAi3AAAAMA3CLQAAAEyDcAsAAADTINwCAADANAi3AAAAMA3CLQAAAEyDcAsAAADTINwCAADANAi3AAAAMA3CLQAAAEyDcAsAAADTINwCAADANAi3AAAAMA3CLQAAAEyDcAsAAADTINwCAADANAi3AAAAMA3CLQAAAEyDcAsAAADTINwCAADANAi3AAAAMA3CLQAAAEzDNOF2+vTpqlKlijw8PNSkSRN99913ji4JAAAAN5gpwu3ChQs1fPhwxcXFaefOnapXr55iYmJ06tQpR5cGAACAG8gU4Xbq1KkaNGiQBgwYoIiICM2aNUtlypTR+++/7+jSAAAAcAO5OLqA65WTk6MdO3YoNjbW2ubk5KTo6GglJSUVuE92drays7Ot7zMyMiRJmZmZJVvsDXLp/DlHl4BryMx0c3QJuIrMS5ccXQKuwmKSf5/N6lIm3zulVaazeb53ruQ0wzCuud1NH27PnDmj3NxcBQYG2rQHBgbqp59+KnCf+Ph4jR8/Pl97SEhIidQI/FX+v3kA/tGkSY6uALgpjdIoR5dgd+fOnZOvr+9V+2/6cFscsbGxGj58uPV9Xl6ezp49q4oVK8pisTiwMvxdZmamQkJCdOLECfn4+Di6HOCmwfcOUHR835RuhmHo3LlzCg4OvuZ2N3249fPzk7Ozs1JTU23aU1NTFRQUVOA+7u7ucnd3t2krV65cSZUIO/Dx8eEfGqAY+N4Bio7vm9LrWldsr7jpbyhzc3NTZGSk1q5da23Ly8vT2rVrFRUV5cDKAAAAcKPd9FduJWn48OHq16+fGjVqpDvuuEPTpk1TVlaWBgwY4OjSAAAAcAOZItz26tVLp0+f1tixY5WSkqL69esrMTEx301muPm4u7srLi4u3zQSANfG9w5QdHzfmIPF+Kf1FAAAAICbxE0/5xYAAAC4gnALAAAA0yDcAgAAwDQItwAAADANwi1KrZSUFA0bNky33Xab3N3dFRISoi5dutisaQwAgD2cPn1ajz32mCpXrix3d3cFBQUpJiZG3377raNLQxERblEqHTt2TJGRkVq3bp1eeeUV7d27V4mJibrrrrs0dOhQR5cHlFonTpzQwIEDFRwcLDc3N4WGhuqpp57S77//7ujSgFKtR48e2rVrl+bPn6+DBw9q2bJlatWqFd87NyGWAkOp1LFjR+3Zs0cHDhyQl5eXTV96ejqPSwYKcPToUUVFRalGjRqaMGGCqlatqh9//FEjR45UTk6OtmzZogoVKji6TKDUSU9PV/ny5bV+/Xq1bNnS0eXgOnHlFqXO2bNnlZiYqKFDh+YLtpIItsBVDB06VG5ublq9erVatmypypUrq0OHDvrqq6/066+/avTo0Y4uESiVvL295e3trc8//1zZ2dmOLgfXiXCLUufw4cMyDEPh4eGOLgW4aZw9e1arVq3S448/Lk9PT5u+oKAg9enTRwsXLhS/rAPyc3Fx0bx58zR//nyVK1dOzZo10/PPP689e/Y4ujQUA+EWpQ7/8wWK7tChQzIMQ7Vq1Sqwv1atWkpLS9Pp06dvcGXAzaFHjx767bfftGzZMrVv317r169Xw4YNNW/ePEeXhiIi3KLUCQsLk8Vi0U8//eToUoCbzj/9cOjm5naDKgFuPh4eHmrbtq3GjBmjzZs3q3///oqLi3N0WSgiwi1KnQoVKigmJkbTp09XVlZWvv709PQbXxRQylWvXl0Wi0X79+8vsH///v3y9/dnzjpQBBEREQX+fwilG+EWpdL06dOVm5urO+64Q5999pkOHTqk/fv3680331RUVJSjywNKnYoVK6pt27aaMWOGLl68aNOXkpKihIQE9e/f3zHFAaXc77//rtatW+ujjz7Snj17lJycrMWLF2vKlCm65557HF0eioilwFBqnTx5UhMnTtSKFSt08uRJ+fv7KzIyUs8884xatWrl6PKAUufQoUP6z3/+o1q1auVbCszFxUUbN26Ut7e3o8sESp3s7GyNGzdOq1ev1pEjR3T58mWFhITovvvu0/PPP5/vJk2UboRbADCRY8eOady4cUpMTNSpU6dkGIa6d++uDz/8UGXKlHF0eQBQ4gi3AGBicXFxmjp1qtasWaOmTZs6uhwAKHGEWwAwublz5yojI0NPPvmknJy41QKAuRFuAQAAYBr8CA8AAADTINwCAADANAi3AAAAMA3CLQAAAEyDcAsAAADTINwCwE1g3Lhxql+/fomMvX79elksFqWnp9ttzGPHjslisWj37t12GxMACoNwCwB21r9/f1kslnyv9u3bO7o0ADA9F0cXAABm1L59e82dO9emzd3d3UHVXN3ly5cdXQIA2BVXbgGgBLi7uysoKMjmVb58eUmSxWLR7Nmz1blzZ5UpU0a1atVSUlKSDh8+rFatWsnLy0v/+c9/dOTIkXzjzp49WyEhISpTpox69uypjIwMa9+2bdvUtm1b+fn5ydfXVy1bttTOnTtt9rdYLJo5c6buvvtueXl5aeLEifmOceHCBXXo0EHNmjWzTlV49913VatWLXl4eCg8PFwzZsyw2ee7775TgwYN5OHhoUaNGmnXrl3X+xECQLEQbgHAAV566SX17dtXu3fvVnh4uB544AENGTJEsbGx2r59uwzD0BNPPGGzz+HDh7Vo0SItX75ciYmJ2rVrlx5//HFr/7lz59SvXz9t2rRJW7ZsUVhYmDp27Khz587ZjDNu3Dh169ZNe/fu1cCBA2360tPT1bZtW+Xl5WnNmjUqV66cEhISNHbsWE2cOFH79+/Xyy+/rDFjxmj+/PmSpPPnz6tz586KiIjQjh07NG7cOI0YMaKEPjkA+AcGAMCu+vXrZzg7OxteXl42r4kTJxqGYRiSjBdeeMG6fVJSkiHJeO+996xtH3/8seHh4WF9HxcXZzg7Oxu//PKLtW3lypWGk5OTcfLkyQLryM3NNcqWLWssX77c2ibJePrpp222+/rrrw1Jxv79+426desaPXr0MLKzs6391apVMxYsWGCzz0svvWRERUUZhmEYs2fPNipWrGhcvHjR2j9z5kxDkrFr165//LwAwJ6YcwsAJeCuu+7SzJkzbdoqVKhg/bpu3brWrwMDAyVJderUsWm7dOmSMjMz5ePjI0mqXLmybrnlFus2UVFRysvL04EDBxQUFKTU1FS98MILWr9+vU6dOqXc3FxduHBBx48ft6mjUaNGBdbctm1b3XHHHVq4cKGcnZ0lSVlZWTpy5IgefvhhDRo0yLrtH3/8IV9fX0nS/v37VbduXXl4eNjUBgCOQLgFgBLg5eWl6tWrX7Xf1dXV+rXFYrlqW15eXqGP2a9fP/3+++964403FBoaKnd3d0VFRSknJydfbQXp1KmTPvvsM+3bt88atM+fPy9JmjNnjpo0aWKz/ZUADAClCeEWAG4Sx48f12+//abg4GBJ0pYtW+Tk5KSaNWtKkr799lvNmDFDHTt2lCSdOHFCZ86cKfT4kyZNkre3t9q0aaP169crIiJCgYGBCg4O1tGjR9WnT58C96tVq5Y+/PBDXbp0yXr1dsuWLddzqgBQbIRbACgB2dnZSklJsWlzcXGRn59fscf08PBQv3799OqrryozM1NPPvmkevbsqaCgIElSWFiYPvzwQzVq1EiZmZkaOXKkPD09i3SMV199Vbm5uWrdurXWr1+v8PBwjR8/Xk8++aR8fX3Vvn17ZWdna/v27UpLS9Pw4cP1wAMPaPTo0Ro0aJBiY2N17Ngxvfrqq8U+TwC4HqyWAAAlIDExUZUqVbJ53Xnnndc1ZvXq1dW9e3d17NhR7dq1U926dW2W5HrvvfeUlpamhg0b6qGHHtKTTz6pgICAIh/n9ddfV8+ePdW6dWsdPHhQjzzyiN59913NnTtXderUUcuWLTVv3jxVrVpVkuTt7a3ly5dr7969atCggUaPHq3Jkydf17kCQHFZDMMwHF0EAAAAYA9cuQUAAIBpEG4BAABgGoRbAAAAmAbhFgAAAKZBuAUAAIBpEG4BAABgGoRbAAAAmAbhFgAAAKZBuAUAAIBpEG4BAABgGoRbAAAAmMb/ARRbDgXqbGJ/AAAAAElFTkSuQmCC\n"
          },
          "metadata": {}
        }
      ],
      "source": [
        "# prompt: Afficher l'influence du port d'embarquement sur la Survie\n",
        "\n",
        "import matplotlib.pyplot as plt\n",
        "# 3.2 Afficher l'influence du port d'embarquement sur la Survie\n",
        "embarked_survival_rates = train.groupby('Embarked')['Survived'].mean() * 100\n",
        "plt.figure(figsize=(8, 6))\n",
        "embarked_survival_rates.plot(kind='bar', color=['skyblue', 'lightcoral', 'lightgreen'])\n",
        "plt.title('Survival Rate by Embarked')\n",
        "plt.xlabel('Embarked')\n",
        "plt.ylabel('Survival Rate (%)')\n",
        "plt.xticks(rotation=0)\n",
        "plt.ylim(0, 100)\n",
        "\n",
        "for i, rate in enumerate(embarked_survival_rates):\n",
        "    plt.text(i, rate + 2, f'{rate:.1f}%', ha='center', va='bottom')\n",
        "\n",
        "plt.show()\n"
      ]
    },
    {
      "cell_type": "markdown",
      "metadata": {
        "_cell_guid": "e08c9ee8-d6d1-99b7-38bd-f0042c18a5d9",
        "_uuid": "bbeb369d4bb1b086fcc3257218fdeeb6bcdb53c0",
        "id": "euR7wRbfXisQ"
      },
      "source": [
        "3.3 La variable \"Fare\" (prix du ticket) possède des valeurs manquantes. Remplacer ces valeurs par la valeur médiane."
      ]
    },
    {
      "cell_type": "code",
      "execution_count": 69,
      "metadata": {
        "_cell_guid": "a21335bd-4e8d-66e8-e6a5-5d2173b72d3b",
        "_uuid": "f04975f236aad78d3f93812512088404b5c9280e",
        "id": "a3VQm2R3XisQ"
      },
      "outputs": [],
      "source": [
        "# prompt: La variable \"Fare\" (prix du ticket) possède des valeurs manquantes. Remplacer ces valeurs par la valeur médiane.\n",
        "\n",
        "# Calculate the median fare\n",
        "median_fare = train['Fare'].median()\n",
        "\n",
        "# Fill missing 'Fare' values with the median\n",
        "train['Fare'] = train['Fare'].fillna(median_fare)\n",
        "test['Fare'] = test['Fare'].fillna(median_fare)\n"
      ]
    },
    {
      "cell_type": "markdown",
      "metadata": {
        "id": "pmGbGvBgXisQ"
      },
      "source": [
        "3.4 Créer une variable CategoricalFare Découpant la valeur de ticket en 4 catégories de tailles à peu près égales."
      ]
    },
    {
      "cell_type": "code",
      "execution_count": 70,
      "metadata": {
        "_cell_guid": "a21335bd-4e8d-66e8-e6a5-5d2173b72d3b",
        "_uuid": "f04975f236aad78d3f93812512088404b5c9280e",
        "id": "Wlml_ZUbXisR"
      },
      "outputs": [],
      "source": [
        "train['CategoricalFare'] = pd.qcut(train['Fare'], 4, labels=False)\n",
        "test['CategoricalFare'] = pd.qcut(test['Fare'], 4, labels=False)\n"
      ]
    },
    {
      "cell_type": "markdown",
      "metadata": {
        "id": "u4o0J_qoXisR"
      },
      "source": [
        "3.5 Analyser l'effet de ces catégories de prix de ticket sur la survie."
      ]
    },
    {
      "cell_type": "code",
      "execution_count": 72,
      "metadata": {
        "_cell_guid": "a21335bd-4e8d-66e8-e6a5-5d2173b72d3b",
        "_uuid": "f04975f236aad78d3f93812512088404b5c9280e",
        "id": "D0287RfXXisR",
        "colab": {
          "base_uri": "https://localhost:8080/",
          "height": 564
        },
        "outputId": "a7d8c184-e916-4c2a-f390-e11408f78af3"
      },
      "outputs": [
        {
          "output_type": "display_data",
          "data": {
            "text/plain": [
              "<Figure size 800x600 with 1 Axes>"
            ],
            "image/png": "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\n"
          },
          "metadata": {}
        }
      ],
      "source": [
        "# prompt: Analyser l'effet de ces catégories de prix de ticket sur la survie. diff colors\n",
        "\n",
        "import matplotlib.pyplot as plt\n",
        "# 3.5 Analyser l'effet de ces catégories de prix de ticket sur la survie.\n",
        "fare_survival_rates = train.groupby('CategoricalFare')['Survived'].mean() * 100\n",
        "plt.figure(figsize=(8, 6))\n",
        "fare_survival_rates.plot(kind='bar', color=['skyblue', 'lightcoral', 'lightgreen', 'orange'])\n",
        "plt.title('Survival Rate by Fare Category')\n",
        "plt.xlabel('Fare Category')\n",
        "plt.ylabel('Survival Rate (%)')\n",
        "plt.xticks(rotation=0)\n",
        "plt.ylim(0, 100)\n",
        "\n",
        "for i, rate in enumerate(fare_survival_rates):\n",
        "    plt.text(i, rate + 2, f'{rate:.1f}%', ha='center', va='bottom')\n",
        "\n",
        "plt.show()\n"
      ]
    },
    {
      "cell_type": "markdown",
      "metadata": {
        "id": "xQnB7GcyXisR"
      },
      "source": [
        "3.6 Combien de valeurs d'Age manquent ? Complète par des valeurs entières aléatoires entre (moyenne - écart type) et (moyenne + écart type)."
      ]
    },
    {
      "cell_type": "code",
      "execution_count": 73,
      "metadata": {
        "_cell_guid": "b90c2870-ce5d-ae0e-a33d-59e35445500e",
        "_uuid": "2af2b56d51752be08b84dbb2684466976758faa7",
        "id": "kskEt_5OXisR",
        "colab": {
          "base_uri": "https://localhost:8080/"
        },
        "outputId": "df054c04-f195-4e4e-a92c-7f90540b30f3"
      },
      "outputs": [
        {
          "output_type": "stream",
          "name": "stdout",
          "text": [
            "Nombre de valeurs d'âge manquantes : 177\n",
            "Nombre de valeurs d'âge manquantes dans le dataset test : 86\n"
          ]
        }
      ],
      "source": [
        "# prompt:  Combien de valeurs d'Age manquent ? Complète par des valeurs entières aléatoires entre (moyenne - écart type) et (moyenne + écart type).\n",
        "\n",
        "import numpy as np\n",
        "# Count missing Age values\n",
        "missing_age_count = train['Age'].isnull().sum()\n",
        "print(f\"Nombre de valeurs d'âge manquantes : {missing_age_count}\")\n",
        "\n",
        "# Calculate mean and standard deviation of Age\n",
        "mean_age = train['Age'].mean()\n",
        "std_age = train['Age'].std()\n",
        "\n",
        "# Generate random integer values for missing ages\n",
        "random_ages = np.random.randint(low=int(mean_age - std_age), high=int(mean_age + std_age), size=missing_age_count)\n",
        "\n",
        "# Fill missing age values with random ages\n",
        "train.loc[train['Age'].isnull(), 'Age'] = random_ages\n",
        "\n",
        "# Perform the same operation for the test dataset\n",
        "missing_age_count_test = test['Age'].isnull().sum()\n",
        "print(f\"Nombre de valeurs d'âge manquantes dans le dataset test : {missing_age_count_test}\")\n",
        "\n",
        "random_ages_test = np.random.randint(low=int(mean_age - std_age), high=int(mean_age + std_age), size=missing_age_count_test)\n",
        "test.loc[test['Age'].isnull(), 'Age'] = random_ages_test\n"
      ]
    },
    {
      "cell_type": "markdown",
      "metadata": {
        "id": "IwjpvVBQXisR"
      },
      "source": [
        "3.7 Créer une variable CategoricalAge Découpant la valeur d'age en 5 tranches d'age de même taille."
      ]
    },
    {
      "cell_type": "code",
      "execution_count": 75,
      "metadata": {
        "_cell_guid": "b90c2870-ce5d-ae0e-a33d-59e35445500e",
        "_uuid": "2af2b56d51752be08b84dbb2684466976758faa7",
        "id": "ASVyHolgXisR"
      },
      "outputs": [],
      "source": [
        "\n",
        "train['CategoricalAge'] = pd.qcut(train['Age'], 5, labels=False)\n",
        "test['CategoricalAge'] = pd.qcut(test['Age'], 5, labels=False)\n"
      ]
    },
    {
      "cell_type": "markdown",
      "metadata": {
        "id": "tv75pViEXisR"
      },
      "source": [
        "3.8 Analyser l'effet de ces catégories d'age sur la survie."
      ]
    },
    {
      "cell_type": "code",
      "execution_count": 90,
      "metadata": {
        "id": "Lc5_FmACXisR",
        "colab": {
          "base_uri": "https://localhost:8080/",
          "height": 569
        },
        "outputId": "da89eb4f-8314-4007-fe98-0f72aa6ddef0"
      },
      "outputs": [
        {
          "output_type": "display_data",
          "data": {
            "text/plain": [
              "<Figure size 1000x600 with 1 Axes>"
            ],
            "image/png": "iVBORw0KGgoAAAANSUhEUgAAA1IAAAIoCAYAAABj6NoUAAAAOnRFWHRTb2Z0d2FyZQBNYXRwbG90bGliIHZlcnNpb24zLjEwLjAsIGh0dHBzOi8vbWF0cGxvdGxpYi5vcmcvlHJYcgAAAAlwSFlzAAAPYQAAD2EBqD+naQAAay1JREFUeJzt3Xd8Tvf///HnJYkkEomZCDVjxN7UKGrFqN2qvdUuRZUO44Oi/VBtEdXa5WPUqGpRRewZYpVUNVqt2CQSO3n//vBzfXs1QU4aEjzut9t1q+t93ud9XufKaZJnzjnvYzPGGAEAAAAAEi1NShcAAAAAAE8bghQAAAAAWESQAgAAAACLCFIAAAAAYBFBCgAAAAAsIkgBAAAAgEUEKQAAAACwiCAFAAAAABYRpAAAwDPvxIkTGjlypJYuXZrSpQB4RhCkAADAM+3ixYtq1KiRMmTIoPfff1/ffvttSpcE4BlAkAIA4Bnx+eefa/78+SldRqqzZ88eTZo0SQMGDNCGDRt04sQJxcbGpnRZAJ5yBCkASEWCg4Nls9kUHByc0qU8VnPmzJHNZtOpU6dSupRnxueff67//Oc/evHFF1O0jk6dOilPnjypajsNGjRQgwYNJEkvvPCCBg8eLCcnp8dYHYDnAUEKwDPBZrMl6vWsB5SEXLhwQf3791dAQIDc3d3l4+OjChUq6J133lF0dHRKl/fMCQ0NVbt27ZQzZ065uroqU6ZMql27tmbPnp2ksyAffvihVq5c+dA+e/fu1fDhw/Xdd9+pQIECSaz86Wez2TRnzpwEl02bNk02m00VK1Z8skUBeGY5p3QBAJAc/nk507x587R+/fp47YULF36SZaW4y5cvq1y5coqKilKXLl0UEBCgS5cu6dChQwoKClKvXr3k6en5xOtq3769WrVqJVdX1ye+7cfpq6++Us+ePeXr66v27durQIECunbtmjZs2KCuXbsqIiJC7777rqUxP/zwQ7366qtq2rTpA/scPXpUy5YtS/GzUZL05ZdfKi4uLqXLiGfBggXKkyeP9uzZo19//VX58+dP6ZIAPOUIUgCeCe3atXN4v2vXLq1fvz5e+/Nm5syZ+uOPP7R9+3ZVrlzZYVlUVJTSpk2bLNu5efOm0qZNqzRpEnehg5OT01N5adX169eVLl26BJft2rVLPXv2VKVKlfTDDz8offr09mUDBgzQvn37dOTIkcdSV6dOnR7LuFbExMTIw8NDLi4uKV1KPOHh4dqxY4eWL1+uHj16aMGCBRoxYkRKlwXgKcelfQCeG7Nnz1bNmjXl4+MjV1dXFSlSREFBQfH62Ww2jRw5Ml57njx57L+wGmP08ssvK2vWrDp//ry9z+3bt1W8eHH5+/srJibmofX8+eefatq0qTw8POTj46O33npLt27dSrDv7t27Va9ePXl7eytdunSqXr26tm/f/sh9PnnypJycnBI8U+Hl5SU3N7cE9+/vatSooRo1atjf37+Pa9GiRXr//feVI0cOpUuXTvv375fNZtPcuXPjjbFu3TrZbDatXr1a0oPvkVqzZo1eeukleXh4KH369GrYsKGOHj36yP28P96WLVvUo0cPZc6cWV5eXurQoYOuXLni0Pfbb79Vw4YNlT17drm6usrf31+jR4+Od9ldjRo1VKxYMYWEhKhatWpKly7dQ88mjRo1SjabTQsWLHAIUfeVK1fO4fP973//q8qVKytz5sxyd3dX2bJl9c033zisY7PZFBMTo7lz59ovT/37GH/99Ze6dOkiX19fubq6qmjRopo1a1a8bf/+++9q3Lixw7F2/2vyz8tdly5dqrJly8rd3V1ZsmRRu3bt9Ndffzn06dSpkzw9PXXy5Ek1aNBA6dOnV9u2be3L/nnvUlxcnCZPnqyiRYvKzc1Nvr6+6tGjR7yvzYOsXLlSxYoVk5ubm4oVK6YVK1Ykar37FixYoIwZM6phw4Z69dVXtWDBggT7Xbp0Se3bt5eXl5cyZMigjh076uDBgwleMnj8+HG9+uqrypQpk9zc3FSuXDmtWrXKUl0Anm6ckQLw3AgKClLRokXVuHFjOTs767vvvlPv3r0VFxenPn36WBrLZrNp1qxZKlGihHr27Knly5dLkkaMGKGjR48qODhYHh4eD1z/xo0bqlWrlv744w+9+eabyp49u+bPn6+NGzfG67tx40bVr19fZcuW1YgRI5QmTRp7KNy6dasqVKjwwO3kzp1bsbGxmj9/vjp27GhpHx9l9OjRSps2rQYPHqxbt26pSJEiypcvn5YsWRJvW4sXL1bGjBkVGBj4wPHu1xgYGKgJEybo+vXrCgoKUtWqVXXgwIFETSzQt29fZciQQSNHjlRYWJiCgoL0+++/28OfdC90eXp6auDAgfL09NTGjRs1fPhwRUVF6eOPP3YY79KlS6pfv75atWqldu3aydfXN8HtXr9+XRs2bFC1atWUK1euR9YpSZ9++qkaN26stm3b6vbt21q0aJFee+01rV69Wg0bNrR/Jt26dVOFChX0xhtvSJL8/f0lSefOndOLL74om82mvn37KmvWrFqzZo26du2qqKgoDRgwQNK9M0U1a9ZURESE+vfvr2zZsmnhwoXatGlTvJrmzJmjzp07q3z58ho3bpzOnTunTz/9VNu3b9eBAweUIUMGe9+7d+8qMDBQVatW1X//+98HnqmTpB49etjHfvPNNxUeHq4pU6bowIED2r59+0PPYv34449q0aKFihQponHjxunSpUvq3LmzXnjhhUR9ztK9INW8eXOlTZtWrVu3VlBQkPbu3avy5cvb+8TFxalRo0bas2ePevXqpYCAAH377bcJ/n9z9OhRValSRTly5NDQoUPl4eGhJUuWqGnTplq2bJmaNWuW6NoAPMUMADyD+vTpY/75Le769evx+gUGBpp8+fI5tEkyI0aMiNc3d+7cpmPHjg5tX3zxhZFkvv76a7Nr1y7j5ORkBgwY8Mj6Jk+ebCSZJUuW2NtiYmJM/vz5jSSzadMmY4wxcXFxpkCBAiYwMNDExcU57EvevHlNnTp1Hrqds2fPmqxZsxpJJiAgwPTs2dMsXLjQXL16NVH7Z4wx1atXN9WrV7e/37Rpk5Fk8uXLF+8zHTZsmHFxcTGXL1+2t926dctkyJDBdOnSxd42e/ZsI8mEh4cbY4y5du2ayZAhg+nevXu8+r29veO1/9P98cqWLWtu375tb//oo4+MJPPtt9/a2xI6Dnr06GHSpUtnbt686bDfksz06dMfum1jjDl48KCRZPr37//Ivg+q4/bt26ZYsWKmZs2aDu0eHh4Jfl26du1q/Pz8zMWLFx3aW7VqZby9ve3jT5w40UgyK1eutPe5ceOGCQgIcDjWbt++bXx8fEyxYsXMjRs37H1Xr15tJJnhw4fb2zp27GgkmaFDh8arq2PHjiZ37tz291u3bjWSzIIFCxz6rV27NsH2fypVqpTx8/NzOGZ//PFHI8lhOw+yb98+I8msX7/eGHPv/6kXXngh3tdq2bJlRpKZPHmyvS02NtbUrFnTSDKzZ8+2t9eqVcsUL17c4XiJi4szlStXNgUKFHhkTQCeDVzaB+C54e7ubv93ZGSkLl68qOrVq+u3335TZGRkksZ84403FBgYqH79+ql9+/by9/fXhx9++Mj1fvjhB/n5+enVV1+1t6VLl85+1uG+0NBQnThxQm3atNGlS5d08eJFXbx4UTExMapVq5a2bNny0Bv7fX19dfDgQfXs2VNXrlzR9OnT1aZNG/n4+Gj06NEyxiRpvyWpY8eODp+pJL3++uu6c+eO/QyddO+MwtWrV/X6668/cKz169fr6tWrat26tX0fL168KCcnJ1WsWDHBsycJeeONNxzObvTq1UvOzs764Ycf7G1/r/natWu6ePGiXnrpJV2/fl3Hjx93GM/V1VWdO3d+5HajoqIkKcFL+h7k73VcuXJFkZGReumll7R///5HrmuM0bJly9SoUSMZYxw+s8DAQEVGRtrHWbt2rXLkyKHGjRvb13dzc1P37t0dxty3b5/Onz+v3r17O1zy2bBhQwUEBOj777+PV0evXr0eWevSpUvl7e2tOnXqONRZtmxZeXp6PvRrGxERodDQUHXs2FHe3t729jp16qhIkSKP3LZ072yUr6+vXn75ZUn3zia//vrrWrRokcPlnGvXrpWLi4vD55ImTZp4Z6svX76sjRs3qmXLlvbj5+LFi7p06ZICAwN14sSJeJdCAng2cWkfgOfG9u3bNWLECO3cuVPXr193WBYZGenwi5oVM2fOlL+/v06cOKEdO3bECxcJ+f3335U/f3775Wb3FSpUyOH9iRMnJOmhl+VFRkYqY8aMD1zu5+enoKAgTZs2TSdOnNC6des0YcIEDR8+XH5+furWrdsj601I3rx547WVLFlSAQEBWrx4sbp27Srp3mV9WbJkUc2aNR841v39fFAfLy+vRNX0z6m/PT095efn53Av1tGjR/X+++9r48aN9gB03z8DdY4cORI1Icf9+q5du5aoOiVp9erVGjNmjEJDQx3ujfvnMZGQCxcu6OrVq5oxY4ZmzJiRYJ/79+79/vvv8vf3jzfuP2et+/333yXFPwYlKSAgQNu2bXNoc3Z2TtTldSdOnFBkZKR8fHweWmdC7teU0JTuhQoVemTojI2N1aJFi/Tyyy8rPDzc3l6xYkVNnDhRGzZsUN26de3b8vPzi3eJ4j8/p19//VXGGH3wwQf64IMPHrhPOXLkeGhtAJ5+BCkAz4WTJ0+qVq1aCggI0KRJk5QzZ06lTZtWP/zwgz755JNETdf8oGcABQcH238RPnz4sCpVqpRsdd+v6+OPP1apUqUS7JPY6cttNpsKFiyoggULqmHDhipQoIAWLFhgD1IP+gU+NjY2wRn2HhQYX3/9dY0dO1YXL15U+vTptWrVKrVu3VrOzg/+kXN/P+fPn69s2bLFW/6wda24evWqqlevLi8vL/3nP/+Rv7+/3NzctH//fr3zzjvxjoPEhGLp3i/bzs7OOnz4cKL6b926VY0bN1a1atU0bdo0+fn5ycXFRbNnz9bChQsfuf79Otu1a/fAkF2iRIlE1ZJUrq6uiZqlMS4uTj4+Pg+c4CFr1qzJXZrdxo0bFRERoUWLFmnRokXxli9YsMAepBLr/mc/ePDgB97zx9TqwPOBIAXgufDdd9/p1q1bWrVqlcNkAAldVpQxY0ZdvXrVoe327duKiIiI1zciIkL9+vVT3bp17RMvBAYGKnfu3A+tJ3fu3Dpy5IiMMQ4BJiwszKHf/YkFvLy8VLt27UfuZ2Lly5dPGTNmdNinhPZbuveX+nz58iV67Ndff12jRo3SsmXL5Ovrq6ioKLVq1eqh69zfTx8fn3+1nydOnLBfwiVJ0dHRioiIUIMGDSTdC72XLl3S8uXLVa1aNXu/v5+tSIp06dKpZs2a2rhxo06fPq2cOXM+tP+yZcvk5uamdevWOTxLa/bs2fH6JhRws2bNqvTp0ys2NvaRn1fu3Ln1888/xzvWfv3113j9pHvH4D/PDIaFhT3ymH4Qf39//fTTT6pSpUqig+k/a7p/xvKfNT3KggUL5OPjo6lTp8Zbtnz5cq1YsULTp0+Xu7u7cufOrU2bNsWb4v6fn9P9/xdcXFyS9f9JAE8f7pEC8Fy4f0bl7/cERUZGJviLq7+/v7Zs2eLQNmPGjATPSHXv3l1xcXGaOXOmZsyYIWdnZ3Xt2vWR9x41aNBAZ86ccZju+vr16/Eu0ypbtqz8/f313//+V9HR0fHGuXDhwkO3s3v37gSnYd+zZ48uXbrkcBmXv7+/du3apdu3b9vbVq9erdOnTz90G/9UuHBhFS9eXIsXL9bixYvl5+fnEFoSEhgYKC8vL3344Ye6c+dOvOWP2s/7ZsyY4bB+UFCQ7t69q/r160tK+Di4ffu2pk2blqjxH2bEiBEyxqh9+/YJfq1CQkLsU8M7OTnJZrM5HFOnTp3SypUr463n4eERL+A6OTmpRYsWWrZsWYLPpvr75xUYGKi//vrLYWrumzdv6ssvv3RYp1y5cvLx8dH06dMdLjVcs2aNjh07Zp9J0KqWLVsqNjZWo0ePjrfs7t27CYb3+/z8/FSqVCnNnTvX4bLL9evX6+eff37odm/cuKHly5frlVde0auvvhrv1bdvX127ds3+uQQGBurOnTsOn0tcXFy8EObj46MaNWroiy++SPCPK4k9VgE8/TgjBeC5cP+MUaNGjdSjRw9FR0fryy+/lI+PT7xfhrp166aePXuqRYsWqlOnjg4ePKh169YpS5YsDv1mz56t77//XnPmzLHfK/L555+rXbt2CgoKUu/evR9YT/fu3TVlyhR16NBBISEh8vPz0/z58+Pdn5EmTRp99dVXql+/vooWLarOnTsrR44c+uuvv7Rp0yZ5eXnpu+++e+B25s+frwULFqhZs2YqW7as0qZNq2PHjmnWrFlyc3NzeC5St27d9M0336hevXpq2bKlTp48qa+//tp+tsiK119/XcOHD5ebm5u6du36yEvAvLy8FBQUpPbt26tMmTJq1aqVsmbNqj/++EPff/+9qlSpoilTpjxyu7dv31atWrXUsmVLhYWFadq0aapatap9ooXKlSsrY8aM6tixo958803ZbDbNnz//X026cV/lypU1depU9e7dWwEBAWrfvr0KFCiga9euKTg4WKtWrdKYMWMk3ZvAYdKkSapXr57atGmj8+fPa+rUqcqfP78OHTrkMG7ZsmX1008/adKkScqePbvy5s2rihUravz48dq0aZMqVqyo7t27q0iRIrp8+bL279+vn376SZcvX5Z0b+rxKVOmqHXr1urfv7/8/Py0YMEC+4QS989Subi4aMKECercubOqV6+u1q1b26c/z5Mnj956660kfS7Vq1dXjx49NG7cOIWGhqpu3bpycXHRiRMntHTpUn366acOk67807hx49SwYUNVrVpVXbp00eXLl/X555+raNGiCQbW+1atWqVr1645TLLxdy+++KKyZs2qBQsW6PXXX1fTpk1VoUIFDRo0SL/++qsCAgK0atUq++f497N5U6dOVdWqVVW8eHF1795d+fLl07lz57Rz5079+eefOnjwYJI+KwBPmRSaLRAAHquEpj9ftWqVKVGihHFzczN58uQxEyZMMLNmzXKYhtuYe1Mev/POOyZLliwmXbp0JjAw0Pz6668O04OfPn3aeHt7m0aNGsXbdrNmzYyHh4f57bffHlrj77//bho3bmzSpUtnsmTJYvr372+fEvr+lNT3HThwwDRv3txkzpzZuLq6mty5c5uWLVuaDRs2PHQbhw4dMm+//bYpU6aMyZQpk3F2djZ+fn7mtddeM/v374/Xf+LEiSZHjhzG1dXVVKlSxezbt++B058vXbr0gds9ceKEkWQkmW3btsVb/s/pz/8+dmBgoPH29jZubm7G39/fdOrUyezbt++h+3l/vM2bN5s33njDZMyY0Xh6epq2bduaS5cuOfTdvn27efHFF427u7vJnj27GTJkiFm3bl28z7169eqmaNGiD91uQkJCQkybNm1M9uzZjYuLi8mYMaOpVauWmTt3romNjbX3mzlzpilQoIBxdXU1AQEBZvbs2WbEiBHxjtvjx4+batWqGXd3dyPJYSr0c+fOmT59+picOXMaFxcXky1bNlOrVi0zY8YMhzF+++0307BhQ+Pu7m6yZs1qBg0aZJ/ue9euXQ59Fy9ebEqXLm1cXV1NpkyZTNu2bc2ff/7p0Kdjx47Gw8Mjwf3/5/Tn982YMcOULVvWuLu7m/Tp05vixYubIUOGmDNnzjzyM122bJkpXLiwcXV1NUWKFDHLly9/4Hbua9SokXFzczMxMTEP7NOpUyfj4uJin0L+woULpk2bNiZ9+vTG29vbdOrUyWzfvt1IMosWLXJY9+TJk6ZDhw4mW7ZsxsXFxeTIkcO88sor5ptvvnnk/gB4NtiMSYY/wwEAkILuP+x17969KleuXEqX81SYPHmy3nrrLf3555/MMPcQK1euVLNmzbRt2zZVqVIlpcsBkIpwjxQAAM+4GzduOLy/efOmvvjiCxUoUIAQ9Tf//JxiY2P1+eefy8vLS2XKlEmhqgCkVtwjBQDAM6558+bKlSuXSpUqpcjISH399dc6fvz4A6ckf17169dPN27cUKVKlXTr1i0tX75cO3bs0Icffmh5xkEAzz6CFAAAz7jAwEB99dVXWrBggWJjY1WkSBEtWrRIr7/+ekqXlqrUrFlTEydO1OrVq3Xz5k3lz59fn3/+ufr27ZvSpQFIhVL0HqktW7bo448/VkhIiCIiIrRixQo1bdrUvtwYoxEjRujLL7/U1atXVaVKFQUFBTk84fzy5cvq16+fvvvuO6VJk0YtWrTQp59+mugHVAIAAACAVSl6j1RMTIxKliyZ4IPyJOmjjz7SZ599punTp2v37t3y8PBQYGCgbt68ae/Ttm1bHT16VOvXr9fq1au1ZcsWvfHGG09qFwAAAAA8h1LNrH02m83hjJQxRtmzZ9egQYM0ePBgSfcenunr66s5c+aoVatWOnbsmIoUKeIwS9PatWvVoEED/fnnn8qePXtK7Q4AAACAZ1iqvUcqPDxcZ8+eVe3ate1t3t7eqlixonbu3KlWrVpp586dypAhg8NUt7Vr11aaNGm0e/duNWvWLMGxb9265fDU9ri4OF2+fFmZM2d2eOAeAAAAgOeLMUbXrl1T9uzZH/pA+VQbpM6ePStJ8vX1dWj39fW1Lzt79qx8fHwcljs7OytTpkz2PgkZN26cRo0alcwVAwAAAHhWnD59Wi+88MIDl6faIPU4DRs2TAMHDrS/j4yMVK5cuXT69Gl5eXmlYGUAAAAAUlJUVJRy5syp9OnTP7Rfqg1S2bJlkySdO3dOfn5+9vZz586pVKlS9j7nz593WO/u3bu6fPmyff2EuLq6ytXVNV67l5cXQQoAAADAI2/5SdFZ+x4mb968ypYtmzZs2GBvi4qK0u7du1WpUiVJUqVKlXT16lWFhITY+2zcuFFxcXGqWLHiE68ZAAAAwPMhRc9IRUdH69dff7W/Dw8PV2hoqDJlyqRcuXJpwIABGjNmjAoUKKC8efPqgw8+UPbs2e0z+xUuXFj16tVT9+7dNX36dN25c0d9+/ZVq1atmLEPAAAAwGOTokFq3759evnll+3v79+31LFjR82ZM0dDhgxRTEyM3njjDV29elVVq1bV2rVr5ebmZl9nwYIF6tu3r2rVqmV/IO9nn332xPcFAAAAwPMj1TxHKiVFRUXJ29tbkZGR3CMFAAAAPMcSmw1S7T1SAAAAAJBaEaQAAAAAwCKCFAAAAABYRJACAAAAAIsIUgAAAABgEUEKAAAAACwiSAEAAACARQQpAAAAALCIIAUAAAAAFhGkAAAAAMAighQAAAAAWESQAgAAAACLCFIAAAAAYBFBCgAAAAAsIkgBAAAAgEUEKQAAAACwiCAFAAAAABYRpAAAAADAIoIUAAAAAFhEkAIAAAAAiwhSAAAAAGARQQoAAAAALCJIAQAAAIBFBCkAAAAAsIggBQAAAAAWEaQAAAAAwCKCFAAAAABYRJACAAAAAIsIUgAAAABgEUEKAAAAACwiSAEAAACARQQpAAAAALCIIAUAAAAAFhGkAAAAAMAighQAAAAAWESQAgAAAACLCFIAAAAAYBFBCgAAAAAsIkgBAAAAgEUEKQAAAACwiCAFAAAAABYRpAAAAADAIoIUAAAAAFhEkAIAAAAAiwhSAAAAAGARQQoAAAAALCJIAQAAAIBFBCkAAAAAsIggBQAAAAAWEaQAAAAAwCKCFAAAAABYRJACAAAAAIsIUgAAAABgEUEKAAAAACwiSAEAAACARQQpAAAAALCIIAUAAAAAFhGkAAAAAMAighQAAAAAWESQAgAAAACLCFIAAAAAYBFBCgAAAAAsIkgBAAAAgEUEKQAAAACwiCAFAAAAABYRpAAAAADAIoIUAAAAAFhEkAIAAAAAiwhSAAAAAGARQQoAAAAALCJIAQAAAIBFBCkAAAAAsIggBQAAAAAWEaQAAAAAwCKCFAAAAABYRJACAAAAAIsIUgAAAABgEUEKAAAAACwiSAEAAACARQQpAAAAALCIIAUAAAAAFhGkAAAAAMCiVB2kYmNj9cEHHyhv3rxyd3eXv7+/Ro8eLWOMvY8xRsOHD5efn5/c3d1Vu3ZtnThxIgWrBgAAAPCsS9VBasKECQoKCtKUKVN07NgxTZgwQR999JE+//xze5+PPvpIn332maZPn67du3fLw8NDgYGBunnzZgpWDgAAAOBZZjN/P72Tyrzyyivy9fXVzJkz7W0tWrSQu7u7vv76axljlD17dg0aNEiDBw+WJEVGRsrX11dz5sxRq1atErWdqKgoeXt7KzIyUl5eXo9lXwAAAACkfonNBqn6jFTlypW1YcMG/fLLL5KkgwcPatu2bapfv74kKTw8XGfPnlXt2rXt63h7e6tixYrauXPnA8e9deuWoqKiHF4AAAAAkFjOKV3AwwwdOlRRUVEKCAiQk5OTYmNjNXbsWLVt21aSdPbsWUmSr6+vw3q+vr72ZQkZN26cRo0a9fgKBwAAAPBMS9VnpJYsWaIFCxZo4cKF2r9/v+bOnav//ve/mjt37r8ad9iwYYqMjLS/Tp8+nUwVAwAAAHgepOozUm+//baGDh1qv9epePHi+v333zVu3Dh17NhR2bJlkySdO3dOfn5+9vXOnTunUqVKPXBcV1dXubq6PtbaAQAAADy7UvUZqevXrytNGscSnZycFBcXJ0nKmzevsmXLpg0bNtiXR0VFaffu3apUqdITrRUAAADA8yNVn5Fq1KiRxo4dq1y5cqlo0aI6cOCAJk2apC5dukiSbDabBgwYoDFjxqhAgQLKmzevPvjgA2XPnl1NmzZN2eIBAAAAPLNSdZD6/PPP9cEHH6h37946f/68smfPrh49emj48OH2PkOGDFFMTIzeeOMNXb16VVWrVtXatWvl5uaWgpUDAAAAeJal6udIPSk8RwoAAACA9Iw8RwoAAAAAUiOCFAAAAABYRJACAAAAAIsIUgAAAABgEUEKAAAAACwiSAEAAACARQQpAAAAALCIIAUAAAAAFhGkAAAAAMAighQAAAAAWESQAgAAAACLCFIAAAAAYBFBCgAAAAAsIkgBAAAAgEUEKQAAAACwiCAFAAAAABYRpAAAAADAIoIUAAAAAFhEkAIAAAAAiwhSAAAAAGARQQoAAAAALCJIAQAAAIBFBCkAAAAAsIggBQAAAAAWEaQAAAAAwCKCFAAAAABYRJACAAAAAIsIUgAAAABgEUEKAAAAACwiSAEAAACARQQpAAAAALCIIAUAAAAAFhGkAAAAAMAighQAAAAAWESQAgAAAACLCFIAAAAAYBFBCgAAAAAsIkgBAAAAgEUEKQAAAACwiCAFAAAAABYRpAAAAADAIoIUAAAAAFhEkAIAAAAAiwhSAAAAAGARQQoAAAAALCJIAQAAAIBFBCkAAAAAsIggBQAAAAAWEaQAAAAAwCKCFAAAAABYRJACAAAAAIsIUgAAAABgEUEKAAAAACwiSAEAAACARQQpAAAAALCIIAUAAAAAFhGkAAAAAMAighQAAAAAWESQAgAAAACLCFIAAAAAYBFBCgAAAAAsIkgBAAAAgEUEKQAAAACwiCAFAAAAABYRpAAAAADAIoIUAAAAAFhEkAIAAAAAiwhSAAAAAGDRvw5St27dSo46AAAAAOCpYTlIrVmzRh07dlS+fPnk4uKidOnSycvLS9WrV9fYsWN15syZx1EnAAAAAKQaiQ5SK1asUMGCBdWlSxc5OzvrnXfe0fLly7Vu3Tp99dVXql69un766Sfly5dPPXv21IULFx5n3QAAAACQYmzGGJOYjpUqVdL777+v+vXrK02aB+evv/76S59//rl8fX311ltvJVuhj1NUVJS8vb0VGRkpLy+vlC4HAAAAQApJbDZIdJB6lhGkAAAAAEiJzwbJMmtfTEyMoqKikmMoAAAAAEj1/lWQ+vnnn1WuXDmlT59eGTNmVPHixbVv377kqg0AAAAAUqV/FaR69Oihvn37Kjo6WpcuXVLz5s3VsWPH5KoNAAAAAFIlS0GqSZMm+uuvv+zvL1y4oMaNGytdunTKkCGDGjRooHPnziV7kQAAAACQmjhb6dyuXTvVrFlTffr0Ub9+/dS3b18VLVpU1atX1507d7Rx40YNGjTocdUKAAAAAKmC5Vn7IiMj9c477+jAgQOaPn26nJ2dFRwcrNjYWFWpUkXly5d/XLU+NszaBwAAAEBKfDawdEZKkry9vTV9+nRt27ZNHTt2VJ06dTR69GilS5fuXxUMAAAAAE8Ly5NNXL58WSEhISpevLhCQkLk5eWl0qVL64cffngc9QEAAABAqmMpSC1cuFAvvPCCGjZsqNy5c2vNmjUaMWKEvv32W3300Udq2bJlsk828ddff6ldu3bKnDmz3N3d402xbozR8OHD5efnJ3d3d9WuXVsnTpxI1hoAAAAA4O8sBalhw4Zp1qxZOnv2rDZs2KAPPvhAkhQQEKDg4GDVqVNHlSpVSrbirly5oipVqsjFxUVr1qzRzz//rIkTJypjxoz2Ph999JE+++wzTZ8+Xbt375aHh4cCAwN18+bNZKsDAAAAAP7O0mQTmTNn1k8//aTSpUvr6tWrKl++fLyzP+fPn5ePj0+yFDd06FBt375dW7duTXC5MUbZs2fXoEGDNHjwYEn3JsPw9fXVnDlz1KpVq0Rth8kmAAAAAEiJzwaWzkh17NhRDRs2VJs2bVShQgW1b98+Xp/kClGStGrVKpUrV06vvfaafHx8VLp0aX355Zf25eHh4Tp79qxq165tb/P29lbFihW1c+fOB45769YtRUVFObwAAAAAILEsBalJkybpiy++UOnSpTVlyhQNHz78cdUlSfrtt98UFBSkAgUKaN26derVq5fefPNNzZ07V5J09uxZSZKvr6/Der6+vvZlCRk3bpy8vb3tr5w5cz6+nQAAAADwzLH8HKknKW3atCpXrpx27Nhhb3vzzTe1d+9e7dy5Uzt27FCVKlV05swZ+fn52fu0bNlSNptNixcvTnDcW7du6datW/b3UVFRypkzJ5f2AQAAAM+5ZL+0b9GiRYne+OnTp7V9+/ZE938QPz8/FSlSxKGtcOHC+uOPPyRJ2bJlk6R4MwWeO3fOviwhrq6u8vLycngBAAAAQGIlOkgFBQWpcOHC+uijj3Ts2LF4yyMjI/XDDz+oTZs2KlOmjC5duvSvi6tSpYrCwsIc2n755Rflzp1bkpQ3b15ly5ZNGzZssC+PiorS7t27k3X2QAAAAAD4O+fEdty8ebNWrVqlzz//XMOGDZOHh4d8fX3l5uamK1eu6OzZs8qSJYs6deqkI0eOxLtvKSneeustVa5cWR9++KFatmypPXv2aMaMGZoxY4YkyWazacCAARozZowKFCigvHnz6oMPPlD27NnVtGnTf719AAAAAEhIku6RunjxorZt26bff/9dN27cUJYsWVS6dGmVLl1aadJYmr/ikVavXq1hw4bpxIkTyps3rwYOHKju3bvblxtjNGLECM2YMUNXr15V1apVNW3aNBUsWDDR22D6cwAAAABS4rNBqp5s4kl5HoLUyJEjNWrUKIe2QoUK6fjx4w5txhg1aNBAa9eu1YoVKx56Zm/58uWaPn26QkJCdPnyZR04cEClSpVy6DNw4EDNmTNHHh4eGj9+vNq2bWtftnTpUs2bN0/ffffdv94/AAAAIDkkNhsk+tI+PP2KFi2qn376yf7e2Tn+l3/y5Mmy2WyJGi8mJkZVq1ZVy5YtHc4S3vfdd99p4cKF+vHHH3XixAl16dJFgYGBypIliyIjI/Xee+851AMAAAA8LQhSzxFnZ+eHzmYYGhqqiRMnat++fQ7TyT/I/Qcynzp1KsHlx44dU40aNVSuXDmVK1dOAwYMUHh4uLJkyaIhQ4aoV69eypUrV5L2BQAAAEhJyXtDE1K1EydOKHv27MqXL5/atm1rn0Zekq5fv642bdpo6tSpDw1bVpQsWVL79u3TlStXFBISohs3bih//vzatm2b9u/frzfffDNZtgMAAAA8aQSp50TFihU1Z84crV27VkFBQQoPD9dLL72ka9euSfq/GRKbNGmSbNsMDAxUu3btVL58eXXq1Elz586Vh4eHevXqpenTpysoKEiFChVSlSpVdPTo0WTbLgAAAPC4/atL+27fvq3w8HD5+/sneL8NUo/69evb/12iRAlVrFhRuXPn1pIlS5Q1a1Zt3LhRBw4cSPbtjhw5UiNHjrS/HzVqlGrXri0XFxeNGTNGhw8f1urVq9WhQweFhIQk+/YBAACAxyFJZ6SuX7+url27Kl26dCpatKj9ErF+/fpp/PjxyVogHo8MGTKoYMGC+vXXX7Vx40adPHlSGTJkkLOzsz0Ut2jRQjVq1Ei2bR4/flxff/21Ro8ereDgYFWrVk1Zs2ZVy5YttX//fvvZMQAAACC1S1KQGjZsmA4ePKjg4GC5ubnZ22vXrq3FixcnW3F4fKKjo3Xy5En5+flp6NChOnTokEJDQ+0vSfrkk080e/bsZNmeMUY9evTQpEmT5OnpqdjYWN25c0eS7P+NjY1Nlm0BAAAAj1uSrsdbuXKlFi9erBdffNFhquyiRYvq5MmTyVYcks/gwYPVqFEj5c6dW2fOnNGIESPk5OSk1q1bK2vWrAlOMJErVy7lzZvX/j4gIEDjxo1Ts2bNJEmXL1/WH3/8oTNnzkiSwsLCJEnZsmWLN95XX32lrFmzqlGjRpKkKlWqaOTIkdq1a5fWrFmjIkWKKEOGDI9j1wEAAIBkl6QgdeHCBfn4+MRrj4mJSfQziPBk/fnnn2rdurUuXbqkrFmzqmrVqtq1a5eyZs2a6DHCwsIUGRlpf79q1Sp17tzZ/r5Vq1aSpBEjRjjcF3Xu3DmNHTtWO3bssLdVqFBBgwYNUsOGDeXj46O5c+f+i70DAAAAniybMcZYXalatWp67bXX1K9fP6VPn16HDh1S3rx51a9fP504cUJr1659HLU+Nol9ejEAAACAZ1tis0GSzkh9+OGHql+/vn7++WfdvXtXn376qX7++Wft2LFDmzdvTnLRAAAAAPA0SNJkE1WrVlVoaKju3r2r4sWL68cff5SPj4927typsmXLJneNAAAAAJCqJOnSvmcNl/YBAAAAkB7DpX1RUVH2gaKioh7alzACAAAA4FmW6CCVMWNGRUREyMfHRxkyZEhwdj5jjGw2G88DAgAAAPBMS3SQ2rhxozJlymT/N9OcAwAAAHhecY+UuEcKAAAAwD2JzQZJmrWvQIECGjlypE6cOJHkAgEAAADgaZWkINW7d299//33CggIUPny5fXpp5/q7NmzyV0bAAAAAKRKSQpSb731lvbu3atjx46pQYMGmjp1qnLmzKm6detq3rx5yV0jAAAAAKQqyXaP1K5du9SrVy8dOnToqZu1LzXfIzX+wMWULuGpNLR0lpQuAQAAAE+hZH+O1IPs2bNHCxcu1OLFixUVFaXXXnvt3w4JAAAAAKlakoLUL7/8ogULFuh///ufwsPDVbNmTU2YMEHNmzeXp6dnctcIAAAAAKlKkoLU/Ukm+vTpo1atWsnX1ze56wIAAACAVMtykIqNjdUXX3yhV199VRkzZnwcNQEAAABAqmZ51j4nJyf169dPV69efQzlAAAAAEDql6Tpz4sVK6bffvstuWsBAAAAgKdCkoLUmDFjNHjwYK1evVoRERGKiopyeAEAAADAsyxJk000aNBAktS4cWPZbDZ7uzFGNpvtqXuOFAAAAABYkaQgtWnTpuSuAwAAAACeGkkKUtWrV0/uOgAAAADgqZGkILVly5aHLq9WrVqSigEAAACAp0GSglSNGjXitf39XinukQIAAADwLEvSrH1XrlxxeJ0/f15r165V+fLl9eOPPyZ3jQAAAACQqiTpjJS3t3e8tjp16iht2rQaOHCgQkJC/nVhAAAAAJBaJemM1IP4+voqLCwsOYcEAAAAgFQnSWekDh065PDeGKOIiAiNHz9epUqVSo66AAAAACDVSlKQKlWqlGw2m4wxDu0vvviiZs2alSyFAQAAAEBqlaQgFR4e7vA+TZo0ypo1q9zc3JKlKAAAAABIzZIUpHLnzp3cdQAAAADAU8PSZBM7d+7U6tWrHdrmzZunvHnzysfHR2+88YZu3bqVrAUCAAAAQGpjKUj95z//0dGjR+3vDx8+rK5du6p27doaOnSovvvuO40bNy7ZiwQAAACA1MRSkAoNDVWtWrXs7xctWqSKFSvqyy+/1MCBA/XZZ59pyZIlyV4kAAAAAKQmloLUlStX5Ovra3+/efNm1a9f3/6+fPnyOn36dPJVBwAAAACpkKUg5evra5+x7/bt29q/f79efPFF+/Jr167JxcUleSsEAAAAgFTGUpBq0KCBhg4dqq1bt2rYsGFKly6dXnrpJfvyQ4cOyd/fP9mLBAAAAIDUxNL056NHj1bz5s1VvXp1eXp6au7cuUqbNq19+axZs1S3bt1kLxIAAAAAUhNLQSpLlizasmWLIiMj5enpKScnJ4flS5culaenZ7IWCAAAAACpjaVL++7z9vaOF6IkKVOmTA5nqAAAAJ4148ePl81m04ABA+xtPXr0kL+/v9zd3ZU1a1Y1adJEx48ff+g4nTp1ks1mc3jVq1fPvvzWrVtq3769vLy8VLBgQf30008O63/88cfq169fsu4bgMSzdEYKAADgebZ371598cUXKlGihEN72bJl1bZtW+XKlUuXL1/WyJEjVbduXYWHhyf4x+f76tWrp9mzZ9vfu7q62v89Y8YMhYSEaOfOnVqzZo3atGmjc+fOyWazKTw8XF9++aX27duX/DsJIFGSdEYKAADgeRMdHa22bdvqyy+/VMaMGR2WvfHGG6pWrZry5MmjMmXKaMyYMTp9+rROnTr10DFdXV2VLVs2++vv4x47dkyNGzdW0aJF1adPH124cEEXL16UJPXq1UsTJkyQl5dXsu8ngMQhSAEAACRCnz591LBhQ9WuXfuh/WJiYjR79mzlzZtXOXPmfGjf4OBg+fj4qFChQurVq5cuXbpkX1ayZElt27ZNN27c0Lp16+Tn56csWbJowYIFcnNzU7NmzZJlvwAkDZf2AQAAPMKiRYu0f/9+7d2794F9pk2bpiFDhigmJkaFChXS+vXrH3rveL169dS8eXPlzZtXJ0+e1Lvvvqv69etr586dcnJyUpcuXXTo0CEVKVJEWbJk0ZIlS3TlyhUNHz5cwcHBev/997Vo0SL5+/tr1qxZypEjx+PYdQAPYDPGmKSsOH/+fE2fPl3h4eHauXOncufOrcmTJytv3rxq0qRJctf5WEVFRcnb21uRkZGp7hT5+AMXU7qEp9LQ0llSugQAwDPi9OnTKleunNavX2+/N6pGjRoqVaqUJk+ebO8XGRmp8+fPKyIiQv/973/1119/afv27XJzc0vUdn777Tf5+/vrp59+Uq1atRLs07lzZ5UqVUp58+bVu+++q927d+ujjz7SkSNHtGzZsn+9rwASnw2SdGlfUFCQBg4cqAYNGujq1auKjY2VJGXIkMHhGwoAAMDTLiQkROfPn1eZMmXk7OwsZ2dnbd68WZ999pmcnZ3tvwd5e3urQIECqlatmr755hsdP35cK1asSPR28uXLpyxZsujXX39NcPmmTZt09OhR9e3bV8HBwWrQoIE8PDzUsmVLBQcHJ8euArAgSUHq888/15dffqn33nvPYSaacuXK6fDhw8lWHAAAQEqrVauWDh8+rNDQUPurXLlyatu2rUJDQxOclc8YI2OMbt26lejt/Pnnn7p06ZL8/PziLbt586b69OmjL774Qk5OToqNjdWdO3ckSXfu3LGHOQBPTpKCVHh4uEqXLh2v3dXVVTExMf+6KAAAgNQiffr0KlasmMPLw8NDmTNnVrFixfTbb79p3LhxCgkJ0R9//KEdO3botddek7u7uxo0aGAfJyAgwH6GKjo6Wm+//bZ27dqlU6dOacOGDWrSpIny58+vwMDAeDWMHj1aDRo0sP/+VaVKFS1fvlyHDh3SlClTVKVKlSfzYQCwS9JkE3nz5lVoaKhy587t0L527VoVLlw4WQoDAAB4Gri5uWnr1q2aPHmyrly5Il9fX1WrVk07duyQj4+PvV9YWJgiIyMlSU5OTjp06JDmzp2rq1evKnv27Kpbt65Gjx7t8CwpSTpy5IiWLFmi0NBQe9urr76q4OBgvfTSSypUqJAWLlz4RPYVwP9J0mQTX331lUaOHKmJEyeqa9eu+uqrr3Ty5EmNGzdOX331lVq1avU4an1smGzi2cNkEwAAAEiKxGaDJJ2R6tatm9zd3fX+++/r+vXratOmjbJnz65PP/30qQtRAAAAAGBVkp8j1bZtW7Vt21bXr19XdHS0w6lrAAAAAHiW/esH8qZLl07p0qVLjloAAAAA4KmQ6CBVunRp2Wy2RPXdv39/kgsCAAAAgNQu0UGqadOm9n/fvHlT06ZNU5EiRVSpUiVJ0q5du3T06FH17t072YsEAAAAgNQk0UFqxIgR9n9369ZNb775pkaPHh2vz+nTp5OvOgAAAABIhZL0QN6lS5eqQ4cO8drbtWunZcuW/euiAAAAACA1S1KQcnd31/bt2+O1b9++XW5ubv+6KAAAAABIzZI0a9+AAQPUq1cv7d+/XxUqVJAk7d69W7NmzdIHH3yQrAUCAAAAQGqTpCA1dOhQ5cuXT59++qm+/vprSVLhwoU1e/ZstWzZMlkLBAAAAIDUJsnPkWrZsiWhCQAApFrjD1xM6RKeSkNLZ0npEoCnQpLukQIAAACA5xlBCgAAAAAsIkgBAJ5KQUFBKlGihLy8vOTl5aVKlSppzZo19uVnz55V+/btlS1bNnl4eKhMmTKPfETHuHHjVL58eaVPn14+Pj5q2rSpwsLCHPoMHDhQmTJlUs6cObVgwQKHZUuXLlWjRo2SbycBAKkWQQoA8FR64YUXNH78eIWEhGjfvn2qWbOmmjRpoqNHj0qSOnTooLCwMK1atUqHDx9W8+bN1bJlSx04cOCBY27evFl9+vTRrl27tH79et25c0d169ZVTEyMJOm7777TwoUL9eOPP+qjjz5St27ddPHivftwIiMj9d5772nq1KmPf+cBACkuSUHq5s2bD1wWERGR5GIAAEisRo0aqUGDBipQoIAKFiyosWPHytPTU7t27ZIk7dixQ/369VOFChWUL18+vf/++8qQIYNCQkIeOObatWvVqVMnFS1aVCVLltScOXP0xx9/2Nc5duyYatSooXLlyql169by8vJSeHi4JGnIkCHq1auXcuXK9fh3HgCQ4pIUpMqUKaPQ0NB47cuWLVOJEiX+bU0AAFgSGxurRYsWKSYmRpUqVZIkVa5cWYsXL9bly5cVFxenRYsW6ebNm6pRo0aix42MjJQkZcqUSZJUsmRJ7du3T1euXFFISIhu3Lih/Pnza9u2bdq/f7/efPPNZN83AEDqlKQgVaNGDb344ouaMGGCJCkmJkadOnVS+/bt9e677yZrgQAAPMjhw4fl6ekpV1dX9ezZUytWrFCRIkUkSUuWLNGdO3eUOXNmubq6qkePHlqxYoXy58+fqLHj4uI0YMAAValSRcWKFZMkBQYGql27dipfvrw6deqkuXPnysPDQ7169dL06dMVFBSkQoUKqUqVKvZLDAEAz6YkPUdq2rRpatiwobp166bVq1crIiJCnp6e2rNnj/2HDQAAj1uhQoUUGhqqyMhIffPNN+rYsaM2b96sIkWK6IMPPtDVq1f1008/KUuWLFq5cqVatmyprVu3qnjx4o8cu0+fPjpy5Ii2bdvm0D5y5EiNHDnS/n7UqFGqXbu2XFxcNGbMGB0+fFirV69Whw4dHnoZIQDg6WYzxpikrBgXF6d+/fopKChIzs7O+u677xQYGJjc9T0RUVFR8vb2VmRkpLy8vFK6HAc8TDBpeJgg8HyqXbu2/P39NWTIEOXPn19HjhxR0aJFHZbnz59f06dPf+g4ffv21bfffqstW7Yob968D+x3/PhxNWrUSAcOHNCsWbO0bds2LVmyRDExMfL09FRUVJTSp0+fbPsHa/gZmjT8DMXzLrHZIEmX9p08eVKVKlXS6tWrtW7dOg0ZMkSNGzfWkCFDdOfOnSQXDQDAvxEXF6dbt27p+vXrkqQ0aRx/zDk5OSkuLu6B6xtj1LdvX61YsUIbN258aIgyxqhHjx6aNGmSPD09FRsba/8ZeP+/sbGx/3aXAACpVJKCVKlSpZQ3b14dPHhQderU0ZgxY7Rp0yYtX75cFSpUSO4aAQCIZ9iwYdqyZYtOnTqlw4cPa9iwYQoODlbbtm0VEBCg/Pnzq0ePHtqzZ49OnjypiRMnav369WratKl9jFq1amnKlCn293369NHXX3+thQsXKn369Dp79qzOnj2rGzduxNv+V199paxZs9qfG1WlShVt3LhRu3bt0ieffKIiRYooQ4YMj/tjAACkkCTfI9W+fXuHtsqVK+vAgQMaMGBActQFAMBDnT9/Xh06dFBERIS8vb1VokQJrVu3TnXq1JEk/fDDDxo6dKgaNWqk6Oho5c+fX3PnzlWDBg3sY5w8edL+HCjp3kN+JcWb2W/27Nnq1KmT/f25c+c0duxY7dixw95WoUIFDRo0SA0bNpSPj4/mzp37GPYaAJBaJPkeqZQwfvx4DRs2TP3799fkyZMl3Xum1aBBg7Ro0SLdunVLgYGBmjZtmnx9fRM9LvdIPXu4vhsAwM/QpOFnKJ53ic0GSTojNW/evAcus9ls8c5WJYe9e/fqiy++iPecqrfeekvff/+9li5dKm9vb/Xt21fNmzfX9u3bk70GAAAAAJCSGKT69+/v8P7OnTu6fv260qZNq3Tp0iV7kIqOjlbbtm315ZdfasyYMfb2yMhIzZw5UwsXLlTNmjUl3bv8onDhwtq1a5defPHFBMe7deuWbt26ZX8fFRWVrPUCAAAAeLYlabKJK1euOLyio6MVFhamqlWr6n//+19y16g+ffqoYcOGql27tkN7SEiI7ty549AeEBCgXLlyaefOnQ8cb9y4cfL29ra/cubMmew1AwAAAHh2JSlIJaRAgQIaP358vLNV/9aiRYu0f/9+jRs3Lt6ys2fPKm3atPFmRfL19dXZs2cfOOawYcMUGRlpf50+fTpZawYAAADwbEvSpX0PHMzZWWfOnEm28U6fPq3+/ftr/fr1cnNzS7ZxXV1d5erqmmzjAQAAAHi+JClIrVq1yuG9MUYRERGaMmWKqlSpkiyFSfcu3Tt//rzKlCljb4uNjdWWLVs0ZcoUrVu3Trdv39bVq1cdzkqdO3dO2bJlS7Y6AAAAAODvknRpX9OmTR1ezZs318iRI1WiRAnNmjUr2YqrVauWDh8+rNDQUPurXLlyatu2rf3fLi4u2rBhg32dsLAw/fHHH6pUqVKy1QEg8YKCglSiRAl5eXnJy8tLlSpV0po1a+L1M8aofv36stlsWrly5UPH7NSpk2w2m8OrXr169uW3bt1S+/bt5eXlpYIFC+qnn35yWP/jjz9Wv379kmX/AAAApCSekYqLi0vuOhKUPn16FStWzKHNw8NDmTNntrd37dpVAwcOVKZMmeTl5aV+/fqpUqVKD5yxD8Dj9cILL2j8+PEqUKCAjDGaO3eumjRpogMHDqho0aL2fpMnT5bNZkv0uPXq1dPs2bPt7/9+ee6MGTMUEhKinTt3as2aNWrTpo3OnTsnm82m8PBwffnll9q3b1/y7CAAAICS+R6plPDJJ58oTZo0atGihcMDeQGkjEaNGjm8Hzt2rIKCgrRr1y57kAoNDdXEiRO1b98++fn5JWpcV1fXB16ye+zYMTVu3FhFixZVvnz59Pbbb+vixYvKmjWrevXqpQkTJqS6h20DAICnW5KD1J9//qlVq1bpjz/+0O3btx2WTZo06V8X9iDBwcEO793c3DR16lRNnTr1sW0TQNLExsZq6dKliomJsV9ue/36dbVp00ZTp061dC9jcHCwfHx8lDFjRtWsWVNjxoxR5syZJUklS5bU/PnzdePGDa1bt05+fn7KkiWLFixYIDc3NzVr1uyx7B8AAHh+JSlIbdiwQY0bN1a+fPl0/PhxFStWTKdOnZIxxmFiCADPp8OHD6tSpUq6efOmPD09tWLFChUpUkSS9NZbb6ly5cpq0qRJoserV6+emjdvrrx58+rkyZN69913Vb9+fe3cuVNOTk7q0qWLDh06pCJFiihLlixasmSJrly5ouHDhys4OFjvv/++Fi1aJH9/f82aNUs5cuR4XLsOAACeE0kKUsOGDdPgwYM1atQopU+fXsuWLZOPj4/atm3rcAM4gOdToUKFFBoaqsjISH3zzTfq2LGjNm/erF9//VUbN27UgQMHLI3XqlUr+7+LFy+uEiVKyN/fX8HBwapVq5ZcXFzinZXu3Lmz3nzzTR04cEArV67UwYMH9dFHH+nNN9/UsmXLkmU/kTTjD1xM6RKeSkNLZ0npEgAAf5OkWfuOHTumDh06SLr37KgbN27I09NT//nPfzRhwoRkLRDA0ydt2rTKnz+/ypYtq3HjxqlkyZL69NNPtXHjRp08eVIZMmSQs7OznJ3v/S2nRYsWqlGjRqLHz5cvn7JkyaJff/01weWbNm3S0aNH1bdvXwUHB6tBgwby8PBQy5Yt410eDAAAkBRJOiPl4eFhvy/Kz89PJ0+etN9EfvEif2kE4CguLk63bt3SqFGj1K1bN4dlxYsX1yeffBJvkoqH+fPPP3Xp0qUEJ6q4efOm+vTpowULFsjJyUmxsbEyxkiS7ty5o9jY2H+3MwAAALJ4Ruo///mPYmJi9OKLL2rbtm2SpAYNGmjQoEEaO3asunTpwrTjwHNu2LBh2rJli06dOqXDhw9r2LBhCg4OVtu2bZUtWzYVK1bM4SVJuXLlUt68ee1jBAQEaMWKFZKk6Ohovf3229q1a5dOnTqlDRs2qEmTJsqfP78CAwPjbX/06NFq0KCBSpcuLUmqUqWKli9frkOHDiX7Q8MBAMDzy9IZqVGjRqlnz56aNGmSoqOj7W3R0dFavHixChQo8Fhn7AOQ+p0/f14dOnRQRESEvL29VaJECa1bt0516tRJ9BhhYWGKjIyUJDk5OenQoUOaO3eurl69quzZs6tu3boaPXq0w7OkJOnIkSNasmSJQkND7W2vvvqqgoOD9dJLL6lQoUJauHBhsuwnAAB4vtnM/WteEiFNmjQ6e/asfHx8HmdNT1xUVJS8vb0VGRmZ6p41w03ZScNN2UDqxfe1pOH7mnUca0nDsYbnXWKzgeXJJmw2278qDAAAAACedpYnmyhYsOAjw9Tly5eTXBAAAAAApHaWg9SoUaPk7e39OGoBAAAAgKeC5SDVqlWrZ+4eKQAAAACwwtI9UtwfBQAAAAAWg5SFCf4AAAAA4Jll6dK+uLi4x1UHAAAAADw1LE9/DgAAAADPO4IUAAAAAFhEkAIAAAAAiwhSAAAAAGCR5edIAXg2jT9wMaVLeCoNLZ0lpUsAAAApgDNSAAAAAGARQQoAAAAALCJIAQAAAIBFBCkAAAAAsIggBQAAAAAWEaQAAAAAwCKCFAAAAABYRJACAAAAAIsIUgAAAABgEUEKAAAAACwiSAEAAACARQQpAAAAALCIIAUAAAAAFhGkAAAAAMAighQAAAAAWESQAgAAAACLCFIAAAAAYBFBCgAAAAAsIkgBAAAAgEUEKQAAAACwiCAFAAAAABYRpAAAAADAIoIUAAAAAFhEkAIAAAAAiwhSAAAAAGARQQoAAAAALCJIAQAAAIBFBCkAAAAAsIggBQAAAAAWEaQAAAAAwCKCFAAAAABYRJACAAAAAIsIUgAAAABgEUEKAAAAACwiSAEAAACARQQpAAAAALCIIAUAAAAAFhGkAAAAAMAighQAAAAAWESQAgAAAACLCFIAAAAAYBFBCgAAAAAsIkgBAAAAgEUEKQAAAACwiCAFAAAAABYRpAAAAADAIoIUAAAAAFhEkAIAAAAAiwhSAAAAAGARQQoAAAAALCJIAQAAAIBFBCkAAAAAsIggBQAAAAAWEaQAAAAAwCKCFAAAAABYRJACAAAAAIsIUgAAAABgEUEKAAAAACwiSAEAAACARQQpAAAAALCIIAUAAAAAFhGkAAAAAMCiVB2kxo0bp/Llyyt9+vTy8fFR06ZNFRYW5tDn5s2b6tOnjzJnzixPT0+1aNFC586dS6GKAQAAADwPUnWQ2rx5s/r06aNdu3Zp/fr1unPnjurWrauYmBh7n7feekvfffedli5dqs2bN+vMmTNq3rx5ClYNAAAA4FnnnNIFPMzatWsd3s+ZM0c+Pj4KCQlRtWrVFBkZqZkzZ2rhwoWqWbOmJGn27NkqXLiwdu3apRdffDElygYAAADwjEvVZ6T+KTIyUpKUKVMmSVJISIju3Lmj2rVr2/sEBAQoV65c2rlz5wPHuXXrlqKiohxeAAAAAJBYT02QiouL04ABA1SlShUVK1ZMknT27FmlTZtWGTJkcOjr6+urs2fPPnCscePGydvb2/7KmTPn4ywdAAAAwDPmqQlSffr00ZEjR7Ro0aJ/PdawYcMUGRlpf50+fToZKgQAAADwvEjV90jd17dvX61evVpbtmzRCy+8YG/Pli2bbt++ratXrzqclTp37pyyZcv2wPFcXV3l6ur6OEsGAAAA8AxL1WekjDHq27evVqxYoY0bNypv3rwOy8uWLSsXFxdt2LDB3hYWFqY//vhDlSpVetLlAgAAAHhOpOozUn369NHChQv17bffKn369Pb7nry9veXu7i5vb2917dpVAwcOVKZMmeTl5aV+/fqpUqVKzNgHAAAA4LFJ1UEqKChIklSjRg2H9tmzZ6tTp06SpE8++URp0qRRixYtdOvWLQUGBmratGlPuFIAAAAAz5NUHaSMMY/s4+bmpqlTp2rq1KlPoCIAAAAASOX3SAEAAABAakSQAgAAAACLCFIAAAAAYBFBCgAAAAAsIkgBAAAAgEUEKQAAAACwiCAFAAAAABYRpAAAAADAIoIUAAAAAFhEkAIAAAAAiwhSAAAAAGARQQoAAAAALCJIAQAAAIBFBCkAAAAAsIggBQAAAAAWEaQAAAAAwCKCFAAAAABYRJACAAAAAIsIUgAAAABgEUEKAAAAACwiSAEAAACARQQpAAAAALCIIAUAAACkUteuXdOAAQOUO3duubu7q3Llytq7d+8D+0dERKhNmzYqWLCg0qRJowEDBsTrs379ehUsWFBeXl5q3769bt++bV8WGRmpggUL6vfff38cu/NMIUgBAAAAqVS3bt20fv16zZ8/X4cPH1bdunVVu3Zt/fXXXwn2v3XrlrJmzar3339fJUuWjLc8Li5Obdq0Uc+ePbVz507t27dPM2bMsC8fOnSoevbsqdy5cz+2fXpWEKQAAACAVOjGjRtatmyZPvroI1WrVk358+fXyJEjlT9/fgUFBSW4Tp48efTpp5+qQ4cO8vb2jrf84sWLunjxonr37q2iRYuqcePGOnbsmCRpx44d2rt3r/r37/9Y9+tZQZACAAAAUqG7d+8qNjZWbm5uDu3u7u7atm1bksbMmjWr/Pz89OOPP+r69evaunWrSpQooTt37qhXr1764osv5OTklBzlP/MIUgAAAEAqlD59elWqVEmjR4/WmTNnFBsbq6+//lo7d+5UREREksa02WxasmSJRo8eraJFi6p06dLq0qWLxo8fr5dffllubm6qUqWKChUqpClTpiTzHj1bnFO6AAAAAAAJmz9/vrp06aIcOXLIyclJZcqUUevWrRUSEpLkMatWreowYcUvv/yiefPm6cCBA6pWrZr69++v+vXrq1ixYqpWrZpKlCiRHLvyzOGMFAAAAJBK+fv7a/PmzYqOjtbp06e1Z88e3blzR/ny5Uu2bfTo0UMTJ05UXFycDhw4oNdee00+Pj6qXr26Nm/enGzbedYQpAAAAIBUzsPDQ35+frpy5YrWrVunJk2aJMu4M2fOVKZMmdS4cWPFxsZKku7cuWP/7/02xMelfQAAAEAqtW7dOhljVKhQIf366696++23FRAQoM6dO0uShg0bpr/++kvz5s2zrxMaGipJio6O1oULFxQaGqq0adOqSJEiDmOfP39eY8aM0fbt2yVJGTNmVOHChTV58mTVrVtXGzZs0HvvvfdkdvQpRJACAAAAUqnIyEgNGzZMf/75pzJlyqQWLVpo7NixcnFxkXTvAbx//PGHwzqlS5e2/zskJEQLFy5U7ty5derUKYd+/fv316BBg5Q9e3Z725w5c9SxY0d99tlnevvtt1W+fPnHt3NPOYIUAAAAkEq1bNlSLVu2fODyOXPmxGszxiRq7P/973/x2ipUqGB/rhQejnukAAAAAMAighQAAAAAWESQAgAAAACLCFIAAAAAYBFBCgAAAAAsIkgBAAAAgEUEKQAAAACwiCAFAAAAABYRpAAAAADAIoIUAAAAAFjknNIFAAAAAE+z8QcupnQJT6WhpbOkdAn/CmekAAAAAMAighQAAAAAWESQAgAAAACLCFIAAAAAYBFBCgAAAAAsIkgBAAAAgEUEKQAAAACwiCAFAAAAABYRpAAAAADAIoIUAAAAAFhEkAIAAAAAiwhSAAAAAGARQQoAAAAALCJIAQAAAIBFBCkAAAAAsIggBQAAAAAWEaQAAAAAwCKCFAAAAABYRJACAAAAAIsIUgAAAABgEUEKAAAAACwiSAEAAACARQQpAAAAALCIIAUAAAAAFhGkAAAAAMAighQAAAAAWESQAgAAAACLCFIAAAAAYBFBCgAAAAAsIkgBAAAAgEUEKQAAAACwiCAFAAAAABYRpAAAAADAIoIUAAAAAFhEkAIAAAAAiwhSAAAAAGARQQoAAAAALHpmgtTUqVOVJ08eubm5qWLFitqzZ09KlwQAAADgGfVMBKnFixdr4MCBGjFihPbv36+SJUsqMDBQ58+fT+nSAAAAADyDnokgNWnSJHXv3l2dO3dWkSJFNH36dKVLl06zZs1K6dIAAAAAPIOcU7qAf+v27dsKCQnRsGHD7G1p0qRR7dq1tXPnzgTXuXXrlm7dumV/HxkZKUmKiop6vMUmwc3oayldwlMpKiptSpfw1OFYSxqONes41pKGY806jrWk4VizjmMtaVLrsXY/ExhjHtrvqQ9SFy9eVGxsrHx9fR3afX19dfz48QTXGTdunEaNGhWvPWfOnI+lRjx58b+6wOPBsYYnhWMNTwrHGp6U1H6sXbt2Td7e3g9c/tQHqaQYNmyYBg4caH8fFxeny5cvK3PmzLLZbClY2dMjKipKOXPm1OnTp+Xl5ZXS5eAZxrGGJ4VjDU8KxxqeFI61pDHG6Nq1a8qePftD+z31QSpLlixycnLSuXPnHNrPnTunbNmyJbiOq6urXF1dHdoyZMjwuEp8pnl5efE/Jp4IjjU8KRxreFI41vCkcKxZ97AzUfc99ZNNpE2bVmXLltWGDRvsbXFxcdqwYYMqVaqUgpUBAAAAeFY99WekJGngwIHq2LGjypUrpwoVKmjy5MmKiYlR586dU7o0AAAAAM+gZyJIvf7667pw4YKGDx+us2fPqlSpUlq7dm28CSiQfFxdXTVixIh4l0gCyY1jDU8KxxqeFI41PCkca4+XzTxqXj8AAAAAgIOn/h4pAAAAAHjSCFIAAAAAYBFBCgAAAAAsIkgBAAAAgEUEKTyUzWbTypUrH7g8ODhYNptNV69elSTNmTPnkQ83HjlypEqVKpVsNQJW1ahRQwMGDEh0/1OnTslmsyk0NPSx1YSUkZTvR3ny5NHkyZMfSz148hLz/SAxX/O//7x8Fr5n8LP62Wb15yASRpB6zp09e1b9+vVTvnz55Orqqpw5c6pRo0YODzh+mMqVKysiIiJRT39G6mSMUe3atRUYGBhv2bRp05QhQwb9+eefKVBZ4o0bN05OTk76+OOPn8j2/vkHBKQuO3fulJOTkxo2bPhEtveoPzjhyerUqZNsNpt69uwZb1mfPn1ks9nUqVMne9vy5cs1evToJ1ihdQEBAXJ1ddXZs2dTuhQ8ARcuXFCvXr2UK1cuubq6Klu2bAoMDNT27duTbRtPw3H/NCBIPcdOnTqlsmXLauPGjfr44491+PBhrV27Vi+//LL69OmTqDHSpk2rbNmyyWazPeZq8bjYbDbNnj1bu3fv1hdffGFvDw8P15AhQ/T555/rhRdeSMEKH23WrFkaMmSIZs2aldKlIBWYOXOm+vXrpy1btujMmTMpXQ5SQM6cObVo0SLduHHD3nbz5k0tXLhQuXLlcuibKVMmpU+f/kmXmGjbtm3TjRs39Oqrr2ru3LkpXQ6egBYtWujAgQOaO3eufvnlF61atUo1atTQpUuXkm0b//a4j42NVVxcXLLV87QiSD3HevfuLZvNpj179qhFixYqWLCgihYtqoEDB2rXrl32fhcvXlSzZs2ULl06FShQQKtWrbIvS8xf5sePHy9fX1+lT59eXbt21c2bNx/nbiEJcubMqU8//VSDBw9WeHi4jDHq2rWr6tatq1y5cqlChQpydXWVn5+fhg4dqrt379rXTeiSl1KlSmnkyJH29zabTV999dUDjyNJWrVqlQoUKCA3Nze9/PLLmjt3bqLO+mzevFk3btzQf/7zH0VFRWnHjh0Oy2NiYtShQwd5enrKz89PEydOjDdGQmcUMmTIoDlz5sTre+rUKb388suSpIwZM8b76zZSVnR0tBYvXqxevXqpYcOG8b6Gj/p+lNDlLk2bNn3g1zhPnjySpGbNmslms9nfI2WVKVNGOXPm1PLly+1ty5cvV65cuVS6dGmHvv/8mp8/f16NGjWSu7u78ubNqwULFsQb/8SJE6pWrZrc3NxUpEgRrV+//pE1HTlyRPXr15enp6d8fX3Vvn17Xbx48ZHrzZw5U23atFH79u0T/GNRRESEGjZsaK934cKF8b4vX716Vd26dVPWrFnl5eWlmjVr6uDBgw7j8LM6dbh69aq2bt2qCRMm6OWXX1bu3LlVoUIFDRs2TI0bN7b3edjX8/5lmfPnz1eePHnk7e2tVq1a6dq1a/Y+/zzur1y5og4dOihjxoxKly6d6tevrxMnTtiX3791Y9WqVSpSpIhcXV31xx9/PP4PJJUjSD2nLl++rLVr16pPnz7y8PCIt/zv9zmNGjVKLVu21KFDh9SgQQO1bdtWly9fTtR2lixZopEjR+rDDz/Uvn375Ofnp2nTpiXXbiAZdezYUbVq1VKXLl00ZcoUHTlyRJ988okaNGig8uXL6+DBgwoKCtLMmTM1ZswYy+M/7DgKDw/Xq6++qqZNm+rgwYPq0aOH3nvvvUSNO3PmTLVu3VouLi5q3bq1Zs6c6bD87bff1ubNm/Xtt9/qxx9/VHBwsPbv32+5/vty5sypZcuWSZLCwsIUERGhTz/9NMnjIXktWbJEAQEBKlSokNq1a6dZs2bp/nPnH8f3o71790qSZs+erYiICPt7pLwuXbpo9uzZ9vezZs1S586dH7lep06ddPr0aW3atEnffPONpk2bpvPnz9uXx8XFqXnz5kqbNq12796t6dOn65133nnomFevXlXNmjVVunRp7du3T2vXrtW5c+fUsmXLh6537do1LV26VO3atVOdOnUUGRmprVu3OvTp0KGDzpw5o+DgYC1btkwzZsxwqFeSXnvtNZ0/f15r1qxRSEiIypQpo1q1atm/B/OzOvXw9PSUp6enVq5cqVu3biXY51FfT0k6efKkVq5cqdWrV2v16tXavHmzxo8f/8DtdurUSfv27dOqVau0c+dOGWPUoEED3blzx97n+vXrmjBhgr766isdPXpUPj4+ybfjTyuD59Lu3buNJLN8+fKH9pNk3n//ffv76OhoI8msWbPGGGPMpk2bjCRz5coVY4wxs2fPNt7e3vb+lSpVMr1793YYs2LFiqZkyZLJsh9IXufOnTNZsmQxadKkMStWrDDvvvuuKVSokImLi7P3mTp1qvH09DSxsbHGGGNy585tPvnkE4dxSpYsaUaMGGF//6jj6J133jHFihVzGOO9995zOLYSEhkZadzd3U1oaKgxxpgDBw4YT09Pc+3aNWOMMdeuXTNp06Y1S5Yssa9z6dIl4+7ubvr37+9Q34oVKxzG9vb2NrNnzzbGGBMeHm4kmQMHDhhj4h/3SD0qV65sJk+ebIwx5s6dOyZLlixm06ZNxpjEfT+qXr26w7FhjDFNmjQxHTt2tL//5zGf0PGDlNOxY0fTpEkTc/78eePq6mpOnTplTp06Zdzc3MyFCxfifT3//jUPCwszksyePXvsy48dO2Yk2b/m69atM87Ozuavv/6y91mzZo3DcfDP7xmjR482devWdajz9OnTRpIJCwt74L7MmDHDlCpVyv6+f//+DrXfr23v3r32thMnTjjUu3XrVuPl5WVu3rzpMLa/v7/54osvjDH8rE5tvvnmG5MxY0bj5uZmKleubIYNG2YOHjxojEnc13PEiBEmXbp0Jioqyr787bffNhUrVrS///tx/8svvxhJZvv27fblFy9eNO7u7vafn7NnzzaS7D9vcQ9npJ5T5v//hTYxSpQoYf+3h4eHvLy84v2160GOHTumihUrOrRVqlQp0dvGk+Xj46MePXqocOHCatq0qY4dO6ZKlSo53ANXpUoVRUdHW56A4mHHUVhYmMqXL+/Qv0KFCo8c83//+5/8/f1VsmRJSfcuKcydO7cWL14s6d5f5G7fvu1wDGbKlEmFChWyVDueDmFhYdqzZ49at24tSXJ2dtbrr79uP0vJ96PnS9asWe2Xd86ePVsNGzZUlixZHrrOsWPH5OzsrLJly9rbAgICHK7SOHbsmHLmzKns2bPb2x51HB08eFCbNm2yn23w9PRUQECApHvfpx5k1qxZateunf19u3bttHTpUvslWmFhYXJ2dlaZMmXsffLnz6+MGTM6bDs6OlqZM2d22H54eLh92/y/kbq0aNFCZ86c0apVq1SvXj0FBwerTJkymjNnTqK+ntK9y47/fg+Un5/fA393u3/c//0YyJw5swoVKqRjx47Z29KmTevwsxySc0oXgJRRoEAB2Ww2HT9+/JF9XVxcHN7bbDZuMHyGOTs7y9k58d8a0qRJEy+Y//1SgPsex3E0c+ZMHT161KHeuLg4zZo1S127dk30ODabLVH7gNRt5syZunv3rsMvuMYYubq6asqUKYkaI7HHM54OXbp0Ud++fSVJU6dOTbE6oqOj1ahRI02YMCHeMj8/vwTX+fnnn7Vr1y7t2bPH4dLB2NhYLVq0SN27d0/0tv38/BQcHBxv2aMeV4KU4+bmpjp16qhOnTr64IMP1K1bN40YMUK9e/dO1NfzcfzMdXd3Z3Kxf+CM1HMqU6ZMCgwM1NSpUxUTExNveXJN61y4cGHt3r3boe3vE1kgdStcuLD9Wun7tm/frvTp09tn8suaNasiIiLsy6OiohQeHm5pO4UKFdK+ffsc2h51r8nhw4e1b98+BQcHKzQ01P4KDg7Wzp07dfz4cfn7+8vFxcXhGLxy5Yp++eUXh7H+uQ8nTpzQ9evXH7jttGnTSrr3Cw1Sh7t372revHmaOHGiw/Fw8OBBZc+eXf/73/8S9f3on8dCbGysjhw58tBtu7i4cCykUvXq1dPt27d1586dBB/x8E8BAQG6e/euQkJC7G1hYWEOPxMLFy6s06dPOxwnj/q5VqZMGR09elR58uRR/vz5HV4J3acs3fvDQLVq1XTw4EGHY3rgwIH2s6yFChXS3bt3deDAAft6v/76q65cueKw7bNnz8rZ2Tnetu+foeNndepXpEgRxcTEJOrraVXhwoV19+5dh2Pg0qVLCgsLU5EiRZJrF55JBKnn2NSpUxUbG6sKFSpo2bJlOnHihI4dO6bPPvss2U7p9+/fX7NmzdLs2bP1yy+/aMSIETp69GiyjI3Hr3fv3jp9+rT69eun48eP69tvv9WIESM0cOBApUlz79tHzZo1NX/+fG3dulWHDx9Wx44d5eTkZGk7PXr00PHjx/XOO+/ol19+0ZIlS+yzrT3or18zZ85UhQoVVK1aNRUrVsz+qlatmsqXL6+ZM2fK09NTXbt21dtvv62NGzfqyJEj6tSpk732+2rWrKkpU6bowIED2rdvn3r27Bnvr3l/lzt3btlsNq1evVoXLlxQdHS0pf1F8lu9erWuXLmirl27OhwPxYoVU4sWLTRz5sxEfT+qWbOmvv/+e33//fc6fvy4evXq9cg/LOXJk0cbNmzQ2bNnHX6BRcpzcnLSsWPH9PPPPyfq+1KhQoVUr1499ejRQ7t371ZISIi6desmd3d3e5/atWurYMGC6tixow4ePKitW7c+cnKcPn366PLly2rdurX27t2rkydPat26dercuXOCIfzOnTuaP3++WrduHe947tatm3bv3q2jR48qICBAtWvX1htvvKE9e/bowIEDeuONNxzOHNSuXVuVKlVS06ZN9eOPP+rUqVPasWOH3nvvPfsfsPhZnXpcunRJNWvW1Ndff61Dhw4pPDxcS5cu1UcffaQmTZok6utpVYECBdSkSRN1795d27Zt08GDB9WuXTvlyJFDTZo0SeY9fLYQpJ5j+fLl0/79+/Xyyy9r0KBBKlasmOrUqaMNGzYoKCgoWbbx+uuv64MPPtCQIUNUtmxZ/f777+rVq1eyjI3HL0eOHPrhhx+0Z88elSxZUj179lTXrl31/vvv2/sMGzZM1atX1yuvvKKGDRuqadOm8vf3t7SdvHnz6ptvvtHy5ctVokQJBQUF2X8xcXV1jdf/9u3b+vrrr9WiRYsEx2vRooXmzZunO3fu6OOPP9ZLL72kRo0aqXbt2qpatarD/Q+SNHHiROXMmVMvvfSS2rRpo8GDBytdunQP/VxGjRqloUOHytfX137pEFLOzJkzVbt27QQfDt6iRQvt27dPhQsXfuT3oy5duqhjx47q0KGDqlevrnz58tmnu3+QiRMnav369cqZM2e8qbWR8ry8vOTl5ZXo/rNnz1b27NlVvXp1NW/eXG+88YbD7GRp0qTRihUrdOPGDVWoUEHdunXT2LFjHzpm9uzZtX37dsXGxqpu3boqXry4BgwYoAwZMsT7w45073EQly5dUrNmzeItK1y4sAoXLmw/KzVv3jz5+vqqWrVqatasmbp376706dPLzc1N0r0/Rv3www+qVq2aOnfurIIFC6pVq1b6/fff5evrK4mf1amJp6enKlasqE8++cT+h8IPPvhA3bt315QpUxL19UyK2bNnq2zZsnrllVdUqVIlGWP0ww8/PPSPipBsxsqsAwDwhIwdO1bTp0/X6dOnU7oUAHhq/Pnnn8qZM6d++ukn1apVK6XLAZ5pTDYBIFWYNm2aypcvr8yZM2v79u36+OOPOdMDAI+wceNGRUdHq3jx4oqIiNCQIUOUJ08eVatWLaVLA555BCkAqcKJEyc0ZswYXb58Wbly5dKgQYM0bNiwlC4LAFK1O3fu6N1339Vvv/2m9OnTq3LlylqwYAGXZAFPAJf2AQAAAIBFTDYBAAAAABYRpAAAAADAIoIUAAAAAFhEkAIAAAAAiwhSAACkEjExMRo9erTWrVuX0qUAAB6BIAUAQCrRv39/Xb9+XYMHD9avv/6a0uUAAB6CIAUASLVu376tDz/8UMeOHUvpUh67S5cuqUyZMho3bpwWLVqkw4cPp3RJAICH4DlSAIBUq1+/frp48aIWLlwom8322LcXHBysl19+WVeuXFGGDBmSbdyRI0dq5cqVCg0NTbYxAQApizNSAADLzp49q379+ilfvnxydXVVzpw51ahRI23YsCHRY8yZM+ehYWXJkiU6evSo5s6d+0RClCRVrlxZERER8vb2fqzbGTlypDp16hSvfefOnXJyclLDhg0f6/YBAP8eQQoAYMmpU6dUtmxZbdy4UR9//LEOHz6stWvX6uWXX1afPn2SbTstW7bUxo0blTZt2mQb82Hu3LmjtGnTKlu2bE8suP3TzJkz1a9fP23ZskVnzpxJkRoAAIlDkAIAWNK7d2/ZbDbt2bNHLVq0UMGCBVW0aFENHDhQu3btsvebNGmSihcvLg8PD+XMmVO9e/dWdHS0pHuX0HXu3FmRkZGy2Wyy2WwaOXKkJOnWrVsaPHiwcuTIIQ8PD1WsWFHBwcEONXz55ZfKmTOn0qVLp2bNmmnSpEnxzm4FBQXJ399fadOmVaFChTR//nyH5TabTUFBQWrcuLE8PDw0duxYBQcHy2az6erVq/Z+27Zt00svvSR3d3flzJlTb775pmJiYh76GY0fP16+vr5Knz69unbtqps3bz7yc42OjtbixYvVq1cvNWzYUHPmzInXZ9WqVSpQoIDc3Nz08ssv28/W/dt6AQDWEaQAAIl2+fJlrV27Vn369JGHh0e85X8PM2nSpNFnn31mvzxv48aNGjJkiKR7l9BNnjxZXl5eioiIUEREhAYPHixJ6tu3r3bu3KlFixbp0KFDeu2111SvXj2dOHFCkrR9+3b17NlT/fv3V2hoqOrUqaOxY8c61LFixQr1799fgwYN0pEjR9SjRw917txZmzZtcug3cuRINWvWTIcPH1aXLl3i7c/JkydVr149tWjRQocOHdLixYu1bds29e3b94Gf0ZIlSzRy5Eh9+OGH2rdvn/z8/DRt2rRHfrZLlixRQECAChUqpHbt2mnWrFn6+23M4eHhevXVV9W0aVMdPHhQPXr00Hvvvfev6wUAJJEBACCRdu/ebSSZ5cuXW1536dKlJnPmzPb3s2fPNt7e3g59fv/9d+Pk5GT++usvh/ZatWqZYcOGGWOMef31103Dhg0dlrdt29ZhrMqVK5vu3bs79HnttddMgwYN7O8lmQEDBjj02bRpk5Fkrly5YowxpmvXruaNN95w6LN161aTJk0ac+PGjQT3s1KlSqZ3794ObRUrVjQlS5ZMsP/fa548ebIxxpg7d+6YLFmymE2bNtmXv/POO6ZYsWIO67z33nv/ul4AQNJwRgoAkGjGwkSvP/30k2rVqqUcOXIoffr0at++vS5duqTr168/cJ3Dhw8rNjZWBQsWlKenp/21efNmnTx5UpIUFhamChUqOKz3z/fHjh1TlSpVHNqqVKkSbxr1cuXKPXQfDh48qDlz5jjUEhgYqLi4OIWHhye4zrFjx1SxYkWHtkqVKj10O2FhYdqzZ49at24tSXJ2dtbrr7+umTNnOvQpX768w3r/3O+k1AsASBrnlC4AAPD0KFCggGw2m44fP/7QfqdOndIrr7yiXr16aezYscqUKZO2bdumrl276vbt20qXLl2C60VHR8vJyUkhISFycnJyWObp6Zls+3FfQpcn/rOeHj166M0334y3LFeuXMlWx8yZM3X37l1lz57d3maMkaurq6ZMmZLoWQSfVL0AAIIUAMCCTJkyKTAwUFOnTtWbb74ZL4hcvXpVGTJkUEhIiOLi4jRx4kSlSXPv4oclS5Y49E2bNq1iY2Md2kqXLq3Y2FidP39eL730UoI1FCpUSHv37nVo++f7woULa/v27erYsaO9bfv27SpSpIil/S1Tpox+/vln5c+fP9HrFC5cWLt371aHDh3sbX+fhOOf7t69q3nz5mnixImqW7euw7KmTZvqf//7n3r27KlChQrphx9+cFj+z/1OSr0AgCRK6WsLAQBPl5MnT5ps2bKZIkWKmG+++cb88ssv5ueffzaffvqpCQgIMMYYExoaaiSZyZMnm5MnT5p58+aZHDlyONzPs337diPJ/PTTT+bChQsmJibGGHPvfqc8efKYZcuWmd9++83s3r3bfPjhh2b16tXGGGO2bdtm0qRJYyZOnGh++eUXM336dJM5c2aTIUMGe40rVqwwLi4uZtq0aeaXX34xEydONE5OTg73HEkyK1ascNi3f94jdfDgQePu7m769OljDhw4YH755RezcuVK06dPnwd+PosWLTJubm5m1qxZJiwszAwfPtykT5/+gfdIrVixwqRNm9ZcvXo13rIhQ4aYcuXKGWOM+e2334yLi4sZMmSICQsLM4sXLzYvvPCCkWRfNyn1AgCShiAFALDszJkzpk+fPiZ37twmbdq0JkeOHKZx48YOQWXSpEnGz8/PuLu7m8DAQDNv3jyHkGKMMT179jSZM2c2ksyIESOMMcbcvn3bDB8+3OTJk8e4uLgYPz8/06xZM3Po0CH7ejNmzDA5cuQw7u7upmnTpmbMmDEmW7ZsDjVOmzbN5MuXz7i4uJiCBQuaefPmOSxPTJAyxpg9e/aYOnXqGE9PT+Ph4WFKlChhxo4d+9DPZ+zYsSZLlizG09PTdOzY0QwZMuSBQeqVV15xmATj7+5P7nHw4EFjjDHffvutyZ8/v3F1dTU1atQwQUFBRpLDRBJJqRcAYJ3NGAt3DgMAkAp1795dx48f19atW1O6lCdq7Nixmj59uk6fPp3SpQDAc4d7pAAAT53//ve/qlOnjjw8PLRmzRrNnTs3Uc9qetpNmzZN5cuXV+bMmbV9+3Z9/PHHPCMKAFIIQQoA8NTZs2ePPvroI127dk358uXTZ599pm7duqV0WY/diRMnNGbMGF2+fFm5cuXSoEGDNGzYsJQuCwCeS1zaBwAAAAAW8UBeAAAAALCIIAUAAAAAFhGkAAAAAMAighQAAAAAWESQAgAAAACLCFIAAAAAYBFBCgAAAAAsIkgBAAAAgEX/D2KFYQeAhHp9AAAAAElFTkSuQmCC\n"
          },
          "metadata": {}
        }
      ],
      "source": [
        "# Calculer les taux de survie par catégorie d'âge avec observed=False\n",
        "age_category_survival_rates = train.groupby('AgeCategory', observed=False)['Survived'].mean() * 100\n",
        "\n",
        "# Afficher les taux de survie\n",
        "plt.figure(figsize=(10, 6))\n",
        "age_category_survival_rates.plot(kind='bar', color='skyblue')\n",
        "plt.title('Taux de Survie par Catégorie d\\'Âge')\n",
        "plt.xlabel('Catégorie d\\'Âge')\n",
        "plt.ylabel('Taux de Survie (%)')\n",
        "plt.xticks(rotation=0)\n",
        "plt.ylim(0, 100)\n",
        "\n",
        "# Ajouter des étiquettes de données\n",
        "for i, rate in enumerate(age_category_survival_rates):\n",
        "    plt.text(i, rate + 2, f'{rate:.1f}%', ha='center', va='bottom')\n",
        "\n",
        "plt.show()"
      ]
    },
    {
      "cell_type": "markdown",
      "metadata": {
        "id": "c03tG7XVXisR"
      },
      "source": [
        "### Question 1 : Classer les variables par ordre d'intérêt"
      ]
    },
    {
      "cell_type": "markdown",
      "metadata": {
        "id": "ZWZQpwviXisR"
      },
      "source": [
        "## 4 : Traitement de features complexes"
      ]
    },
    {
      "cell_type": "markdown",
      "metadata": {
        "_cell_guid": "bd25ec3f-b601-c1cc-d701-991fac1621f9",
        "_uuid": "17f6d181260d68d89f0a5dfa99b40a82b723567c",
        "id": "ECdW0d-jXisR"
      },
      "source": [
        "4.1 : Le nom permet de retrouver le titre du passager. Trouver les titres lorsqu'ils existent."
      ]
    },
    {
      "cell_type": "code",
      "execution_count": null,
      "metadata": {
        "_cell_guid": "ad042f43-bfe0-ded0-4171-379d8caaa749",
        "_uuid": "5a56f5b4bad78d7e323167c5f0cc07cb3675187a",
        "id": "8EI6skSCXisR"
      },
      "outputs": [],
      "source": []
    },
    {
      "cell_type": "markdown",
      "metadata": {
        "id": "0Jqb6-2zXisS"
      },
      "source": [
        "4.2 : En utilisant la fonction pandas crosstab, afficher pour train le nombre d'occurences par titres (en ligne) et par sexe (en colonne)"
      ]
    },
    {
      "cell_type": "code",
      "execution_count": null,
      "metadata": {
        "id": "arDiZ4HGXisS"
      },
      "outputs": [],
      "source": []
    },
    {
      "cell_type": "markdown",
      "metadata": {
        "_cell_guid": "ca5fff8c-7a0d-6c18-2173-b8df6293c50a",
        "_uuid": "84862f8cbbe2ea72b69a9cba78c6b7e10c80626e",
        "id": "raYIAPD7XisS"
      },
      "source": [
        "4.3 :\n",
        "Remplacer 'Melle et 'Ms' par 'Miss'\n",
        "\n",
        "Remplacer 'Mme' par 'Mrs'\n",
        "\n",
        "Creer une valeur \"Rare\" pour les autres titres avec moins de 10 occurences.\n",
        "\n",
        "Calculer ensuite le taux de survie par titre"
      ]
    },
    {
      "cell_type": "code",
      "execution_count": null,
      "metadata": {
        "_cell_guid": "8357238b-98fe-632a-acd5-33674a6132ce",
        "_uuid": "db0029466612ad0550fc0eebef4a06a5507d6c3d",
        "id": "IH6zgFFJXisS"
      },
      "outputs": [],
      "source": []
    },
    {
      "cell_type": "markdown",
      "metadata": {
        "_cell_guid": "68fa2057-e27a-e252-0d1b-869c00a303ba",
        "_uuid": "52bcf7b36b8edb12d40f2a1f9e80060b55d91ad3",
        "id": "beRUBgmjXisS"
      },
      "source": [
        "## 5. Mise en forme des données non numériques"
      ]
    },
    {
      "cell_type": "markdown",
      "metadata": {
        "id": "T6qjvgsPXisS"
      },
      "source": [
        "5.1 Attribuer une valeur numérique au Genre. Par exemple 0 pour 'female' et 1 pour 'male'"
      ]
    },
    {
      "cell_type": "code",
      "execution_count": null,
      "metadata": {
        "id": "1WawY5mEXisS"
      },
      "outputs": [],
      "source": []
    },
    {
      "cell_type": "markdown",
      "metadata": {
        "id": "2xe7Ta3sXisS"
      },
      "source": [
        "5.2 : Attribuer une valeur pour les possibilités de la variable \"Title\" ('Master','Miss','Mr','Mrs','Rare')"
      ]
    },
    {
      "cell_type": "code",
      "execution_count": null,
      "metadata": {
        "id": "CisKjXkHXisS"
      },
      "outputs": [],
      "source": []
    },
    {
      "cell_type": "markdown",
      "metadata": {
        "id": "rdyXl_ZEXisS"
      },
      "source": [
        "5.3 Remplacer les titres manquant par 0, et attribuer à la colonne le type entier"
      ]
    },
    {
      "cell_type": "code",
      "execution_count": null,
      "metadata": {
        "id": "SyyJv4_zXisS"
      },
      "outputs": [],
      "source": []
    },
    {
      "cell_type": "markdown",
      "metadata": {
        "id": "tkSusvKwXisS"
      },
      "source": [
        "5.4 Attribuer une valeur numérique aux 4 catégories de la variable Fare"
      ]
    },
    {
      "cell_type": "code",
      "execution_count": null,
      "metadata": {
        "id": "nuZ6BTDjXisS"
      },
      "outputs": [],
      "source": []
    },
    {
      "cell_type": "markdown",
      "metadata": {
        "id": "5wVlyVlrXisT"
      },
      "source": [
        "5.5 Attibuer une valeur numérique au Port d'embarquement (Embarked)"
      ]
    },
    {
      "cell_type": "code",
      "execution_count": null,
      "metadata": {
        "id": "ZmSlvBfxXisT"
      },
      "outputs": [],
      "source": []
    },
    {
      "cell_type": "markdown",
      "metadata": {
        "id": "pyHH8kgaXisT"
      },
      "source": [
        "5.6 Supprimer les features inutiles"
      ]
    },
    {
      "cell_type": "code",
      "execution_count": null,
      "metadata": {
        "id": "Zt5dsrkgXisT"
      },
      "outputs": [],
      "source": []
    },
    {
      "cell_type": "markdown",
      "metadata": {
        "id": "umehkc9WXisT"
      },
      "source": [
        "5.7 Afficher les infos pour les deux datasets"
      ]
    },
    {
      "cell_type": "code",
      "execution_count": null,
      "metadata": {
        "id": "6aLsbq8dXisT"
      },
      "outputs": [],
      "source": []
    },
    {
      "cell_type": "markdown",
      "metadata": {
        "id": "5fP_KytkXisT"
      },
      "source": [
        "5.8 Sauver les deux datasets dans des fichier csv. Eviter d'écrire un index (n° de ligne)"
      ]
    },
    {
      "cell_type": "code",
      "execution_count": null,
      "metadata": {
        "_cell_guid": "2502bb70-ce6f-2497-7331-7d1f80521470",
        "_uuid": "1aa110c1043f1f43c091a771abc64054a211f784",
        "id": "zn_za9XvXisT"
      },
      "outputs": [],
      "source": []
    }
  ],
  "metadata": {
    "_change_revision": 0,
    "_is_fork": false,
    "kernelspec": {
      "display_name": "Python 3",
      "language": "python",
      "name": "python3"
    },
    "language_info": {
      "codemirror_mode": {
        "name": "ipython",
        "version": 3
      },
      "file_extension": ".py",
      "mimetype": "text/x-python",
      "name": "python",
      "nbconvert_exporter": "python",
      "pygments_lexer": "ipython3",
      "version": "3.7.4"
    },
    "colab": {
      "provenance": []
    }
  },
  "nbformat": 4,
  "nbformat_minor": 0
}
>>>>>>> 091d97c9937b6d8248ad700e82aeb5e97bdf9078
