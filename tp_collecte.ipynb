{
 "cells": [
  {
   "cell_type": "markdown",
   "metadata": {
    "id": "pchoYou5XisK"
   },
   "source": [
    "## Import des librairies ##"
   ]
  },
  {
   "cell_type": "code",
   "metadata": {
    "id": "PwqIbbtSXisL",
    "ExecuteTime": {
     "end_time": "2025-04-01T04:28:44.698462Z",
     "start_time": "2025-04-01T04:28:44.694336Z"
    }
   },
   "source": [
    "#Imports librairies de base\n",
    "import numpy as np\n",
    "import pandas as pd\n",
    "\n",
    "#Affichage de Graphes\n",
    "from IPython.display import Markdown, display, HTML\n",
    "import matplotlib.pyplot as plt\n",
    "\n",
    "#Information Mutuelle\n",
    "from sklearn.feature_selection import mutual_info_regression\n"
   ],
   "outputs": [],
   "execution_count": 12
  },
  {
   "cell_type": "markdown",
   "metadata": {
    "_cell_guid": "25b1e1db-8bc5-7029-f719-91da523bd121",
    "_uuid": "5c867fcbb300bcf3c9b8986bba9949da2a2df931",
    "id": "VlKpxRqvXisM"
   },
   "source": [
    "## 1. Lecture des données ##"
   ]
  },
  {
   "cell_type": "markdown",
   "metadata": {
    "id": "UJbdLKYsXisN"
   },
   "source": [
    "1.1 Charger les données d'apprentissage (Data/passagers.csv) dans un DataFrame nommé train. Afficher 10 exemples."
   ]
  },
  {
   "cell_type": "code",
   "metadata": {
    "_cell_guid": "2ce68358-02ec-556d-ba88-e773a50bc18b",
    "_uuid": "5ec0878acc5c7ab3903410e671c2a2c6cfeafeea",
    "id": "5IzGAuN7XisN",
    "outputId": "b20facb7-171d-4548-973d-828324c41164",
    "colab": {
     "base_uri": "https://localhost:8080/",
     "height": 363
    },
    "ExecuteTime": {
     "end_time": "2025-04-01T04:28:45.036298Z",
     "start_time": "2025-04-01T04:28:45.021038Z"
    }
   },
   "source": [
    "# prompt: Charger les données d'apprentissage (Data/passagers.csv) dans un DataFrame nommé train. Afficher 10 exemples.\n",
    "\n",
    "import pandas as pd\n",
    "train = pd.read_csv('passagers.csv') # Remplacez par le chemin correct si nécessaire\n",
    "train.head(10)\n"
   ],
   "outputs": [
    {
     "data": {
      "text/plain": [
       "   PassengerId  Survived  Pclass  \\\n",
       "0            1         0       3   \n",
       "1            2         1       1   \n",
       "2            3         1       3   \n",
       "3            4         1       1   \n",
       "4            5         0       3   \n",
       "5            6         0       3   \n",
       "6            7         0       1   \n",
       "7            8         0       3   \n",
       "8            9         1       3   \n",
       "9           10         1       2   \n",
       "\n",
       "                                                Name     Sex   Age  SibSp  \\\n",
       "0                            Braund, Mr. Owen Harris    male  22.0      1   \n",
       "1  Cumings, Mrs. John Bradley (Florence Briggs Th...  female  38.0      1   \n",
       "2                             Heikkinen, Miss. Laina  female  26.0      0   \n",
       "3       Futrelle, Mrs. Jacques Heath (Lily May Peel)  female  35.0      1   \n",
       "4                           Allen, Mr. William Henry    male  35.0      0   \n",
       "5                                   Moran, Mr. James    male   NaN      0   \n",
       "6                            McCarthy, Mr. Timothy J    male  54.0      0   \n",
       "7                     Palsson, Master. Gosta Leonard    male   2.0      3   \n",
       "8  Johnson, Mrs. Oscar W (Elisabeth Vilhelmina Berg)  female  27.0      0   \n",
       "9                Nasser, Mrs. Nicholas (Adele Achem)  female  14.0      1   \n",
       "\n",
       "   Parch            Ticket     Fare Cabin Embarked  \n",
       "0      0         A/5 21171   7.2500   NaN        S  \n",
       "1      0          PC 17599  71.2833   C85        C  \n",
       "2      0  STON/O2. 3101282   7.9250   NaN        S  \n",
       "3      0            113803  53.1000  C123        S  \n",
       "4      0            373450   8.0500   NaN        S  \n",
       "5      0            330877   8.4583   NaN        Q  \n",
       "6      0             17463  51.8625   E46        S  \n",
       "7      1            349909  21.0750   NaN        S  \n",
       "8      2            347742  11.1333   NaN        S  \n",
       "9      0            237736  30.0708   NaN        C  "
      ],
      "text/html": [
       "<div>\n",
       "<style scoped>\n",
       "    .dataframe tbody tr th:only-of-type {\n",
       "        vertical-align: middle;\n",
       "    }\n",
       "\n",
       "    .dataframe tbody tr th {\n",
       "        vertical-align: top;\n",
       "    }\n",
       "\n",
       "    .dataframe thead th {\n",
       "        text-align: right;\n",
       "    }\n",
       "</style>\n",
       "<table border=\"1\" class=\"dataframe\">\n",
       "  <thead>\n",
       "    <tr style=\"text-align: right;\">\n",
       "      <th></th>\n",
       "      <th>PassengerId</th>\n",
       "      <th>Survived</th>\n",
       "      <th>Pclass</th>\n",
       "      <th>Name</th>\n",
       "      <th>Sex</th>\n",
       "      <th>Age</th>\n",
       "      <th>SibSp</th>\n",
       "      <th>Parch</th>\n",
       "      <th>Ticket</th>\n",
       "      <th>Fare</th>\n",
       "      <th>Cabin</th>\n",
       "      <th>Embarked</th>\n",
       "    </tr>\n",
       "  </thead>\n",
       "  <tbody>\n",
       "    <tr>\n",
       "      <th>0</th>\n",
       "      <td>1</td>\n",
       "      <td>0</td>\n",
       "      <td>3</td>\n",
       "      <td>Braund, Mr. Owen Harris</td>\n",
       "      <td>male</td>\n",
       "      <td>22.0</td>\n",
       "      <td>1</td>\n",
       "      <td>0</td>\n",
       "      <td>A/5 21171</td>\n",
       "      <td>7.2500</td>\n",
       "      <td>NaN</td>\n",
       "      <td>S</td>\n",
       "    </tr>\n",
       "    <tr>\n",
       "      <th>1</th>\n",
       "      <td>2</td>\n",
       "      <td>1</td>\n",
       "      <td>1</td>\n",
       "      <td>Cumings, Mrs. John Bradley (Florence Briggs Th...</td>\n",
       "      <td>female</td>\n",
       "      <td>38.0</td>\n",
       "      <td>1</td>\n",
       "      <td>0</td>\n",
       "      <td>PC 17599</td>\n",
       "      <td>71.2833</td>\n",
       "      <td>C85</td>\n",
       "      <td>C</td>\n",
       "    </tr>\n",
       "    <tr>\n",
       "      <th>2</th>\n",
       "      <td>3</td>\n",
       "      <td>1</td>\n",
       "      <td>3</td>\n",
       "      <td>Heikkinen, Miss. Laina</td>\n",
       "      <td>female</td>\n",
       "      <td>26.0</td>\n",
       "      <td>0</td>\n",
       "      <td>0</td>\n",
       "      <td>STON/O2. 3101282</td>\n",
       "      <td>7.9250</td>\n",
       "      <td>NaN</td>\n",
       "      <td>S</td>\n",
       "    </tr>\n",
       "    <tr>\n",
       "      <th>3</th>\n",
       "      <td>4</td>\n",
       "      <td>1</td>\n",
       "      <td>1</td>\n",
       "      <td>Futrelle, Mrs. Jacques Heath (Lily May Peel)</td>\n",
       "      <td>female</td>\n",
       "      <td>35.0</td>\n",
       "      <td>1</td>\n",
       "      <td>0</td>\n",
       "      <td>113803</td>\n",
       "      <td>53.1000</td>\n",
       "      <td>C123</td>\n",
       "      <td>S</td>\n",
       "    </tr>\n",
       "    <tr>\n",
       "      <th>4</th>\n",
       "      <td>5</td>\n",
       "      <td>0</td>\n",
       "      <td>3</td>\n",
       "      <td>Allen, Mr. William Henry</td>\n",
       "      <td>male</td>\n",
       "      <td>35.0</td>\n",
       "      <td>0</td>\n",
       "      <td>0</td>\n",
       "      <td>373450</td>\n",
       "      <td>8.0500</td>\n",
       "      <td>NaN</td>\n",
       "      <td>S</td>\n",
       "    </tr>\n",
       "    <tr>\n",
       "      <th>5</th>\n",
       "      <td>6</td>\n",
       "      <td>0</td>\n",
       "      <td>3</td>\n",
       "      <td>Moran, Mr. James</td>\n",
       "      <td>male</td>\n",
       "      <td>NaN</td>\n",
       "      <td>0</td>\n",
       "      <td>0</td>\n",
       "      <td>330877</td>\n",
       "      <td>8.4583</td>\n",
       "      <td>NaN</td>\n",
       "      <td>Q</td>\n",
       "    </tr>\n",
       "    <tr>\n",
       "      <th>6</th>\n",
       "      <td>7</td>\n",
       "      <td>0</td>\n",
       "      <td>1</td>\n",
       "      <td>McCarthy, Mr. Timothy J</td>\n",
       "      <td>male</td>\n",
       "      <td>54.0</td>\n",
       "      <td>0</td>\n",
       "      <td>0</td>\n",
       "      <td>17463</td>\n",
       "      <td>51.8625</td>\n",
       "      <td>E46</td>\n",
       "      <td>S</td>\n",
       "    </tr>\n",
       "    <tr>\n",
       "      <th>7</th>\n",
       "      <td>8</td>\n",
       "      <td>0</td>\n",
       "      <td>3</td>\n",
       "      <td>Palsson, Master. Gosta Leonard</td>\n",
       "      <td>male</td>\n",
       "      <td>2.0</td>\n",
       "      <td>3</td>\n",
       "      <td>1</td>\n",
       "      <td>349909</td>\n",
       "      <td>21.0750</td>\n",
       "      <td>NaN</td>\n",
       "      <td>S</td>\n",
       "    </tr>\n",
       "    <tr>\n",
       "      <th>8</th>\n",
       "      <td>9</td>\n",
       "      <td>1</td>\n",
       "      <td>3</td>\n",
       "      <td>Johnson, Mrs. Oscar W (Elisabeth Vilhelmina Berg)</td>\n",
       "      <td>female</td>\n",
       "      <td>27.0</td>\n",
       "      <td>0</td>\n",
       "      <td>2</td>\n",
       "      <td>347742</td>\n",
       "      <td>11.1333</td>\n",
       "      <td>NaN</td>\n",
       "      <td>S</td>\n",
       "    </tr>\n",
       "    <tr>\n",
       "      <th>9</th>\n",
       "      <td>10</td>\n",
       "      <td>1</td>\n",
       "      <td>2</td>\n",
       "      <td>Nasser, Mrs. Nicholas (Adele Achem)</td>\n",
       "      <td>female</td>\n",
       "      <td>14.0</td>\n",
       "      <td>1</td>\n",
       "      <td>0</td>\n",
       "      <td>237736</td>\n",
       "      <td>30.0708</td>\n",
       "      <td>NaN</td>\n",
       "      <td>C</td>\n",
       "    </tr>\n",
       "  </tbody>\n",
       "</table>\n",
       "</div>"
      ]
     },
     "execution_count": 13,
     "metadata": {},
     "output_type": "execute_result"
    }
   ],
   "execution_count": 13
  },
  {
   "cell_type": "markdown",
   "metadata": {
    "id": "6hkp37mHXisN"
   },
   "source": [
    "1.2 Charger les données d'apprentissage (Data/test.csv) dans un Dataframe nommé test. Afficher 10 exemples."
   ]
  },
  {
   "cell_type": "code",
   "metadata": {
    "_cell_guid": "2ce68358-02ec-556d-ba88-e773a50bc18b",
    "_uuid": "5ec0878acc5c7ab3903410e671c2a2c6cfeafeea",
    "id": "n9T7yumjXisO",
    "outputId": "1e380897-223e-442b-b4f5-413163165d6a",
    "colab": {
     "base_uri": "https://localhost:8080/",
     "height": 363
    },
    "ExecuteTime": {
     "end_time": "2025-04-01T04:28:45.074167Z",
     "start_time": "2025-04-01T04:28:45.058305Z"
    }
   },
   "source": [
    "\n",
    "test = pd.read_csv('test.csv') # Remplacez par le chemin correct si nécessaire\n",
    "test.head(10)\n"
   ],
   "outputs": [
    {
     "data": {
      "text/plain": [
       "   PassengerId  Pclass                                          Name     Sex  \\\n",
       "0          892       3                              Kelly, Mr. James    male   \n",
       "1          893       3              Wilkes, Mrs. James (Ellen Needs)  female   \n",
       "2          894       2                     Myles, Mr. Thomas Francis    male   \n",
       "3          895       3                              Wirz, Mr. Albert    male   \n",
       "4          896       3  Hirvonen, Mrs. Alexander (Helga E Lindqvist)  female   \n",
       "5          897       3                    Svensson, Mr. Johan Cervin    male   \n",
       "6          898       3                          Connolly, Miss. Kate  female   \n",
       "7          899       2                  Caldwell, Mr. Albert Francis    male   \n",
       "8          900       3     Abrahim, Mrs. Joseph (Sophie Halaut Easu)  female   \n",
       "9          901       3                       Davies, Mr. John Samuel    male   \n",
       "\n",
       "    Age  SibSp  Parch     Ticket     Fare Cabin Embarked  \n",
       "0  34.5      0      0     330911   7.8292   NaN        Q  \n",
       "1  47.0      1      0     363272   7.0000   NaN        S  \n",
       "2  62.0      0      0     240276   9.6875   NaN        Q  \n",
       "3  27.0      0      0     315154   8.6625   NaN        S  \n",
       "4  22.0      1      1    3101298  12.2875   NaN        S  \n",
       "5  14.0      0      0       7538   9.2250   NaN        S  \n",
       "6  30.0      0      0     330972   7.6292   NaN        Q  \n",
       "7  26.0      1      1     248738  29.0000   NaN        S  \n",
       "8  18.0      0      0       2657   7.2292   NaN        C  \n",
       "9  21.0      2      0  A/4 48871  24.1500   NaN        S  "
      ],
      "text/html": [
       "<div>\n",
       "<style scoped>\n",
       "    .dataframe tbody tr th:only-of-type {\n",
       "        vertical-align: middle;\n",
       "    }\n",
       "\n",
       "    .dataframe tbody tr th {\n",
       "        vertical-align: top;\n",
       "    }\n",
       "\n",
       "    .dataframe thead th {\n",
       "        text-align: right;\n",
       "    }\n",
       "</style>\n",
       "<table border=\"1\" class=\"dataframe\">\n",
       "  <thead>\n",
       "    <tr style=\"text-align: right;\">\n",
       "      <th></th>\n",
       "      <th>PassengerId</th>\n",
       "      <th>Pclass</th>\n",
       "      <th>Name</th>\n",
       "      <th>Sex</th>\n",
       "      <th>Age</th>\n",
       "      <th>SibSp</th>\n",
       "      <th>Parch</th>\n",
       "      <th>Ticket</th>\n",
       "      <th>Fare</th>\n",
       "      <th>Cabin</th>\n",
       "      <th>Embarked</th>\n",
       "    </tr>\n",
       "  </thead>\n",
       "  <tbody>\n",
       "    <tr>\n",
       "      <th>0</th>\n",
       "      <td>892</td>\n",
       "      <td>3</td>\n",
       "      <td>Kelly, Mr. James</td>\n",
       "      <td>male</td>\n",
       "      <td>34.5</td>\n",
       "      <td>0</td>\n",
       "      <td>0</td>\n",
       "      <td>330911</td>\n",
       "      <td>7.8292</td>\n",
       "      <td>NaN</td>\n",
       "      <td>Q</td>\n",
       "    </tr>\n",
       "    <tr>\n",
       "      <th>1</th>\n",
       "      <td>893</td>\n",
       "      <td>3</td>\n",
       "      <td>Wilkes, Mrs. James (Ellen Needs)</td>\n",
       "      <td>female</td>\n",
       "      <td>47.0</td>\n",
       "      <td>1</td>\n",
       "      <td>0</td>\n",
       "      <td>363272</td>\n",
       "      <td>7.0000</td>\n",
       "      <td>NaN</td>\n",
       "      <td>S</td>\n",
       "    </tr>\n",
       "    <tr>\n",
       "      <th>2</th>\n",
       "      <td>894</td>\n",
       "      <td>2</td>\n",
       "      <td>Myles, Mr. Thomas Francis</td>\n",
       "      <td>male</td>\n",
       "      <td>62.0</td>\n",
       "      <td>0</td>\n",
       "      <td>0</td>\n",
       "      <td>240276</td>\n",
       "      <td>9.6875</td>\n",
       "      <td>NaN</td>\n",
       "      <td>Q</td>\n",
       "    </tr>\n",
       "    <tr>\n",
       "      <th>3</th>\n",
       "      <td>895</td>\n",
       "      <td>3</td>\n",
       "      <td>Wirz, Mr. Albert</td>\n",
       "      <td>male</td>\n",
       "      <td>27.0</td>\n",
       "      <td>0</td>\n",
       "      <td>0</td>\n",
       "      <td>315154</td>\n",
       "      <td>8.6625</td>\n",
       "      <td>NaN</td>\n",
       "      <td>S</td>\n",
       "    </tr>\n",
       "    <tr>\n",
       "      <th>4</th>\n",
       "      <td>896</td>\n",
       "      <td>3</td>\n",
       "      <td>Hirvonen, Mrs. Alexander (Helga E Lindqvist)</td>\n",
       "      <td>female</td>\n",
       "      <td>22.0</td>\n",
       "      <td>1</td>\n",
       "      <td>1</td>\n",
       "      <td>3101298</td>\n",
       "      <td>12.2875</td>\n",
       "      <td>NaN</td>\n",
       "      <td>S</td>\n",
       "    </tr>\n",
       "    <tr>\n",
       "      <th>5</th>\n",
       "      <td>897</td>\n",
       "      <td>3</td>\n",
       "      <td>Svensson, Mr. Johan Cervin</td>\n",
       "      <td>male</td>\n",
       "      <td>14.0</td>\n",
       "      <td>0</td>\n",
       "      <td>0</td>\n",
       "      <td>7538</td>\n",
       "      <td>9.2250</td>\n",
       "      <td>NaN</td>\n",
       "      <td>S</td>\n",
       "    </tr>\n",
       "    <tr>\n",
       "      <th>6</th>\n",
       "      <td>898</td>\n",
       "      <td>3</td>\n",
       "      <td>Connolly, Miss. Kate</td>\n",
       "      <td>female</td>\n",
       "      <td>30.0</td>\n",
       "      <td>0</td>\n",
       "      <td>0</td>\n",
       "      <td>330972</td>\n",
       "      <td>7.6292</td>\n",
       "      <td>NaN</td>\n",
       "      <td>Q</td>\n",
       "    </tr>\n",
       "    <tr>\n",
       "      <th>7</th>\n",
       "      <td>899</td>\n",
       "      <td>2</td>\n",
       "      <td>Caldwell, Mr. Albert Francis</td>\n",
       "      <td>male</td>\n",
       "      <td>26.0</td>\n",
       "      <td>1</td>\n",
       "      <td>1</td>\n",
       "      <td>248738</td>\n",
       "      <td>29.0000</td>\n",
       "      <td>NaN</td>\n",
       "      <td>S</td>\n",
       "    </tr>\n",
       "    <tr>\n",
       "      <th>8</th>\n",
       "      <td>900</td>\n",
       "      <td>3</td>\n",
       "      <td>Abrahim, Mrs. Joseph (Sophie Halaut Easu)</td>\n",
       "      <td>female</td>\n",
       "      <td>18.0</td>\n",
       "      <td>0</td>\n",
       "      <td>0</td>\n",
       "      <td>2657</td>\n",
       "      <td>7.2292</td>\n",
       "      <td>NaN</td>\n",
       "      <td>C</td>\n",
       "    </tr>\n",
       "    <tr>\n",
       "      <th>9</th>\n",
       "      <td>901</td>\n",
       "      <td>3</td>\n",
       "      <td>Davies, Mr. John Samuel</td>\n",
       "      <td>male</td>\n",
       "      <td>21.0</td>\n",
       "      <td>2</td>\n",
       "      <td>0</td>\n",
       "      <td>A/4 48871</td>\n",
       "      <td>24.1500</td>\n",
       "      <td>NaN</td>\n",
       "      <td>S</td>\n",
       "    </tr>\n",
       "  </tbody>\n",
       "</table>\n",
       "</div>"
      ]
     },
     "execution_count": 14,
     "metadata": {},
     "output_type": "execute_result"
    }
   ],
   "execution_count": 14
  },
  {
   "cell_type": "code",
   "metadata": {
    "id": "eSDbvIiMXisO",
    "ExecuteTime": {
     "end_time": "2025-04-01T04:28:45.130729Z",
     "start_time": "2025-04-01T04:28:45.128774Z"
    }
   },
   "source": [],
   "outputs": [],
   "execution_count": 14
  },
  {
   "cell_type": "markdown",
   "metadata": {
    "id": "KJhxvroWXisO"
   },
   "source": [
    "1.3 Afficher les informations des deux DataFrames train et Test."
   ]
  },
  {
   "cell_type": "code",
   "metadata": {
    "_cell_guid": "2ce68358-02ec-556d-ba88-e773a50bc18b",
    "_uuid": "5ec0878acc5c7ab3903410e671c2a2c6cfeafeea",
    "id": "ZMnJg9kLXisO",
    "outputId": "73dc0931-b105-48dd-e1f0-756f673d694e",
    "colab": {
     "base_uri": "https://localhost:8080/"
    },
    "ExecuteTime": {
     "end_time": "2025-04-01T04:28:45.217229Z",
     "start_time": "2025-04-01T04:28:45.204752Z"
    }
   },
   "source": [
    "# prompt: Afficher les informations des deux DataFrames train et Test.\n",
    "\n",
    "print(\"Train DataFrame Information:\")\n",
    "train.info()\n",
    "print(\"\\nTest DataFrame Information:\")\n",
    "test.info()\n"
   ],
   "outputs": [
    {
     "name": "stdout",
     "output_type": "stream",
     "text": [
      "Train DataFrame Information:\n",
      "<class 'pandas.core.frame.DataFrame'>\n",
      "RangeIndex: 891 entries, 0 to 890\n",
      "Data columns (total 12 columns):\n",
      " #   Column       Non-Null Count  Dtype  \n",
      "---  ------       --------------  -----  \n",
      " 0   PassengerId  891 non-null    int64  \n",
      " 1   Survived     891 non-null    int64  \n",
      " 2   Pclass       891 non-null    int64  \n",
      " 3   Name         891 non-null    object \n",
      " 4   Sex          891 non-null    object \n",
      " 5   Age          714 non-null    float64\n",
      " 6   SibSp        891 non-null    int64  \n",
      " 7   Parch        891 non-null    int64  \n",
      " 8   Ticket       891 non-null    object \n",
      " 9   Fare         891 non-null    float64\n",
      " 10  Cabin        204 non-null    object \n",
      " 11  Embarked     889 non-null    object \n",
      "dtypes: float64(2), int64(5), object(5)\n",
      "memory usage: 83.7+ KB\n",
      "\n",
      "Test DataFrame Information:\n",
      "<class 'pandas.core.frame.DataFrame'>\n",
      "RangeIndex: 418 entries, 0 to 417\n",
      "Data columns (total 11 columns):\n",
      " #   Column       Non-Null Count  Dtype  \n",
      "---  ------       --------------  -----  \n",
      " 0   PassengerId  418 non-null    int64  \n",
      " 1   Pclass       418 non-null    int64  \n",
      " 2   Name         418 non-null    object \n",
      " 3   Sex          418 non-null    object \n",
      " 4   Age          332 non-null    float64\n",
      " 5   SibSp        418 non-null    int64  \n",
      " 6   Parch        418 non-null    int64  \n",
      " 7   Ticket       418 non-null    object \n",
      " 8   Fare         417 non-null    float64\n",
      " 9   Cabin        91 non-null     object \n",
      " 10  Embarked     418 non-null    object \n",
      "dtypes: float64(2), int64(4), object(5)\n",
      "memory usage: 36.1+ KB\n"
     ]
    }
   ],
   "execution_count": 15
  },
  {
   "cell_type": "markdown",
   "metadata": {
    "id": "avxzYdskXisO"
   },
   "source": [
    "1.4 Calculer le taux global de survie"
   ]
  },
  {
   "cell_type": "code",
   "metadata": {
    "id": "-D-4ps0kXisO",
    "outputId": "38e36eaa-f846-4cd3-9f0a-de47bf66b3ce",
    "colab": {
     "base_uri": "https://localhost:8080/"
    },
    "ExecuteTime": {
     "end_time": "2025-04-01T04:28:45.364438Z",
     "start_time": "2025-04-01T04:28:45.359436Z"
    }
   },
   "source": [
    "\n",
    "survival_rate = train['Survived'].mean() * 100\n",
    "print(f\"Le taux global de survie est de {survival_rate:.2f}%\")\n"
   ],
   "outputs": [
    {
     "name": "stdout",
     "output_type": "stream",
     "text": [
      "Le taux global de survie est de 38.38%\n"
     ]
    }
   ],
   "execution_count": 16
  },
  {
   "cell_type": "markdown",
   "metadata": {
    "id": "IziKNBdZXisO"
   },
   "source": [
    "\n"
   ]
  },
  {
   "cell_type": "markdown",
   "metadata": {
    "id": "8LZtac5XXisO"
   },
   "source": [
    "#### Question 1 : Quel Travail voyez-vous pour que les données soient prêtes à faire tourner dans un modèle ?\n",
    "\n",
    "\n",
    "\n",
    "\n",
    "#### Question 2 : Quelle différence y-a-t'il entre les données train et les données test ?\n",
    "\n",
    "\n",
    "\n",
    "\n",
    "#### Question 3 : Quel est le rôle de ces deux sets de données ?\n",
    "\n",
    "\n"
   ]
  },
  {
   "cell_type": "markdown",
   "metadata": {
    "_cell_guid": "f9595646-65c9-6fc4-395f-0befc4d122ce",
    "_uuid": "66273d64a2548d7a88464ab2a73dbdedfbdc488b",
    "id": "XxGNzWNxXisP"
   },
   "source": [
    "## 2. Analyse des features"
   ]
  },
  {
   "cell_type": "markdown",
   "metadata": {
    "_cell_guid": "9b4c278b-aaca-e92c-ba77-b9b48379d1f1",
    "_uuid": "c2b62e14d493c270ec8df9f3af1938c479361ef3",
    "id": "Ef9yVuuPXisP"
   },
   "source": [
    "2.1 Analyser l'effet de la variable Classe sur le taux de survie, en affichant le % de survie par classe"
   ]
  },
  {
   "cell_type": "code",
   "metadata": {
    "id": "4SIW3gnLXisP",
    "outputId": "7f07fe42-d4fd-40ee-ec5b-a5e93602212b",
    "colab": {
     "base_uri": "https://localhost:8080/",
     "height": 564
    },
    "ExecuteTime": {
     "end_time": "2025-04-01T04:28:45.762220Z",
     "start_time": "2025-04-01T04:28:45.410960Z"
    }
   },
   "source": [
    "\n",
    "class_survival_rates = train.groupby('Pclass')['Survived'].mean() * 100\n",
    "plt.figure(figsize=(8, 6))\n",
    "class_survival_rates.plot(kind='bar', color=['skyblue', 'lightcoral', 'lightgreen'])\n",
    "plt.title('Survival Rate by Passenger Class')\n",
    "plt.xlabel('Passenger Class')\n",
    "plt.ylabel('Survival Rate (%)')\n",
    "plt.xticks(rotation=0)\n",
    "plt.ylim(0, 100)\n",
    "\n",
    "\n",
    "for i, rate in enumerate(class_survival_rates):\n",
    "    plt.text(i, rate + 2, f'{rate:.1f}%', ha='center', va='bottom')\n",
    "\n",
    "plt.show()\n"
   ],
   "outputs": [
    {
     "data": {
      "text/plain": [
       "<Figure size 800x600 with 1 Axes>"
      ],
      "image/png": "[encoded data removed]"
     },
     "metadata": {},
     "output_type": "display_data"
    }
   ],
   "execution_count": 17
  },
  {
   "cell_type": "markdown",
   "metadata": {
    "_cell_guid": "4680d950-cf7d-a6ae-e813-535e2247d88e",
    "_uuid": "f02533e7b85bba0cca7fcf2cc598c8da92d7646d",
    "id": "_uqHa-PtXisP"
   },
   "source": [
    "2.2 Analyser l'effet de la variable Genre (Sex) sur le taux de survie, en affichant le % de survie par classe"
   ]
  },
  {
   "cell_type": "code",
   "metadata": {
    "_cell_guid": "4680d950-cf7d-a6ae-e813-535e2247d88e",
    "_uuid": "f02533e7b85bba0cca7fcf2cc598c8da92d7646d",
    "id": "H3kswMA1XisP",
    "outputId": "486ec917-53c5-4ce4-e505-29da5bdad6b2",
    "colab": {
     "base_uri": "https://localhost:8080/",
     "height": 564
    },
    "ExecuteTime": {
     "end_time": "2025-04-01T04:28:45.856756Z",
     "start_time": "2025-04-01T04:28:45.763229Z"
    }
   },
   "source": [
    "sex_survival_rates = train.groupby('Sex')['Survived'].mean() * 100\n",
    "plt.figure(figsize=(8, 6))\n",
    "sex_survival_rates.plot(kind='bar', color=['skyblue', 'lightcoral'])\n",
    "plt.title('Survival Rate by Sex')\n",
    "plt.xlabel('Sex')\n",
    "plt.ylabel('Survival Rate (%)')\n",
    "plt.xticks(rotation=0)\n",
    "plt.ylim(0, 100)\n",
    "\n",
    "for i, rate in enumerate(sex_survival_rates):\n",
    "    plt.text(i, rate + 2, f'{rate:.1f}%', ha='center', va='bottom')\n",
    "\n",
    "plt.show()\n"
   ],
   "outputs": [
    {
     "data": {
      "text/plain": [
       "<Figure size 800x600 with 1 Axes>"
      ],
      "image/png": "[encoded data removed]"
     },
     "metadata": {},
     "output_type": "display_data"
    }
   ],
   "execution_count": 18
  },
  {
   "cell_type": "markdown",
   "metadata": {
    "_cell_guid": "7c58b7ee-d6a1-0cc9-2346-81c47846a54a",
    "_uuid": "88185e9222c26d5d23caaeb209c18710a231b5f9",
    "id": "U_loTHRtXisP"
   },
   "source": [
    "2.3 Calculer une nouvelle colonne FamilySize contenant la taille de la famille, pour les DataFrame train et Test. Afficher pour 10 exemples l'Id du passager, le nom, l'age, le sexe et la taille de la famille."
   ]
  },
  {
   "cell_type": "code",
   "metadata": {
    "_cell_guid": "1a537f10-7cec-d0b7-8a34-fa9975655190",
    "_uuid": "ccc4a4cf7624dd4be450fd62ca3ad478d4e75696",
    "id": "LZDRGy_UXisP",
    "outputId": "d11f2142-7dd7-435f-f069-08b52d60f99c",
    "colab": {
     "base_uri": "https://localhost:8080/",
     "height": 363
    },
    "ExecuteTime": {
     "end_time": "2025-04-01T04:28:45.872270Z",
     "start_time": "2025-04-01T04:28:45.858270Z"
    }
   },
   "source": [
    "train['FamilySize'] = train['SibSp'] + train['Parch'] + 1\n",
    "test['FamilySize'] = test['SibSp'] + test['Parch'] + 1\n",
    "display(train[['PassengerId', 'Name', 'Age', 'Sex', 'FamilySize']].sample(10))\n"
   ],
   "outputs": [
    {
     "data": {
      "text/plain": [
       "     PassengerId                                               Name   Age  \\\n",
       "323          324  Caldwell, Mrs. Albert Francis (Sylvia Mae Harb...  22.0   \n",
       "240          241                              Zabour, Miss. Thamine   NaN   \n",
       "753          754                                 Jonkoff, Mr. Lalio  23.0   \n",
       "445          446                          Dodge, Master. Washington   4.0   \n",
       "342          343                         Collander, Mr. Erik Gustaf  28.0   \n",
       "849          850       Goldenberg, Mrs. Samuel L (Edwiga Grabowska)   NaN   \n",
       "493          494                            Artagaveytia, Mr. Ramon  71.0   \n",
       "239          240                             Hunt, Mr. George Henry  33.0   \n",
       "380          381                              Bidois, Miss. Rosalie  42.0   \n",
       "370          371                        Harder, Mr. George Achilles  25.0   \n",
       "\n",
       "        Sex  FamilySize  \n",
       "323  female           3  \n",
       "240  female           2  \n",
       "753    male           1  \n",
       "445    male           3  \n",
       "342    male           1  \n",
       "849  female           2  \n",
       "493    male           1  \n",
       "239    male           1  \n",
       "380  female           1  \n",
       "370    male           2  "
      ],
      "text/html": [
       "<div>\n",
       "<style scoped>\n",
       "    .dataframe tbody tr th:only-of-type {\n",
       "        vertical-align: middle;\n",
       "    }\n",
       "\n",
       "    .dataframe tbody tr th {\n",
       "        vertical-align: top;\n",
       "    }\n",
       "\n",
       "    .dataframe thead th {\n",
       "        text-align: right;\n",
       "    }\n",
       "</style>\n",
       "<table border=\"1\" class=\"dataframe\">\n",
       "  <thead>\n",
       "    <tr style=\"text-align: right;\">\n",
       "      <th></th>\n",
       "      <th>PassengerId</th>\n",
       "      <th>Name</th>\n",
       "      <th>Age</th>\n",
       "      <th>Sex</th>\n",
       "      <th>FamilySize</th>\n",
       "    </tr>\n",
       "  </thead>\n",
       "  <tbody>\n",
       "    <tr>\n",
       "      <th>323</th>\n",
       "      <td>324</td>\n",
       "      <td>Caldwell, Mrs. Albert Francis (Sylvia Mae Harb...</td>\n",
       "      <td>22.0</td>\n",
       "      <td>female</td>\n",
       "      <td>3</td>\n",
       "    </tr>\n",
       "    <tr>\n",
       "      <th>240</th>\n",
       "      <td>241</td>\n",
       "      <td>Zabour, Miss. Thamine</td>\n",
       "      <td>NaN</td>\n",
       "      <td>female</td>\n",
       "      <td>2</td>\n",
       "    </tr>\n",
       "    <tr>\n",
       "      <th>753</th>\n",
       "      <td>754</td>\n",
       "      <td>Jonkoff, Mr. Lalio</td>\n",
       "      <td>23.0</td>\n",
       "      <td>male</td>\n",
       "      <td>1</td>\n",
       "    </tr>\n",
       "    <tr>\n",
       "      <th>445</th>\n",
       "      <td>446</td>\n",
       "      <td>Dodge, Master. Washington</td>\n",
       "      <td>4.0</td>\n",
       "      <td>male</td>\n",
       "      <td>3</td>\n",
       "    </tr>\n",
       "    <tr>\n",
       "      <th>342</th>\n",
       "      <td>343</td>\n",
       "      <td>Collander, Mr. Erik Gustaf</td>\n",
       "      <td>28.0</td>\n",
       "      <td>male</td>\n",
       "      <td>1</td>\n",
       "    </tr>\n",
       "    <tr>\n",
       "      <th>849</th>\n",
       "      <td>850</td>\n",
       "      <td>Goldenberg, Mrs. Samuel L (Edwiga Grabowska)</td>\n",
       "      <td>NaN</td>\n",
       "      <td>female</td>\n",
       "      <td>2</td>\n",
       "    </tr>\n",
       "    <tr>\n",
       "      <th>493</th>\n",
       "      <td>494</td>\n",
       "      <td>Artagaveytia, Mr. Ramon</td>\n",
       "      <td>71.0</td>\n",
       "      <td>male</td>\n",
       "      <td>1</td>\n",
       "    </tr>\n",
       "    <tr>\n",
       "      <th>239</th>\n",
       "      <td>240</td>\n",
       "      <td>Hunt, Mr. George Henry</td>\n",
       "      <td>33.0</td>\n",
       "      <td>male</td>\n",
       "      <td>1</td>\n",
       "    </tr>\n",
       "    <tr>\n",
       "      <th>380</th>\n",
       "      <td>381</td>\n",
       "      <td>Bidois, Miss. Rosalie</td>\n",
       "      <td>42.0</td>\n",
       "      <td>female</td>\n",
       "      <td>1</td>\n",
       "    </tr>\n",
       "    <tr>\n",
       "      <th>370</th>\n",
       "      <td>371</td>\n",
       "      <td>Harder, Mr. George Achilles</td>\n",
       "      <td>25.0</td>\n",
       "      <td>male</td>\n",
       "      <td>2</td>\n",
       "    </tr>\n",
       "  </tbody>\n",
       "</table>\n",
       "</div>"
      ]
     },
     "metadata": {},
     "output_type": "display_data"
    }
   ],
   "execution_count": 19
  },
  {
   "cell_type": "markdown",
   "metadata": {
    "id": "YJCBCAhbXisP"
   },
   "source": [
    "2.4 Visualisez le nombre de personnes et le taux de survie par taille de famille."
   ]
  },
  {
   "cell_type": "code",
   "metadata": {
    "_cell_guid": "1a537f10-7cec-d0b7-8a34-fa9975655190",
    "_uuid": "ccc4a4cf7624dd4be450fd62ca3ad478d4e75696",
    "id": "Rx_NPOvbXisP",
    "outputId": "e1c1a8c5-583d-4fc8-b600-88d420201f46",
    "colab": {
     "base_uri": "https://localhost:8080/",
     "height": 564
    },
    "ExecuteTime": {
     "end_time": "2025-04-01T04:28:46.009478Z",
     "start_time": "2025-04-01T04:28:45.874758Z"
    }
   },
   "source": [
    "# prompt:  nombre de personnes et le taux de survie par taille de famille un seul grapgh\n",
    "\n",
    "import matplotlib.pyplot as plt\n",
    "family_size_stats = train.groupby('FamilySize')['Survived'].agg(['count', 'mean'])\n",
    "family_size_stats['mean'] *= 100\n",
    "\n",
    "plt.figure(figsize=(10, 6))\n",
    "plt.bar(family_size_stats.index, family_size_stats['count'], label='Number of People', color='skyblue')\n",
    "plt.plot(family_size_stats.index, family_size_stats['mean'], marker='o', color='red', label='Survival Rate (%)')\n",
    "plt.xlabel('Family Size')\n",
    "plt.ylabel('Count / Survival Rate (%)')\n",
    "plt.title('Number of People and Survival Rate by Family Size')\n",
    "plt.xticks(family_size_stats.index)\n",
    "plt.legend()\n",
    "plt.grid(axis='y', linestyle='--', alpha=0.7)\n",
    "\n",
    "\n",
    "# Add data labels for count\n",
    "for i, count in enumerate(family_size_stats['count']):\n",
    "    plt.text(i, count + 2, str(count), ha='center', va='bottom')\n",
    "\n",
    "# Add data labels for survival rate\n",
    "for i, rate in enumerate(family_size_stats['mean']):\n",
    "    plt.text(i, rate, f'{rate:.1f}%', ha='center', va='bottom', color='red')\n",
    "\n",
    "plt.show()\n"
   ],
   "outputs": [
    {
     "data": {
      "text/plain": [
       "<Figure size 1000x600 with 1 Axes>"
      ],
      "image/png": "[encoded data removed]"
     },
     "metadata": {},
     "output_type": "display_data"
    }
   ],
   "execution_count": 20
  },
  {
   "cell_type": "markdown",
   "metadata": {
    "_cell_guid": "7c58b7ee-d6a1-0cc9-2346-81c47846a54a",
    "_uuid": "88185e9222c26d5d23caaeb209c18710a231b5f9",
    "id": "2hqfO-mqXisP"
   },
   "source": [
    "2.5 Calculer une nouvelle colonne IsAlone indiquant si le passager est seul ou pas, pour les DataFrame train et Test. Afficher pour 10 exemples l'Id du passager, le nom, l'age, le sexe et le status IsAlone."
   ]
  },
  {
   "cell_type": "code",
   "metadata": {
    "_cell_guid": "8c35e945-c928-e3bc-bd9c-d6ddb287e4c9",
    "_uuid": "87f79dc0711c29f39c0db1a4f7a2e8a84c0c7edb",
    "id": "X5_k4NZUXisP",
    "outputId": "3a38db91-5808-4464-a6fd-84c7893224c3",
    "colab": {
     "base_uri": "https://localhost:8080/",
     "height": 363
    },
    "ExecuteTime": {
     "end_time": "2025-04-01T04:28:46.023310Z",
     "start_time": "2025-04-01T04:28:46.010488Z"
    }
   },
   "source": [
    "# prompt: Calculer une nouvelle colonne IsAlone indiquant si le passager est seul ou pas, pour les DataFrame train et Test. Afficher pour 10 exemples l'Id du passager, le nom, l'age, le sexe et le status IsAlone.\n",
    "\n",
    "train['IsAlone'] = 0\n",
    "train.loc[train['FamilySize'] == 1, 'IsAlone'] = 1\n",
    "\n",
    "test['IsAlone'] = 0\n",
    "test.loc[test['FamilySize'] == 1, 'IsAlone'] = 1\n",
    "\n",
    "display(train[['PassengerId', 'Name', 'Age', 'Sex', 'IsAlone']].sample(10))\n"
   ],
   "outputs": [
    {
     "data": {
      "text/plain": [
       "     PassengerId                               Name   Age     Sex  IsAlone\n",
       "378          379                Betros, Mr. Tannous  20.0    male        1\n",
       "290          291       Barber, Miss. Ellen \"Nellie\"  26.0  female        1\n",
       "93            94            Dean, Mr. Bertram Frank  26.0    male        0\n",
       "664          665        Lindqvist, Mr. Eino William  20.0    male        0\n",
       "878          879                 Laleff, Mr. Kristo   NaN    male        1\n",
       "589          590                Murdlin, Mr. Joseph   NaN    male        1\n",
       "515          516       Walker, Mr. William Anderson  47.0    male        1\n",
       "28            29      O'Dwyer, Miss. Ellen \"Nellie\"   NaN  female        1\n",
       "542          543  Andersson, Miss. Sigrid Elisabeth  11.0  female        0\n",
       "346          347          Smith, Miss. Marion Elsie  40.0  female        1"
      ],
      "text/html": [
       "<div>\n",
       "<style scoped>\n",
       "    .dataframe tbody tr th:only-of-type {\n",
       "        vertical-align: middle;\n",
       "    }\n",
       "\n",
       "    .dataframe tbody tr th {\n",
       "        vertical-align: top;\n",
       "    }\n",
       "\n",
       "    .dataframe thead th {\n",
       "        text-align: right;\n",
       "    }\n",
       "</style>\n",
       "<table border=\"1\" class=\"dataframe\">\n",
       "  <thead>\n",
       "    <tr style=\"text-align: right;\">\n",
       "      <th></th>\n",
       "      <th>PassengerId</th>\n",
       "      <th>Name</th>\n",
       "      <th>Age</th>\n",
       "      <th>Sex</th>\n",
       "      <th>IsAlone</th>\n",
       "    </tr>\n",
       "  </thead>\n",
       "  <tbody>\n",
       "    <tr>\n",
       "      <th>378</th>\n",
       "      <td>379</td>\n",
       "      <td>Betros, Mr. Tannous</td>\n",
       "      <td>20.0</td>\n",
       "      <td>male</td>\n",
       "      <td>1</td>\n",
       "    </tr>\n",
       "    <tr>\n",
       "      <th>290</th>\n",
       "      <td>291</td>\n",
       "      <td>Barber, Miss. Ellen \"Nellie\"</td>\n",
       "      <td>26.0</td>\n",
       "      <td>female</td>\n",
       "      <td>1</td>\n",
       "    </tr>\n",
       "    <tr>\n",
       "      <th>93</th>\n",
       "      <td>94</td>\n",
       "      <td>Dean, Mr. Bertram Frank</td>\n",
       "      <td>26.0</td>\n",
       "      <td>male</td>\n",
       "      <td>0</td>\n",
       "    </tr>\n",
       "    <tr>\n",
       "      <th>664</th>\n",
       "      <td>665</td>\n",
       "      <td>Lindqvist, Mr. Eino William</td>\n",
       "      <td>20.0</td>\n",
       "      <td>male</td>\n",
       "      <td>0</td>\n",
       "    </tr>\n",
       "    <tr>\n",
       "      <th>878</th>\n",
       "      <td>879</td>\n",
       "      <td>Laleff, Mr. Kristo</td>\n",
       "      <td>NaN</td>\n",
       "      <td>male</td>\n",
       "      <td>1</td>\n",
       "    </tr>\n",
       "    <tr>\n",
       "      <th>589</th>\n",
       "      <td>590</td>\n",
       "      <td>Murdlin, Mr. Joseph</td>\n",
       "      <td>NaN</td>\n",
       "      <td>male</td>\n",
       "      <td>1</td>\n",
       "    </tr>\n",
       "    <tr>\n",
       "      <th>515</th>\n",
       "      <td>516</td>\n",
       "      <td>Walker, Mr. William Anderson</td>\n",
       "      <td>47.0</td>\n",
       "      <td>male</td>\n",
       "      <td>1</td>\n",
       "    </tr>\n",
       "    <tr>\n",
       "      <th>28</th>\n",
       "      <td>29</td>\n",
       "      <td>O'Dwyer, Miss. Ellen \"Nellie\"</td>\n",
       "      <td>NaN</td>\n",
       "      <td>female</td>\n",
       "      <td>1</td>\n",
       "    </tr>\n",
       "    <tr>\n",
       "      <th>542</th>\n",
       "      <td>543</td>\n",
       "      <td>Andersson, Miss. Sigrid Elisabeth</td>\n",
       "      <td>11.0</td>\n",
       "      <td>female</td>\n",
       "      <td>0</td>\n",
       "    </tr>\n",
       "    <tr>\n",
       "      <th>346</th>\n",
       "      <td>347</td>\n",
       "      <td>Smith, Miss. Marion Elsie</td>\n",
       "      <td>40.0</td>\n",
       "      <td>female</td>\n",
       "      <td>1</td>\n",
       "    </tr>\n",
       "  </tbody>\n",
       "</table>\n",
       "</div>"
      ]
     },
     "metadata": {},
     "output_type": "display_data"
    }
   ],
   "execution_count": 21
  },
  {
   "cell_type": "markdown",
   "metadata": {
    "id": "hOHOYMXTXisP"
   },
   "source": [
    "2.6 Visualisez le nombre de personnes et le taux de survie par statut seul ou pas."
   ]
  },
  {
   "cell_type": "code",
   "metadata": {
    "_cell_guid": "8c35e945-c928-e3bc-bd9c-d6ddb287e4c9",
    "_uuid": "87f79dc0711c29f39c0db1a4f7a2e8a84c0c7edb",
    "id": "7mMDSBV6XisP",
    "outputId": "ff153b61-2f3d-41c3-96a2-626aaa26fb66",
    "colab": {
     "base_uri": "https://localhost:8080/",
     "height": 570
    },
    "ExecuteTime": {
     "end_time": "2025-04-01T04:28:46.228395Z",
     "start_time": "2025-04-01T04:28:46.023310Z"
    }
   },
   "source": [
    "# prompt:  Visualisez le nombre de personnes et le taux de survie par statut seul ou pas circle graph and normal graph beside in french\n",
    "\n",
    "import matplotlib.pyplot as plt\n",
    "\n",
    "# 2.6 Visualisez le nombre de personnes et le taux de survie par statut seul ou pas.\n",
    "is_alone_stats = train.groupby('IsAlone')['Survived'].agg(['count', 'mean'])\n",
    "is_alone_stats['mean'] *= 100\n",
    "\n",
    "# Create subplots\n",
    "fig, axes = plt.subplots(1, 2, figsize=(15, 6))\n",
    "\n",
    "# Circle graph (pie chart)\n",
    "axes[0].pie(is_alone_stats['count'], labels=['En famille', 'Seul'], autopct='%1.1f%%', startangle=90, colors=['skyblue', 'lightcoral'])\n",
    "axes[0].set_title('Répartition des passagers (seul ou en famille)')\n",
    "\n",
    "# Bar graph\n",
    "axes[1].bar(is_alone_stats.index.map({0: 'En famille', 1: 'Seul'}), is_alone_stats['count'], label='Nombre de personnes', color=['skyblue', 'lightcoral'])\n",
    "axes[1].plot(is_alone_stats.index.map({0: 'En famille', 1: 'Seul'}), is_alone_stats['mean'], marker='o', color='red', label='Taux de survie (%)')\n",
    "axes[1].set_xlabel('Statut (seul ou en famille)')\n",
    "axes[1].set_ylabel('Nombre de personnes / Taux de survie (%)')\n",
    "axes[1].set_title('Nombre de personnes et taux de survie par statut')\n",
    "axes[1].legend()\n",
    "axes[1].grid(axis='y', linestyle='--', alpha=0.7)\n",
    "\n",
    "\n",
    "# Add data labels for count\n",
    "for i, count in enumerate(is_alone_stats['count']):\n",
    "    axes[1].text(i, count + 2, str(count), ha='center', va='bottom')\n",
    "\n",
    "# Add data labels for survival rate\n",
    "for i, rate in enumerate(is_alone_stats['mean']):\n",
    "    axes[1].text(i, rate, f'{rate:.1f}%', ha='center', va='bottom', color='red')\n",
    "\n",
    "plt.tight_layout()\n",
    "plt.show()\n"
   ],
   "outputs": [
    {
     "data": {
      "text/plain": [
       "<Figure size 1500x600 with 2 Axes>"
      ],
      "image/png": "[encoded data removed]"
     },
     "metadata": {},
     "output_type": "display_data"
    }
   ],
   "execution_count": 22
  },
  {
   "cell_type": "markdown",
   "metadata": {
    "id": "8qZ0HD5dXisP"
   },
   "source": [
    "2.7 Calculer l'information mutuelle sur les données train.\n",
    "\n",
    "Attention : Il y a des données continues et des données discrètes\n",
    "\n",
    "Ignorer les colonnes Name, Ticket et Cabin"
   ]
  },
  {
   "cell_type": "code",
   "metadata": {
    "id": "RECHUfrOXisP",
    "outputId": "7da262af-9904-437c-c4d8-a4f2dfc5c203",
    "colab": {
     "base_uri": "https://localhost:8080/",
     "height": 483
    },
    "ExecuteTime": {
     "end_time": "2025-04-01T04:29:54.249766Z",
     "start_time": "2025-04-01T04:29:54.204864Z"
    }
   },
   "source": [
    "import pandas as pd\n",
    "from sklearn.feature_selection import mutual_info_regression\n",
    "\n",
    "# Select relevant numerical features for mutual information calculation\n",
    "numerical_features = ['Age', 'SibSp', 'Parch', 'Fare', 'FamilySize']\n",
    "discrete_features = ['Pclass', 'Sex', 'Embarked', 'IsAlone']\n",
    "\n",
    "# Convert categorical features to numerical using one-hot encoding\n",
    "train_encoded = pd.get_dummies(train, columns=['Sex', 'Embarked'], drop_first=True)\n",
    "\n",
    "# Fill NaN values in numerical features with the mean\n",
    "for feature in numerical_features:\n",
    "    mean_value = train_encoded[feature].mean()\n",
    "    train_encoded[feature] = train_encoded[feature].fillna(mean_value)\n",
    "\n",
    "# Calculate mutual information\n",
    "X = train_encoded[numerical_features + list(train_encoded.columns[train_encoded.columns.str.startswith(('Sex_', 'Embarked_'))])]\n",
    "y = train_encoded['Survived']\n",
    "mutual_info = mutual_info_regression(X, y)\n",
    "\n",
    "# Print results\n",
    "mi_scores = pd.Series(mutual_info, name=\"MI Scores\", index=X.columns)\n",
    "mi_scores = mi_scores.sort_values(ascending=False)\n",
    "print(mi_scores)"
   ],
   "outputs": [
    {
     "name": "stdout",
     "output_type": "stream",
     "text": [
      "Sex_male      0.144124\n",
      "Fare          0.125750\n",
      "Embarked_S    0.070391\n",
      "SibSp         0.068318\n",
      "Age           0.060997\n",
      "FamilySize    0.011268\n",
      "Parch         0.010380\n",
      "Embarked_Q    0.000000\n",
      "Name: MI Scores, dtype: float64\n"
     ]
    }
   ],
   "execution_count": 25
  },
  {
   "cell_type": "markdown",
   "metadata": {
    "id": "2698RGq7XisQ"
   },
   "source": [
    "2.8 Afficher dans un graphique les scores d'information mutuelle par feature"
   ]
  },
  {
   "cell_type": "code",
   "metadata": {
    "id": "5GdcIojlXisQ",
    "ExecuteTime": {
     "end_time": "2025-04-01T04:28:46.293216Z",
     "start_time": "2025-04-01T04:28:46.290736Z"
    }
   },
   "source": [],
   "outputs": [],
   "execution_count": 23
  },
  {
   "cell_type": "markdown",
   "metadata": {
    "id": "cPmfQAdrXisQ"
   },
   "source": [
    "### Question 1 : La variable Classe est-elle utile pour prévoir la survie ? Pourquoi ?\n",
    "\n",
    "\n",
    "\n",
    "### Question 2 : Même question pour la variable Sex\n",
    "\n",
    "\n",
    "### Question 3 : Comment traiter le variables liées à la famille du passager ?\n",
    "\n",
    "\n",
    "\n"
   ]
  },
  {
   "cell_type": "markdown",
   "metadata": {
    "id": "euPNbYWeXisQ"
   },
   "source": [
    "## 3. Traitement des données manquantes (à faire sur les données Train et Test)"
   ]
  },
  {
   "cell_type": "markdown",
   "metadata": {
    "_cell_guid": "8aa419c0-6614-7efc-7797-97f4a5158b19",
    "_uuid": "dd18a31086cfeca6330b05f83caf3cc02f687253",
    "id": "C8EPT862XisQ"
   },
   "source": [
    "3.1 La variable \"Embarked\" possède des valeurs nulles, compléter par la valeur majoritaire (S)."
   ]
  },
  {
   "cell_type": "code",
   "metadata": {
    "_cell_guid": "0e70e9af-d7cc-8c40-b7d4-2643889c376d",
    "_uuid": "b4f7ccb3df98da6915bda1c7c225b905fc37845b",
    "id": "hSJQL5nCXisQ",
    "ExecuteTime": {
     "end_time": "2025-04-01T04:34:51.748865Z",
     "start_time": "2025-04-01T04:34:51.744476Z"
    }
   },
   "source": [
    "# Fill missing values in the \"Embarked\" column with the most frequent value 'S'\n",
    "train['Embarked'] = train['Embarked'].fillna('S')\n",
    "test['Embarked'] = test['Embarked'].fillna('S')"
   ],
   "outputs": [],
   "execution_count": 29
  },
  {
   "cell_type": "markdown",
   "metadata": {
    "id": "hRQs4xiGXisQ"
   },
   "source": [
    "3.2 Afficher l'influence du port d'embarquement sur la Survie"
   ]
  },
  {
   "cell_type": "code",
   "metadata": {
    "_cell_guid": "0e70e9af-d7cc-8c40-b7d4-2643889c376d",
    "_uuid": "b4f7ccb3df98da6915bda1c7c225b905fc37845b",
    "id": "hcKaRwyIXisQ",
    "ExecuteTime": {
     "end_time": "2025-04-01T04:36:03.256188Z",
     "start_time": "2025-04-01T04:36:03.135814Z"
    }
   },
   "source": [
    "import matplotlib.pyplot as plt\n",
    "\n",
    "# Calculate survival rates by embarkation port\n",
    "embarked_survival_rates = train.groupby('Embarked')['Survived'].mean() * 100\n",
    "\n",
    "# Plot the survival rates\n",
    "plt.figure(figsize=(8, 6))\n",
    "embarked_survival_rates.plot(kind='bar', color=['skyblue', 'lightcoral', 'lightgreen'])\n",
    "plt.title('Survival Rate by Embarkation Port')\n",
    "plt.xlabel('Embarkation Port')\n",
    "plt.ylabel('Survival Rate (%)')\n",
    "plt.xticks(rotation=0)\n",
    "plt.ylim(0, 100)\n",
    "\n",
    "# Add data labels\n",
    "for i, rate in enumerate(embarked_survival_rates):\n",
    "    plt.text(i, rate + 2, f'{rate:.1f}%', ha='center', va='bottom')\n",
    "\n",
    "plt.show()"
   ],
   "outputs": [
    {
     "data": {
      "text/plain": [
       "<Figure size 800x600 with 1 Axes>"
      ],
      "image/png": "[encoded data removed]"
     },
     "metadata": {},
     "output_type": "display_data"
    }
   ],
   "execution_count": 30
  },
  {
   "cell_type": "markdown",
   "metadata": {
    "_cell_guid": "e08c9ee8-d6d1-99b7-38bd-f0042c18a5d9",
    "_uuid": "bbeb369d4bb1b086fcc3257218fdeeb6bcdb53c0",
    "id": "euR7wRbfXisQ"
   },
   "source": [
    "3.3 La variable \"Fare\" (prix du ticket) possède des valeurs manquantes. Remplacer ces valeurs par la valeur médiane."
   ]
  },
  {
   "cell_type": "code",
   "metadata": {
    "_cell_guid": "a21335bd-4e8d-66e8-e6a5-5d2173b72d3b",
    "_uuid": "f04975f236aad78d3f93812512088404b5c9280e",
    "id": "a3VQm2R3XisQ",
    "ExecuteTime": {
     "end_time": "2025-04-01T04:28:46.304192Z",
     "start_time": "2025-04-01T04:28:46.301793Z"
    }
   },
   "source": [],
   "outputs": [],
   "execution_count": 23
  },
  {
   "cell_type": "markdown",
   "metadata": {
    "id": "pmGbGvBgXisQ"
   },
   "source": [
    "3.4 Créer une variable CategoricalFare Découpant la valeur de ticket en 4 catégories de tailles à peu près égales."
   ]
  },
  {
   "cell_type": "code",
   "metadata": {
    "_cell_guid": "a21335bd-4e8d-66e8-e6a5-5d2173b72d3b",
    "_uuid": "f04975f236aad78d3f93812512088404b5c9280e",
    "id": "Wlml_ZUbXisR",
    "ExecuteTime": {
     "end_time": "2025-04-01T04:28:46.461379Z",
     "start_time": "2025-04-01T04:28:46.458296Z"
    }
   },
   "source": [],
   "outputs": [],
   "execution_count": 23
  },
  {
   "cell_type": "markdown",
   "metadata": {
    "id": "u4o0J_qoXisR"
   },
   "source": [
    "3.5 Analyser l'effet de ces catégories de prix de ticket sur la survie."
   ]
  },
  {
   "cell_type": "code",
   "metadata": {
    "_cell_guid": "a21335bd-4e8d-66e8-e6a5-5d2173b72d3b",
    "_uuid": "f04975f236aad78d3f93812512088404b5c9280e",
    "id": "D0287RfXXisR",
    "ExecuteTime": {
     "end_time": "2025-04-01T04:28:46.550820Z",
     "start_time": "2025-04-01T04:28:46.548952Z"
    }
   },
   "source": [],
   "outputs": [],
   "execution_count": 23
  },
  {
   "cell_type": "markdown",
   "metadata": {
    "id": "xQnB7GcyXisR"
   },
   "source": [
    "3.6 Combien de valeurs d'Age manquent ? Complète par des valeurs entières aléatoires entre (moyenne - écart type) et (moyenne + écart type)."
   ]
  },
  {
   "cell_type": "code",
   "metadata": {
    "_cell_guid": "b90c2870-ce5d-ae0e-a33d-59e35445500e",
    "_uuid": "2af2b56d51752be08b84dbb2684466976758faa7",
    "id": "kskEt_5OXisR",
    "ExecuteTime": {
     "end_time": "2025-04-01T04:28:46.843856Z",
     "start_time": "2025-04-01T04:28:46.841386Z"
    }
   },
   "source": [],
   "outputs": [],
   "execution_count": 23
  },
  {
   "cell_type": "markdown",
   "metadata": {
    "id": "IwjpvVBQXisR"
   },
   "source": [
    "3.7 Créer une variable CategoricalAge Découpant la valeur d'age en 5 tranches d'age de même taille."
   ]
  },
  {
   "cell_type": "code",
   "metadata": {
    "_cell_guid": "b90c2870-ce5d-ae0e-a33d-59e35445500e",
    "_uuid": "2af2b56d51752be08b84dbb2684466976758faa7",
    "id": "ASVyHolgXisR",
    "ExecuteTime": {
     "end_time": "2025-04-01T04:28:46.887312Z",
     "start_time": "2025-04-01T04:28:46.884866Z"
    }
   },
   "source": [],
   "outputs": [],
   "execution_count": 23
  },
  {
   "cell_type": "markdown",
   "metadata": {
    "id": "tv75pViEXisR"
   },
   "source": [
    "3.8 Analyser l'effet de ces catégories d'age sur la survie."
   ]
  },
  {
   "cell_type": "code",
   "metadata": {
    "id": "Lc5_FmACXisR",
    "ExecuteTime": {
     "end_time": "2025-04-01T04:28:46.925328Z",
     "start_time": "2025-04-01T04:28:46.922322Z"
    }
   },
   "source": [],
   "outputs": [],
   "execution_count": 23
  },
  {
   "cell_type": "markdown",
   "metadata": {
    "id": "c03tG7XVXisR"
   },
   "source": [
    "### Question 1 : Classer les variables par ordre d'intérêt"
   ]
  },
  {
   "cell_type": "markdown",
   "metadata": {
    "id": "ZWZQpwviXisR"
   },
   "source": [
    "## 4 : Traitement de features complexes"
   ]
  },
  {
   "cell_type": "markdown",
   "metadata": {
    "_cell_guid": "bd25ec3f-b601-c1cc-d701-991fac1621f9",
    "_uuid": "17f6d181260d68d89f0a5dfa99b40a82b723567c",
    "id": "ECdW0d-jXisR"
   },
   "source": [
    "4.1 : Le nom permet de retrouver le titre du passager. Trouver les titres lorsqu'ils existent."
   ]
  },
  {
   "cell_type": "code",
   "metadata": {
    "_cell_guid": "ad042f43-bfe0-ded0-4171-379d8caaa749",
    "_uuid": "5a56f5b4bad78d7e323167c5f0cc07cb3675187a",
    "id": "8EI6skSCXisR",
    "ExecuteTime": {
     "end_time": "2025-04-01T04:28:46.954238Z",
     "start_time": "2025-04-01T04:28:46.951840Z"
    }
   },
   "source": [],
   "outputs": [],
   "execution_count": 23
  },
  {
   "cell_type": "markdown",
   "metadata": {
    "id": "0Jqb6-2zXisS"
   },
   "source": [
    "4.2 : En utilisant la fonction pandas crosstab, afficher pour train le nombre d'occurences par titres (en ligne) et par sexe (en colonne)"
   ]
  },
  {
   "cell_type": "code",
   "metadata": {
    "id": "arDiZ4HGXisS",
    "ExecuteTime": {
     "end_time": "2025-04-01T04:28:47.011087Z",
     "start_time": "2025-04-01T04:28:47.008244Z"
    }
   },
   "source": [],
   "outputs": [],
   "execution_count": 23
  },
  {
   "cell_type": "markdown",
   "metadata": {
    "_cell_guid": "ca5fff8c-7a0d-6c18-2173-b8df6293c50a",
    "_uuid": "84862f8cbbe2ea72b69a9cba78c6b7e10c80626e",
    "id": "raYIAPD7XisS"
   },
   "source": [
    "4.3 :\n",
    "Remplacer 'Melle et 'Ms' par 'Miss'\n",
    "\n",
    "Remplacer 'Mme' par 'Mrs'\n",
    "\n",
    "Creer une valeur \"Rare\" pour les autres titres avec moins de 10 occurences.\n",
    "\n",
    "Calculer ensuite le taux de survie par titre"
   ]
  },
  {
   "cell_type": "code",
   "metadata": {
    "_cell_guid": "8357238b-98fe-632a-acd5-33674a6132ce",
    "_uuid": "db0029466612ad0550fc0eebef4a06a5507d6c3d",
    "id": "IH6zgFFJXisS",
    "ExecuteTime": {
     "end_time": "2025-04-01T04:28:47.021093Z",
     "start_time": "2025-04-01T04:28:47.018098Z"
    }
   },
   "source": [],
   "outputs": [],
   "execution_count": 23
  },
  {
   "cell_type": "markdown",
   "metadata": {
    "_cell_guid": "68fa2057-e27a-e252-0d1b-869c00a303ba",
    "_uuid": "52bcf7b36b8edb12d40f2a1f9e80060b55d91ad3",
    "id": "beRUBgmjXisS"
   },
   "source": [
    "## 5. Mise en forme des données non numériques"
   ]
  },
  {
   "cell_type": "markdown",
   "metadata": {
    "id": "T6qjvgsPXisS"
   },
   "source": [
    "5.1 Attribuer une valeur numérique au Genre. Par exemple 0 pour 'female' et 1 pour 'male'"
   ]
  },
  {
   "cell_type": "code",
   "metadata": {
    "id": "1WawY5mEXisS",
    "ExecuteTime": {
     "end_time": "2025-04-01T04:28:47.047145Z",
     "start_time": "2025-04-01T04:28:47.044147Z"
    }
   },
   "source": [],
   "outputs": [],
   "execution_count": 23
  },
  {
   "cell_type": "markdown",
   "metadata": {
    "id": "2xe7Ta3sXisS"
   },
   "source": [
    "5.2 : Attribuer une valeur pour les possibilités de la variable \"Title\" ('Master','Miss','Mr','Mrs','Rare')"
   ]
  },
  {
   "cell_type": "code",
   "metadata": {
    "id": "CisKjXkHXisS",
    "ExecuteTime": {
     "end_time": "2025-04-01T04:28:47.114773Z",
     "start_time": "2025-04-01T04:28:47.111674Z"
    }
   },
   "source": [],
   "outputs": [],
   "execution_count": 23
  },
  {
   "cell_type": "markdown",
   "metadata": {
    "id": "rdyXl_ZEXisS"
   },
   "source": [
    "5.3 Remplacer les titres manquant par 0, et attribuer à la colonne le type entier"
   ]
  },
  {
   "cell_type": "code",
   "metadata": {
    "id": "SyyJv4_zXisS",
    "ExecuteTime": {
     "end_time": "2025-04-01T04:28:47.140641Z",
     "start_time": "2025-04-01T04:28:47.138302Z"
    }
   },
   "source": [],
   "outputs": [],
   "execution_count": 23
  },
  {
   "cell_type": "markdown",
   "metadata": {
    "id": "tkSusvKwXisS"
   },
   "source": [
    "5.4 Attribuer une valeur numérique aux 4 catégories de la variable Fare"
   ]
  },
  {
   "cell_type": "code",
   "metadata": {
    "id": "nuZ6BTDjXisS",
    "ExecuteTime": {
     "end_time": "2025-04-01T04:28:47.193652Z",
     "start_time": "2025-04-01T04:28:47.190651Z"
    }
   },
   "source": [],
   "outputs": [],
   "execution_count": 23
  },
  {
   "cell_type": "markdown",
   "metadata": {
    "id": "5wVlyVlrXisT"
   },
   "source": [
    "5.5 Attibuer une valeur numérique au Port d'embarquement (Embarked)"
   ]
  },
  {
   "cell_type": "code",
   "metadata": {
    "id": "ZmSlvBfxXisT",
    "ExecuteTime": {
     "end_time": "2025-04-01T04:28:47.213822Z",
     "start_time": "2025-04-01T04:28:47.210816Z"
    }
   },
   "source": [],
   "outputs": [],
   "execution_count": 23
  },
  {
   "cell_type": "markdown",
   "metadata": {
    "id": "pyHH8kgaXisT"
   },
   "source": [
    "5.6 Supprimer les features inutiles"
   ]
  },
  {
   "cell_type": "code",
   "metadata": {
    "id": "Zt5dsrkgXisT",
    "ExecuteTime": {
     "end_time": "2025-04-01T04:28:47.253781Z",
     "start_time": "2025-04-01T04:28:47.250885Z"
    }
   },
   "source": [],
   "outputs": [],
   "execution_count": 23
  },
  {
   "cell_type": "markdown",
   "metadata": {
    "id": "umehkc9WXisT"
   },
   "source": [
    "5.7 Afficher les infos pour les deux datasets"
   ]
  },
  {
   "cell_type": "code",
   "metadata": {
    "id": "6aLsbq8dXisT",
    "ExecuteTime": {
     "end_time": "2025-04-01T04:28:47.277937Z",
     "start_time": "2025-04-01T04:28:47.274789Z"
    }
   },
   "source": [],
   "outputs": [],
   "execution_count": 23
  },
  {
   "cell_type": "markdown",
   "metadata": {
    "id": "5fP_KytkXisT"
   },
   "source": [
    "5.8 Sauver les deux datasets dans des fichier csv. Eviter d'écrire un index (n° de ligne)"
   ]
  },
  {
   "cell_type": "code",
   "metadata": {
    "_cell_guid": "2502bb70-ce6f-2497-7331-7d1f80521470",
    "_uuid": "1aa110c1043f1f43c091a771abc64054a211f784",
    "id": "zn_za9XvXisT",
    "ExecuteTime": {
     "end_time": "2025-04-01T04:28:47.316556Z",
     "start_time": "2025-04-01T04:28:47.313954Z"
    }
   },
   "source": [],
   "outputs": [],
   "execution_count": 23
  }
 ],
 "metadata": {
  "_change_revision": 0,
  "_is_fork": false,
  "kernelspec": {
   "display_name": "Python 3",
   "language": "python",
   "name": "python3"
  },
  "language_info": {
   "codemirror_mode": {
    "name": "ipython",
    "version": 3
   },
   "file_extension": ".py",
   "mimetype": "text/x-python",
   "name": "python",
   "nbconvert_exporter": "python",
   "pygments_lexer": "ipython3",
   "version": "3.7.4"
  },
  "colab": {
   "provenance": []
  }
 },
 "nbformat": 4,
 "nbformat_minor": 0
}
